{
 "metadata": {
  "name": "",
  "signature": "sha256:4056115a6b3d1c7178811bbd7179fe7a0ae084bc4cb6f5d80f1242465536cd07"
 },
 "nbformat": 3,
 "nbformat_minor": 0,
 "worksheets": [
  {
   "cells": [
    {
     "cell_type": "code",
     "collapsed": false,
     "input": [
      "%pylab inline"
     ],
     "language": "python",
     "metadata": {},
     "outputs": [
      {
       "output_type": "stream",
       "stream": "stdout",
       "text": [
        "Populating the interactive namespace from numpy and matplotlib\n"
       ]
      }
     ],
     "prompt_number": 18
    },
    {
     "cell_type": "code",
     "collapsed": false,
     "input": [
      "ngridlevel = np.loadtxt(\"ngridlevel\")"
     ],
     "language": "python",
     "metadata": {},
     "outputs": [],
     "prompt_number": 40
    },
    {
     "cell_type": "code",
     "collapsed": false,
     "input": [
      "# level=[]\n",
      "# for i in ngridlevel.flatten():\n",
      "# #     print i\n",
      "#     if i ==0 or 1:\n",
      "#         level.append(1)\n",
      "#     else:\n",
      "#         print i\n",
      "#         level.append(log(ngridlevel)/log(2.))"
     ],
     "language": "python",
     "metadata": {},
     "outputs": [],
     "prompt_number": 41
    },
    {
     "cell_type": "code",
     "collapsed": false,
     "input": [
      "# np.histogram(level)\n",
      "plt.hist(ngridlevel)"
     ],
     "language": "python",
     "metadata": {},
     "outputs": [
      {
       "metadata": {},
       "output_type": "pyout",
       "prompt_number": 43,
       "text": [
        "([array([ 23.,   0.,   1.,   0.,   0.,   0.,   0.,   0.,   0.,   0.]),\n",
        "  array([ 23.,   0.,   1.,   0.,   0.,   0.,   0.,   0.,   0.,   0.]),\n",
        "  array([ 23.,   0.,   0.,   0.,   0.,   0.,   0.,   0.,   0.,   1.]),\n",
        "  array([ 23.,   0.,   0.,   0.,   0.,   0.,   0.,   0.,   0.,   1.]),\n",
        "  array([ 22.,   0.,   1.,   0.,   0.,   0.,   0.,   0.,   0.,   1.]),\n",
        "  array([ 22.,   0.,   1.,   0.,   0.,   0.,   0.,   0.,   0.,   1.])],\n",
        " array([     0. ,   1638.4,   3276.8,   4915.2,   6553.6,   8192. ,\n",
        "          9830.4,  11468.8,  13107.2,  14745.6,  16384. ]),\n",
        " <a list of 6 Lists of Patches objects>)"
       ]
      },
      {
       "metadata": {},
       "output_type": "display_data",
       "png": "[encoded data removed]",
       "text": [
        "<matplotlib.figure.Figure at 0x110e07e50>"
       ]
      }
     ],
     "prompt_number": 43
    },
    {
     "cell_type": "code",
     "collapsed": false,
     "input": [
      "len(ngridlevel)"
     ],
     "language": "python",
     "metadata": {},
     "outputs": [
      {
       "metadata": {},
       "output_type": "pyout",
       "prompt_number": 44,
       "text": [
        "24"
       ]
      }
     ],
     "prompt_number": 44
    },
    {
     "cell_type": "code",
     "collapsed": false,
     "input": [
      "len(np.where(ngridlevel>2000))/float(len(ngridlevel))*100"
     ],
     "language": "python",
     "metadata": {},
     "outputs": [
      {
       "metadata": {},
       "output_type": "pyout",
       "prompt_number": 49,
       "text": [
        "8.333333333333332"
       ]
      }
     ],
     "prompt_number": 49
    },
    {
     "cell_type": "code",
     "collapsed": false,
     "input": [
      "ngridlevel[np.where(ngridlevel==1024)]"
     ],
     "language": "python",
     "metadata": {},
     "outputs": [
      {
       "metadata": {},
       "output_type": "pyout",
       "prompt_number": 55,
       "text": [
        "array([ 1024.,  1024.,  1024.,  1024.])"
       ]
      }
     ],
     "prompt_number": 55
    },
    {
     "cell_type": "code",
     "collapsed": false,
     "input": [
      "4./24*100"
     ],
     "language": "python",
     "metadata": {},
     "outputs": [
      {
       "metadata": {},
       "output_type": "pyout",
       "prompt_number": 58,
       "text": [
        "16.666666666666664"
       ]
      }
     ],
     "prompt_number": 58
    },
    {
     "cell_type": "code",
     "collapsed": false,
     "input": [],
     "language": "python",
     "metadata": {},
     "outputs": []
    }
   ],
   "metadata": {}
  }
 ]
}