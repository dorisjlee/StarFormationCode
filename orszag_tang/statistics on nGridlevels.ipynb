{
 "cells": [
  {
   "cell_type": "code",
   "execution_count": 1,
   "metadata": {
    "collapsed": false
   },
   "outputs": [
    {
     "name": "stdout",
     "output_type": "stream",
     "text": [
      " ordering type=             hilbert\r\n",
      " time=  0.000000000000000E+000\r\n",
      " Working resolution =        1024\r\n",
      " Processing file /global/homes/d/dorislee/backup_edison_scratch/test4/output_000\r\n",
      " 01//amr_00001.out00001\r\n",
      "           0           0           1           0           1           1\r\n",
      "           1           1           4           4           4           4\r\n",
      "          16          16          16          16          64          32\r\n",
      "          16          32         256          64          16          64\r\n",
      "        1024         128          16         128        4096         256\r\n",
      "          16         256       16384         512          16         512\r\n",
      "           0           0           0           0\r\n",
      " Processing file /global/homes/d/dorislee/backup_edison_scratch/test4/output_000\r\n",
      " 01//amr_00001.out00002\r\n",
      "           0           0           1           0           1           1\r\n",
      "           1           1           4           4           4           4\r\n",
      "          16          16          16          16          32          64\r\n",
      "          32          16          64         256          64          16\r\n",
      "         128        1024         128          16         256        4096\r\n",
      "         256          16         512       16384         512          16\r\n",
      "           0           0           0           0\r\n",
      " Processing file /global/homes/d/dorislee/backup_edison_scratch/test4/output_000\r\n",
      " 01//amr_00001.out00003\r\n",
      "           0           0           1           0           1           1\r\n",
      "           1           1           4           4           4           4\r\n",
      "          16          16          16          16          16          32\r\n",
      "          64          32          16          64         256          64\r\n",
      "          16         128        1024         128          16         256\r\n",
      "        4096         256          16         512       16384         512\r\n",
      "           0           0           0           0\r\n",
      " Processing file /global/homes/d/dorislee/backup_edison_scratch/test4/output_000\r\n",
      " 01//amr_00001.out00004\r\n",
      "           0           0           1           0           1           1\r\n",
      "           1           1           4           4           4           4\r\n",
      "          16          16          16          16          32          16\r\n",
      "          32          64          64          16          64         256\r\n",
      "         128          16         128        1024         256          16\r\n",
      "         256        4096         512          16         512       16384\r\n",
      "           0           0           0           0\r\n",
      " Norm=  0.221048532072030     \r\n",
      " Ecriture des donnees du fichier data2.dat\r\n"
     ]
    }
   ],
   "source": [
    "cat ngridlevel"
   ]
  },
  {
   "cell_type": "code",
   "execution_count": null,
   "metadata": {
    "collapsed": true
   },
   "outputs": [],
   "source": []
  }
 ],
 "metadata": {
  "kernelspec": {
   "display_name": "Python 2",
   "language": "python",
   "name": "python2"
  },
  "language_info": {
   "codemirror_mode": {
    "name": "ipython",
    "version": 2
   },
   "file_extension": ".py",
   "mimetype": "text/x-python",
   "name": "python",
   "nbconvert_exporter": "python",
   "pygments_lexer": "ipython2",
   "version": "2.7.9"
  }
 },
 "nbformat": 4,
 "nbformat_minor": 0
}
