{
 "metadata": {
  "name": "",
  "signature": "sha256:bfb24e7c0ac33ae2ef8886dbe89a4c8af29daf49a8813f587eeb300f926c454e"
 },
 "nbformat": 3,
 "nbformat_minor": 0,
 "worksheets": [
  {
   "cells": [
    {
     "cell_type": "heading",
     "level": 1,
     "metadata": {},
     "source": [
      "Strong Scaling test on RAMSES "
     ]
    },
    {
     "cell_type": "markdown",
     "metadata": {},
     "source": [
      "9028078.hopque01: The sedov3d test actually runs longer than 30 minutes so it crashed during runtime because I only requested 30 minutes of wall time. (This is done with 8 cores), since the debug queue has max 30min limit. I switched to the ``regular\" queue."
     ]
    },
    {
     "cell_type": "markdown",
     "metadata": {},
     "source": [
      "Not sure why it crashes (kill signal), worked before in that case^ but not when I switched back to debug queue "
     ]
    },
    {
     "cell_type": "markdown",
     "metadata": {},
     "source": [
      "- The reason why it kept crashing was that I didn't move the output_00001/ folder out to the directory, so once it gets to the part where it starts writing the simulation results into the directory. It errors because File_exist_error\n",
      "    - SO, BAD DEBUGGING MESSAGE BY MPI!!!!\n",
      "- it works again if I moved the output_00001 out to another directory"
     ]
    },
    {
     "cell_type": "markdown",
     "metadata": {},
     "source": [
      "- Again it keeps getting killed even though I don't have output_00001 in the directory\n",
      "- I went back to test_run directory to test if it works\n",
      "N: number of cores\n",
      "    - N=8 runs sucessfully (consistently almost every time)\n",
      "    - N = 4 runs sucessfully (Job ID : 9031764)\n",
      "    \n",
      "    Every N>24 cores job crashes in a simmilar fashion (dies after loading up ramses, building AMR, then writing the results out) \n",
      "    - N = 12 Crashes (Job ID: 9033730)\n",
      "    - N = 24 Crashes (Job ID: 9031782)\n",
      "    - N = 48 Crashes (Job ID: 9031794)\n",
      "    - N=1000 fails \n",
      "\n",
      "- confirmed that its not directory problem because sucessfull ran on 8 cores in the 1000_core_test/ directory"
     ]
    },
    {
     "cell_type": "markdown",
     "metadata": {},
     "source": [
      "I suspect RAMSES fails at large number of cores 1000, inherently ..... (but on their paper they certainly ran more than 1000 cores)"
     ]
    },
    {
     "cell_type": "code",
     "collapsed": false,
     "input": [
      " "
     ],
     "language": "python",
     "metadata": {},
     "outputs": []
    }
   ],
   "metadata": {}
  }
 ]
}