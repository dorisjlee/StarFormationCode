{
 "cells": [
  {
   "cell_type": "markdown",
   "metadata": {},
   "source": [
    "Looking into sink again the sample case and see if we could just put in a sink using ic_sink and not activate the clumpfind business"
   ]
  },
  {
   "cell_type": "markdown",
   "metadata": {},
   "source": [
    "Commented out all the clumpfind_params, only leaving sink_params "
   ]
  },
  {
   "cell_type": "raw",
   "metadata": {},
   "source": [
    "&SINK_PARAMS\n",
    "merging_timescale=10000.\n",
    "create_sinks=.true.\n",
    "accretion_scheme='flux'\n",
    "d_sink = 0.02\n",
    "/"
   ]
  },
  {
   "cell_type": "raw",
   "metadata": {},
   "source": [
    "Found d_sink! Assuming code units\n",
    " You did not set up namelist &CLUMPFIND_PARAMS in parameter file.\n",
    " You did not specify a threshold for the clump finder.\n",
    " Setting it to sink threshold / 10. !\n",
    " Entering init_amr"
   ]
  },
  {
   "cell_type": "code",
   "execution_count": 2,
   "metadata": {
    "collapsed": false
   },
   "outputs": [
    {
     "name": "stdout",
     "output_type": "stream",
     "text": [
      "/global/project/projectdirs/astro250/doris/ramses/trunk/ramses/patch/hydro/sink_test\n"
     ]
    }
   ],
   "source": [
    "cd ~/project/ramses/trunk/ramses/patch/hydro/sink_test"
   ]
  },
  {
   "cell_type": "raw",
   "metadata": {
    "collapsed": true
   },
   "source": [
    " aprun -n 24 ./ramses3d ../patch/hydro/isothermal_sphere/fc.nml\n",
    " _/_/_/       _/_/     _/    _/    _/_/_/   _/_/_/_/    _/_/_/\n",
    " _/    _/    _/  _/    _/_/_/_/   _/    _/  _/         _/    _/\n",
    " _/    _/   _/    _/   _/ _/ _/   _/        _/         _/\n",
    " _/_/_/     _/_/_/_/   _/    _/     _/_/    _/_/_/       _/_/\n",
    " _/    _/   _/    _/   _/    _/         _/  _/               _/\n",
    " _/    _/   _/    _/   _/    _/   _/    _/  _/         _/    _/\n",
    " _/    _/   _/    _/   _/    _/    _/_/_/   _/_/_/_/    _/_/_/\n",
    "                         Version 3.0\n",
    "        written by Romain Teyssier (University of Zurich)\n",
    "                (c) CEA 1999-2007, UZH 2008-2014\n",
    "\n",
    " Working with nproc =   24 for ndim = 3\n",
    " Using solver = hydro with nvar =  5\n",
    "\n",
    " compile date = 11/27/15-09:57:57\n",
    " patch dir    = ../patch/hydro/sink_test/\n",
    " remote repo  = https://bitbucket.org/rteyssie/ramses\n",
    " local branch = master\n",
    " last commit  = fbfdbf1b291222e5b69d689c7069dcb9cfc9cf06\n",
    "\n",
    "[NID 01026] 2015-11-27 10:00:34 Apid 62542429: initiated application termination\n",
    "[NID 01026] 2015-11-27 10:00:10 Apid 62542429: OOM killer terminated this process.\n",
    "Application 62542429 exit signals: Killed\n",
    "Application 62542429 resources: utime ~0s, stime ~4s, Rss ~7348, inblocks ~9246, outblocks ~22759"
   ]
  },
  {
   "cell_type": "markdown",
   "metadata": {},
   "source": [
    "Okay it still doesn't like the MPI stuff, something is making it go out of memory '"
   ]
  },
  {
   "cell_type": "markdown",
   "metadata": {},
   "source": [
    "I was going to use unigrid to make things simpler but "
   ]
  },
  {
   "cell_type": "raw",
   "metadata": {},
   "source": [
    "dorislee@hopper07:~/project/ramses/trunk/ramses/bin> ./ramses3d ../patch/hydro/sink_test/sink_test.nml\n",
    " _/_/_/       _/_/     _/    _/    _/_/_/   _/_/_/_/    _/_/_/\n",
    " _/    _/    _/  _/    _/_/_/_/   _/    _/  _/         _/    _/\n",
    " _/    _/   _/    _/   _/ _/ _/   _/        _/         _/\n",
    " _/_/_/     _/_/_/_/   _/    _/     _/_/    _/_/_/       _/_/\n",
    " _/    _/   _/    _/   _/    _/         _/  _/               _/\n",
    " _/    _/   _/    _/   _/    _/   _/    _/  _/         _/    _/\n",
    " _/    _/   _/    _/   _/    _/    _/_/_/   _/_/_/_/    _/_/_/\n",
    "                         Version 3.0\n",
    "        written by Romain Teyssier (University of Zurich)\n",
    "                (c) CEA 1999-2007, UZH 2008-2014\n",
    "\n",
    " Working with nproc =    1 for ndim = 3\n",
    " Using solver = hydro with nvar =  5\n",
    "\n",
    " compile date = 11/27/15-10:01:54\n",
    " patch dir    = ../patch/hydro/sink_test/\n",
    " remote repo  = https://bitbucket.org/rteyssie/ramses\n",
    " local branch = master\n",
    " last commit  = fbfdbf1b291222e5b69d689c7069dcb9cfc9cf06\n",
    "\n",
    " sink particles do currently not work in a single-level cartesian grid\n",
    " because they need level 1 to be activated.\n",
    "\n",
    "     seconds         %    STEP (rank=      1)\n",
    "       0.000     100.0    TOTAL"
   ]
  },
  {
   "cell_type": "markdown",
   "metadata": {},
   "source": [
    "This ran quickly but htere was no sink placed by part_ic "
   ]
  },
  {
   "cell_type": "raw",
   "metadata": {
    "collapsed": true
   },
   "source": [
    "grep -rnw '.' -e \"ic_sink\"\n",
    "Binary file ./bin/init_part.o matches\n",
    "Binary file ./bin/init_sink.o matches\n",
    "Binary file ./bin/ramses1d matches\n",
    "Binary file ./bin/ramses3d matches\n",
    "./patch/challenge/init_part.f90:52:  logical::error,keep_part,eof,jumped,ic_sink=.false.,read_pos=.false.,ok\n",
    "./patch/challenge/init_part.f90:918:           filename=TRIM(initfile(levelmin))//'/ic_sink'\n",
    "./patch/challenge/init_part.f90:920:           filename='ic_sink'\n",
    "./patch/challenge/init_part.f90:923:        if (myid==1)write(*,*),'Looking for file ic_sink: ',filename\n",
    "./patch/challenge/init_part.f90:935:        INQUIRE(FILE=filename, EXIST=ic_sink)\n",
    "./patch/challenge/init_part.f90:936:        if (ic_sink)then\n",
    "./patch/challenge/init_part.f90:974:        if (myid==1.and.nsink==0)write(*,*)'File ic_sink not found: starting without sink particles!'\n",
    "./patch/challenge/init_part.f90:976:           write(*,*),'sinks read from file ic_sink'\n",
    "./patch/hydro/merger/init_part.f90:57:  logical::error,keep_part,eof,jumped,ic_sink=.false.,read_pos=.false.,ok\n",
    "./patch/init/dice/init_part.f90:59:  logical::error,keep_part,eof,jumped,ic_sink=.false.,read_pos=.false.,ok\n",
    "./patch/init/nifty/init_part.f90:59:  logical::error,keep_part,eof,jumped,ic_sink=.false.,read_pos=.false.,ok\n",
    "./patch/init/restart/init_part.f90:57:  logical::error,keep_part,eof,jumped,ic_sink=.false.,read_pos=.false.,ok\n",
    "./patch/mhd/isolated/init_part.f90:58:  logical::error,keep_part,eof,jumped,ic_sink=.false.,read_pos=.false.,ok\n",
    "./patch/mhd/isolated/init_part.f90:1035:           filename=TRIM(initfile(levelmin))//'/ic_sink'\n",
    "./patch/mhd/isolated/init_part.f90:1037:           filename='ic_sink'\n",
    "./patch/mhd/isolated/init_part.f90:1039:        INQUIRE(FILE=filename, EXIST=ic_sink)\n",
    "./patch/mhd/isolated/init_part.f90:1040:        if (myid==1)write(*,*),'Looking for file ic_sink: ',filename\n",
    "./patch/mhd/isolated/init_part.f90:1041:        if (ic_sink)then\n",
    "./patch/mhd/isolated/init_part.f90:1066:        if (myid==1.and.nsink==0)write(*,*)'File ic_sink not found: starting without sink particles!'\n",
    "./patch/mhd/isolated/init_part.f90:1068:           write(*,*),'sinks read from file ic_sink'\n",
    "./init_part.f90:53:  logical::error,keep_part,eof,jumped,ic_sink=.false.,read_pos=.false.,ok\n",
    "./init_sink.f90:18:  logical::eof,ic_sink=.false.\n",
    "./init_sink.f90:212:     INQUIRE(FILE=filename, EXIST=ic_sink)\n",
    "./init_sink.f90:214:     if (.not. ic_sink)then\n",
    "./init_sink.f90:216:        INQUIRE(FILE=filename, EXIST=ic_sink)\n",
    "./init_sink.f90:223:        filename=TRIM(initfile(levelmin))//'/ic_sink'\n",
    "./init_sink.f90:225:        filename='ic_sink'\n",
    "./init_sink.f90:227:     INQUIRE(FILE=filename, EXIST=ic_sink)\n",
    "./init_sink.f90:228:     if (myid==1)write(*,*)'Looking for file ic_sink: ',filename\n",
    "./init_sink.f90:229:     if (.not. ic_sink)then\n",
    "./init_sink.f90:230:        filename='ic_sink'\n",
    "./init_sink.f90:231:        INQUIRE(FILE=filename, EXIST=ic_sink)\n",
    "./init_sink.f90:235:  if (ic_sink)then"
   ]
  },
  {
   "cell_type": "raw",
   "metadata": {},
   "source": [
    "Looking for file ic_sink: ic_sink\n",
    " ic_sink :  F\n",
    " finished init_sink"
   ]
  },
  {
   "cell_type": "raw",
   "metadata": {},
   "source": [
    "    if (myid==1)write(*,*)'Looking for file ic_sink: ',filename\n",
    "     if (.not. ic_sink)then\n",
    "        filename='ic_sink'\n",
    "        INQUIRE(FILE=filename, EXIST=ic_sink)\n",
    "     end if\n",
    "  end if\n",
    "!print *,\"here\"\n",
    "  ic_sink=.true.\n",
    "  write(*,*)\"ic_sink : \", ic_sink\n",
    "  if (ic_sink)then"
   ]
  },
  {
   "cell_type": "markdown",
   "metadata": {},
   "source": [
    "Not sure why I keep getting this error "
   ]
  },
  {
   "cell_type": "raw",
   "metadata": {},
   "source": [
    " Entering dump_all\n",
    " Entering output_header\n",
    "At line 510 of file ../amr/output_amr.f90 (unit = 11, file = '@��')\n",
    "Fortran runtime error: File 'output_00001/header_00001.txt' does not exist"
   ]
  },
  {
   "cell_type": "code",
   "execution_count": null,
   "metadata": {
    "collapsed": true
   },
   "outputs": [],
   "source": []
  }
 ],
 "metadata": {
  "kernelspec": {
   "display_name": "Python 2",
   "language": "python",
   "name": "python2"
  },
  "language_info": {
   "codemirror_mode": {
    "name": "ipython",
    "version": 2
   },
   "file_extension": ".py",
   "mimetype": "text/x-python",
   "name": "python",
   "nbconvert_exporter": "python",
   "pygments_lexer": "ipython2",
   "version": "2.7.10"
  }
 },
 "nbformat": 4,
 "nbformat_minor": 0
}
