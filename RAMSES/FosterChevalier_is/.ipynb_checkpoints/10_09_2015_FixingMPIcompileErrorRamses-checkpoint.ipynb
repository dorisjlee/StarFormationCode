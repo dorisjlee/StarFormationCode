{
 "cells": [
  {
   "cell_type": "markdown",
   "metadata": {},
   "source": [
    "### Trying to fix MPI "
   ]
  },
  {
   "cell_type": "markdown",
   "metadata": {},
   "source": [
    "On the ramses version, ramses_old/ and also the regular version ramses/ in projectdir "
   ]
  },
  {
   "cell_type": "markdown",
   "metadata": {},
   "source": [
    "if I switch to "
   ]
  },
  {
   "cell_type": "markdown",
   "metadata": {},
   "source": [
    "``module swap PrgEnv-gnu PrgEnv-intel``"
   ]
  },
  {
   "cell_type": "markdown",
   "metadata": {},
   "source": [
    "then I could ``make``"
   ]
  },
  {
   "cell_type": "markdown",
   "metadata": {},
   "source": [
    "and this compiles sucessfully "
   ]
  },
  {
   "cell_type": "raw",
   "metadata": {},
   "source": [
    "qint"
   ]
  },
  {
   "cell_type": "markdown",
   "metadata": {},
   "source": [
    "If you just did "
   ]
  },
  {
   "cell_type": "raw",
   "metadata": {},
   "source": [
    "> ./ramses3d ../namelist/sedov3d.nml\n",
    "[Fri Oct  9 17:34:24 2015] [c0-1c2s0n1] Fatal error in MPI_Init: Other MPI error, error stack:\n",
    "MPIR_Init_thread(547):\n",
    "MPID_Init(203).......: channel initialization failed\n",
    "MPID_Init(584).......:  PMI2 init failed: 1\n",
    "forrtl: error (76): Abort trap signal\n",
    "Image              PC                Routine            Line        Source\n",
    "ramses3d           00000000006CD3F1  Unknown               Unknown  Unknown\n",
    "ramses3d           00000000006CBB47  Unknown               Unknown  Unknown"
   ]
  },
  {
   "cell_type": "markdown",
   "metadata": {},
   "source": [
    "Then it crashes but the trick is jsut like the qsub job file you need to do aprun "
   ]
  },
  {
   "cell_type": "raw",
   "metadata": {},
   "source": [
    "> aprun -n 24 ./ramses3d ../namelist/sedov3d.nml"
   ]
  },
  {
   "cell_type": "markdown",
   "metadata": {},
   "source": [
    "There's something weird with the serial queus nothing is getting written out "
   ]
  },
  {
   "cell_type": "markdown",
   "metadata": {},
   "source": [
    "then compile with the isothermal sphere patch to see if it can be at work now .. "
   ]
  },
  {
   "cell_type": "raw",
   "metadata": {},
   "source": [
    "aprun -n 24 ./ramses3d ../patch/hydro/isothermal_sphere/fc.nml"
   ]
  },
  {
   "cell_type": "raw",
   "metadata": {},
   "source": [
    "MAXOUT1:        5000\n",
    " noutput:        5000\n",
    "[NID 03554] 2015-10-09 17:52:29 Apid 16544305: initiated application termination\n",
    "[NID 03554] 2015-10-09 17:52:30 Apid 16544305: OOM killer terminated this process.\n",
    "Application 16544305 exit signals: Killed\n",
    "Application 16544305 resources: utime ~0s, stime ~2s, Rss ~6948, inblocks ~10500, outblocks ~25812"
   ]
  },
  {
   "cell_type": "markdown",
   "metadata": {},
   "source": [
    "Removing the noutput print statments inside amr/read_params.f90 then when I run ramses it crashes right after I load it up "
   ]
  },
  {
   "cell_type": "markdown",
   "metadata": {},
   "source": [
    "removing the patch and trying again with just the sedov 3d "
   ]
  },
  {
   "cell_type": "raw",
   "metadata": {},
   "source": [
    "aprun -n 24 ./ramses3d ../namelist/sedov3d.nml"
   ]
  },
  {
   "cell_type": "markdown",
   "metadata": {},
   "source": [
    "Does sucessfully build initial AMR grid and pregress the timestep."
   ]
  },
  {
   "cell_type": "code",
   "execution_count": 7,
   "metadata": {
    "collapsed": true
   },
   "outputs": [],
   "source": [
    "import plot_is \n",
    "import yt"
   ]
  },
  {
   "cell_type": "code",
   "execution_count": 3,
   "metadata": {
    "collapsed": false
   },
   "outputs": [
    {
     "name": "stdout",
     "output_type": "stream",
     "text": [
      "/global/project/projectdirs/astro250/doris/ramses/trunk/ramses/bin\n"
     ]
    }
   ],
   "source": [
    "cd /project/projectdirs/astro250/doris/ramses/trunk/ramses/bin/"
   ]
  },
  {
   "cell_type": "code",
   "execution_count": 10,
   "metadata": {
    "collapsed": false
   },
   "outputs": [],
   "source": [
    "# plot_is.plot_time_slice(\"density\",1)"
   ]
  },
  {
   "cell_type": "markdown",
   "metadata": {},
   "source": [
    "Can not be plotted by this function because inside the output_00001 file I have a bunch of results that were spit out (one for each processor, I need to somehow join these results togetehr to get my result (kind of like join_vtk.c in Athena))"
   ]
  },
  {
   "cell_type": "markdown",
   "metadata": {},
   "source": [
    "But anyways stuff is running as can see in test.3809947.edique02.out"
   ]
  },
  {
   "cell_type": "markdown",
   "metadata": {},
   "source": [
    "So now need to figure out why the isothermal_sphere patch doesn't work "
   ]
  },
  {
   "cell_type": "markdown",
   "metadata": {},
   "source": [
    "Not sure why this still does not work "
   ]
  },
  {
   "cell_type": "raw",
   "metadata": {},
   "source": [
    "> aprun -n 24 ./ramses3d ../patch/hydro/isothermal_sphere/fc.nml\n",
    " _/_/_/       _/_/     _/    _/    _/_/_/   _/_/_/_/    _/_/_/\n",
    " _/    _/    _/  _/    _/_/_/_/   _/    _/  _/         _/    _/\n",
    " _/    _/   _/    _/   _/ _/ _/   _/        _/         _/\n",
    " _/_/_/     _/_/_/_/   _/    _/     _/_/    _/_/_/       _/_/\n",
    " _/    _/   _/    _/   _/    _/         _/  _/               _/\n",
    " _/    _/   _/    _/   _/    _/   _/    _/  _/         _/    _/\n",
    " _/    _/   _/    _/   _/    _/    _/_/_/   _/_/_/_/    _/_/_/\n",
    "                         Version 3.0\n",
    "        written by Romain Teyssier (University of Zurich)\n",
    "                (c) CEA 1999-2007, UZH 2008-2014\n",
    "\n",
    " Working with nproc =   24 for ndim = 3\n",
    " Using solver = hydro with nvar =  5\n",
    "\n",
    " compile date = 10/10/15-12:31:11\n",
    " patch dir    = ../patch/hydro/isothermal_sphere\n",
    " remote repo  = https://bitbucket.org/rteyssie/ramses\n",
    " local branch = master\n",
    " last commit  = 40d0a438ddbe139d051eec4b003ab7f839869d60\n",
    "\n",
    "[NID 05928] 2015-10-10 12:35:27 Apid 16559793: initiated application termination\n",
    "[NID 05928] 2015-10-10 12:35:28 Apid 16559793: OOM killer terminated this process.\n",
    "Application 16559793 exit signals: Killed\n",
    "Application 16559793 resources: utime ~0s, stime ~2s, Rss ~8988, inblocks ~10500, outblocks ~25812"
   ]
  },
  {
   "cell_type": "markdown",
   "metadata": {},
   "source": [
    "even after cleaning up the isothermal_sphere/ patch folder this doesn't work  so I think soemthing in code is not good "
   ]
  },
  {
   "cell_type": "markdown",
   "metadata": {},
   "source": [
    "Switching this back to serial now, but this was the MPI syntax that I uncommented in the Makefile"
   ]
  },
  {
   "cell_type": "raw",
   "metadata": {},
   "source": [
    "# --- MPI, ifort syntax ------------------------------\n",
    "F90 = ftn\n",
    "FFLAGS = -xAVX -g -traceback -fpp -fast $(DEFINES) -DNOSYSTEM #-DRT"
   ]
  },
  {
   "cell_type": "markdown",
   "metadata": {},
   "source": [
    "switching to using ifort instead of gfortran and f90"
   ]
  },
  {
   "cell_type": "markdown",
   "metadata": {},
   "source": [
    "- ifortran compilation crash because "
   ]
  },
  {
   "cell_type": "raw",
   "metadata": {},
   "source": [
    "ipo_out4.f:(.text.hot0005d+0x765a): undefined reference to `mpi_send_'\n",
    "/tmp/ipo_iforttUc5nG4.o: In function `init_poisson':\n",
    "/global/project/projectdirs/astro250/doris/ramses/trunk/ramses/bin/../poisson/init_poisson.f90:71: undefined reference to `mpi_recv_'\n",
    "/global/project/projectdirs/astro250/doris/ramses/trunk/ramses/bin/../poisson/init_poisson.f90:140: undefined reference to `mpi_send_'\n",
    "/global/project/projectdirs/astro250/doris/ramses/trunk/ramses/bin/../poisson/init_poisson.f90:148: undefined reference to `mpi_barrier_'\n",
    "/usr/bin/ld: link errors found, deleting executable `ramses3d'\n",
    "make: *** [ramses] Error 1"
   ]
  },
  {
   "cell_type": "markdown",
   "metadata": {},
   "source": [
    "This is weird because we put on the WITHOUTMPI flag already ..."
   ]
  },
  {
   "cell_type": "markdown",
   "metadata": {},
   "source": [
    " Now I regrabbed the bitbucket version and compile with the serial gfortran line , using intel and it compiled sucessfully "
   ]
  }
 ],
 "metadata": {
  "kernelspec": {
   "display_name": "Python 2",
   "language": "python",
   "name": "python2"
  },
  "language_info": {
   "codemirror_mode": {
    "name": "ipython",
    "version": 2
   },
   "file_extension": ".py",
   "mimetype": "text/x-python",
   "name": "python",
   "nbconvert_exporter": "python",
   "pygments_lexer": "ipython2",
   "version": "2.7.10"
  }
 },
 "nbformat": 4,
 "nbformat_minor": 0
}
