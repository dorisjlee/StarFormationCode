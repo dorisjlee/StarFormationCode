{
 "cells": [
  {
   "cell_type": "markdown",
   "metadata": {},
   "source": [
    "doing this on ramses3 so that we don't disturb anything '"
   ]
  },
  {
   "cell_type": "markdown",
   "metadata": {},
   "source": [
    "MPI still does not work  (didnt crash either might have to try again later when qint is less busy ) "
   ]
  },
  {
   "cell_type": "markdown",
   "metadata": {},
   "source": [
    "Inside sink_particle.f90"
   ]
  },
  {
   "cell_type": "markdown",
   "metadata": {},
   "source": [
    "checked create_sink boolean "
   ]
  },
  {
   "cell_type": "raw",
   "metadata": {},
   "source": [
    " check create_sinks:  F"
   ]
  },
  {
   "cell_type": "markdown",
   "metadata": {},
   "source": [
    "So the status of create_sink boolean is false even at the beginning of create sink"
   ]
  },
  {
   "cell_type": "markdown",
   "metadata": {},
   "source": [
    "Turns out it doesn't even go inside clump_finder because create_sinks = F "
   ]
  },
  {
   "cell_type": "markdown",
   "metadata": {},
   "source": [
    "logical::create_sinks=.false.              ! turn formation of new sinks on"
   ]
  },
  {
   "cell_type": "markdown",
   "metadata": {},
   "source": [
    "so this is a parameter that I need to turn on "
   ]
  },
  {
   "cell_type": "markdown",
   "metadata": {},
   "source": [
    "inside namelist/sink_params/"
   ]
  },
  {
   "cell_type": "raw",
   "metadata": {},
   "source": [
    "create_sinks inside read_sink_params():  F\n",
    " formation of new sinks without subsequent accretion is pointless.\n",
    " Choose accretion_scheme=...!\n",
    " Trying to setting sink threshold such that jeans length at\n",
    " max resolution is resolved by 4 cells, assuming isothermal gas\n",
    " No value for T2_star given. Do not know what to do...\n",
    "\n",
    "     seconds         %    STEP (rank=      1)\n",
    "       0.000     100.0    TOTAL"
   ]
  },
  {
   "cell_type": "raw",
   "metadata": {},
   "source": [
    "  character(LEN=15)::accretion_scheme='none' ! sink accretion scheme. options: 'none', 'flux', 'bondi', 'threshold'"
   ]
  },
  {
   "cell_type": "markdown",
   "metadata": {},
   "source": [
    "In their paper they suggest to adopt flux accretion as standard"
   ]
  },
  {
   "cell_type": "raw",
   "metadata": {},
   "source": [
    " create_sinks inside read_sink_params():  F\n",
    " Trying to setting sink threshold such that jeans length at\n",
    " max resolution is resolved by 4 cells, assuming isothermal gas\n",
    " No value for T2_star given. Do not know what to do...\n",
    "\n",
    "     seconds         %    STEP (rank=      1)\n",
    "       0.000     100.0    TOTAL"
   ]
  },
  {
   "cell_type": "markdown",
   "metadata": {},
   "source": [
    "T2 star is a physics param not a sink param as described in read_hydro_param.f90"
   ]
  },
  {
   "cell_type": "markdown",
   "metadata": {},
   "source": [
    "According to ramses_ug, T2 star is the polytropic index for ISM. Previously we've decided that the ambient is not really isothermal so what exactly should the $\\gamma$ or n be? "
   ]
  },
  {
   "cell_type": "markdown",
   "metadata": {},
   "source": [
    "Not sure why sink_param is set as zero inside pm_parameters"
   ]
  },
  {
   "cell_type": "markdown",
   "metadata": {},
   "source": [
    "I changed it to true just to see what happens "
   ]
  },
  {
   "cell_type": "markdown",
   "metadata": {},
   "source": [
    "Ok now it does go into create_sink ---> clump_finder "
   ]
  },
  {
   "cell_type": "code",
   "execution_count": null,
   "metadata": {
    "collapsed": true
   },
   "outputs": [],
   "source": [
    "From my debug mesage looks like both "
   ]
  },
  {
   "cell_type": "raw",
   "metadata": {},
   "source": [
    " what is ok?  T\n",
    " second criterion:  T\n",
    " what is ok?  T\n",
    " second criterion:  F"
   ]
  },
  {
   "cell_type": "markdown",
   "metadata": {},
   "source": [
    "Okay this is good, at least some sink particles are satisfying my intentionally very very low density threshold so that there should be sink creation"
   ]
  },
  {
   "cell_type": "raw",
   "metadata": {},
   "source": [
    "check create_sinks after :  T\n",
    "  Entering clump_finder\n",
    " Enter count_test_particle\n",
    "  Entering count test particle for level=           7  and action=           1\n",
    " Enter count_test_particle\n",
    " Enter count_test_particle\n",
    " Enter count_test_particle\n",
    " ntest_all:        57856\n",
    " ntest:        57856\n",
    " Enter count_test_particle\n",
    "  Entering count test particle for level=           7  and action=           2\n",
    " Enter count_test_particle\n",
    " Enter count_test_particle\n",
    " Enter count_test_particle\n",
    " Total number of density peaks found=         8\n",
    " Finding peak patches\n",
    " Now merging irrelevant clumps\n",
    " Found           1  relevant peaks\n",
    " Entering compute clump properties\n",
    " Entering compute clump properties\n",
    " not all particles in max level           7"
   ]
  },
  {
   "cell_type": "markdown",
   "metadata": {},
   "source": [
    "Okay now it looks like it is going into stuff and making sinks, it just has not been written out to the output file yet "
   ]
  },
  {
   "cell_type": "markdown",
   "metadata": {},
   "source": [
    "Sink definitely getting created but they are not getting written out onto the sink.info outputs "
   ]
  },
  {
   "cell_type": "raw",
   "metadata": {},
   "source": [
    "Entering dump_all\n",
    " Entering output_header\n",
    " Entering output_info\n",
    " Entering file_descriptor_hydro\n",
    " Entering output_sink\n",
    " Entering output_sink\n",
    " Entering output_sink_csv\n",
    " Entering backup_amr\n",
    " Entering backup_hydro\n",
    " Entering backup_part\n",
    " Entering backup_sink\n",
    " Entering backup_poisson"
   ]
  },
  {
   "cell_type": "markdown",
   "metadata": {},
   "source": [
    "Definitely did go into here, multiple times too (like ~7, for 7 output timesteps) "
   ]
  },
  {
   "cell_type": "raw",
   "metadata": {},
   "source": [
    "grep -rnw '../pm/' -e \"not all particles\"\n",
    "../pm/flag_formation_sites.f90:692:     if (verbose.and.ilevel/=nlevelmax)print*,'not all particles in max level',ilevel"
   ]
  },
  {
   "cell_type": "markdown",
   "metadata": {},
   "source": [
    "get rid of this ."
   ]
  },
  {
   "cell_type": "markdown",
   "metadata": {},
   "source": [
    "Also I am goign to up the density threshold to $\\rho_c$so that there are less sink particles "
   ]
  },
  {
   "cell_type": "raw",
   "metadata": {},
   "source": [
    "n_sink =1D30      ! Sink particle density threshold in H/cc"
   ]
  },
  {
   "cell_type": "markdown",
   "metadata": {},
   "source": [
    "what's unit of H? "
   ]
  },
  {
   "cell_type": "code",
   "execution_count": null,
   "metadata": {
    "collapsed": true
   },
   "outputs": [],
   "source": []
  }
 ],
 "metadata": {
  "kernelspec": {
   "display_name": "Python 2",
   "language": "python",
   "name": "python2"
  },
  "language_info": {
   "codemirror_mode": {
    "name": "ipython",
    "version": 2
   },
   "file_extension": ".py",
   "mimetype": "text/x-python",
   "name": "python",
   "nbconvert_exporter": "python",
   "pygments_lexer": "ipython2",
   "version": "2.7.10"
  }
 },
 "nbformat": 4,
 "nbformat_minor": 0
}
