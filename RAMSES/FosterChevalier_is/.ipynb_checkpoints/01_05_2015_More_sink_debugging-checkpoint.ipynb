{
 "cells": [
  {
   "cell_type": "raw",
   "metadata": {},
   "source": [
    "   Entering make_tree_fine for level  1\n",
    "   Entering kill_tree_fine for level  1\n",
    "   Entering virtual_tree_fine for level  1\n",
    " No more free memory\n",
    " in PE           13\n",
    " Increase npartmax\n",
    " No more free memory\n",
    " in PE            6\n",
    " Increase npartmax\n",
    " No more free memory\n",
    " in PE           32\n",
    " Increase npartmax"
   ]
  },
  {
   "cell_type": "raw",
   "metadata": {},
   "source": [
    "vim 810308.out"
   ]
  },
  {
   "cell_type": "raw",
   "metadata": {},
   "source": [
    "Info before end do :   6.953355805468232E-310  9.097408600507375E-317\n",
    "  6.953355805478509E-310  8.604046504145807E-317  6.953355805478509E-310\n",
    "  9.092894816766970E-317  4.001931731314097E-322  4.314168867844619E-317\n",
    "  6.953355805913287E-310  3.943700166163956E-317"
   ]
  },
  {
   "cell_type": "markdown",
   "metadata": {},
   "source": [
    "So I think the density criterion is too low so it wants to activate many sinks after the thing starts collapseing so we either need to turn off the density based sink algorithm or up the activation  threshold "
   ]
  },
  {
   "cell_type": "markdown",
   "metadata": {},
   "source": [
    "I commented out everything inside &SINK_PARAMS/"
   ]
  },
  {
   "cell_type": "raw",
   "metadata": {},
   "source": [
    "> grep -rnw '../' -e \"create_sink\"\n",
    "../amr/amr_step.f90:467:     if(ilevel==levelmin)call create_sink\n",
    "Binary file ../bin/sink_particle.o matches\n",
    "Binary file ../bin/ramses3d matches\n",
    "../patch/hydro/clump_finder_sparse/sink_particle.f90:5:subroutine create_sink\n",
    "../patch/hydro/clump_finder_sparse/sink_particle.f90:29:  if(verbose)write(*,*)' Entering create_sink'\n",
    "../patch/hydro/clump_finder_sparse/sink_particle.f90:114:end subroutine create_sink\n",
    "../patch/phantom/amr_step.f90:626:     if(ilevel==levelmin)call create_sink\n",
    "../patch/rt/davis_cDecr/amr_step.f90:484:     if(ilevel==levelmin)call create_sink\n",
    "../pm/sink_particle.f90:5:subroutine create_sink\n",
    "../pm/sink_particle.f90:29:  if(verbose)write(*,*)' Entering create_sink'\n",
    "../pm/sink_particle.f90:128:end subroutine create_sink"
   ]
  },
  {
   "cell_type": "markdown",
   "metadata": {},
   "source": [
    "I set d_sink as something absurdly high (=1 in code units) (note : rho_c = 0.02806) so that no sink would ever be activated by the density peak based mechanism "
   ]
  },
  {
   "cell_type": "markdown",
   "metadata": {},
   "source": [
    "That didn't work either becasue density threshold = dsink/10 which is 0.1, now I use density thredhold explicityly as 1.0 and add in clumpfind params "
   ]
  },
  {
   "cell_type": "raw",
   "metadata": {},
   "source": [
    "create_sinks=.false."
   ]
  },
  {
   "cell_type": "code",
   "execution_count": null,
   "metadata": {
    "collapsed": true
   },
   "outputs": [],
   "source": [
    "import yt\n",
    "timestep=2\n",
    "physical_quantity=\"density\"\n",
    "ds= yt.load(\"output_{0}/info_{0}.txt\".format(str(timestep).zfill(5)))\n",
    "slc = yt.SlicePlot(ds, \"z\",physical_quantity)\n",
    "slc.set_axes_unit('pc')\n",
    "slc.set_cmap(physical_quantity,\"rainbow\")\n",
    "slc.set_font_size(20)\n",
    "slc.annotate_text((0.05, 0.05),\"timestep: {}\".format(timestep), coord_system='axis')\n",
    "slc.annotate_text((0.05, 0.02),\"time: {} Myrs\".format(timestep*61793.091/1000000.), coord_system='axis')\n",
    "# slc.annotate_velocity()\n",
    "slc.annotate_particles((0.1, 'pc'),p_size=1,col='cyan')\n",
    "# slc.annotate_grids()\n",
    "slc.show()"
   ]
  },
  {
   "cell_type": "code",
   "execution_count": null,
   "metadata": {
    "collapsed": true
   },
   "outputs": [],
   "source": []
  }
 ],
 "metadata": {
  "kernelspec": {
   "display_name": "Python 2",
   "language": "python",
   "name": "python2"
  },
  "language_info": {
   "codemirror_mode": {
    "name": "ipython",
    "version": 2
   },
   "file_extension": ".py",
   "mimetype": "text/x-python",
   "name": "python",
   "nbconvert_exporter": "python",
   "pygments_lexer": "ipython2",
   "version": "2.7.10"
  }
 },
 "nbformat": 4,
 "nbformat_minor": 0
}
