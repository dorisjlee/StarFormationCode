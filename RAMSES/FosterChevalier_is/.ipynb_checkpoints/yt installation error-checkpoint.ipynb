{
 "cells": [
  {
   "cell_type": "code",
   "execution_count": 1,
   "metadata": {
    "collapsed": false
   },
   "outputs": [
    {
     "name": "stdout",
     "output_type": "stream",
     "text": [
      "2.7.10 |Anaconda 2.2.0 (64-bit)| (default, May 28 2015, 17:02:03) \n",
      "[GCC 4.4.7 20120313 (Red Hat 4.4.7-1)]\n",
      "//anaconda/bin/python\n"
     ]
    }
   ],
   "source": [
    "import sys\n",
    "print(sys.version)\n",
    "print sys.executable"
   ]
  },
  {
   "cell_type": "code",
   "execution_count": 2,
   "metadata": {
    "collapsed": false
   },
   "outputs": [
    {
     "ename": "ImportError",
     "evalue": "/global/u2/d/dorislee/mypythonpackages/yt/yt/utilities/lib/misc_utilities.so: undefined symbol: PyUnicodeUCS2_DecodeUTF8",
     "output_type": "error",
     "traceback": [
      "\u001b[1;31m---------------------------------------------------------------------------\u001b[0m",
      "\u001b[1;31mImportError\u001b[0m                               Traceback (most recent call last)",
      "\u001b[1;32m<ipython-input-2-59dfcfe9846c>\u001b[0m in \u001b[0;36m<module>\u001b[1;34m()\u001b[0m\n\u001b[1;32m----> 1\u001b[1;33m \u001b[1;32mimport\u001b[0m \u001b[0myt\u001b[0m\u001b[1;33m\u001b[0m\u001b[0m\n\u001b[0m",
      "\u001b[1;32m/global/u2/d/dorislee/mypythonpackages/yt/yt/__init__.py\u001b[0m in \u001b[0;36m<module>\u001b[1;34m()\u001b[0m\n\u001b[0;32m    108\u001b[0m     \u001b[0msavetxt\u001b[0m\u001b[1;33m\u001b[0m\u001b[0m\n\u001b[0;32m    109\u001b[0m \u001b[1;33m\u001b[0m\u001b[0m\n\u001b[1;32m--> 110\u001b[1;33m \u001b[1;32mfrom\u001b[0m \u001b[0myt\u001b[0m\u001b[1;33m.\u001b[0m\u001b[0mfields\u001b[0m\u001b[1;33m.\u001b[0m\u001b[0mapi\u001b[0m \u001b[1;32mimport\u001b[0m\u001b[0;31m \u001b[0m\u001b[0;31m\\\u001b[0m\u001b[1;33m\u001b[0m\u001b[0m\n\u001b[0m\u001b[0;32m    111\u001b[0m     \u001b[0mfield_plugins\u001b[0m\u001b[1;33m,\u001b[0m\u001b[0;31m \u001b[0m\u001b[0;31m\\\u001b[0m\u001b[1;33m\u001b[0m\u001b[0m\n\u001b[0;32m    112\u001b[0m     \u001b[0mDerivedField\u001b[0m\u001b[1;33m,\u001b[0m\u001b[0;31m \u001b[0m\u001b[0;31m\\\u001b[0m\u001b[1;33m\u001b[0m\u001b[0m\n",
      "\u001b[1;32m/global/u2/d/dorislee/mypythonpackages/yt/yt/fields/api.py\u001b[0m in \u001b[0;36m<module>\u001b[1;34m()\u001b[0m\n\u001b[0;32m     17\u001b[0m     \u001b[0mfield_plugins\u001b[0m\u001b[1;33m\u001b[0m\u001b[0m\n\u001b[0;32m     18\u001b[0m \u001b[1;33m\u001b[0m\u001b[0m\n\u001b[1;32m---> 19\u001b[1;33m \u001b[1;32mfrom\u001b[0m \u001b[1;33m.\u001b[0m \u001b[1;32mimport\u001b[0m \u001b[0mangular_momentum\u001b[0m\u001b[1;33m\u001b[0m\u001b[0m\n\u001b[0m\u001b[0;32m     20\u001b[0m \u001b[1;32mfrom\u001b[0m \u001b[1;33m.\u001b[0m \u001b[1;32mimport\u001b[0m \u001b[0mastro_fields\u001b[0m\u001b[1;33m\u001b[0m\u001b[0m\n\u001b[0;32m     21\u001b[0m \u001b[1;32mfrom\u001b[0m \u001b[1;33m.\u001b[0m \u001b[1;32mimport\u001b[0m \u001b[0mcosmology_fields\u001b[0m\u001b[1;33m\u001b[0m\u001b[0m\n",
      "\u001b[1;32m/global/u2/d/dorislee/mypythonpackages/yt/yt/fields/angular_momentum.py\u001b[0m in \u001b[0;36m<module>\u001b[1;34m()\u001b[0m\n\u001b[0;32m     24\u001b[0m     \u001b[0mregister_field_plugin\u001b[0m\u001b[1;33m\u001b[0m\u001b[0m\n\u001b[0;32m     25\u001b[0m \u001b[1;33m\u001b[0m\u001b[0m\n\u001b[1;32m---> 26\u001b[1;33m \u001b[1;32mfrom\u001b[0m \u001b[1;33m.\u001b[0m\u001b[0mvector_operations\u001b[0m \u001b[1;32mimport\u001b[0m\u001b[0;31m \u001b[0m\u001b[0;31m\\\u001b[0m\u001b[1;33m\u001b[0m\u001b[0m\n\u001b[0m\u001b[0;32m     27\u001b[0m     \u001b[0mcreate_magnitude_field\u001b[0m\u001b[1;33m\u001b[0m\u001b[0m\n\u001b[0;32m     28\u001b[0m \u001b[1;33m\u001b[0m\u001b[0m\n",
      "\u001b[1;32m/global/u2/d/dorislee/mypythonpackages/yt/yt/fields/vector_operations.py\u001b[0m in \u001b[0;36m<module>\u001b[1;34m()\u001b[0m\n\u001b[0;32m     29\u001b[0m \u001b[1;32mfrom\u001b[0m \u001b[0myt\u001b[0m\u001b[1;33m.\u001b[0m\u001b[0mfuncs\u001b[0m \u001b[1;32mimport\u001b[0m \u001b[0mjust_one\u001b[0m\u001b[1;33m\u001b[0m\u001b[0m\n\u001b[0;32m     30\u001b[0m \u001b[1;33m\u001b[0m\u001b[0m\n\u001b[1;32m---> 31\u001b[1;33m \u001b[1;32mfrom\u001b[0m \u001b[0myt\u001b[0m\u001b[1;33m.\u001b[0m\u001b[0mutilities\u001b[0m\u001b[1;33m.\u001b[0m\u001b[0mlib\u001b[0m\u001b[1;33m.\u001b[0m\u001b[0mmisc_utilities\u001b[0m \u001b[1;32mimport\u001b[0m \u001b[0mobtain_rv_vec\u001b[0m\u001b[1;33m\u001b[0m\u001b[0m\n\u001b[0m\u001b[0;32m     32\u001b[0m \u001b[1;33m\u001b[0m\u001b[0m\n\u001b[0;32m     33\u001b[0m def create_magnitude_field(registry, basename, field_units,\n",
      "\u001b[1;31mImportError\u001b[0m: /global/u2/d/dorislee/mypythonpackages/yt/yt/utilities/lib/misc_utilities.so: undefined symbol: PyUnicodeUCS2_DecodeUTF8"
     ]
    }
   ],
   "source": [
    "import yt"
   ]
  },
  {
   "cell_type": "code",
   "execution_count": 3,
   "metadata": {
    "collapsed": false
   },
   "outputs": [
    {
     "data": {
      "text/plain": [
       "['',\n",
       " '/global/u2/d/dorislee/mypythonpackages/yt',\n",
       " '//anaconda/lib/python27.zip',\n",
       " '//anaconda/lib/python2.7',\n",
       " '//anaconda/lib/python2.7/plat-linux2',\n",
       " '//anaconda/lib/python2.7/lib-tk',\n",
       " '//anaconda/lib/python2.7/lib-old',\n",
       " '//anaconda/lib/python2.7/lib-dynload',\n",
       " '/global/homes/d/dorislee/.local/lib/python2.7/site-packages',\n",
       " '//anaconda/lib/python2.7/site-packages',\n",
       " '//anaconda/lib/python2.7/site-packages/Sphinx-1.3.1-py2.7.egg',\n",
       " '//anaconda/lib/python2.7/site-packages/cryptography-0.9.1-py2.7-linux-x86_64.egg',\n",
       " '//anaconda/lib/python2.7/site-packages/rpy2-2.5.6-py2.7-linux-x86_64.egg',\n",
       " '//anaconda/lib/python2.7/site-packages/setuptools-17.1.1-py2.7.egg',\n",
       " '//anaconda/lib/python2.7/site-packages/singledispatch-3.4.0.3-py2.7.egg',\n",
       " '//anaconda/lib/python2.7/site-packages/IPython/extensions']"
      ]
     },
     "execution_count": 3,
     "metadata": {},
     "output_type": "execute_result"
    }
   ],
   "source": [
    "import sys \n",
    "sys.path"
   ]
  },
  {
   "cell_type": "markdown",
   "metadata": {},
   "source": []
  },
  {
   "cell_type": "code",
   "execution_count": null,
   "metadata": {
    "collapsed": true
   },
   "outputs": [],
   "source": []
  },
  {
   "cell_type": "raw",
   "metadata": {},
   "source": [
    "dorislee@edison07:~/anaconda/bin> ./yt\n",
    "Traceback (most recent call last):\n",
    "  File \"./yt\", line 4, in <module>\n",
    "    from yt.utilities.command_line import run_main\n",
    "  File \"/global/u2/d/dorislee/mypythonpackages/yt/yt/__init__.py\", line 78, in <module>\n",
    "    import numpy as np # For modern purposes\n",
    "  File \"/usr/common/usg/python/numpy/1.9.2/lib/python/numpy/__init__.py\", line 170, in <module>\n",
    "    from . import add_newdocs\n",
    "  File \"/usr/common/usg/python/numpy/1.9.2/lib/python/numpy/add_newdocs.py\", line 13, in <module>\n",
    "    from numpy.lib import add_newdoc\n",
    "  File \"/usr/common/usg/python/numpy/1.9.2/lib/python/numpy/lib/__init__.py\", line 8, in <module>\n",
    "    from .type_check import *\n",
    "  File \"/usr/common/usg/python/numpy/1.9.2/lib/python/numpy/lib/type_check.py\", line 11, in <module>\n",
    "    import numpy.core.numeric as _nx\n",
    "  File \"/usr/common/usg/python/numpy/1.9.2/lib/python/numpy/core/__init__.py\", line 6, in <module>\n",
    "    from . import multiarray\n",
    "ImportError: /usr/common/usg/python/numpy/1.9.2/lib/python/numpy/core/multiarray.so: undefined symbol: PyUnicodeUCS2_FromUnicode"
   ]
  },
  {
   "cell_type": "code",
   "execution_count": 13,
   "metadata": {
    "collapsed": false
   },
   "outputs": [],
   "source": [
    "#Removing path to the version of yt_3.2 that I built from the Bitbucket source.\n",
    "# sys.path.remove('/global/u2/d/dorislee/mypythonpackages/yt')\n",
    "# sys.path.remove('/global/homes/d/dorislee/.local/lib/python2.7/site-packages')\n",
    "# sys.path.append('global/homes/d/dorislee/anaconda/bin/yt')\n",
    "# import sys\n",
    "# sys.path.remove('/global/homes/d/dorislee/.local/lib/python2.7/site-packages/yt-3.2.dev0-py2.7-linux-x86_64.egg')\n",
    "# sys.path.remove('/global/homes/d/dorislee/.local/lib/python2.7/site-packages')\n",
    "# sys.path.append('/global/homes/d/dorislee/mypythonpackages/yt')\n",
    "# import yt"
   ]
  },
  {
   "cell_type": "code",
   "execution_count": null,
   "metadata": {
    "collapsed": true
   },
   "outputs": [],
   "source": []
  }
 ],
 "metadata": {
  "kernelspec": {
   "display_name": "Python 2",
   "language": "python",
   "name": "python2"
  },
  "language_info": {
   "codemirror_mode": {
    "name": "ipython",
    "version": 2
   },
   "file_extension": ".py",
   "mimetype": "text/x-python",
   "name": "python",
   "nbconvert_exporter": "python",
   "pygments_lexer": "ipython2",
   "version": "2.7.10"
  }
 },
 "nbformat": 4,
 "nbformat_minor": 0
}
