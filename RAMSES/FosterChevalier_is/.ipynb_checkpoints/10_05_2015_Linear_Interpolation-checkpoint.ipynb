{
 "cells": [
  {
   "cell_type": "code",
   "execution_count": 1,
   "metadata": {
    "collapsed": false
   },
   "outputs": [
    {
     "name": "stdout",
     "output_type": "stream",
     "text": [
      "Populating the interactive namespace from numpy and matplotlib\n"
     ]
    }
   ],
   "source": [
    "%pylab inline \n",
    "import yt \n",
    "import plot_is"
   ]
  },
  {
   "cell_type": "code",
   "execution_count": 2,
   "metadata": {
    "collapsed": false
   },
   "outputs": [
    {
     "name": "stdout",
     "output_type": "stream",
     "text": [
      "/global/project/projectdirs/astro250/doris/ramses/trunk/ramses/bin\n"
     ]
    }
   ],
   "source": [
    "cd /project/projectdirs/astro250/doris/ramses/trunk/ramses/bin/"
   ]
  },
  {
   "cell_type": "code",
   "execution_count": 3,
   "metadata": {
    "collapsed": true
   },
   "outputs": [],
   "source": [
    "from matplotlib.legend_handler import HandlerLine2D\n",
    "from scipy import integrate\n",
    "from mpl_toolkits.axes_grid1 import AxesGrid\n",
    "from yt.mods import *"
   ]
  },
  {
   "cell_type": "code",
   "execution_count": 4,
   "metadata": {
    "collapsed": true
   },
   "outputs": [],
   "source": [
    "rho_c = 0.02806\n",
    "scale_d = 3.92e-18\n",
    "def compareplot1Dprofile(timestep):\n",
    "    pf= yt.load(\"output_{0}/info_{0}.txt\".format(str(timestep).zfill(5)))\n",
    "    sp = pf.sphere(pf.domain_center, (0.32,\"pc\"))\n",
    "    rp = yt.create_profile(sp,'radius','density')#,units={'radius':'pc'},logs={'radius':False})\n",
    "    plt.plot(rp.x.value*3.24077929e-19,rp[\"density\"].in_units(\"g/cm**3\").value,label=\"Simulation\")\n",
    "    xi_max = 6.451\n",
    "    def solvr(Y, t):\n",
    "        return [Y[1], exp(-Y[0])-2/t*Y[1]]\n",
    "    xi = np.arange(1e-6, xi_max, 0.01) #start at small poisitive number to avoid div-by-0\n",
    "    asol = integrate.odeint(solvr, [0, 0], xi)\n",
    "    rho = np.exp(-asol[:,0]) #rho/rho_c\n",
    "    r = xi/1.05e-17 #[cm]\n",
    "    #1cm = 3.24077929e-19 Parsecs\n",
    "    plt.plot(r*3.24077929e-19,rho*rho_c*scale_d,label ='Integration',color=\"red\")#$\\rho$')\n",
    "    plt.xlabel(\"Physical radius [pc]\",fontsize=15)\n",
    "    plt.ylabel(\"Density[g/cm^3]\",fontsize=15)\n",
    "    plt.legend(loc='upper right',prop={'size':12},numpoints=1)"
   ]
  },
  {
   "cell_type": "code",
   "execution_count": 8,
   "metadata": {
    "collapsed": true
   },
   "outputs": [],
   "source": [
    "import mpld3\n",
    "# mpld3.enable_notebook()\n",
    "mpld3.disable_notebook()"
   ]
  },
  {
   "cell_type": "code",
   "execution_count": 9,
   "metadata": {
    "collapsed": false
   },
   "outputs": [
    {
     "data": {
      "image/png": "[encoded data removed]",
      "text/plain": [
       "<matplotlib.figure.Figure at 0x7fea5c2fedd0>"
      ]
     },
     "metadata": {},
     "output_type": "display_data"
    }
   ],
   "source": [
    "compareplot1Dprofile(1)"
   ]
  },
  {
   "cell_type": "markdown",
   "metadata": {},
   "source": [
    "I dont think linear interpolation improved a whole lot , but at least I could tell I am doing this right by comparing with integration results "
   ]
  },
  {
   "cell_type": "code",
   "execution_count": null,
   "metadata": {
    "collapsed": true
   },
   "outputs": [],
   "source": []
  }
 ],
 "metadata": {
  "kernelspec": {
   "display_name": "Python 2",
   "language": "python",
   "name": "python2"
  },
  "language_info": {
   "codemirror_mode": {
    "name": "ipython",
    "version": 2
   },
   "file_extension": ".py",
   "mimetype": "text/x-python",
   "name": "python",
   "nbconvert_exporter": "python",
   "pygments_lexer": "ipython2",
   "version": "2.7.10"
  }
 },
 "nbformat": 4,
 "nbformat_minor": 0
}
