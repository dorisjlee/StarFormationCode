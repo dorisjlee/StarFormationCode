{
 "cells": [
  {
   "cell_type": "markdown",
   "metadata": {},
   "source": [
    "Not sure why recent runs gave this error after like 6 hours in a 24 hr run. I suspect it is because project/ is running out of memory (or astro250/). Unable to check disk quota on mynersc, but my directory is reaching 1.9TB."
   ]
  },
  {
   "cell_type": "raw",
   "metadata": {},
   "source": [
    "ramses3d           00000000007685B2  Unknown               Unknown  Unknown\n",
    "ramses3d           0000000000516D5B  backup_amr_               253  output_amr.f90\n",
    "ramses3d           000000000056B999  dump_all_                 117  output_amr.f90\n",
    "ramses3d           00000000004282C4  amr_step_..0              132  amr_step.f90\n",
    "ramses3d           00000000004016A1  MAIN__                    122  adaptive_loop.f90\n",
    "ramses3d           0000000000400F5E  Unknown               Unknown  Unknown\n",
    "ramses3d           000000000082C7F1  Unknown               Unknown  Unknown\n",
    "ramses3d           0000000000400E39  Unknown               Unknown  Unknown\n",
    "forrtl: severe (29): file not found, unit 29, file /global/project/projectdirs/astro250/doris/ramses4/trunk/ramses/bin/output_00611/amr_00611.out00019\n",
    "Image              PC                Routine            Line        Source\n",
    "ramses3d           0000000000754539  Unknown               Unknown  Unknown\n",
    "ramses3d           00000000007685B2  Unknown               Unknown  Unknown\n",
    "ramses3d           0000000000516D5B  backup_amr_               253  output_amr.f90\n",
    "ramses3d           000000000056B999  dump_all_                 117  output_amr.f90\n",
    "ramses3d           00000000004282C4  amr_step_..0              132  amr_step.f90\n",
    "ramses3d           00000000004016A1  MAIN__                    122  adaptive_loop.f90\n",
    "ramses3d           0000000000400F5E  Unknown               Unknown  Unknown\n",
    "ramses3d           000000000082C7F1  Unknown               Unknown  Unknown\n",
    "ramses3d           0000000000400E39  Unknown               Unknown  Unknown\n",
    "srun: error: nid02273: task 31: Exited with exit code 29\n",
    "srun: error: nid02273: tasks 4,25-26: Exited with exit code 29\n",
    "srun: error: nid02273: tasks 0-3,5-24,27-30: Exited with exit code 29"
   ]
  },
  {
   "cell_type": "markdown",
   "metadata": {},
   "source": [
    "So I cleaned up ramses 3 and organized them all into ram3data cleared out 300GB or so"
   ]
  },
  {
   "cell_type": "code",
   "execution_count": null,
   "metadata": {
    "collapsed": true
   },
   "outputs": [],
   "source": []
  }
 ],
 "metadata": {
  "kernelspec": {
   "display_name": "Python 2",
   "language": "python",
   "name": "python2"
  },
  "language_info": {
   "codemirror_mode": {
    "name": "ipython",
    "version": 2
   },
   "file_extension": ".py",
   "mimetype": "text/x-python",
   "name": "python",
   "nbconvert_exporter": "python",
   "pygments_lexer": "ipython2",
   "version": "2.7.10"
  }
 },
 "nbformat": 4,
 "nbformat_minor": 0
}
