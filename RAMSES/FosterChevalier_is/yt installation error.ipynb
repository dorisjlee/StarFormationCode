{
 "cells": [
  {
   "cell_type": "code",
   "execution_count": 1,
   "metadata": {
    "collapsed": false
   },
   "outputs": [
    {
     "name": "stdout",
     "output_type": "stream",
     "text": [
      "2.7.10 |Anaconda 2.2.0 (64-bit)| (default, May 28 2015, 17:02:03) \n",
      "[GCC 4.4.7 20120313 (Red Hat 4.4.7-1)]\n",
      "//anaconda/bin/python\n"
     ]
    }
   ],
   "source": [
    "import sys\n",
    "print(sys.version)\n",
    "print sys.executable"
   ]
  },
  {
   "cell_type": "code",
   "execution_count": 2,
   "metadata": {
    "collapsed": false
   },
   "outputs": [
    {
     "data": {
      "text/plain": [
       "['',\n",
       " '//anaconda/lib/python27.zip',\n",
       " '//anaconda/lib/python2.7',\n",
       " '//anaconda/lib/python2.7/plat-linux2',\n",
       " '//anaconda/lib/python2.7/lib-tk',\n",
       " '//anaconda/lib/python2.7/lib-old',\n",
       " '//anaconda/lib/python2.7/lib-dynload',\n",
       " '/global/homes/d/dorislee/.local/lib/python2.7/site-packages',\n",
       " '//anaconda/lib/python2.7/site-packages',\n",
       " '//anaconda/lib/python2.7/site-packages/Sphinx-1.3.1-py2.7.egg',\n",
       " '//anaconda/lib/python2.7/site-packages/cryptography-0.9.1-py2.7-linux-x86_64.egg',\n",
       " '//anaconda/lib/python2.7/site-packages/rpy2-2.5.6-py2.7-linux-x86_64.egg',\n",
       " '//anaconda/lib/python2.7/site-packages/setuptools-17.1.1-py2.7.egg',\n",
       " '//anaconda/lib/python2.7/site-packages/singledispatch-3.4.0.3-py2.7.egg',\n",
       " '//anaconda/lib/python2.7/site-packages/IPython/extensions']"
      ]
     },
     "execution_count": 2,
     "metadata": {},
     "output_type": "execute_result"
    }
   ],
   "source": [
    "sys.path"
   ]
  },
  {
   "cell_type": "code",
   "execution_count": 3,
   "metadata": {
    "collapsed": false
   },
   "outputs": [],
   "source": [
    "# import yt"
   ]
  },
  {
   "cell_type": "code",
   "execution_count": 3,
   "metadata": {
    "collapsed": false
   },
   "outputs": [],
   "source": [
    "sys.path.remove(\"/global/homes/d/dorislee/.local/lib/python2.7/site-packages\")"
   ]
  },
  {
   "cell_type": "code",
   "execution_count": 4,
   "metadata": {
    "collapsed": false
   },
   "outputs": [
    {
     "data": {
      "text/plain": [
       "['',\n",
       " '//anaconda/lib/python27.zip',\n",
       " '//anaconda/lib/python2.7',\n",
       " '//anaconda/lib/python2.7/plat-linux2',\n",
       " '//anaconda/lib/python2.7/lib-tk',\n",
       " '//anaconda/lib/python2.7/lib-old',\n",
       " '//anaconda/lib/python2.7/lib-dynload',\n",
       " '//anaconda/lib/python2.7/site-packages',\n",
       " '//anaconda/lib/python2.7/site-packages/Sphinx-1.3.1-py2.7.egg',\n",
       " '//anaconda/lib/python2.7/site-packages/cryptography-0.9.1-py2.7-linux-x86_64.egg',\n",
       " '//anaconda/lib/python2.7/site-packages/rpy2-2.5.6-py2.7-linux-x86_64.egg',\n",
       " '//anaconda/lib/python2.7/site-packages/setuptools-17.1.1-py2.7.egg',\n",
       " '//anaconda/lib/python2.7/site-packages/singledispatch-3.4.0.3-py2.7.egg',\n",
       " '//anaconda/lib/python2.7/site-packages/IPython/extensions']"
      ]
     },
     "execution_count": 4,
     "metadata": {},
     "output_type": "execute_result"
    }
   ],
   "source": [
    "sys.path"
   ]
  },
  {
   "cell_type": "code",
   "execution_count": 5,
   "metadata": {
    "collapsed": false
   },
   "outputs": [
    {
     "ename": "ImportError",
     "evalue": "No module named yt",
     "output_type": "error",
     "traceback": [
      "\u001b[1;31m---------------------------------------------------------------------------\u001b[0m",
      "\u001b[1;31mImportError\u001b[0m                               Traceback (most recent call last)",
      "\u001b[1;32m<ipython-input-5-59dfcfe9846c>\u001b[0m in \u001b[0;36m<module>\u001b[1;34m()\u001b[0m\n\u001b[1;32m----> 1\u001b[1;33m \u001b[1;32mimport\u001b[0m \u001b[0myt\u001b[0m\u001b[1;33m\u001b[0m\u001b[0m\n\u001b[0m",
      "\u001b[1;31mImportError\u001b[0m: No module named yt"
     ]
    }
   ],
   "source": [
    "import yt"
   ]
  },
  {
   "cell_type": "code",
   "execution_count": 10,
   "metadata": {
    "collapsed": true
   },
   "outputs": [],
   "source": [
    "sys.path.append(\"/global/homes/d/dorislee/anaconda\")"
   ]
  },
  {
   "cell_type": "code",
   "execution_count": 11,
   "metadata": {
    "collapsed": false
   },
   "outputs": [
    {
     "ename": "ImportError",
     "evalue": "No module named yt",
     "output_type": "error",
     "traceback": [
      "\u001b[1;31m---------------------------------------------------------------------------\u001b[0m",
      "\u001b[1;31mImportError\u001b[0m                               Traceback (most recent call last)",
      "\u001b[1;32m<ipython-input-11-59dfcfe9846c>\u001b[0m in \u001b[0;36m<module>\u001b[1;34m()\u001b[0m\n\u001b[1;32m----> 1\u001b[1;33m \u001b[1;32mimport\u001b[0m \u001b[0myt\u001b[0m\u001b[1;33m\u001b[0m\u001b[0m\n\u001b[0m",
      "\u001b[1;31mImportError\u001b[0m: No module named yt"
     ]
    }
   ],
   "source": [
    "import yt"
   ]
  },
  {
   "cell_type": "markdown",
   "metadata": {},
   "source": [
    "when I try running yt on its own "
   ]
  },
  {
   "cell_type": "raw",
   "metadata": {},
   "source": []
  },
  {
   "cell_type": "code",
   "execution_count": 13,
   "metadata": {
    "collapsed": false
   },
   "outputs": [],
   "source": [
    "#Removing path to the version of yt_3.2 that I built from the Bitbucket source.\n",
    "# sys.path.remove('/global/u2/d/dorislee/mypythonpackages/yt')\n",
    "# sys.path.remove('/global/homes/d/dorislee/.local/lib/python2.7/site-packages')\n",
    "# sys.path.append('global/homes/d/dorislee/anaconda/bin/yt')\n",
    "# import sys\n",
    "# sys.path.remove('/global/homes/d/dorislee/.local/lib/python2.7/site-packages/yt-3.2.dev0-py2.7-linux-x86_64.egg')\n",
    "# sys.path.remove('/global/homes/d/dorislee/.local/lib/python2.7/site-packages')\n",
    "# sys.path.append('/global/homes/d/dorislee/mypythonpackages/yt')\n",
    "# import yt"
   ]
  },
  {
   "cell_type": "raw",
   "metadata": {
    "collapsed": true
   },
   "source": [
    "echo $PYTHONPATH\n",
    "/usr/common/usg/python/ipython/3.1.0/lib/python:/usr/common/usg/python/matplotlib/1.4.3/lib/python:/usr/common/usg/python/scipy/0.15.1/lib/python:/usr/common/usg/python/numpy/1.9.2/lib/python"
   ]
  },
  {
   "cell_type": "raw",
   "metadata": {},
   "source": [
    "PYTHONPATH=/global/homes/d/dorislee/anaconda"
   ]
  },
  {
   "cell_type": "code",
   "execution_count": null,
   "metadata": {
    "collapsed": true
   },
   "outputs": [],
   "source": []
  }
 ],
 "metadata": {
  "kernelspec": {
   "display_name": "Python 2",
   "language": "python",
   "name": "python2"
  },
  "language_info": {
   "codemirror_mode": {
    "name": "ipython",
    "version": 2
   },
   "file_extension": ".py",
   "mimetype": "text/x-python",
   "name": "python",
   "nbconvert_exporter": "python",
   "pygments_lexer": "ipython2",
   "version": "2.7.10"
  }
 },
 "nbformat": 4,
 "nbformat_minor": 0
}
