{
 "metadata": {
  "name": "",
  "signature": "sha256:cb9a605e2d636e65e11d4f43a51bc5585a432054d4d187f4dc747591fbf0d925"
 },
 "nbformat": 3,
 "nbformat_minor": 0,
 "worksheets": [
  {
   "cells": [
    {
     "cell_type": "heading",
     "level": 1,
     "metadata": {},
     "source": [
      "Compiling MPI ramses2d 3d\n"
     ]
    },
    {
     "cell_type": "markdown",
     "metadata": {},
     "source": [
      "Inside the Makefile:\n",
      "\n",
      "Uncomment the ifortran ftn option\n",
      "\n",
      "``# --- MPI, ifort syntax ------------------------------\n",
      "F90 = ftn\n",
      "FFLAGS = -xAVX -g -traceback -fpp -fast $(DEFINES) -DNOSYSTEM #-DRT ``\n"
     ]
    },
    {
     "cell_type": "markdown",
     "metadata": {},
     "source": [
      "On Edison: "
     ]
    },
    {
     "cell_type": "markdown",
     "metadata": {},
     "source": [
      "- get your own node by : ``qsub -I -q debug -l mppwidth=24`` (You have to compile MPI-enabled versions on a dedicated node because you can't use MPI on login nodes) \n",
      "- switch to Intel Compiler: `` module swap PrgEnv-gnu PrgEnv-intel`` \n",
      "- ``make clean``\n",
      "- ``make NDIM=2 SOLVER=mhd NVAR=8``\n",
      "- test by: ``aprun -n 8 ./ramses2d ../namelist/sedov2d.nml ``"
     ]
    },
    {
     "cell_type": "markdown",
     "metadata": {},
     "source": [
      "For the 3D case :"
     ]
    },
    {
     "cell_type": "markdown",
     "metadata": {},
     "source": [
      "- module swap PrgEnv-intel PrgEnv-gnu\n",
      "- make NDIM=3 SOLVER=hydro NVAR=8\n",
      "- aprun -n 8 ./ramses3d ../namelist/sedov3d.nml "
     ]
    },
    {
     "cell_type": "markdown",
     "metadata": {},
     "source": [
      "You should be able to see many print statements of the RAMSES startup (every core has to load RAMSES and start up , large overhead)"
     ]
    },
    {
     "cell_type": "markdown",
     "metadata": {},
     "source": [
      "The reason why this doesn't run properly on this example is that we want to use SOLVER = hydro "
     ]
    },
    {
     "cell_type": "markdown",
     "metadata": {},
     "source": [
      "For some strange reason you need to specify full path in aprun and can't use the alias ramses3d, not too sure why"
     ]
    },
    {
     "cell_type": "markdown",
     "metadata": {},
     "source": [
      "On Hopper, same instructions works for 2D case"
     ]
    },
    {
     "cell_type": "code",
     "collapsed": false,
     "input": [],
     "language": "python",
     "metadata": {},
     "outputs": []
    }
   ],
   "metadata": {}
  }
 ]
}