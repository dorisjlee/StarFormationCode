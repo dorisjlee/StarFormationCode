{
 "metadata": {
  "name": "",
  "signature": "sha256:3d5afe81ba0b4ce2ae9d684e016d5c2896ad0b8d5a66d0387ac4713dc4091de7"
 },
 "nbformat": 3,
 "nbformat_minor": 0,
 "worksheets": [
  {
   "cells": [
    {
     "cell_type": "code",
     "collapsed": false,
     "input": [
      "%pylab inline"
     ],
     "language": "python",
     "metadata": {},
     "outputs": [
      {
       "output_type": "stream",
       "stream": "stdout",
       "text": [
        "Populating the interactive namespace from numpy and matplotlib\n"
       ]
      }
     ],
     "prompt_number": 1
    },
    {
     "cell_type": "code",
     "collapsed": false,
     "input": [
      "cd ../../ramses/trunk/ramses/namelist/"
     ],
     "language": "python",
     "metadata": {},
     "outputs": [
      {
       "output_type": "stream",
       "stream": "stdout",
       "text": [
        "/Users/dorislee/Desktop/StarFormation/ramses/trunk/ramses/namelist\n"
       ]
      }
     ],
     "prompt_number": 3
    },
    {
     "cell_type": "markdown",
     "metadata": {},
     "source": [
      "These codes all run but I'm not sure what they are"
     ]
    },
    {
     "cell_type": "code",
     "collapsed": false,
     "input": [
      "ls"
     ],
     "language": "python",
     "metadata": {},
     "outputs": [
      {
       "output_type": "stream",
       "stream": "stdout",
       "text": [
        "advect1d.nml        iliev3.nml          sedov2d.nml\r\n",
        "blast1d.nml         iliev4.nml          sedov3d.nml\r\n",
        "cosmo.nml           iliev5.nml          static.nml\r\n",
        "cosmo_gal.nml       iliev7.nml          stromgren.nml\r\n",
        "d-pointmass.nml     p-pointmass.nml     tube1d.nml\r\n",
        "detente.nml         p-pointmass3.nml    tube1d_changed.nml\r\n",
        "iliev1.nml          rad_beams.nml       tube_mhd.nml\r\n",
        "iliev2.nml          sedov1d.nml         twin_rad_src.nml\r\n"
       ]
      }
     ],
     "prompt_number": 4
    },
    {
     "cell_type": "code",
     "collapsed": false,
     "input": [
      "import os\n",
      "os.system(\"ramses1d advect1d.nml  > data.dat\")"
     ],
     "language": "python",
     "metadata": {},
     "outputs": [
      {
       "metadata": {},
       "output_type": "pyout",
       "prompt_number": 5,
       "text": [
        "0"
       ]
      }
     ],
     "prompt_number": 5
    },
    {
     "cell_type": "code",
     "collapsed": false,
     "input": [
      "mv data.dat ../../../../StarFormationCode/advect/"
     ],
     "language": "python",
     "metadata": {},
     "outputs": [],
     "prompt_number": 6
    },
    {
     "cell_type": "code",
     "collapsed": false,
     "input": [
      "cd ../../../../StarFormationCode/advect/"
     ],
     "language": "python",
     "metadata": {},
     "outputs": [
      {
       "output_type": "stream",
       "stream": "stdout",
       "text": [
        "/Users/dorislee/Desktop/StarFormation/StarFormationCode/advect\n"
       ]
      }
     ],
     "prompt_number": 7
    },
    {
     "cell_type": "code",
     "collapsed": false,
     "input": [
      "cat data.dat"
     ],
     "language": "python",
     "metadata": {},
     "outputs": [
      {
       "output_type": "stream",
       "stream": "stdout",
       "text": [
        " _/_/_/       _/_/     _/    _/    _/_/_/   _/_/_/_/    _/_/_/  \r\n",
        " _/    _/    _/  _/    _/_/_/_/   _/    _/  _/         _/    _/ \r\n",
        " _/    _/   _/    _/   _/ _/ _/   _/        _/         _/       \r\n",
        " _/_/_/     _/_/_/_/   _/    _/     _/_/    _/_/_/       _/_/   \r\n",
        " _/    _/   _/    _/   _/    _/         _/  _/               _/ \r\n",
        " _/    _/   _/    _/   _/    _/   _/    _/  _/         _/    _/ \r\n",
        " _/    _/   _/    _/   _/    _/    _/_/_/   _/_/_/_/    _/_/_/  \r\n",
        "                         Version 3.0                            \r\n",
        "        written by Romain Teyssier (University of Zurich)       \r\n",
        "                (c) CEA 1999-2007, UZH 2008-2014                \r\n",
        "  \r\n",
        " Working with nproc =    1 for ndim = 1\r\n",
        " Using the hydro solver with nvar =  5\r\n",
        "  \r\n",
        " Building initial AMR grid\r\n",
        " Initial mesh structure\r\n",
        " Level  1 has          1 grids (       1,       1,       1,)\r\n",
        " Level  2 has          2 grids (       2,       2,       2,)\r\n",
        " Level  3 has          4 grids (       4,       4,       4,)\r\n",
        " Level  4 has          8 grids (       8,       8,       8,)\r\n",
        " Level  5 has         10 grids (      10,      10,      10,)\r\n",
        " Level  6 has         12 grids (      12,      12,      12,)\r\n",
        " Level  7 has         14 grids (      14,      14,      14,)\r\n",
        " Level  8 has         16 grids (      16,      16,      16,)\r\n",
        " Level  9 has         14 grids (      14,      14,      14,)\r\n",
        " Level 10 has         10 grids (      10,      10,      10,)\r\n",
        " Starting time integration\r\n",
        " Output    92 cells\r\n",
        " ================================================\r\n",
        " lev      x           d          u          P\r\n",
        "  4  3.12500E-02  1.000E+00  1.000E+00  1.000E+00\r\n",
        "  4  9.37500E-02  1.000E+00  1.000E+00  1.000E+00\r\n",
        "  4  1.56250E-01  1.000E+00  1.000E+00  1.000E+00\r\n",
        "  5  2.03125E-01  1.000E+00  1.000E+00  1.000E+00\r\n",
        "  5  2.34375E-01  1.000E+00  1.000E+00  1.000E+00\r\n",
        "  5  2.65625E-01  1.000E+00  1.000E+00  1.000E+00\r\n",
        "  5  2.96875E-01  1.000E+00  1.000E+00  1.000E+00\r\n",
        "  6  3.20312E-01  1.000E+00  1.000E+00  1.000E+00\r\n",
        "  6  3.35938E-01  1.000E+00  1.000E+00  1.000E+00\r\n",
        "  6  3.51562E-01  1.000E+00  1.000E+00  1.000E+00\r\n",
        "  6  3.67188E-01  1.000E+00  1.000E+00  1.000E+00\r\n",
        "  6  3.82812E-01  1.000E+00  1.000E+00  1.000E+00\r\n",
        "  7  3.94531E-01  1.000E+00  1.000E+00  1.000E+00\r\n",
        "  7  4.02344E-01  1.000E+00  1.000E+00  1.000E+00\r\n",
        "  7  4.10156E-01  1.000E+00  1.000E+00  1.000E+00\r\n",
        "  7  4.17969E-01  1.000E+00  1.000E+00  1.000E+00\r\n",
        "  8  4.23828E-01  1.000E+00  1.000E+00  1.000E+00\r\n",
        "  8  4.27734E-01  1.000E+00  1.000E+00  1.000E+00\r\n",
        "  8  4.31641E-01  1.000E+00  1.000E+00  1.000E+00\r\n",
        "  8  4.35547E-01  1.000E+00  1.000E+00  1.000E+00\r\n",
        "  9  4.38477E-01  1.000E+00  1.000E+00  1.000E+00\r\n",
        "  9  4.40430E-01  1.000E+00  1.000E+00  1.000E+00\r\n",
        "  9  4.42383E-01  1.000E+00  1.000E+00  1.000E+00\r\n",
        "  9  4.44336E-01  1.000E+00  1.000E+00  1.000E+00\r\n",
        " 10  4.45801E-01  1.000E+00  1.000E+00  1.000E+00\r\n",
        " 10  4.46777E-01  1.000E+00  1.000E+00  1.000E+00\r\n",
        " 10  4.47754E-01  1.000E+00  1.000E+00  1.000E+00\r\n",
        " 10  4.48730E-01  1.000E+00  1.000E+00  1.000E+00\r\n",
        " 10  4.49707E-01  1.000E+00  1.000E+00  1.000E+00\r\n",
        " 10  4.50684E-01  2.000E+00  1.000E+00  1.000E+00\r\n",
        " 10  4.51660E-01  2.000E+00  1.000E+00  1.000E+00\r\n",
        " 10  4.52637E-01  2.000E+00  1.000E+00  1.000E+00\r\n",
        " 10  4.53613E-01  2.000E+00  1.000E+00  1.000E+00\r\n",
        " 10  4.54590E-01  2.000E+00  1.000E+00  1.000E+00\r\n",
        "  9  4.56055E-01  2.000E+00  1.000E+00  1.000E+00\r\n",
        "  9  4.58008E-01  2.000E+00  1.000E+00  1.000E+00\r\n",
        "  9  4.59961E-01  2.000E+00  1.000E+00  1.000E+00\r\n",
        "  9  4.61914E-01  2.000E+00  1.000E+00  1.000E+00\r\n",
        "  9  4.63867E-01  2.000E+00  1.000E+00  1.000E+00\r\n",
        "  8  4.66797E-01  2.000E+00  1.000E+00  1.000E+00\r\n",
        "  8  4.70703E-01  2.000E+00  1.000E+00  1.000E+00\r\n",
        "  8  4.74609E-01  2.000E+00  1.000E+00  1.000E+00\r\n",
        "  8  4.78516E-01  2.000E+00  1.000E+00  1.000E+00\r\n",
        "  8  4.82422E-01  2.000E+00  1.000E+00  1.000E+00\r\n",
        "  7  4.88281E-01  2.000E+00  1.000E+00  1.000E+00\r\n",
        "  7  4.96094E-01  2.000E+00  1.000E+00  1.000E+00\r\n",
        "  7  5.03906E-01  2.000E+00  1.000E+00  1.000E+00\r\n",
        "  7  5.11719E-01  2.000E+00  1.000E+00  1.000E+00\r\n",
        "  8  5.17578E-01  2.000E+00  1.000E+00  1.000E+00\r\n",
        "  8  5.21484E-01  2.000E+00  1.000E+00  1.000E+00\r\n",
        "  8  5.25391E-01  2.000E+00  1.000E+00  1.000E+00\r\n",
        "  8  5.29297E-01  2.000E+00  1.000E+00  1.000E+00\r\n",
        "  8  5.33203E-01  2.000E+00  1.000E+00  1.000E+00\r\n",
        "  9  5.36133E-01  2.000E+00  1.000E+00  1.000E+00\r\n",
        "  9  5.38086E-01  2.000E+00  1.000E+00  1.000E+00\r\n",
        "  9  5.40039E-01  2.000E+00  1.000E+00  1.000E+00\r\n",
        "  9  5.41992E-01  2.000E+00  1.000E+00  1.000E+00\r\n",
        "  9  5.43945E-01  2.000E+00  1.000E+00  1.000E+00\r\n",
        " 10  5.45410E-01  2.000E+00  1.000E+00  1.000E+00\r\n",
        " 10  5.46387E-01  2.000E+00  1.000E+00  1.000E+00\r\n",
        " 10  5.47363E-01  2.000E+00  1.000E+00  1.000E+00\r\n",
        " 10  5.48340E-01  2.000E+00  1.000E+00  1.000E+00\r\n",
        " 10  5.49316E-01  2.000E+00  1.000E+00  1.000E+00\r\n",
        " 10  5.50293E-01  1.000E+00  1.000E+00  1.000E+00\r\n",
        " 10  5.51270E-01  1.000E+00  1.000E+00  1.000E+00\r\n",
        " 10  5.52246E-01  1.000E+00  1.000E+00  1.000E+00\r\n",
        " 10  5.53223E-01  1.000E+00  1.000E+00  1.000E+00\r\n",
        " 10  5.54199E-01  1.000E+00  1.000E+00  1.000E+00\r\n",
        "  9  5.55664E-01  1.000E+00  1.000E+00  1.000E+00\r\n",
        "  9  5.57617E-01  1.000E+00  1.000E+00  1.000E+00\r\n",
        "  9  5.59570E-01  1.000E+00  1.000E+00  1.000E+00\r\n",
        "  9  5.61523E-01  1.000E+00  1.000E+00  1.000E+00\r\n",
        "  8  5.64453E-01  1.000E+00  1.000E+00  1.000E+00\r\n",
        "  8  5.68359E-01  1.000E+00  1.000E+00  1.000E+00\r\n",
        "  8  5.72266E-01  1.000E+00  1.000E+00  1.000E+00\r\n",
        "  8  5.76172E-01  1.000E+00  1.000E+00  1.000E+00\r\n",
        "  7  5.82031E-01  1.000E+00  1.000E+00  1.000E+00\r\n",
        "  7  5.89844E-01  1.000E+00  1.000E+00  1.000E+00\r\n",
        "  7  5.97656E-01  1.000E+00  1.000E+00  1.000E+00\r\n",
        "  7  6.05469E-01  1.000E+00  1.000E+00  1.000E+00\r\n",
        "  6  6.17188E-01  1.000E+00  1.000E+00  1.000E+00\r\n",
        "  6  6.32812E-01  1.000E+00  1.000E+00  1.000E+00\r\n",
        "  6  6.48438E-01  1.000E+00  1.000E+00  1.000E+00\r\n",
        "  6  6.64062E-01  1.000E+00  1.000E+00  1.000E+00\r\n",
        "  6  6.79688E-01  1.000E+00  1.000E+00  1.000E+00\r\n",
        "  5  7.03125E-01  1.000E+00  1.000E+00  1.000E+00\r\n",
        "  5  7.34375E-01  1.000E+00  1.000E+00  1.000E+00\r\n",
        "  5  7.65625E-01  1.000E+00  1.000E+00  1.000E+00\r\n",
        "  5  7.96875E-01  1.000E+00  1.000E+00  1.000E+00\r\n",
        "  4  8.43750E-01  1.000E+00  1.000E+00  1.000E+00\r\n",
        "  4  9.06250E-01  1.000E+00  1.000E+00  1.000E+00\r\n",
        "  4  9.68750E-01  1.000E+00  1.000E+00  1.000E+00\r\n",
        " ================================================\r\n",
        " Fine step=     0 t= 0.00000E+00 dt= 3.578E-04 a= 1.000E+00 mem= 9.1% \r\n",
        " Mesh structure\r\n",
        " Level  1 has          1 grids (       1,       1,       1,)\r\n",
        " Level  2 has          2 grids (       2,       2,       2,)\r\n",
        " Level  3 has          4 grids (       4,       4,       4,)\r\n",
        " Level  4 has          8 grids (       8,       8,       8,)\r\n",
        " Level  5 has         11 grids (      11,      11,      11,)\r\n",
        " Level  6 has         13 grids (      13,      13,      13,)\r\n",
        " Level  7 has         15 grids (      15,      15,      15,)\r\n",
        " Level  8 has         17 grids (      17,      17,      17,)\r\n",
        " Level  9 has         15 grids (      15,      15,      15,)\r\n",
        " Level 10 has         12 grids (      12,      12,      12,)\r\n",
        " Main step=     1 mcons= 0.00E+00 econs= 0.00E+00 epot= 0.00E+00 ekin= 3.05E+00\r\n",
        " Fine step=    64 t= 2.29011E-02 dt= 3.578E-04 a= 1.000E+00 mem= 9.9% \r\n",
        " Fine step= 10000 t= 3.57829E+00 dt= 3.578E-04 a= 1.000E+00 mem=11.2% \r\n",
        " Fine step= 20000 t= 7.15659E+00 dt= 3.578E-04 a= 1.000E+00 mem=11.4% \r\n",
        " Output   114 cells\r\n",
        " ================================================\r\n",
        " lev      x           d          u          P\r\n",
        "  4  3.12500E-02  1.000E+00  1.000E+00  1.000E+00\r\n",
        "  4  9.37500E-02  1.000E+00  1.000E+00  1.000E+00\r\n",
        "  5  1.40625E-01  1.000E+00  1.000E+00  1.000E+00\r\n",
        "  5  1.71875E-01  1.000E+00  1.000E+00  1.000E+00\r\n",
        "  5  2.03125E-01  1.000E+00  1.000E+00  1.000E+00\r\n",
        "  5  2.34375E-01  1.000E+00  1.000E+00  1.000E+00\r\n",
        "  5  2.65625E-01  1.000E+00  1.000E+00  1.000E+00\r\n",
        "  5  2.96875E-01  1.000E+00  1.000E+00  1.000E+00\r\n",
        "  6  3.20312E-01  1.000E+00  1.000E+00  1.000E+00\r\n",
        "  6  3.35938E-01  1.000E+00  1.000E+00  1.000E+00\r\n",
        "  6  3.51562E-01  1.000E+00  1.000E+00  1.000E+00\r\n",
        "  6  3.67188E-01  1.000E+00  1.000E+00  1.000E+00\r\n",
        "  7  3.78906E-01  1.000E+00  1.000E+00  1.000E+00\r\n",
        "  7  3.86719E-01  1.000E+00  1.000E+00  1.000E+00\r\n",
        "  7  3.94531E-01  1.000E+00  1.000E+00  1.000E+00\r\n",
        "  7  4.02344E-01  1.000E+00  1.000E+00  1.000E+00\r\n",
        "  7  4.10156E-01  1.000E+00  1.000E+00  1.000E+00\r\n",
        "  7  4.17969E-01  1.000E+00  1.000E+00  1.000E+00\r\n",
        "  8  4.23828E-01  1.000E+00  1.000E+00  1.000E+00\r\n",
        "  8  4.27734E-01  1.000E+00  1.000E+00  1.000E+00\r\n",
        "  8  4.31641E-01  1.000E+00  1.000E+00  1.000E+00\r\n",
        "  8  4.35547E-01  1.000E+00  1.000E+00  1.000E+00\r\n",
        "  9  4.38477E-01  1.000E+00  1.000E+00  1.000E+00\r\n",
        "  9  4.40430E-01  1.001E+00  1.000E+00  1.000E+00\r\n",
        "  9  4.42383E-01  1.003E+00  1.000E+00  1.000E+00\r\n",
        "  9  4.44336E-01  1.012E+00  1.000E+00  1.000E+00\r\n",
        "  9  4.46289E-01  1.038E+00  1.000E+00  1.000E+00\r\n",
        " 10  4.47754E-01  1.070E+00  1.000E+00  1.000E+00\r\n",
        " 10  4.48730E-01  1.091E+00  1.000E+00  1.000E+00\r\n",
        " 10  4.49707E-01  1.116E+00  1.000E+00  1.000E+00\r\n",
        " 10  4.50684E-01  1.144E+00  1.000E+00  1.000E+00\r\n",
        " 10  4.51660E-01  1.176E+00  1.000E+00  1.000E+00\r\n",
        " 10  4.52637E-01  1.211E+00  1.000E+00  1.000E+00\r\n",
        " 10  4.53613E-01  1.249E+00  1.000E+00  1.000E+00\r\n",
        " 10  4.54590E-01  1.291E+00  1.000E+00  1.000E+00\r\n",
        " 10  4.55566E-01  1.337E+00  1.000E+00  1.000E+00\r\n",
        " 10  4.56543E-01  1.387E+00  1.000E+00  1.000E+00\r\n",
        " 10  4.57520E-01  1.439E+00  1.000E+00  1.000E+00\r\n",
        " 10  4.58496E-01  1.494E+00  1.000E+00  1.000E+00\r\n",
        " 10  4.59473E-01  1.552E+00  1.000E+00  1.000E+00\r\n",
        " 10  4.60449E-01  1.610E+00  1.000E+00  1.000E+00\r\n",
        " 10  4.61426E-01  1.670E+00  1.000E+00  1.000E+00\r\n",
        " 10  4.62402E-01  1.728E+00  1.000E+00  1.000E+00\r\n",
        " 10  4.63379E-01  1.785E+00  1.000E+00  1.000E+00\r\n",
        " 10  4.64355E-01  1.839E+00  1.000E+00  1.000E+00\r\n",
        " 10  4.65332E-01  1.888E+00  1.000E+00  1.000E+00\r\n",
        " 10  4.66309E-01  1.929E+00  1.000E+00  1.000E+00\r\n",
        " 10  4.67285E-01  1.964E+00  1.000E+00  1.000E+00\r\n",
        " 10  4.68262E-01  1.976E+00  1.000E+00  1.000E+00\r\n",
        "  9  4.69727E-01  1.995E+00  1.000E+00  1.000E+00\r\n",
        "  9  4.71680E-01  1.999E+00  1.000E+00  1.000E+00\r\n",
        "  9  4.73633E-01  2.000E+00  1.000E+00  1.000E+00\r\n",
        "  9  4.75586E-01  2.000E+00  1.000E+00  1.000E+00\r\n",
        "  8  4.78516E-01  2.000E+00  1.000E+00  1.000E+00\r\n",
        "  8  4.82422E-01  2.000E+00  1.000E+00  1.000E+00\r\n",
        "  8  4.86328E-01  2.000E+00  1.000E+00  1.000E+00\r\n",
        "  8  4.90234E-01  2.000E+00  1.000E+00  1.000E+00\r\n",
        "  7  4.96094E-01  2.000E+00  1.000E+00  1.000E+00\r\n",
        "  7  5.03906E-01  2.000E+00  1.000E+00  1.000E+00\r\n",
        "  7  5.11719E-01  2.000E+00  1.000E+00  1.000E+00\r\n",
        "  7  5.19531E-01  2.000E+00  1.000E+00  1.000E+00\r\n",
        "  8  5.25391E-01  2.000E+00  1.000E+00  1.000E+00\r\n",
        "  8  5.29297E-01  2.000E+00  1.000E+00  1.000E+00\r\n",
        "  8  5.33203E-01  2.000E+00  1.000E+00  1.000E+00\r\n",
        "  8  5.37109E-01  2.000E+00  1.000E+00  1.000E+00\r\n",
        "  9  5.40039E-01  2.000E+00  1.000E+00  1.000E+00\r\n",
        "  9  5.41992E-01  1.999E+00  1.000E+00  1.000E+00\r\n",
        "  9  5.43945E-01  1.997E+00  1.000E+00  1.000E+00\r\n",
        "  9  5.45898E-01  1.988E+00  1.000E+00  1.000E+00\r\n",
        "  9  5.47852E-01  1.954E+00  1.000E+00  1.000E+00\r\n",
        "  9  5.49805E-01  1.885E+00  1.000E+00  1.000E+00\r\n",
        " 10  5.51270E-01  1.825E+00  1.000E+00  1.000E+00\r\n",
        " 10  5.52246E-01  1.784E+00  1.000E+00  1.000E+00\r\n",
        " 10  5.53223E-01  1.740E+00  1.000E+00  1.000E+00\r\n",
        " 10  5.54199E-01  1.694E+00  1.000E+00  1.000E+00\r\n",
        " 10  5.55176E-01  1.646E+00  1.000E+00  1.000E+00\r\n",
        " 10  5.56152E-01  1.596E+00  1.000E+00  1.000E+00\r\n",
        " 10  5.57129E-01  1.543E+00  1.000E+00  1.000E+00\r\n",
        " 10  5.58105E-01  1.489E+00  1.000E+00  1.000E+00\r\n",
        " 10  5.59082E-01  1.433E+00  1.000E+00  1.000E+00\r\n",
        " 10  5.60059E-01  1.376E+00  1.000E+00  1.000E+00\r\n",
        " 10  5.61035E-01  1.320E+00  1.000E+00  1.000E+00\r\n",
        " 10  5.62012E-01  1.264E+00  1.000E+00  1.000E+00\r\n",
        " 10  5.62988E-01  1.209E+00  1.000E+00  1.000E+00\r\n",
        " 10  5.63965E-01  1.158E+00  1.000E+00  1.000E+00\r\n",
        " 10  5.64941E-01  1.111E+00  1.000E+00  1.000E+00\r\n",
        " 10  5.65918E-01  1.069E+00  1.000E+00  1.000E+00\r\n",
        " 10  5.66895E-01  1.036E+00  1.000E+00  1.000E+00\r\n",
        " 10  5.67871E-01  1.013E+00  1.000E+00  1.000E+00\r\n",
        " 10  5.68848E-01  1.002E+00  1.000E+00  1.000E+00\r\n",
        " 10  5.69824E-01  1.001E+00  1.000E+00  1.000E+00\r\n",
        "  9  5.71289E-01  1.000E+00  1.000E+00  1.000E+00\r\n",
        "  9  5.73242E-01  1.000E+00  1.000E+00  1.000E+00\r\n",
        "  9  5.75195E-01  1.000E+00  1.000E+00  1.000E+00\r\n",
        "  9  5.77148E-01  1.000E+00  1.000E+00  1.000E+00\r\n",
        "  8  5.80078E-01  1.000E+00  1.000E+00  1.000E+00\r\n",
        "  8  5.83984E-01  1.000E+00  1.000E+00  1.000E+00\r\n",
        "  8  5.87891E-01  1.000E+00  1.000E+00  1.000E+00\r\n",
        "  8  5.91797E-01  1.000E+00  1.000E+00  1.000E+00\r\n",
        "  7  5.97656E-01  1.000E+00  1.000E+00  1.000E+00\r\n",
        "  7  6.05469E-01  1.000E+00  1.000E+00  1.000E+00\r\n",
        "  7  6.13281E-01  1.000E+00  1.000E+00  1.000E+00\r\n",
        "  7  6.21094E-01  1.000E+00  1.000E+00  1.000E+00\r\n",
        "  6  6.32812E-01  1.000E+00  1.000E+00  1.000E+00\r\n",
        "  6  6.48438E-01  1.000E+00  1.000E+00  1.000E+00\r\n",
        "  6  6.64062E-01  1.000E+00  1.000E+00  1.000E+00\r\n",
        "  6  6.79688E-01  1.000E+00  1.000E+00  1.000E+00\r\n",
        "  5  7.03125E-01  1.000E+00  1.000E+00  1.000E+00\r\n",
        "  5  7.34375E-01  1.000E+00  1.000E+00  1.000E+00\r\n",
        "  5  7.65625E-01  1.000E+00  1.000E+00  1.000E+00\r\n",
        "  5  7.96875E-01  1.000E+00  1.000E+00  1.000E+00\r\n",
        "  4  8.43750E-01  1.000E+00  1.000E+00  1.000E+00\r\n",
        "  4  9.06250E-01  1.000E+00  1.000E+00  1.000E+00\r\n",
        "  4  9.68750E-01  1.000E+00  1.000E+00  1.000E+00\r\n",
        " ================================================\r\n",
        " Mesh structure\r\n",
        " Level  1 has          1 grids (       1,       1,       1,)\r\n",
        " Level  2 has          2 grids (       2,       2,       2,)\r\n",
        " Level  3 has          4 grids (       4,       4,       4,)\r\n",
        " Level  4 has          8 grids (       8,       8,       8,)\r\n",
        " Level  5 has         11 grids (      11,      11,      11,)\r\n",
        " Level  6 has         12 grids (      12,      12,      12,)\r\n",
        " Level  7 has         16 grids (      16,      16,      16,)\r\n",
        " Level  8 has         18 grids (      18,      18,      18,)\r\n",
        " Level  9 has         20 grids (      20,      20,      20,)\r\n",
        " Level 10 has         21 grids (      21,      21,      21,)\r\n",
        " Main step=   437 mcons=-6.06E-16 econs= 1.46E-16 epot= 0.00E+00 ekin= 3.05E+00\r\n",
        " Fine step= 27968 t= 1.00078E+01 dt= 3.578E-04 a= 1.000E+00 mem=11.4% \r\n",
        " Run completed\r\n"
       ]
      }
     ],
     "prompt_number": 8
    },
    {
     "cell_type": "heading",
     "level": 4,
     "metadata": {},
     "source": [
      "Manually copy Data Results to result.dat"
     ]
    },
    {
     "cell_type": "code",
     "collapsed": false,
     "input": [
      "data = np.loadtxt(\"result.dat\",skiprows=1)"
     ],
     "language": "python",
     "metadata": {},
     "outputs": [],
     "prompt_number": 10
    },
    {
     "cell_type": "code",
     "collapsed": false,
     "input": [
      "l = data[::,0]\n",
      "x= data[::,1]\n",
      "d = data[::,2]\n",
      "u = data[::,3]\n",
      "p = data[::,4]\n",
      "def plot_all(l,x,d,u,p):\n",
      "    plt.figure()\n",
      "    plt.xlabel(\"Position(x)\")\n",
      "    plt.ylabel(\"Pressure(p)\")\n",
      "    plt.plot(x,p,'o')\n",
      "    plt.plot(x,p,color=\"red\")\n",
      "    plt.figure()\n",
      "    plt.xlabel(\"Position \")\n",
      "    plt.ylabel(\"Velocity\")\n",
      "    plt.plot(x,u,'o')\n",
      "    plt.plot(x,u,color=\"red\")\n",
      "    plt.figure()\n",
      "    plt.xlabel(\"Position(x)\")\n",
      "    plt.ylabel(\"Density(d)\")\n",
      "    plt.plot(x,d,'o')\n",
      "    plt.plot(x,d,color=\"red\")\n",
      "    plt.figure()\n",
      "    plt.xlabel(\"Position\")\n",
      "    plt.ylabel(\"Level\")\n",
      "    plt.plot(x,l,color=\"red\")"
     ],
     "language": "python",
     "metadata": {},
     "outputs": [],
     "prompt_number": 11
    },
    {
     "cell_type": "code",
     "collapsed": false,
     "input": [
      "plot_all(l,x,d,u,p)"
     ],
     "language": "python",
     "metadata": {},
     "outputs": [
      {
       "metadata": {},
       "output_type": "display_data",
       "png": "[encoded data removed]",
       "text": [
        "<matplotlib.figure.Figure at 0x111f8bb50>"
       ]
      },
      {
       "metadata": {},
       "output_type": "display_data",
       "png": "[encoded data removed]",
       "text": [
        "<matplotlib.figure.Figure at 0x111fbd290>"
       ]
      },
      {
       "metadata": {},
       "output_type": "display_data",
       "png": "[encoded data removed]",
       "text": [
        "<matplotlib.figure.Figure at 0x111fdcad0>"
       ]
      },
      {
       "metadata": {},
       "output_type": "display_data",
       "png": "[encoded data removed]",
       "text": [
        "<matplotlib.figure.Figure at 0x112013690>"
       ]
      }
     ],
     "prompt_number": 12
    },
    {
     "cell_type": "markdown",
     "metadata": {},
     "source": [
      "The AMR again makes sense since this is Dirac-delta-like around 0.5, more resolution is required in that region. But actually v and P showed no anomaly in the region."
     ]
    },
    {
     "cell_type": "code",
     "collapsed": false,
     "input": [],
     "language": "python",
     "metadata": {},
     "outputs": []
    }
   ],
   "metadata": {}
  }
 ]
}