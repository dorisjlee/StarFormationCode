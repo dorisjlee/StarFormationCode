{
 "metadata": {
  "name": "",
  "signature": "sha256:b8989837bc709c0db265be8681d58502fd100305e54c010bb5db86fe1d80c768"
 },
 "nbformat": 3,
 "nbformat_minor": 0,
 "worksheets": [
  {
   "cells": [
    {
     "cell_type": "markdown",
     "metadata": {},
     "source": [
      "# Starting Out and Loading Data\n",
      "\n",
      "We're going to get started by loading up yt.  This next command brings all of the libraries into memory and sets up our environment."
     ]
    },
    {
     "cell_type": "code",
     "collapsed": false,
     "input": [
      "import yt"
     ],
     "language": "python",
     "metadata": {},
     "outputs": [],
     "prompt_number": 1
    },
    {
     "cell_type": "markdown",
     "metadata": {},
     "source": [
      "Now that we've loaded yt, we can load up some data.  Let's load the `IsolatedGalaxy` dataset."
     ]
    },
    {
     "cell_type": "code",
     "collapsed": false,
     "input": [
      "ls"
     ],
     "language": "python",
     "metadata": {},
     "outputs": [
      {
       "output_type": "stream",
       "stream": "stdout",
       "text": [
        "README.md             data.0002.3d.hdf5     test.java\r\n",
        "\u001b[34madvect\u001b[m\u001b[m/               \u001b[34mloop\u001b[m\u001b[m/                 \u001b[34mtube1d\u001b[m\u001b[m/\r\n",
        "analyzing_data.ipynb  test.class            \u001b[34myt\u001b[m\u001b[m/\r\n"
       ]
      }
     ],
     "prompt_number": 2
    },
    {
     "cell_type": "code",
     "collapsed": false,
     "input": [
      "ds = yt.load(\"data.0002.3d.hdf5\")"
     ],
     "language": "python",
     "metadata": {},
     "outputs": [
      {
       "output_type": "stream",
       "stream": "stderr",
       "text": [
        "yt : [WARNING  ] 2015-01-28 22:35:21,367 Setting code length to be 1.0 cm\n"
       ]
      },
      {
       "output_type": "stream",
       "stream": "stderr",
       "text": [
        "yt : [WARNING  ] 2015-01-28 22:35:21,369 Setting code mass to be 1.0 g\n"
       ]
      },
      {
       "output_type": "stream",
       "stream": "stderr",
       "text": [
        "yt : [WARNING  ] 2015-01-28 22:35:21,370 Setting code time to be 1.0 s\n"
       ]
      },
      {
       "output_type": "stream",
       "stream": "stderr",
       "text": [
        "yt : [INFO     ] 2015-01-28 22:35:21,519 Parameters: current_time              = 26355494818.1\n"
       ]
      },
      {
       "output_type": "stream",
       "stream": "stderr",
       "text": [
        "yt : [INFO     ] 2015-01-28 22:35:21,520 Parameters: domain_dimensions         = [128 128 128]\n"
       ]
      },
      {
       "output_type": "stream",
       "stream": "stderr",
       "text": [
        "yt : [INFO     ] 2015-01-28 22:35:21,539 Parameters: domain_left_edge          = [ -1.23427103e+18  -1.23427103e+18  -1.23427103e+18]\n"
       ]
      },
      {
       "output_type": "stream",
       "stream": "stderr",
       "text": [
        "yt : [INFO     ] 2015-01-28 22:35:21,541 Parameters: domain_right_edge         = [  1.23427103e+18   1.23427103e+18   1.23427103e+18]\n"
       ]
      }
     ],
     "prompt_number": 3
    },
    {
     "cell_type": "markdown",
     "metadata": {},
     "source": [
      "## Fields and Facts\n",
      "\n",
      "When you call the `load` function, yt tries to do very little -- this is designed to be a fast operation, just setting up some information about the simulation.  Now, the first time you access the \"index\" it will read and load the mesh and then determine where data is placed in the physical domain and on disk.  Once it knows that, yt can tell you some statistics about the simulation:"
     ]
    },
    {
     "cell_type": "code",
     "collapsed": false,
     "input": [
      "ds.print_stats()"
     ],
     "language": "python",
     "metadata": {},
     "outputs": [
      {
       "output_type": "stream",
       "stream": "stderr",
       "text": [
        "yt : [INFO     ] 2015-01-28 22:36:00,781 Loading field plugins.\n"
       ]
      },
      {
       "output_type": "stream",
       "stream": "stderr",
       "text": [
        "yt : [INFO     ] 2015-01-28 22:36:00,782 Loaded angular_momentum (8 new fields)\n"
       ]
      },
      {
       "output_type": "stream",
       "stream": "stderr",
       "text": [
        "yt : [INFO     ] 2015-01-28 22:36:00,782 Loaded astro (15 new fields)\n"
       ]
      },
      {
       "output_type": "stream",
       "stream": "stderr",
       "text": [
        "yt : [INFO     ] 2015-01-28 22:36:00,783 Loaded cosmology (22 new fields)\n"
       ]
      },
      {
       "output_type": "stream",
       "stream": "stderr",
       "text": [
        "yt : [WARNING  ] 2015-01-28 22:36:00,784 Field ('gas', 'kinetic_energy') already exists. To override use force_override=True.\n"
       ]
      },
      {
       "output_type": "stream",
       "stream": "stderr",
       "text": [
        "yt : [INFO     ] 2015-01-28 22:36:00,785 Loaded fluid (63 new fields)\n"
       ]
      },
      {
       "output_type": "stream",
       "stream": "stderr",
       "text": [
        "yt : [INFO     ] 2015-01-28 22:36:00,786 Loaded fluid_vector (95 new fields)\n"
       ]
      },
      {
       "output_type": "stream",
       "stream": "stderr",
       "text": [
        "yt : [INFO     ] 2015-01-28 22:36:00,788 Loaded geometric (111 new fields)\n"
       ]
      },
      {
       "output_type": "stream",
       "stream": "stderr",
       "text": [
        "yt : [INFO     ] 2015-01-28 22:36:00,798 Loaded local (111 new fields)\n"
       ]
      },
      {
       "output_type": "stream",
       "stream": "stderr",
       "text": [
        "yt : [WARNING  ] 2015-01-28 22:36:00,799 Field ('gas', 'magnetic_energy') already exists. To override use force_override=True.\n"
       ]
      },
      {
       "output_type": "stream",
       "stream": "stderr",
       "text": [
        "yt : [INFO     ] 2015-01-28 22:36:00,820 Loaded magnetic_field (118 new fields)\n"
       ]
      },
      {
       "output_type": "stream",
       "stream": "stderr",
       "text": [
        "yt : [INFO     ] 2015-01-28 22:36:00,851 Loaded my_plugins (118 new fields)\n"
       ]
      },
      {
       "output_type": "stream",
       "stream": "stderr",
       "text": [
        "yt : [INFO     ] 2015-01-28 22:36:00,888 Loaded species (120 new fields)\n"
       ]
      },
      {
       "output_type": "stream",
       "stream": "stdout",
       "text": [
        "level\t# grids\t       # cells\t     # cells^3\n",
        "----------------------------------------------\n",
        "  0\t 32768\t       2097152\t           128\n",
        "  1\t  1210\t       2665600\t           139\n",
        "  2\t  1331\t       2744000\t           140\n",
        "----------------------------------------------\n",
        "   \t 35309\t       7506752\n",
        "\n",
        "\n",
        "t = 2.63554948e+10 = 2.63554948e+10 s = 8.35155234e+02 years\n",
        "\n",
        "Smallest Cell:\n",
        "\tWidth: 1.562e-09 Mpc\n",
        "\tWidth: 1.562e-03 pc\n",
        "\tWidth: 3.223e+02 AU\n",
        "\tWidth: 4.821e+15 cm\n"
       ]
      }
     ],
     "prompt_number": 4
    },
    {
     "cell_type": "heading",
     "level": 1,
     "metadata": {},
     "source": [
      "(*)__ So if I want to know how big this simulation is modelling over I could make a rough estimate based on the level0 grid __"
     ]
    },
    {
     "cell_type": "code",
     "collapsed": false,
     "input": [
      "print \"Each side of the box is minmum {} pcs\".format(1.562e-3*128)"
     ],
     "language": "python",
     "metadata": {},
     "outputs": [
      {
       "output_type": "stream",
       "stream": "stdout",
       "text": [
        "Each side of the box is minmum 0.199936 pcs\n"
       ]
      }
     ],
     "prompt_number": 44
    },
    {
     "cell_type": "markdown",
     "metadata": {},
     "source": [
      "So since dark core is ~ 0.1 pc this makes sense. "
     ]
    },
    {
     "cell_type": "markdown",
     "metadata": {},
     "source": [
      "# (*) What is a grid ?? "
     ]
    },
    {
     "cell_type": "markdown",
     "metadata": {},
     "source": [
      "yt can also tell you the fields it found on disk:"
     ]
    },
    {
     "cell_type": "code",
     "collapsed": false,
     "input": [
      "ds.field_list"
     ],
     "language": "python",
     "metadata": {},
     "outputs": [
      {
       "metadata": {},
       "output_type": "pyout",
       "prompt_number": 5,
       "text": [
        "[('chombo', 'density'),\n",
        " ('chombo', 'X-momentum'),\n",
        " ('chombo', 'tracer3'),\n",
        " ('chombo', 'gravitational-potential'),\n",
        " ('chombo', 'Y-momentum'),\n",
        " ('chombo', 'Z-momentum'),\n",
        " ('chombo', 'X-magnfield'),\n",
        " ('chombo', 'Y-magnfield'),\n",
        " ('chombo', 'Z-magnfield'),\n",
        " ('chombo', 'energy-density'),\n",
        " ('chombo', 'tracer1'),\n",
        " ('chombo', 'tracer2')]"
       ]
      }
     ],
     "prompt_number": 5
    },
    {
     "cell_type": "markdown",
     "metadata": {},
     "source": [
      "And, all of the fields it thinks it knows how to generate:"
     ]
    },
    {
     "cell_type": "code",
     "collapsed": false,
     "input": [
      "ds.derived_field_list"
     ],
     "language": "python",
     "metadata": {},
     "outputs": [
      {
       "metadata": {},
       "output_type": "pyout",
       "prompt_number": 6,
       "text": [
        "[('chombo', 'X-magnfield'),\n",
        " ('chombo', 'X-momentum'),\n",
        " ('chombo', 'Y-magnfield'),\n",
        " ('chombo', 'Y-momentum'),\n",
        " ('chombo', 'Z-magnfield'),\n",
        " ('chombo', 'Z-momentum'),\n",
        " ('chombo', 'density'),\n",
        " ('chombo', 'energy-density'),\n",
        " ('chombo', 'gravitational-potential'),\n",
        " ('chombo', 'tracer1'),\n",
        " ('chombo', 'tracer2'),\n",
        " ('chombo', 'tracer3'),\n",
        " ('gas', 'H_nuclei_density'),\n",
        " ('gas', 'He_nuclei_density'),\n",
        " ('gas', 'alfven_speed'),\n",
        " ('gas', 'angular_momentum_magnitude'),\n",
        " ('gas', 'angular_momentum_x'),\n",
        " ('gas', 'angular_momentum_y'),\n",
        " ('gas', 'angular_momentum_z'),\n",
        " ('gas', 'averaged_density'),\n",
        " ('gas', 'cell_mass'),\n",
        " ('gas', 'cutting_plane_velocity_x'),\n",
        " ('gas', 'cutting_plane_velocity_y'),\n",
        " ('gas', 'cutting_plane_velocity_z'),\n",
        " ('gas', 'cylindrical_radial_velocity'),\n",
        " ('gas', 'cylindrical_radial_velocity_absolute'),\n",
        " ('gas', 'cylindrical_tangential_velocity'),\n",
        " ('gas', 'cylindrical_tangential_velocity_absolute'),\n",
        " ('gas', 'density'),\n",
        " ('gas', 'density_gradient_magnitude'),\n",
        " ('gas', 'density_gradient_x'),\n",
        " ('gas', 'density_gradient_y'),\n",
        " ('gas', 'density_gradient_z'),\n",
        " ('gas', 'dynamical_time'),\n",
        " ('gas', 'energy_density'),\n",
        " ('gas', 'kinetic_energy'),\n",
        " ('gas', 'kinetic_energy_density'),\n",
        " ('gas', 'mach_alfven'),\n",
        " ('gas', 'magnetic_energy'),\n",
        " ('gas', 'magnetic_energy_density'),\n",
        " ('gas', 'magnetic_field_poloidal'),\n",
        " ('gas', 'magnetic_field_strength'),\n",
        " ('gas', 'magnetic_field_toroidal'),\n",
        " ('gas', 'magnetic_field_x'),\n",
        " ('gas', 'magnetic_field_y'),\n",
        " ('gas', 'magnetic_field_z'),\n",
        " ('gas', 'magnetic_pressure'),\n",
        " ('gas', 'momentum_x'),\n",
        " ('gas', 'momentum_y'),\n",
        " ('gas', 'momentum_z'),\n",
        " ('gas', 'radial_velocity'),\n",
        " ('gas', 'radial_velocity_absolute'),\n",
        " ('gas', 'shear'),\n",
        " ('gas', 'specific_angular_momentum_magnitude'),\n",
        " ('gas', 'specific_angular_momentum_x'),\n",
        " ('gas', 'specific_angular_momentum_y'),\n",
        " ('gas', 'specific_angular_momentum_z'),\n",
        " ('gas', 'sz_kinetic'),\n",
        " ('gas', 'tangential_over_velocity_magnitude'),\n",
        " ('gas', 'tangential_velocity'),\n",
        " ('gas', 'thermal_energy'),\n",
        " ('gas', 'thermal_energy_density'),\n",
        " ('gas', 'velocity_cylindrical_radius'),\n",
        " ('gas', 'velocity_cylindrical_theta'),\n",
        " ('gas', 'velocity_cylindrical_z'),\n",
        " ('gas', 'velocity_divergence'),\n",
        " ('gas', 'velocity_divergence_absolute'),\n",
        " ('gas', 'velocity_magnitude'),\n",
        " ('gas', 'velocity_spherical_phi'),\n",
        " ('gas', 'velocity_spherical_radius'),\n",
        " ('gas', 'velocity_spherical_theta'),\n",
        " ('gas', 'velocity_x'),\n",
        " ('gas', 'velocity_y'),\n",
        " ('gas', 'velocity_z'),\n",
        " ('gas', 'vorticity_magnitude'),\n",
        " ('gas', 'vorticity_squared'),\n",
        " ('gas', 'vorticity_stretching_magnitude'),\n",
        " ('gas', 'vorticity_stretching_x'),\n",
        " ('gas', 'vorticity_stretching_y'),\n",
        " ('gas', 'vorticity_stretching_z'),\n",
        " ('gas', 'vorticity_x'),\n",
        " ('gas', 'vorticity_y'),\n",
        " ('gas', 'vorticity_z'),\n",
        " ('index', 'cell_volume'),\n",
        " ('index', 'cylindrical_r'),\n",
        " ('index', 'cylindrical_radius'),\n",
        " ('index', 'cylindrical_theta'),\n",
        " ('index', 'cylindrical_z'),\n",
        " ('index', 'disk_angle'),\n",
        " ('index', 'dx'),\n",
        " ('index', 'dy'),\n",
        " ('index', 'dz'),\n",
        " ('index', 'grid_indices'),\n",
        " ('index', 'grid_level'),\n",
        " ('index', 'height'),\n",
        " ('index', 'ones'),\n",
        " ('index', 'ones_over_dx'),\n",
        " ('index', 'path_element_x'),\n",
        " ('index', 'path_element_y'),\n",
        " ('index', 'path_element_z'),\n",
        " ('index', 'radius'),\n",
        " ('index', 'spherical_phi'),\n",
        " ('index', 'spherical_r'),\n",
        " ('index', 'spherical_radius'),\n",
        " ('index', 'spherical_theta'),\n",
        " ('index', 'virial_radius_fraction'),\n",
        " ('index', 'x'),\n",
        " ('index', 'y'),\n",
        " ('index', 'z'),\n",
        " ('index', 'zeros')]"
       ]
      }
     ],
     "prompt_number": 6
    },
    {
     "cell_type": "markdown",
     "metadata": {},
     "source": [
      "yt can also ___transparently generate fields__(*).  However, we encourage you to examine exactly what yt is doing when it generates those fields.  To see, you can ask for the source of a given field."
     ]
    },
    {
     "cell_type": "code",
     "collapsed": false,
     "input": [
      "print ds.field_info[\"gas\", \"vorticity_x\"].get_source()"
     ],
     "language": "python",
     "metadata": {},
     "outputs": [
      {
       "output_type": "stream",
       "stream": "stdout",
       "text": [
        "    def _vorticity_x(field, data):\n",
        "        f  = (data[ftype, \"velocity_z\"][sl_center,sl_right,sl_center] -\n",
        "              data[ftype, \"velocity_z\"][sl_center,sl_left,sl_center]) \\\n",
        "              / (div_fac*just_one(data[\"index\", \"dy\"]).in_cgs())\n",
        "        f -= (data[ftype, \"velocity_y\"][sl_center,sl_center,sl_right] -\n",
        "              data[ftype, \"velocity_y\"][sl_center,sl_center,sl_left]) \\\n",
        "              / (div_fac*just_one(data[\"index\", \"dz\"].in_cgs()))\n",
        "        new_field = data.ds.arr(np.zeros_like(data[ftype, \"velocity_z\"],\n",
        "                                              dtype=np.float64),\n",
        "                                f.units)\n",
        "        new_field[sl_center, sl_center, sl_center] = f\n",
        "        return new_field\n",
        "\n"
       ]
      }
     ],
     "prompt_number": 7
    },
    {
     "cell_type": "markdown",
     "metadata": {},
     "source": [
      "yt stores information about the domain of the simulation:"
     ]
    },
    {
     "cell_type": "markdown",
     "metadata": {},
     "source": [
      "#(*) What does it mean by the \"domain\" of the simulation? "
     ]
    },
    {
     "cell_type": "code",
     "collapsed": false,
     "input": [
      "print ds.domain_width"
     ],
     "language": "python",
     "metadata": {},
     "outputs": [
      {
       "output_type": "stream",
       "stream": "stdout",
       "text": [
        "[  2.46854206e+18   2.46854206e+18   2.46854206e+18] code_length\n"
       ]
      }
     ],
     "prompt_number": 8
    },
    {
     "cell_type": "markdown",
     "metadata": {},
     "source": [
      "yt can also convert this into various units:"
     ]
    },
    {
     "cell_type": "code",
     "collapsed": false,
     "input": [
      "# print ds.domain_width.in_units(\"kpc\")\n",
      "print ds.domain_width.in_units(\"pc\")\n",
      "print ds.domain_width.in_units(\"au\")\n",
      "print ds.domain_width.in_units(\"mile\")"
     ],
     "language": "python",
     "metadata": {},
     "outputs": [
      {
       "output_type": "stream",
       "stream": "stdout",
       "text": [
        "[ 0.8  0.8  0.8] pc\n",
        "[ 165011.84459454  165011.84459454  165011.84459454] au\n",
        "[  1.53388474e+13   1.53388474e+13   1.53388474e+13] mile\n"
       ]
      }
     ],
     "prompt_number": 24
    },
    {
     "cell_type": "markdown",
     "metadata": {},
     "source": [
      "# Mesh Structure\n",
      "\n",
      "If you're using a simulation type that has grids (for instance, here we're using an Enzo simulation) you can examine the structure of the mesh.  For the most part, you probably won't have to use this unless you're debugging a simulation or examining in detail what is going on."
     ]
    },
    {
     "cell_type": "code",
     "collapsed": false,
     "input": [
      "print ds.index.grid_left_edge"
     ],
     "language": "python",
     "metadata": {},
     "outputs": [
      {
       "output_type": "stream",
       "stream": "stdout",
       "text": [
        "[[ -1.23427103e+18  -1.23427103e+18  -1.23427103e+18]\n",
        " [ -1.23427103e+18  -1.23427103e+18  -1.15712909e+18]\n",
        " [ -1.23427103e+18  -1.23427103e+18  -1.07998715e+18]\n",
        " ..., \n",
        " [  2.89282273e+17   2.89282273e+17   1.73569364e+17]\n",
        " [  2.89282273e+17   2.89282273e+17   2.50711303e+17]\n",
        " [  2.89282273e+17   2.89282273e+17   2.89282273e+17]] code_length\n"
       ]
      }
     ],
     "prompt_number": 25
    },
    {
     "cell_type": "markdown",
     "metadata": {},
     "source": [
      "But, you may have to access information about individual grid objects!  Each grid object mediates accessing data from the disk and has a number of attributes that tell you about it.  The index (`ds.index` here) has an attribute `grids` which is all of the grid objects."
     ]
    },
    {
     "cell_type": "code",
     "collapsed": false,
     "input": [
      "print ds.index.grids[1]"
     ],
     "language": "python",
     "metadata": {},
     "outputs": [
      {
       "output_type": "stream",
       "stream": "stdout",
       "text": [
        "AMRGridPatch_0001\n"
       ]
      }
     ],
     "prompt_number": 26
    },
    {
     "cell_type": "code",
     "collapsed": false,
     "input": [
      "g = ds.index.grids[1]\n",
      "print g"
     ],
     "language": "python",
     "metadata": {},
     "outputs": [
      {
       "output_type": "stream",
       "stream": "stdout",
       "text": [
        "AMRGridPatch_0001\n"
       ]
      }
     ],
     "prompt_number": 27
    },
    {
     "cell_type": "markdown",
     "metadata": {},
     "source": [
      "Grids have dimensions, extents, level, and even a list of Child grids."
     ]
    },
    {
     "cell_type": "code",
     "collapsed": false,
     "input": [
      "g.ActiveDimensions"
     ],
     "language": "python",
     "metadata": {},
     "outputs": [
      {
       "metadata": {},
       "output_type": "pyout",
       "prompt_number": 28,
       "text": [
        "array([4, 4, 4], dtype=int32)"
       ]
      }
     ],
     "prompt_number": 28
    },
    {
     "cell_type": "code",
     "collapsed": false,
     "input": [
      "g.LeftEdge, g.RightEdge"
     ],
     "language": "python",
     "metadata": {},
     "outputs": [
      {
       "metadata": {},
       "output_type": "pyout",
       "prompt_number": 29,
       "text": [
        "(YTArray([ -1.23427103e+18,  -1.23427103e+18,  -1.15712909e+18]) code_length,\n",
        " YTArray([ -1.15712909e+18,  -1.15712909e+18,  -1.07998715e+18]) code_length)"
       ]
      }
     ],
     "prompt_number": 29
    },
    {
     "cell_type": "code",
     "collapsed": false,
     "input": [
      "g.Level"
     ],
     "language": "python",
     "metadata": {},
     "outputs": [
      {
       "metadata": {},
       "output_type": "pyout",
       "prompt_number": 30,
       "text": [
        "0"
       ]
      }
     ],
     "prompt_number": 30
    },
    {
     "cell_type": "code",
     "collapsed": false,
     "input": [
      "g.Children"
     ],
     "language": "python",
     "metadata": {},
     "outputs": [
      {
       "metadata": {},
       "output_type": "pyout",
       "prompt_number": 31,
       "text": [
        "[]"
       ]
      }
     ],
     "prompt_number": 31
    },
    {
     "cell_type": "markdown",
     "metadata": {},
     "source": [
      "## Advanced Grid Inspection\n",
      "\n",
      "If we want to examine grids only at a given level, we can!  Not only that, but we can load data and take a look at various fields.\n",
      "\n",
      "*This section can be skipped!*"
     ]
    },
    {
     "cell_type": "code",
     "collapsed": false,
     "input": [
      "gs = ds.index.select_grids(ds.index.max_level)"
     ],
     "language": "python",
     "metadata": {},
     "outputs": [],
     "prompt_number": 17
    },
    {
     "cell_type": "code",
     "collapsed": false,
     "input": [
      "g2 = gs[0]\n",
      "print g2\n",
      "print g2.Parent\n",
      "print g2.get_global_startindex()"
     ],
     "language": "python",
     "metadata": {},
     "outputs": [
      {
       "output_type": "stream",
       "stream": "stdout",
       "text": [
        "AMRGridPatch_33978\n",
        "[AMRGridPatch_33034, AMRGridPatch_33035, AMRGridPatch_33045, AMRGridPatch_33046]\n",
        "[188 188 188]\n"
       ]
      }
     ],
     "prompt_number": 18
    },
    {
     "cell_type": "code",
     "collapsed": false,
     "input": [
      "print g2[\"density\"][:,:,0]"
     ],
     "language": "python",
     "metadata": {},
     "outputs": [
      {
       "output_type": "stream",
       "stream": "stdout",
       "text": [
        "[[  6.14111656e-19   6.18758667e-19   6.17068198e-19   6.16566013e-19\n",
        "    6.21148508e-19   6.25777616e-19   6.33257912e-19   6.38616901e-19\n",
        "    6.44555975e-19   6.48838769e-19   6.52607161e-19   6.54651356e-19]\n",
        " [  6.41991505e-19   6.41638322e-19   6.45689742e-19   6.48090723e-19\n",
        "    6.50956106e-19   6.52758871e-19   6.58477827e-19   6.63712209e-19\n",
        "    6.69223505e-19   6.71885110e-19   6.77733126e-19   6.80118292e-19]\n",
        " [  6.73587716e-19   6.72888595e-19   6.68427710e-19   6.73547109e-19\n",
        "    6.77337247e-19   6.80439303e-19   6.89320463e-19   6.94270016e-19\n",
        "    6.94105557e-19   7.04859962e-19   7.08317783e-19   7.13468629e-19]\n",
        " [  6.97712293e-19   6.95915901e-19   7.00420398e-19   7.00402123e-19\n",
        "    7.06548042e-19   7.08229537e-19   7.20561783e-19   7.28089358e-19\n",
        "    7.34798678e-19   7.40744972e-19   7.46884497e-19   7.47273241e-19]\n",
        " [  7.49440007e-19   7.38338482e-19   7.44567556e-19   7.42598038e-19\n",
        "    7.39063344e-19   7.52186361e-19   7.58264912e-19   7.66083619e-19\n",
        "    7.74896824e-19   7.76112105e-19   7.78212604e-19   7.82995656e-19]\n",
        " [  7.79512691e-19   7.80693844e-19   7.83660286e-19   7.83606847e-19\n",
        "    7.89099202e-19   7.91509300e-19   7.95513945e-19   7.99420342e-19\n",
        "    8.04273454e-19   8.07967187e-19   8.09896409e-19   8.15936458e-19]\n",
        " [  8.36621562e-19   8.31299621e-19   8.21401272e-19   8.23763987e-19\n",
        "    8.28888920e-19   8.22205860e-19   8.29247628e-19   8.37042446e-19\n",
        "    8.42550299e-19   8.44978132e-19   8.50862462e-19   8.55882962e-19]\n",
        " [  8.70122952e-19   8.62140964e-19   8.50288480e-19   8.53658694e-19\n",
        "    8.59512780e-19   8.65312086e-19   8.64039860e-19   8.68854974e-19\n",
        "    8.78201232e-19   8.85397560e-19   8.90439054e-19   8.91977912e-19]\n",
        " [  9.12459451e-19   9.03107886e-19   9.00639426e-19   8.89591799e-19\n",
        "    8.89776055e-19   8.95155193e-19   8.99881926e-19   9.03755030e-19\n",
        "    9.11062471e-19   9.16733777e-19   9.21525919e-19   9.24874459e-19]\n",
        " [  9.51440917e-19   9.45082870e-19   9.42525824e-19   9.39489188e-19\n",
        "    9.25236073e-19   9.23785356e-19   9.28505974e-19   9.32625201e-19\n",
        "    9.36704829e-19   9.40785421e-19   9.47946824e-19   9.51721104e-19]\n",
        " [  1.00016948e-18   9.91246052e-19   9.80139537e-19   9.68633578e-19\n",
        "    9.66997505e-19   9.60675919e-19   9.61835487e-19   9.63682383e-19\n",
        "    9.70455099e-19   9.76522116e-19   9.77727129e-19   9.81881085e-19]\n",
        " [  1.03482966e-18   1.01801606e-18   1.00465551e-18   1.00181872e-18\n",
        "    9.97190929e-19   9.94360734e-19   9.87643704e-19   9.88544451e-19\n",
        "    9.95227694e-19   9.98114315e-19   1.00375659e-18   1.00816772e-18]] g/cm**3\n"
       ]
      }
     ],
     "prompt_number": 19
    },
    {
     "cell_type": "code",
     "collapsed": false,
     "input": [
      "for f in ds.field_list:\n",
      "    fv = g[f]\n",
      "    if fv.size == 0: continue\n",
      "    print f, fv.min(), fv.max()"
     ],
     "language": "python",
     "metadata": {},
     "outputs": [
      {
       "output_type": "stream",
       "stream": "stdout",
       "text": [
        "('chombo', 'density') 2.06737884379e-20 code_mass/code_length**3 2.37745304554e-20 code_mass/code_length**3\n",
        "('chombo', 'X-momentum') 2.05509884542e-15 code_mass/(code_length**2*code_time) 2.38335618094e-15 code_mass/(code_length**2*code_time)\n",
        "('chombo', 'tracer3') 2.05509884542e-15 dimensionless 2.38335618094e-15 dimensionless\n",
        "('chombo', 'gravitational-potential') 2.05509884542e-15 dimensionless 2.38335618094e-15 dimensionless\n",
        "('chombo', 'Y-momentum') 2.06178251302e-15 code_mass/(code_length**2*code_time) 2.38805532318e-15 code_mass/(code_length**2*code_time)\n",
        "('chombo', 'Z-momentum') 2.06792176045e-15 code_mass/(code_length**2*code_time) 2.3910924422e-15 code_mass/(code_length**2*code_time)\n",
        "('chombo', 'X-magnfield') 0.0 gauss 0.0 gauss\n",
        "('chombo', 'Y-magnfield') 0.0 gauss 0.0 gauss\n",
        "('chombo', 'Z-magnfield') 0.0 gauss 0.0 gauss\n",
        "('chombo', 'energy-density') 2.97354724238e-10 code_mass/(code_length*code_time**2) 3.80810951097e-10 code_mass/(code_length*code_time**2)\n",
        "('chombo', 'tracer1') 2.06737884379e-20 dimensionless 2.37745304554e-20 dimensionless\n",
        "('chombo', 'tracer2') 2.06143034952e-15 dimensionless 2.3860316548e-15 dimensionless\n"
       ]
      }
     ],
     "prompt_number": 33
    },
    {
     "cell_type": "markdown",
     "metadata": {},
     "source": [
      "# Examining Data in Regions\n",
      "\n",
      "yt provides data object selectors.  In subsequent notebooks we'll examine these in more detail, but we can select a sphere of data and perform a number of operations on it.  yt makes it easy to operate on fluid fields in an object in *bulk*, but you can also examine individual field values.\n",
      "\n",
      "This creates a sphere selector positioned at the most dense point in the simulation that has a radius of ~~10 kpc~~ (this is too big for our simulation)"
     ]
    },
    {
     "cell_type": "markdown",
     "metadata": {},
     "source": [
      "#(*)This is probably the densest core region "
     ]
    },
    {
     "cell_type": "code",
     "collapsed": false,
     "input": [
      "sp = ds.sphere(\"max\", (10, 'kpc'))"
     ],
     "language": "python",
     "metadata": {},
     "outputs": [
      {
       "output_type": "stream",
       "stream": "stderr",
       "text": [
        "yt : [INFO     ] 2015-01-28 22:54:35,508 Max Value is 1.66903e-16 at -16874799238281248.0000000000000000 -26517541660156248.0000000000000000 -7232056816406248.0000000000000000\n"
       ]
      }
     ],
     "prompt_number": 34
    },
    {
     "cell_type": "code",
     "collapsed": false,
     "input": [
      "print sp"
     ],
     "language": "python",
     "metadata": {},
     "outputs": [
      {
       "output_type": "stream",
       "stream": "stdout",
       "text": [
        "YTSphere (data.0002.3d.hdf5): center=[ -1.68747992e+16  -2.65175417e+16  -7.23205682e+15] code_length, radius=10.0 kpc\n"
       ]
      }
     ],
     "prompt_number": 23
    },
    {
     "cell_type": "markdown",
     "metadata": {},
     "source": [
      "We can calculate a bunch of bulk quantities.  Here's that list, but there's a list in the docs, too!"
     ]
    },
    {
     "cell_type": "code",
     "collapsed": false,
     "input": [
      "print sp.quantities.keys()"
     ],
     "language": "python",
     "metadata": {},
     "outputs": [
      {
       "output_type": "stream",
       "stream": "stdout",
       "text": [
        "['SpinParameter', 'MinLocation', 'WeightedVariance', 'TotalMass', 'AngularMomentumVector', 'WeightedAverageQuantity', 'TotalQuantity', 'CenterOfMass', 'BulkVelocity', 'Extrema', 'MaxLocation']\n"
       ]
      }
     ],
     "prompt_number": 20
    },
    {
     "cell_type": "markdown",
     "metadata": {},
     "source": [
      "Let's look at the total mass.  This is how you call a given quantity.  yt calls these \"Derived Quantities\".  We'll talk about a few in a later notebook."
     ]
    },
    {
     "cell_type": "code",
     "collapsed": false,
     "input": [
      "print sp.quantities.total_mass()"
     ],
     "language": "python",
     "metadata": {},
     "outputs": [
      {
       "output_type": "stream",
       "stream": "stdout",
       "text": [
        "[3.27209034824e+42 g, 8.58102338351e+43 g]\n"
       ]
      }
     ],
     "prompt_number": 21
    },
    {
     "cell_type": "code",
     "collapsed": false,
     "input": [],
     "language": "python",
     "metadata": {},
     "outputs": []
    }
   ],
   "metadata": {}
  }
 ]
}