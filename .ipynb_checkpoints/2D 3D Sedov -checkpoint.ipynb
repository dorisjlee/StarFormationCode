{
 "metadata": {
  "name": "",
  "signature": "sha256:3f18a57e70277aba709e56cd8e17c6d53b1fe41fe14dda05f38323df3b19d577"
 },
 "nbformat": 3,
 "nbformat_minor": 0,
 "worksheets": [
  {
   "cells": [
    {
     "cell_type": "code",
     "collapsed": false,
     "input": [
      "%pylab inline\n",
      "import yt\n",
      "from yt import *"
     ],
     "language": "python",
     "metadata": {},
     "outputs": [
      {
       "output_type": "stream",
       "stream": "stdout",
       "text": [
        "Populating the interactive namespace from numpy and matplotlib\n"
       ]
      }
     ],
     "prompt_number": 1
    },
    {
     "cell_type": "heading",
     "level": 1,
     "metadata": {},
     "source": [
      "Sedov 2D "
     ]
    },
    {
     "cell_type": "code",
     "collapsed": false,
     "input": [
      "cd ../data/output_00001_sedov2d/"
     ],
     "language": "python",
     "metadata": {},
     "outputs": [
      {
       "output_type": "stream",
       "stream": "stdout",
       "text": [
        "/Users/dorislee/Desktop/StarFormation/data/output_00001_sedov2d\n"
       ]
      }
     ],
     "prompt_number": 5
    },
    {
     "cell_type": "markdown",
     "metadata": {},
     "source": [
      "From the RAMSES Manual"
     ]
    },
    {
     "cell_type": "markdown",
     "metadata": {},
     "source": [
      "Following the tutorial here : http://hipacc.ucsc.edu/html/ramses_project_1.pdf"
     ]
    },
    {
     "cell_type": "markdown",
     "metadata": {},
     "source": [
      "SOLVER=hydro\n",
      "\n",
      "This parameter selects the type of hyperbolic solver used. Possible values are: hydro for the adiabatic Euler equations, mhd, the Constrained Transport scheme for the ideal MHD equations. and rhd for relativistic hydro.\n",
      "\n",
      "NVAR=8\n",
      "\n",
      "This parameters defines the number of variables in the hyperbolic solver. For SOLVER=hydro, NVAR>=NDIM+2. For SOLVER=mhd, NVAR>=8 and for SOLVER=rhd, one has NVAR>=5."
     ]
    },
    {
     "cell_type": "markdown",
     "metadata": {},
     "source": [
      "- On edison in order to compile, use ``% module swap PrgEnv-intel PrgEnv-gnu``to access the gnu compilers (including gfortran)"
     ]
    },
    {
     "cell_type": "markdown",
     "metadata": {},
     "source": [
      "Do I get the same result if I used a hydro solver versus a mhd solver (?)"
     ]
    },
    {
     "cell_type": "markdown",
     "metadata": {},
     "source": [
      "``make NDIM=2 SOLVER=mhd NVAR=8``"
     ]
    },
    {
     "cell_type": "markdown",
     "metadata": {},
     "source": [
      "Since MPI can only be ran on the qsub interactive system, I needed to get my own node to compile with the MPI option \n",
      "\n",
      "`` qsub -I ``\n",
      "\n",
      "Uncomment the ifortran ftn option\n",
      "\n",
      "``# --- MPI, ifort syntax ------------------------------\n",
      "F90 = ftn\n",
      "FFLAGS = -xAVX -g -traceback -fpp -fast $(DEFINES) -DNOSYSTEM #-DRT ``\n",
      "\n",
      "\n",
      "`` aprun -n 8 ramses2d ../namelist/sedov2d.nml `` \n",
      "This is running much faster than I did without the parallelism (which was about 2 minutes) \n",
      "\n",
      "Total elapsed time:   30.4135088920593     \n",
      "Application 11318215 resources: utime ~236s, stime ~2s, Rss ~93868, inblocks ~9689, outblocks: ~38693"
     ]
    },
    {
     "cell_type": "markdown",
     "metadata": {},
     "source": [
      "After compiling code in utils/f90 :\n",
      "``./amr2map -inp ~/StarFormationCode/output_00001_sedov2d/ -out dens.map -typ 1 -nx 512 -ny 512 -fil ascii``"
     ]
    },
    {
     "cell_type": "markdown",
     "metadata": {},
     "source": [
      "Need to use X11 forward"
     ]
    },
    {
     "cell_type": "code",
     "collapsed": false,
     "input": [
      "dens = np.loadtxt(\"../../StarFormationCode/dens.map\")\n",
      "plt.imshow(dens)"
     ],
     "language": "python",
     "metadata": {},
     "outputs": [
      {
       "metadata": {},
       "output_type": "pyout",
       "prompt_number": 3,
       "text": [
        "<matplotlib.image.AxesImage at 0x10b023990>"
       ]
      },
      {
       "metadata": {},
       "output_type": "display_data",
       "png": "[encoded data removed]",
       "text": [
        "<matplotlib.figure.Figure at 0x10648b0d0>"
       ]
      }
     ],
     "prompt_number": 3
    },
    {
     "cell_type": "code",
     "collapsed": false,
     "input": [
      "cd ../../data/output_00002_sedov2d/"
     ],
     "language": "python",
     "metadata": {},
     "outputs": [
      {
       "output_type": "stream",
       "stream": "stdout",
       "text": [
        "/Users/dorislee/Desktop/StarFormation/data/output_00002_sedov2d\n"
       ]
      }
     ],
     "prompt_number": 7
    },
    {
     "cell_type": "code",
     "collapsed": false,
     "input": [
      "ls"
     ],
     "language": "python",
     "metadata": {},
     "outputs": [
      {
       "output_type": "stream",
       "stream": "stdout",
       "text": [
        "amr_00002.out00001    amr_00002.out00007    hydro_00002.out00003  info_00002.txt\r\n",
        "amr_00002.out00002    amr_00002.out00008    hydro_00002.out00004  makefile.txt\r\n",
        "amr_00002.out00003    compilation.txt       hydro_00002.out00005  namelist.txt\r\n",
        "amr_00002.out00004    header_00002.txt      hydro_00002.out00006  patches.txt\r\n",
        "amr_00002.out00005    hydro_00002.out00001  hydro_00002.out00007\r\n",
        "amr_00002.out00006    hydro_00002.out00002  hydro_00002.out00008\r\n"
       ]
      }
     ],
     "prompt_number": 10
    },
    {
     "cell_type": "code",
     "collapsed": false,
     "input": [
      "# ds = yt.load(\"info_00002.txt\")\n",
      "# dsa = ds.all_data()"
     ],
     "language": "python",
     "metadata": {},
     "outputs": [],
     "prompt_number": 64
    },
    {
     "cell_type": "code",
     "collapsed": false,
     "input": [
      "# dsa.field_data\n",
      "# ds.field_list # Runtime Error? "
     ],
     "language": "python",
     "metadata": {},
     "outputs": [],
     "prompt_number": 63
    },
    {
     "cell_type": "code",
     "collapsed": false,
     "input": [
      "# p = yt.ProjectionPlot(ds, \"y\", \"density\")\n",
      "# p.show()"
     ],
     "language": "python",
     "metadata": {},
     "outputs": [],
     "prompt_number": 62
    },
    {
     "cell_type": "heading",
     "level": 4,
     "metadata": {},
     "source": [
      "RAMSES 2D output  not supported in yt "
     ]
    },
    {
     "cell_type": "heading",
     "level": 1,
     "metadata": {},
     "source": [
      "Sedov 3D "
     ]
    },
    {
     "cell_type": "markdown",
     "metadata": {},
     "source": [
      "Newly mounted sshfs"
     ]
    },
    {
     "cell_type": "code",
     "collapsed": false,
     "input": [
      "# cd ../../scratch/"
     ],
     "language": "python",
     "metadata": {},
     "outputs": [],
     "prompt_number": 2
    },
    {
     "cell_type": "code",
     "collapsed": false,
     "input": [
      "cd ../../scratch2/"
     ],
     "language": "python",
     "metadata": {},
     "outputs": [
      {
       "output_type": "stream",
       "stream": "stdout",
       "text": [
        "/Users/dorislee/Desktop/scratch2\n"
       ]
      }
     ],
     "prompt_number": 4
    },
    {
     "cell_type": "code",
     "collapsed": false,
     "input": [
      "ls"
     ],
     "language": "python",
     "metadata": {},
     "outputs": [
      {
       "output_type": "stream",
       "stream": "stdout",
       "text": [
        "\u001b[30m\u001b[43m1000_core_test\u001b[m\u001b[m/ \u001b[34mopenmp\u001b[m\u001b[m/         \u001b[34mramses\u001b[m\u001b[m/         \u001b[34mrun\u001b[m\u001b[m/\r\n",
        "\u001b[34mmpi\u001b[m\u001b[m/            \u001b[34moutput_00001\u001b[m\u001b[m/   \u001b[30m\u001b[43mramses_data\u001b[m\u001b[m/\r\n"
       ]
      }
     ],
     "prompt_number": 5
    },
    {
     "cell_type": "code",
     "collapsed": false,
     "input": [
      "ds = yt.load(\"1000_core_test/output_00001/info_00001.txt\")"
     ],
     "language": "python",
     "metadata": {},
     "outputs": [
      {
       "output_type": "stream",
       "stream": "stderr",
       "text": [
        "yt : [INFO     ] 2015-04-17 07:31:33,861 Parameters: current_time              = 0.0\n"
       ]
      },
      {
       "output_type": "stream",
       "stream": "stderr",
       "text": [
        "yt : [INFO     ] 2015-04-17 07:31:33,861 Parameters: domain_dimensions         = [256 256 256]\n"
       ]
      },
      {
       "output_type": "stream",
       "stream": "stderr",
       "text": [
        "yt : [INFO     ] 2015-04-17 07:31:33,862 Parameters: domain_left_edge          = [ 0.  0.  0.]\n"
       ]
      },
      {
       "output_type": "stream",
       "stream": "stderr",
       "text": [
        "yt : [INFO     ] 2015-04-17 07:31:33,863 Parameters: domain_right_edge         = [ 1.  1.  1.]\n"
       ]
      },
      {
       "output_type": "stream",
       "stream": "stderr",
       "text": [
        "yt : [INFO     ] 2015-04-17 07:31:33,864 Parameters: cosmological_simulation   = 1\n"
       ]
      },
      {
       "output_type": "stream",
       "stream": "stderr",
       "text": [
        "yt : [INFO     ] 2015-04-17 07:31:33,864 Parameters: current_redshift          = 0.0\n"
       ]
      },
      {
       "output_type": "stream",
       "stream": "stderr",
       "text": [
        "yt : [INFO     ] 2015-04-17 07:31:33,865 Parameters: omega_lambda              = 0.0\n"
       ]
      },
      {
       "output_type": "stream",
       "stream": "stderr",
       "text": [
        "yt : [INFO     ] 2015-04-17 07:31:33,865 Parameters: omega_matter              = 1.0\n"
       ]
      },
      {
       "output_type": "stream",
       "stream": "stderr",
       "text": [
        "yt : [INFO     ] 2015-04-17 07:31:33,865 Parameters: hubble_constant           = 0.01\n"
       ]
      }
     ],
     "prompt_number": 6
    },
    {
     "cell_type": "code",
     "collapsed": false,
     "input": [],
     "language": "python",
     "metadata": {},
     "outputs": []
    },
    {
     "cell_type": "heading",
     "level": 4,
     "metadata": {},
     "source": [
      "This can now be loaded,so the reason why I had trouble loading the previous time was the run was incomplete (got kicked off the node after 30 minute during runtime.)"
     ]
    },
    {
     "cell_type": "code",
     "collapsed": false,
     "input": [
      "# print ds.field_list"
     ],
     "language": "python",
     "metadata": {},
     "outputs": [],
     "prompt_number": 7
    },
    {
     "cell_type": "code",
     "collapsed": false,
     "input": [
      "p = yt.ProjectionPlot(ds, \"x\", \"density\")\n",
      "p.show()"
     ],
     "language": "python",
     "metadata": {},
     "outputs": []
    },
    {
     "cell_type": "code",
     "collapsed": false,
     "input": [
      "yt.SlicePlot(ds, 'x', \"density\", width = (10.00, 'pc'))"
     ],
     "language": "python",
     "metadata": {},
     "outputs": [
      {
       "output_type": "stream",
       "stream": "stderr",
       "text": [
        "yt : [INFO     ] 2015-03-27 20:04:21,799 xlim = -30856775809623244800.000000 30856775809623244800.000000\n"
       ]
      },
      {
       "output_type": "stream",
       "stream": "stderr",
       "text": [
        "yt : [INFO     ] 2015-03-27 20:04:21,799 ylim = -30856775809623244800.000000 30856775809623244800.000000\n"
       ]
      },
      {
       "output_type": "stream",
       "stream": "stderr",
       "text": [
        "yt : [INFO     ] 2015-03-27 20:04:21,800 Making a fixed resolution buffer of (('gas', 'density')) 800 by 800\n"
       ]
      },
      {
       "output_type": "stream",
       "stream": "stderr",
       "text": [
        "yt : [INFO     ] 2015-03-27 20:04:22,097 xlim = -30856775809623244800.000000 30856775809623244800.000000\n"
       ]
      },
      {
       "output_type": "stream",
       "stream": "stderr",
       "text": [
        "yt : [INFO     ] 2015-03-27 20:04:22,098 ylim = -30856775809623244800.000000 30856775809623244800.000000\n"
       ]
      },
      {
       "output_type": "stream",
       "stream": "stderr",
       "text": [
        "yt : [INFO     ] 2015-03-27 20:04:22,099 Making a fixed resolution buffer of (('gas', 'density')) 800 by 800\n"
       ]
      },
      {
       "output_type": "stream",
       "stream": "stderr",
       "text": [
        "yt : [INFO     ] 2015-03-27 20:04:22,105 Making a fixed resolution buffer of (('gas', 'density')) 800 by 800\n"
       ]
      },
      {
       "output_type": "stream",
       "stream": "stderr",
       "text": [
        "yt : [WARNING  ] 2015-03-27 20:04:22,124 Plot image for field ('gas', 'density') has zero dynamic range. Min = Max = 0.000000.\n"
       ]
      },
      {
       "output_type": "stream",
       "stream": "stderr",
       "text": [
        "yt : [WARNING  ] 2015-03-27 20:04:22,124 Switching to linear colorbar scaling.\n"
       ]
      },
      {
       "html": [
        "<img src=\"data:image/png;base64,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\"><br>"
       ],
       "metadata": {},
       "output_type": "pyout",
       "prompt_number": 15,
       "text": [
        "<yt.visualization.plot_window.AxisAlignedSlicePlot at 0x11cbfd250>"
       ]
      }
     ],
     "prompt_number": 15
    },
    {
     "cell_type": "heading",
     "level": 1,
     "metadata": {},
     "source": [
      "RAMSES Example Data "
     ]
    },
    {
     "cell_type": "code",
     "collapsed": false,
     "input": [
      "cd ../../StarFormation/data/output_00080/"
     ],
     "language": "python",
     "metadata": {},
     "outputs": [
      {
       "output_type": "stream",
       "stream": "stdout",
       "text": [
        "/Users/dorislee/Desktop/StarFormation/data/output_00080\n"
       ]
      }
     ],
     "prompt_number": 36
    },
    {
     "cell_type": "code",
     "collapsed": false,
     "input": [
      "from yt.mods import *"
     ],
     "language": "python",
     "metadata": {},
     "outputs": [],
     "prompt_number": 42
    },
    {
     "cell_type": "code",
     "collapsed": false,
     "input": [
      "ds = load(\"info_00080.txt\")"
     ],
     "language": "python",
     "metadata": {},
     "outputs": [],
     "prompt_number": 44
    },
    {
     "cell_type": "code",
     "collapsed": false,
     "input": [
      "yt.SlicePlot(ds, 'z', 'density')"
     ],
     "language": "python",
     "metadata": {},
     "outputs": [
      {
       "output_type": "stream",
       "stream": "stderr",
       "text": [
        "yt : [INFO     ] 2015-04-11 21:06:06,696 xlim = 0.000000 1.000000\n"
       ]
      },
      {
       "output_type": "stream",
       "stream": "stderr",
       "text": [
        "yt : [INFO     ] 2015-04-11 21:06:06,697 ylim = 0.000000 1.000000\n"
       ]
      },
      {
       "output_type": "stream",
       "stream": "stderr",
       "text": [
        "yt : [INFO     ] 2015-04-11 21:06:06,698 Making a fixed resolution buffer of (('gas', 'density')) 800 by 800\n"
       ]
      },
      {
       "output_type": "stream",
       "stream": "stderr",
       "text": [
        "yt : [INFO     ] 2015-04-11 21:06:06,722 xlim = 0.000000 1.000000\n"
       ]
      },
      {
       "output_type": "stream",
       "stream": "stderr",
       "text": [
        "yt : [INFO     ] 2015-04-11 21:06:06,722 ylim = 0.000000 1.000000\n"
       ]
      },
      {
       "output_type": "stream",
       "stream": "stderr",
       "text": [
        "yt : [INFO     ] 2015-04-11 21:06:06,723 Making a fixed resolution buffer of (('gas', 'density')) 800 by 800\n"
       ]
      },
      {
       "output_type": "stream",
       "stream": "stderr",
       "text": [
        "yt : [INFO     ] 2015-04-11 21:06:06,738 Making a fixed resolution buffer of (('gas', 'density')) 800 by 800\n"
       ]
      },
      {
       "html": [
        "<img src=\"data:image/png;base64,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\"><br>"
       ],
       "metadata": {},
       "output_type": "pyout",
       "prompt_number": 52,
       "text": [
        "<yt.visualization.plot_window.AxisAlignedSlicePlot at 0x114bc0250>"
       ]
      }
     ],
     "prompt_number": 52
    },
    {
     "cell_type": "code",
     "collapsed": false,
     "input": [],
     "language": "python",
     "metadata": {},
     "outputs": []
    }
   ],
   "metadata": {}
  }
 ]
}