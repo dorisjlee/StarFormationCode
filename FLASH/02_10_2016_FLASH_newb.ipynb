{
 "cells": [
  {
   "cell_type": "markdown",
   "metadata": {},
   "source": [
    "copied over the DustCollapse example problem to build the Uniform Sphere collapse "
   ]
  },
  {
   "cell_type": "raw",
   "metadata": {},
   "source": [
    "./setup UniformSphere -auto\n",
    "cd object\n",
    "make"
   ]
  },
  {
   "cell_type": "raw",
   "metadata": {},
   "source": [
    "/usr/local/mpich2//bin/mpif90 -ggdb -c -O2 -fdefault-real-8 -fdefault-double-8 -Wuninitialized  -DMAXBLOCKS=1000 -DNXB=8 -DNYB=8 -DNZB=1 -DN_DIM=2 Burn_interface.F90\n",
    "make: /usr/local/mpich2//bin/mpif90: Command not found\n",
    "make: *** [Burn_interface.o] Error 127"
   ]
  },
  {
   "cell_type": "markdown",
   "metadata": {},
   "source": [
    "This error shows up even if I jsut do the very simple sedov test "
   ]
  },
  {
   "cell_type": "raw",
   "metadata": {},
   "source": [
    "io_prepareListsWrite.F90(185): error #6404: This name does not have a type, and must have an explicit type.   [IO_INTSCALARNAMES]\n",
    "     allocate (io_intScalarNames (io_numIntScalars))\n",
    "---------------^\n",
    "/tmp/ifortmDfWrv.i90(1252): catastrophic error: Too many errors, exiting\n",
    "compilation aborted for io_prepareListsWrite.F90 (code 1)\n",
    "compilation aborted for local_tree_build.F90 (code 1)\n",
    "make: *** [local_tree_build.o] Error 1\n",
    "make: *** [io_prepareListsWrite.o] Error 1"
   ]
  },
  {
   "cell_type": "raw",
   "metadata": {},
   "source": [
    "module load cray-hdf5"
   ]
  },
  {
   "cell_type": "markdown",
   "metadata": {},
   "source": [
    "Still erroring "
   ]
  },
  {
   "cell_type": "markdown",
   "metadata": {},
   "source": [
    "Check that the compile path inside Makefile.h is correct"
   ]
  },
  {
   "cell_type": "markdown",
   "metadata": {},
   "source": [
    "Read the comment at the top of this Makefile it is customed for Edison "
   ]
  },
  {
   "cell_type": "raw",
   "metadata": {},
   "source": [
    "module load cray-hdf5-parallel/1.8.11\n",
    "module load cray-parallel-netcdf/1.3.1.1"
   ]
  },
  {
   "cell_type": "raw",
   "metadata": {},
   "source": [
    "ftn  -c -g -r8 -i4 -O3 -real_size 64 -diag-disable 10120  -DMAXBLOCKS=1000 -DNXB=8 -DNYB=8 -DNZB=1 -DN_DIM=2 setup_flashRelease.F90\n",
    "Conductivity.F90(60): error #7002: Error in opening the compiled module file.  Check INCLUDE paths.   [CONDUCTIVITY_INTERFACE]"
   ]
  },
  {
   "cell_type": "markdown",
   "metadata": {},
   "source": [
    "What does it mean by check INCLUDE paths? "
   ]
  },
  {
   "cell_type": "markdown",
   "metadata": {},
   "source": [
    "I tried including path to Makefile.h \n",
    "\n",
    "``include  ../Makefile.h``\n",
    "\n",
    "But that didn't quite help "
   ]
  },
  {
   "cell_type": "markdown",
   "metadata": {},
   "source": [
    "Wow now I compile and the error is different but I didn't change anything! "
   ]
  },
  {
   "cell_type": "code",
   "execution_count": 2,
   "metadata": {
    "collapsed": false
   },
   "outputs": [],
   "source": [
    "# cat error"
   ]
  },
  {
   "cell_type": "raw",
   "metadata": {
    "collapsed": true
   },
   "source": [
    "> make\n",
    "Calculating dependencies\n",
    "./setup_depends.py --generateINTERMEDIATElines -ggdb -c -O2 -fdefault-real-8 -fdefault-double-8 -Wuninitialized  -ggdb -c -O2 -Wuninitialized -D_FORTIFY_SOURCE=2 *.f *.f90 *.F90 *.F\n",
    "./setup_addcdepends.py -ggdb -c -O2 -Wuninitialized -D_FORTIFY_SOURCE=2 *.c\n",
    "rm -f reorder.sh\n",
    "/usr/local/mpich2//bin/mpif90 -ggdb -c -O2 -fdefault-real-8 -fdefault-double-8 -Wuninitialized  -DMAXBLOCKS=1000 -DNXB=8 -DNYB=8 -DNZB=1 -DN_DIM=2 Burn_interface.F90\n",
    "make: /usr/local/mpich2//bin/mpif90: Command not found\n",
    "make: *** [Burn_interface.o] Error 127"
   ]
  },
  {
   "cell_type": "markdown",
   "metadata": {},
   "source": [
    "So it looks like the ./setup is actually looking to find the right machien depenedence makefile which is stored inside sites/edison.nersc.gov/Makefile.h\n",
    "\n",
    "> ./setup Sedov --auto\n",
    "Processing Shortcut file:\n",
    "/global/project/projectdirs/astro250/doris/FLASH4.3/bin/setup_shortcuts.txt\n",
    "checking for needed files and directories\n",
    "    checking sites Aliases file\n",
    "    using site directory for site edison.nersc.gov"
   ]
  },
  {
   "cell_type": "raw",
   "metadata": {},
   "source": [
    "I just noted that the error on edison seem to be like its missing something , so maybe when I put it in htar it corrupted the file or soemthing because my copy of FLASH is 22MB where as the one that I'm using is 21MB so I dunno \n",
    "\n",
    "ftn  -c -g -r8 -i4 -O3 -real_size 64 -diag-disable 10120  -DMAXBLOCKS=1000 -DNXB=8 -DNYB=8 -DNZB=1 -DN_DIM=2 ut_sysMemSummaryStats.F90\n",
    "cc -DH5_USE_16_API  -c -O3 -g -D_LARGEFILE64_SOURCE -D_FORTIFY_SOURCE=2 -diag-disable 10120 -DMAXBLOCKS=1000 -DNXB=8 -DNYB=8 -DNZB=1 -DN_DIM=2 ut_sys_mem_usage.c\n",
    "ftn  -c -g -r8 -i4 -O3 -real_size 64 -diag-disable 10120  -DMAXBLOCKS=1000 -DNXB=8 -DNYB=8 -DNZB=1 -DN_DIM=2 workspace.F90\n",
    "cc -DH5_USE_16_API  -c -O3 -g -D_LARGEFILE64_SOURCE -D_FORTIFY_SOURCE=2 -diag-disable 10120 -DMAXBLOCKS=1000 -DNXB=8 -DNYB=8 -DNZB=1 -DN_DIM=2 io_h5_attribute.c\n",
    "ftn  -c -g -r8 -i4 -O3 -real_size 64 -diag-disable 10120  -DMAXBLOCKS=1000 -DNXB=8 -DNYB=8 -DNZB=1 -DN_DIM=2 setup_buildstamp.F90\n",
    "cc -DH5_USE_16_API  -c -O3 -g -D_LARGEFILE64_SOURCE -D_FORTIFY_SOURCE=2 -diag-disable 10120 -DMAXBLOCKS=1000 -DNXB=8 -DNYB=8 -DNZB=1 -DN_DIM=2 setup_buildstats.c\n",
    "svn: warning: W155007: '/global/project/projectdirs/astro250/doris/FLASH4.3/source' is not a working copy\n",
    "svn: warning: W155007: '/global/project/projectdirs/astro250/doris/FLASH4.3/bin' is not a working copy\n",
    "svn: warning: W155007: '/global/project/projectdirs/astro250/doris/FLASH4.3/source' is not a working copy\n",
    "svn: warning: W155007: '/global/project/projectdirs/astro250/doris/FLASH4.3/bin' is not a working copy\n",
    "svn: warning: W155007: '/global/project/projectdirs/astro250/doris/FLASH4.3/source' is not a working copy\n",
    "svn: warning: W155007: '/global/project/projectdirs/astro250/doris/FLASH4.3/bin' is not a working copy\n",
    "ftn  -c -g -r8 -i4 -O3 -real_size 64 -diag-disable 10120  -DMAXBLOCKS=1000 -DNXB=8 -DNYB=8 -DNZB=1 -DN_DIM=2 setup_flashRelease.F90\n",
    "Driver_abortFlash.F90(28): error #7002: Error in opening the compiled module file.  Check INCLUDE paths.   [DRIVER_DATA]\n",
    "  use Driver_data, ONLY : dr_globalMe,dr_globalComm, dr_eachProcWritesOwnAbortLog, &\n",
    "------^\n",
    "Driver_abortFlash.F90(30): error #7002: Error in opening the compiled module file.  Check INCLUDE paths.   [LOGFILE_INTERFACE]\n",
    "  use Logfile_interface, ONLY : Logfile_stampMessage, Logfile_stamp, Logfile_open, Logfile_close, &'"
   ]
  },
  {
   "cell_type": "markdown",
   "metadata": {},
   "source": [
    "Okay I think its working now, but only on edison because the cori file is too new so FLASH doesn't have a custom Makefile.h for it so its just using the custom Linux one which refers to mpicc and mpif90 which I think on Cori is just gcc and ftn'"
   ]
  },
  {
   "cell_type": "raw",
   "metadata": {},
   "source": [
    "H5PL.c:(.text+0x5c2): warning: Using 'dlopen' in statically linked applications requires at runtime the shared libraries from the glibc version used for linking\n",
    "SUCCESS"
   ]
  },
  {
   "cell_type": "markdown",
   "metadata": {},
   "source": [
    "Okay great this is working now on edison  but rememeber to include cray hdf5 paralllel stuff "
   ]
  },
  {
   "cell_type": "code",
   "execution_count": null,
   "metadata": {
    "collapsed": true
   },
   "outputs": [],
   "source": [
    "qint \n",
    "cd ~/project/FLASH4.3/object"
   ]
  },
  {
   "cell_type": "markdown",
   "metadata": {},
   "source": [
    "I think this ran sucesfully "
   ]
  },
  {
   "cell_type": "raw",
   "metadata": {},
   "source": [
    "     144 4.6045E-02 2.2514E-04  ( 5.332E-01,  5.605E-01,  0.000E+00) |  2.251E-04\n",
    "     145 4.6495E-02 2.2549E-04  ( 5.371E-01,  5.605E-01,  0.000E+00) |  2.255E-04\n",
    "     146 4.6946E-02 2.2584E-04  ( 5.371E-01,  5.605E-01,  0.000E+00) |  2.258E-04\n",
    "     147 4.7398E-02 2.2619E-04  ( 5.371E-01,  5.605E-01,  0.000E+00) |  2.262E-04\n",
    "     148 4.7850E-02 2.2653E-04  ( 5.371E-01,  5.605E-01,  0.000E+00) |  2.265E-04\n",
    "     149 4.8303E-02 2.2688E-04  ( 5.371E-01,  5.605E-01,  0.000E+00) |  2.269E-04\n",
    "     150 4.8757E-02 2.2722E-04  ( 4.629E-01,  4.395E-01,  0.000E+00) |  2.272E-04\n",
    "     151 4.9212E-02 2.2755E-04  ( 5.371E-01,  5.605E-01,  0.000E+00) |  2.276E-04\n",
    "     152 4.9667E-02 2.2789E-04  ( 5.371E-01,  5.605E-01,  0.000E+00) |  2.279E-04\n",
    "     153 5.0122E-02 2.2822E-04  ( 5.371E-01,  5.605E-01,  0.000E+00) |  2.282E-04\n",
    " *** Wrote checkpoint file to sedov_hdf5_chk_0005 ****\n",
    " exiting: reached max SimTime\n",
    " *** Wrote plotfile to sedov_forced_hdf5_plt_cnt_0000 ****"
   ]
  },
  {
   "cell_type": "raw",
   "metadata": {},
   "source": [
    "> vim sedov\n",
    "sedov.dat                       sedov_hdf5_chk_0001             sedov_hdf5_chk_0004             sedov.log\n",
    "sedov_forced_hdf5_plt_cnt_0000  sedov_hdf5_chk_0002             sedov_hdf5_chk_0005\n",
    "sedov_hdf5_chk_0000             sedov_hdf5_chk_0003             sedov_hdf5_plt_cnt_0000"
   ]
  },
  {
   "cell_type": "code",
   "execution_count": 3,
   "metadata": {
    "collapsed": false
   },
   "outputs": [
    {
     "name": "stdout",
     "output_type": "stream",
     "text": [
      "/global/project/projectdirs/astro250/doris/FLASH4.3/object\n"
     ]
    }
   ],
   "source": [
    "cd ~/project/FLASH4.3/object/"
   ]
  },
  {
   "cell_type": "code",
   "execution_count": null,
   "metadata": {
    "collapsed": true
   },
   "outputs": [],
   "source": []
  }
 ],
 "metadata": {
  "kernelspec": {
   "display_name": "Python 3",
   "language": "python",
   "name": "python3"
  },
  "language_info": {
   "codemirror_mode": {
    "name": "ipython",
    "version": 3
   },
   "file_extension": ".py",
   "mimetype": "text/x-python",
   "name": "python",
   "nbconvert_exporter": "python",
   "pygments_lexer": "ipython3",
   "version": "3.4.1"
  }
 },
 "nbformat": 4,
 "nbformat_minor": 0
}
