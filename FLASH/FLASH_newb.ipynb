{
 "cells": [
  {
   "cell_type": "markdown",
   "metadata": {},
   "source": [
    "copied over the DustCollapse example problem to build the Uniform Sphere collapse "
   ]
  },
  {
   "cell_type": "raw",
   "metadata": {},
   "source": [
    "./setup UniformSphere -auto\n",
    "cd object\n",
    "make"
   ]
  },
  {
   "cell_type": "raw",
   "metadata": {},
   "source": [
    "/usr/local/mpich2//bin/mpif90 -ggdb -c -O2 -fdefault-real-8 -fdefault-double-8 -Wuninitialized  -DMAXBLOCKS=1000 -DNXB=8 -DNYB=8 -DNZB=1 -DN_DIM=2 Burn_interface.F90\n",
    "make: /usr/local/mpich2//bin/mpif90: Command not found\n",
    "make: *** [Burn_interface.o] Error 127"
   ]
  },
  {
   "cell_type": "markdown",
   "metadata": {},
   "source": [
    "This error shows up even if I jsut do the very simple sedov test "
   ]
  },
  {
   "cell_type": "raw",
   "metadata": {},
   "source": [
    "io_prepareListsWrite.F90(185): error #6404: This name does not have a type, and must have an explicit type.   [IO_INTSCALARNAMES]\n",
    "     allocate (io_intScalarNames (io_numIntScalars))\n",
    "---------------^\n",
    "/tmp/ifortmDfWrv.i90(1252): catastrophic error: Too many errors, exiting\n",
    "compilation aborted for io_prepareListsWrite.F90 (code 1)\n",
    "compilation aborted for local_tree_build.F90 (code 1)\n",
    "make: *** [local_tree_build.o] Error 1\n",
    "make: *** [io_prepareListsWrite.o] Error 1"
   ]
  },
  {
   "cell_type": "raw",
   "metadata": {},
   "source": [
    "module load cray-hdf5"
   ]
  },
  {
   "cell_type": "markdown",
   "metadata": {},
   "source": [
    "Still erroring "
   ]
  },
  {
   "cell_type": "markdown",
   "metadata": {},
   "source": [
    "Check that the compile path inside Makefile.h is correct"
   ]
  },
  {
   "cell_type": "markdown",
   "metadata": {},
   "source": [
    "Read the comment at the top of this Makefile it is customed for Edison "
   ]
  },
  {
   "cell_type": "raw",
   "metadata": {},
   "source": [
    "module load cray-hdf5-parallel/1.8.11\n",
    "module load cray-parallel-netcdf/1.3.1.1"
   ]
  },
  {
   "cell_type": "raw",
   "metadata": {},
   "source": [
    "ftn  -c -g -r8 -i4 -O3 -real_size 64 -diag-disable 10120  -DMAXBLOCKS=1000 -DNXB=8 -DNYB=8 -DNZB=1 -DN_DIM=2 setup_flashRelease.F90\n",
    "Conductivity.F90(60): error #7002: Error in opening the compiled module file.  Check INCLUDE paths.   [CONDUCTIVITY_INTERFACE]"
   ]
  },
  {
   "cell_type": "markdown",
   "metadata": {},
   "source": [
    "What does it mean by check INCLUDE paths? "
   ]
  },
  {
   "cell_type": "markdown",
   "metadata": {},
   "source": [
    "I tried including path to Makefile.h \n",
    "\n",
    "``include  ../Makefile.h``\n",
    "\n",
    "But that didn't quite help "
   ]
  },
  {
   "cell_type": "markdown",
   "metadata": {},
   "source": [
    "Wow now I compile and the error is different but I didn't change anything! "
   ]
  },
  {
   "cell_type": "code",
   "execution_count": 2,
   "metadata": {
    "collapsed": false
   },
   "outputs": [],
   "source": [
    "# cat error"
   ]
  },
  {
   "cell_type": "code",
   "execution_count": null,
   "metadata": {
    "collapsed": true
   },
   "outputs": [],
   "source": []
  }
 ],
 "metadata": {
  "kernelspec": {
   "display_name": "Python 3",
   "language": "python",
   "name": "python3"
  },
  "language_info": {
   "codemirror_mode": {
    "name": "ipython",
    "version": 3
   },
   "file_extension": ".py",
   "mimetype": "text/x-python",
   "name": "python",
   "nbconvert_exporter": "python",
   "pygments_lexer": "ipython3",
   "version": "3.4.1"
  }
 },
 "nbformat": 4,
 "nbformat_minor": 0
}
