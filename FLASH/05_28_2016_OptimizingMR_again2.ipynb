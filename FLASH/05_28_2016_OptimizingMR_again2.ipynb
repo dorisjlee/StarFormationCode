{
 "cells": [
  {
   "cell_type": "code",
   "execution_count": 3,
   "metadata": {
    "collapsed": false
   },
   "outputs": [
    {
     "name": "stdout",
     "output_type": "stream",
     "text": [
      "Populating the interactive namespace from numpy and matplotlib\n"
     ]
    }
   ],
   "source": [
    "from matplotlib.colors import LogNorm\n",
    "import yt \n",
    "yt.mylog.setLevel(50)\n",
    "%pylab inline"
   ]
  },
  {
   "cell_type": "code",
   "execution_count": 4,
   "metadata": {
    "collapsed": false
   },
   "outputs": [
    {
     "name": "stdout",
     "output_type": "stream",
     "text": [
      "/global/project/projectdirs/astro250/doris/FLASH4.3_3/object\n"
     ]
    }
   ],
   "source": [
    "cd ~/project/FLASH4.3_3/object/"
   ]
  },
  {
   "cell_type": "code",
   "execution_count": 5,
   "metadata": {
    "collapsed": false
   },
   "outputs": [],
   "source": [
    "i =0 \n",
    "ds = yt.load(\"sod_hdf5_chk_{}\".format(str(i).zfill(4)))\n",
    "boxlen=int(ds.domain_width[0])\n",
    "\n",
    "lev = 6\n",
    "dim = 2**(lev+3)\n",
    "all_data = ds.covering_grid(level=lev, left_edge=[0,0,0],dims=[dim,dim,dim])\n",
    "dens_arr =  np.array(all_data[\"density\"])\n",
    "cell_size = int((ds.domain_width/dim)[0].in_cgs())\n",
    "ri = 1.5998e18\n",
    "\n",
    "xi_range = np.logspace(-0.1,np.log10(17),num=20)\n",
    "r_range = xi_range/1.057E-17\n",
    "\n",
    "\n",
    "ctr = shape(dens_arr)[0]/2\n",
    "x,y,z =  np.indices((dens_arr.shape))\n",
    "r = np.sqrt((x - ctr)**2 + (y -ctr)**2+(z -ctr)**2)*cell_size\n",
    "ri = r_range[0]\n",
    "dr  = cell_size \n"
   ]
  },
  {
   "cell_type": "code",
   "execution_count": 18,
   "metadata": {
    "collapsed": false
   },
   "outputs": [],
   "source": [
    "ix,iy,iz =  np.where(np.isclose(r,ri,atol=dr))"
   ]
  },
  {
   "cell_type": "code",
   "execution_count": 15,
   "metadata": {
    "collapsed": false
   },
   "outputs": [
    {
     "data": {
      "text/plain": [
       "(512, 512, 512)"
      ]
     },
     "execution_count": 15,
     "metadata": {},
     "output_type": "execute_result"
    }
   ],
   "source": [
    "shape(r)"
   ]
  },
  {
   "cell_type": "code",
   "execution_count": 19,
   "metadata": {
    "collapsed": false
   },
   "outputs": [
    {
     "name": "stdout",
     "output_type": "stream",
     "text": [
      "(100,)\n",
      "(100,)\n",
      "(100,)\n"
     ]
    }
   ],
   "source": [
    "print shape(ix[:100])\n",
    "print shape(iy[:100])\n",
    "print shape(iz[:100])"
   ]
  },
  {
   "cell_type": "code",
   "execution_count": 21,
   "metadata": {
    "collapsed": true
   },
   "outputs": [],
   "source": [
    "MIN_CONF =  100\n",
    "#shorten\n",
    "s_ix  = ix[:MIN_CONF]\n",
    "s_iy  = iy[:MIN_CONF]\n",
    "s_iz  = iz[:MIN_CONF]"
   ]
  },
  {
   "cell_type": "code",
   "execution_count": 28,
   "metadata": {
    "collapsed": false
   },
   "outputs": [
    {
     "data": {
      "text/plain": [
       "array([253, 253, 253, 254, 254, 254, 254, 254, 255, 255, 255, 255, 255,\n",
       "       255, 255, 256, 256, 256, 256, 256, 256, 256, 257, 257, 257, 257,\n",
       "       257, 257, 257, 258, 258, 258, 258, 258, 259, 259, 259, 251, 251,\n",
       "       251, 251, 251, 252, 252, 252, 252, 252, 252, 252, 253, 253, 253,\n",
       "       253, 253, 253, 253, 253, 253, 254, 254, 254, 254, 254, 254, 254,\n",
       "       254, 254, 254, 254, 255, 255, 255, 255, 255, 255, 255, 255, 255,\n",
       "       255, 255, 256, 256, 256, 256, 256, 256, 256, 256, 256, 256, 256,\n",
       "       257, 257, 257, 257, 257, 257, 257, 257, 257])"
      ]
     },
     "execution_count": 28,
     "metadata": {},
     "output_type": "execute_result"
    }
   ],
   "source": [
    "s_iy"
   ]
  },
  {
   "cell_type": "code",
   "execution_count": 25,
   "metadata": {
    "collapsed": false
   },
   "outputs": [
    {
     "data": {
      "text/plain": [
       "(512, 512, 512)"
      ]
     },
     "execution_count": 25,
     "metadata": {},
     "output_type": "execute_result"
    }
   ],
   "source": [
    "shape(r)"
   ]
  },
  {
   "cell_type": "code",
   "execution_count": 32,
   "metadata": {
    "collapsed": false
   },
   "outputs": [
    {
     "data": {
      "text/plain": [
       "(2224,)"
      ]
     },
     "execution_count": 32,
     "metadata": {},
     "output_type": "execute_result"
    }
   ],
   "source": []
  },
  {
   "cell_type": "code",
   "execution_count": 34,
   "metadata": {
    "collapsed": false
   },
   "outputs": [],
   "source": [
    "val =np.sum(r[ix,iy,iz]*dens_arr[ix,iy,iz]*dr)"
   ]
  },
  {
   "cell_type": "code",
   "execution_count": 35,
   "metadata": {
    "collapsed": false
   },
   "outputs": [
    {
     "data": {
      "text/plain": [
       "1.3043447492936757e+19"
      ]
     },
     "execution_count": 35,
     "metadata": {},
     "output_type": "execute_result"
    }
   ],
   "source": [
    "val"
   ]
  },
  {
   "cell_type": "code",
   "execution_count": 8,
   "metadata": {
    "collapsed": false
   },
   "outputs": [
    {
     "data": {
      "text/plain": [
       "134217728"
      ]
     },
     "execution_count": 8,
     "metadata": {},
     "output_type": "execute_result"
    }
   ],
   "source": [
    "512**3"
   ]
  },
  {
   "cell_type": "code",
   "execution_count": null,
   "metadata": {
    "collapsed": true
   },
   "outputs": [],
   "source": [
    "sum_args_list = []\n",
    "def plot_MR(timestep):\n",
    "    ds = yt.load(\"sod_hdf5_chk_{}\".format(str(timestep).zfill(4)))\n",
    "    all_data = ds.covering_grid(level=lev, left_edge=[0,0.0,0.0],dims=[dim,dim,dim])\n",
    "    dens_arr =  np.array(all_data[\"density\"])\n",
    "    print \"Working on t = \", timestep\n",
    "    sum_args=0\n",
    "    for ri in r_range:\n",
    "        ix,iy,iz =  np.where(np.isclose(r,ri,atol=dr))\n",
    "        print \"At radius xi= \",ri*1.057E-17,\", number of blocks within dr: \",len(ix)\n",
    "        val =np.sum(r[ix][iy][iz]*dens_arr[ix][iy][iz]*dr)\n",
    "        sum_args_list.append(sum_args)\n",
    "    print sum_args\n",
    "sum_args_list = np.array(sum_args_list)"
   ]
  },
  {
   "cell_type": "code",
   "execution_count": null,
   "metadata": {
    "collapsed": true
   },
   "outputs": [],
   "source": []
  },
  {
   "cell_type": "code",
   "execution_count": 14,
   "metadata": {
    "collapsed": false
   },
   "outputs": [
    {
     "data": {
      "text/plain": [
       "(512, 512, 512)"
      ]
     },
     "execution_count": 14,
     "metadata": {},
     "output_type": "execute_result"
    }
   ],
   "source": [
    "shape(dens_arr)"
   ]
  },
  {
   "cell_type": "code",
   "execution_count": 13,
   "metadata": {
    "collapsed": false
   },
   "outputs": [
    {
     "data": {
      "text/plain": [
       "(512, 512, 512)"
      ]
     },
     "execution_count": 13,
     "metadata": {},
     "output_type": "execute_result"
    }
   ],
   "source": [
    "shape(r)"
   ]
  },
  {
   "cell_type": "code",
   "execution_count": null,
   "metadata": {
    "collapsed": false
   },
   "outputs": [],
   "source": [
    "shape(r[ix][iy][iz])"
   ]
  },
  {
   "cell_type": "code",
   "execution_count": null,
   "metadata": {
    "collapsed": true
   },
   "outputs": [],
   "source": [
    "val =np.sum(r[ix][iy][iz]*dens_arr[ix][iy][iz]*dr)"
   ]
  },
  {
   "cell_type": "code",
   "execution_count": 28,
   "metadata": {
    "collapsed": false
   },
   "outputs": [
    {
     "data": {
      "text/plain": [
       "(2224, 512, 512)"
      ]
     },
     "execution_count": 28,
     "metadata": {},
     "output_type": "execute_result"
    }
   ],
   "source": [
    "shape(val)"
   ]
  },
  {
   "cell_type": "code",
   "execution_count": 12,
   "metadata": {
    "collapsed": false
   },
   "outputs": [],
   "source": [
    "r = r.astype(np.int)\n",
    "tbin = np.bincount(r.ravel(), dens_arr.ravel())\n",
    "nr = np.bincount(r.ravel())\n",
    "radialprofile = tbin / nr"
   ]
  },
  {
   "cell_type": "code",
   "execution_count": 14,
   "metadata": {
    "collapsed": false
   },
   "outputs": [
    {
     "data": {
      "text/plain": [
       "[<matplotlib.lines.Line2D at 0x7f1d9c71ee10>]"
      ]
     },
     "execution_count": 14,
     "metadata": {},
     "output_type": "execute_result"
    },
    {
     "data": {
      "image/png": "[encoded data removed]",
      "text/plain": [
       "<matplotlib.figure.Figure at 0x7f1d9c740750>"
      ]
     },
     "metadata": {},
     "output_type": "display_data"
    }
   ],
   "source": [
    "plt.plot(radialprofile)"
   ]
  },
  {
   "cell_type": "code",
   "execution_count": 21,
   "metadata": {
    "collapsed": false
   },
   "outputs": [
    {
     "data": {
      "text/plain": [
       "-8741816.0"
      ]
     },
     "execution_count": 21,
     "metadata": {},
     "output_type": "execute_result"
    }
   ],
   "source": [
    "(start-end)**3"
   ]
  },
  {
   "cell_type": "code",
   "execution_count": 37,
   "metadata": {
    "collapsed": false
   },
   "outputs": [
    {
     "data": {
      "text/plain": [
       "[<matplotlib.lines.Line2D at 0x7f3c507d11d0>]"
      ]
     },
     "execution_count": 37,
     "metadata": {},
     "output_type": "execute_result"
    },
    {
     "data": {
      "image/png": "[encoded data removed]",
      "text/plain": [
       "<matplotlib.figure.Figure at 0x7f3b75975150>"
      ]
     },
     "metadata": {},
     "output_type": "display_data"
    }
   ],
   "source": [
    "c = \"red\"\n",
    "xi_range = np.logspace(0,1.04,num=20)\n",
    "data = np.loadtxt(\"/global/homes/d/dorislee/project/FLASH4.3_3/object/fast_sum_args_list30_lev6.txt\")\n",
    "plt.loglog(xi_range,4*np.pi*G*data/c_s,label= \"t={} for lev 5 (No Sink)\".format(s), color=c,marker= '.')"
   ]
  },
  {
   "cell_type": "code",
   "execution_count": 42,
   "metadata": {
    "collapsed": false
   },
   "outputs": [
    {
     "data": {
      "text/plain": [
       "[<matplotlib.lines.Line2D at 0x7f39da7e3550>]"
      ]
     },
     "execution_count": 42,
     "metadata": {},
     "output_type": "execute_result"
    },
    {
     "data": {
      "image/png": "[encoded data removed]",
      "text/plain": [
       "<matplotlib.figure.Figure at 0x7f39db436390>"
      ]
     },
     "metadata": {},
     "output_type": "display_data"
    }
   ],
   "source": [
    "c = \"red\"\n",
    "xi_range = np.logspace(-8,2,num=40)\n",
    "data = np.loadtxt(\"/global/homes/d/dorislee/project/FLASH4.3_3/object/fast_sum_args_list30_lev6.txt\")\n",
    "plt.loglog(xi_range[::-1],4*np.pi*G*data/c_s,label= \"t={} for lev 5 (No Sink)\".format(s), color=c,marker= '.')"
   ]
  },
  {
   "cell_type": "code",
   "execution_count": 46,
   "metadata": {
    "collapsed": false
   },
   "outputs": [
    {
     "data": {
      "text/plain": [
       "[<matplotlib.lines.Line2D at 0x7f39d9e246d0>]"
      ]
     },
     "execution_count": 46,
     "metadata": {},
     "output_type": "execute_result"
    },
    {
     "data": {
      "image/png": "[encoded data removed]",
      "text/plain": [
       "<matplotlib.figure.Figure at 0x7f39d9e4db10>"
      ]
     },
     "metadata": {},
     "output_type": "display_data"
    }
   ],
   "source": [
    "c = \"red\"\n",
    "xi_range = np.logspace(-1.5,1.6,num=30)\n",
    "data = np.loadtxt(\"/global/homes/d/dorislee/project/FLASH4.3_3/object/fast_sum_args_list30_lev6.txt\")\n",
    "plt.loglog(xi_range[::-1],4*np.pi*G*data/c_s,label= \"t={} for lev 5 (No Sink)\".format(s), color=c,marker= '.')"
   ]
  },
  {
   "cell_type": "code",
   "execution_count": 44,
   "metadata": {
    "collapsed": false
   },
   "outputs": [
    {
     "data": {
      "text/plain": [
       "(1, 10)"
      ]
     },
     "execution_count": 44,
     "metadata": {},
     "output_type": "execute_result"
    },
    {
     "data": {
      "image/png": "[encoded data removed]",
      "text/plain": [
       "<matplotlib.figure.Figure at 0x7f39da367690>"
      ]
     },
     "metadata": {},
     "output_type": "display_data"
    }
   ],
   "source": [
    "s = 30 \n",
    "G = 6.67e-8 #cgs\n",
    "c_s = 28730.5 #cm/s\n",
    "tlst = [30]\n",
    "\n",
    "c = \"red\"\n",
    "xi_range = np.logspace(0,1.04,num=20)\n",
    "data = np.loadtxt(\"/global/homes/d/dorislee/project/FLASH4.3_2/object/fat100/sum_args_list{}_3.txt\".format(s))\n",
    "plt.loglog(xi_range,4*np.pi*G*data/c_s,label= \"t={} for lev 5 (No Sink)\".format(s), color=c,marker= '.')\n",
    "plt.legend(loc =\"lower right\")\n",
    "\n",
    "c = \"blue\"\n",
    "xi_range = np.logspace(0,1.04,num=20)\n",
    "data = np.loadtxt(\"sum_args_100_correct/sum_args_list30_lev5.txt\")\n",
    "# xi_range = np.logspace(0,1.04,num=10)\n",
    "# data = np.loadtxt(\"sum_args_list30_3.txt\")\n",
    "plt.loglog(xi_range,4*np.pi*G*data/c_s,label= \"t={} for lev 5 (Sink)\".format(s), color=c,marker= '.')\n",
    "plt.legend(loc =\"lower right\")\n",
    "\n",
    "\n",
    "c = \"orange\"\n",
    "xi_range = np.logspace(0,1.04,num=10)\n",
    "data = np.loadtxt(\"sum_args_100_correct/sum_args_list30_lev6.txt\")\n",
    "plt.loglog(xi_range,4*np.pi*G*data/c_s,label= \"t={} for lev 6 (Sink)\".format(s), color=c,marker= '.')\n",
    "plt.legend(loc =\"lower right\")\n",
    "\n",
    "c = \"purple\"\n",
    "xi_range = np.logspace(0,1.04,num=20)\n",
    "data =  np.array([1.71214469e+19,2.12027434e+19,2.49749866e+19,2.95401601e+19,3.51058460e+19,4.09546891e+19,4.84624911e+19,5.56862422e+19,\n",
    "   6.35445417e+19, 7.30129928e+19,8.19207763e+19, 9.19974028e+19,1.01676836e+20,1.12109058e+20,1.22919094e+20,1.33161709e+20,\n",
    "   1.44128679e+20,1.55421783e+20,1.67279605e+20,1.43543958e+20])\n",
    "plt.loglog(xi_range,4*np.pi*G*data/c_s,label= \"t={} for lev 7 (Sink)\".format(s), color=c,marker= '.')\n",
    "plt.legend(loc =\"lower right\")\n",
    "\n",
    "\n",
    "plt.xlabel(r\"log $\\xi$\",fontsize=16)\n",
    "plt.ylabel(r\"log m/$\\xi$\",fontsize=16)\n",
    "plt.title(\"Fattening 100 Ricker Sphere\",fontsize=16)\n",
    "plt.xlim(1,10)"
   ]
  },
  {
   "cell_type": "code",
   "execution_count": null,
   "metadata": {
    "collapsed": true
   },
   "outputs": [],
   "source": []
  }
 ],
 "metadata": {
  "kernelspec": {
   "display_name": "Python 2",
   "language": "python",
   "name": "python2"
  },
  "language_info": {
   "codemirror_mode": {
    "name": "ipython",
    "version": 2
   },
   "file_extension": ".py",
   "mimetype": "text/x-python",
   "name": "python",
   "nbconvert_exporter": "python",
   "pygments_lexer": "ipython2",
   "version": "2.7.11"
  }
 },
 "nbformat": 4,
 "nbformat_minor": 0
}
