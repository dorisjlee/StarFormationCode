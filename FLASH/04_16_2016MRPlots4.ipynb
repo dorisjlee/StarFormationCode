{
 "cells": [
  {
   "cell_type": "code",
   "execution_count": 1,
   "metadata": {
    "collapsed": false
   },
   "outputs": [
    {
     "name": "stdout",
     "output_type": "stream",
     "text": [
      "Populating the interactive namespace from numpy and matplotlib\n"
     ]
    }
   ],
   "source": [
    "%pylab inline"
   ]
  },
  {
   "cell_type": "code",
   "execution_count": 2,
   "metadata": {
    "collapsed": false
   },
   "outputs": [
    {
     "name": "stdout",
     "output_type": "stream",
     "text": [
      "cell size:  39062500000000000\n",
      "86\n",
      "looping through:  636056\n"
     ]
    }
   ],
   "source": [
    "import matplotlib\n",
    "# matplotlib.use(\"Agg\")\n",
    "import pylab\n",
    "import numpy as np\n",
    "import matplotlib.pyplot as plt\n",
    "import yt\n",
    "yt.funcs.mylog.setLevel(50) #coerce output null\n",
    "import matplotlib.cm as cm\n",
    "from matplotlib.colors import LogNorm\n",
    "import os\n",
    "os.chdir(\"../../project/FLASH4.3_2/object/fat1000/\")\n",
    "G = 6.67e-8 #cgs\n",
    "a = 28730.5 #cm/s\n",
    "\n",
    "i =0\n",
    "ds = yt.load(\"sod_hdf5_chk_{}\".format(str(i).zfill(4)))\n",
    "lev = 5\n",
    "dim = 2**(lev+3)\n",
    "all_data = ds.covering_grid(level=lev, left_edge=[0,0.0,0.0],dims=[dim,dim,dim])\n",
    "dens_arr =  np.array(all_data[\"density\"])\n",
    "margin = dim/3\n",
    "start  = margin\n",
    "end = dim-margin\n",
    "cell_size = int((ds.domain_width/dim)[0].in_cgs())\n",
    "print \"cell size: \", cell_size\n",
    "print end-start\n",
    "print \"looping through: \", (end-start)**3\n",
    "boxlen = 1e19\n",
    "ctr = boxlen/2\n",
    "dr=cell_size\n",
    "timestep=1"
   ]
  },
  {
   "cell_type": "code",
   "execution_count": null,
   "metadata": {
    "collapsed": false
   },
   "outputs": [
    {
     "name": "stdout",
     "output_type": "stream",
     "text": [
      "Looking at radius:  9.46073793756e+14\n",
      "Looking at radius: "
     ]
    }
   ],
   "source": [
    "xi_range = np.logspace(-2,np.log10(17),num=20)\n",
    "r_range = xi_range/1.057E-17\n",
    "ds = yt.load(\"sod_hdf5_chk_{}\".format(str(timestep).zfill(4)))\n",
    "#let dr = cell_size\n",
    "xyzrange = np.arange(start,end)\n",
    "sum_args_list = []\n",
    "for ri in r_range:\n",
    "    print \"Looking at radius: \", ri\n",
    "    sum_args = 0\n",
    "    for i in xyzrange:\n",
    "        for j in xyzrange:\n",
    "            for k in xyzrange:\n",
    "                r = np.sqrt((i-ctr)**2+(j-ctr)**2+(k-ctr)**2)*cell_size\n",
    "                if np.isclose(r,ri,atol=dr):#atol is +/-\n",
    "#                     if r<ri:\n",
    "                    #print \"inside:\" , r\n",
    "                    sum_args+=r*dens_arr[i][j][k]*dr\n",
    "    sum_args_list.append(sum_args)\n",
    "sum_args_list = np.array(sum_args_list)\n",
    "\n",
    "print sum_args_list\n",
    "plt.loglog(xi_range,4*np.pi*G*sum_args_list/a)\n",
    "# plt.savefig('mass.png')"
   ]
  },
  {
   "cell_type": "code",
   "execution_count": 9,
   "metadata": {
    "collapsed": false
   },
   "outputs": [],
   "source": [
    "tlst =[1]\n",
    "tlst.extend(np.arange(5,31,5))"
   ]
  },
  {
   "cell_type": "code",
   "execution_count": null,
   "metadata": {
    "collapsed": false
   },
   "outputs": [],
   "source": [
    "# plot_MR(30)"
   ]
  },
  {
   "cell_type": "code",
   "execution_count": null,
   "metadata": {
    "collapsed": false
   },
   "outputs": [],
   "source": [
    "for t in tlst:\n",
    "    plot_MR(t)"
   ]
  },
  {
   "cell_type": "code",
   "execution_count": null,
   "metadata": {
    "collapsed": true
   },
   "outputs": [],
   "source": []
  }
 ],
 "metadata": {
  "kernelspec": {
   "display_name": "Python 2",
   "language": "python",
   "name": "python2"
  },
  "language_info": {
   "codemirror_mode": {
    "name": "ipython",
    "version": 2
   },
   "file_extension": ".py",
   "mimetype": "text/x-python",
   "name": "python",
   "nbconvert_exporter": "python",
   "pygments_lexer": "ipython2",
   "version": "2.7.11"
  }
 },
 "nbformat": 4,
 "nbformat_minor": 0
}
