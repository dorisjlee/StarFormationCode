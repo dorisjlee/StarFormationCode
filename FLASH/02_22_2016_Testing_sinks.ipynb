{
 "cells": [
  {
   "cell_type": "code",
   "execution_count": 1,
   "metadata": {
    "collapsed": false
   },
   "outputs": [
    {
     "name": "stdout",
     "output_type": "stream",
     "text": [
      "Populating the interactive namespace from numpy and matplotlib\n"
     ]
    }
   ],
   "source": [
    "import yt\n",
    "yt.mylog.setLevel(50)\n",
    "%pylab inline"
   ]
  },
  {
   "cell_type": "code",
   "execution_count": 2,
   "metadata": {
    "collapsed": false
   },
   "outputs": [
    {
     "name": "stdout",
     "output_type": "stream",
     "text": [
      "/global/project/projectdirs/astro250/doris/FLASH4.3/object\n"
     ]
    }
   ],
   "source": [
    "cd ~/project/FLASH4.3/object/"
   ]
  },
  {
   "cell_type": "markdown",
   "metadata": {},
   "source": [
    "how to turn off interpolation on the grid values "
   ]
  },
  {
   "cell_type": "code",
   "execution_count": 10,
   "metadata": {
    "collapsed": false
   },
   "outputs": [
    {
     "name": "stderr",
     "output_type": "stream",
     "text": [
      "/global/homes/d/dorislee/anaconda/lib/python2.7/site-packages/matplotlib/quiver.py:645: RuntimeWarning: divide by zero encountered in double_scalars\n",
      "  length = a * (widthu_per_lenu / (self.scale * self.width))\n",
      "/global/homes/d/dorislee/anaconda/lib/python2.7/site-packages/matplotlib/quiver.py:645: RuntimeWarning: invalid value encountered in multiply\n",
      "  length = a * (widthu_per_lenu / (self.scale * self.width))\n",
      "/global/homes/d/dorislee/anaconda/lib/python2.7/site-packages/matplotlib/quiver.py:701: RuntimeWarning: invalid value encountered in less\n",
      "  short = np.repeat(length < minsh, 8, axis=1)\n",
      "/global/homes/d/dorislee/anaconda/lib/python2.7/site-packages/matplotlib/quiver.py:711: RuntimeWarning: invalid value encountered in less\n",
      "  tooshort = length < self.minlength\n"
     ]
    },
    {
     "data": {
      "text/html": [
       "<img style=\"max-width:100%%;max-height:100%%;\" src=\"data:image/png;base64,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\"><br>"
      ],
      "text/plain": [
       "<yt.visualization.plot_window.AxisAlignedSlicePlot at 0x7f9b3de4dc50>"
      ]
     },
     "metadata": {},
     "output_type": "display_data"
    }
   ],
   "source": [
    "i = 0\n",
    "ds = yt.load(\"uniform_sphere_hdf5_chk_{}\".format(str(i).zfill(4)))\n",
    "physical_quantity=\"density\"\n",
    "slc = yt.SlicePlot(ds, \"z\",physical_quantity)#,center=(0.5,0.5,0.5))\n",
    "slc.set_figure_size(5)\n",
    "slc.annotate_velocity()\n",
    "slc.annotate_grids()\n",
    "slc.show()"
   ]
  },
  {
   "cell_type": "raw",
   "metadata": {},
   "source": [
    "sink particle created (x, y, z, pt, blockID, MyPE, tag):   3.906250000E-03 -3.906250000E-03 -3.906250000E-03  1.000000000E-10     124       5       0\n",
    "sink particle created (x, y, z, pt, blockID, MyPE, tag):  -3.906250000E-03 -3.906250000E-03 -3.906250000E-03  1.000000000E-10     248       2       0\n",
    "SinkMergingAfterCreation: zero-mass sink merged TO tag:        0 FROM tag:        0 from pos:     0.000000000E+00    0.000000000E+00    0.000000000E+00\n",
    "SinkMergingAfterCreation: zero-mass sink merged TO tag:        0 FROM tag:        0 from pos:     0.000000000E+00    0.000000000E+00    0.000000000E+00\n",
    "SinkMergingAfterCreation: zero-mass sink merged TO tag:        0 FROM tag:        0 from pos:     0.000000000E+00    0.000000000E+00    0.000000000E+00\n",
    "SinkMergingAfterCreation: zero-mass sink merged TO tag:        0 FROM tag:        0 from pos:     0.000000000E+00    0.000000000E+00    0.000000000E+00\n",
    "SinkMergingAfterCreation: zero-mass sink merged TO tag:        0 FROM tag:        0 from pos:     0.000000000E+00    0.000000000E+00    0.000000000E+00\n",
    "SinkMergingAfterCreation: zero-mass sink merged TO tag:        0 FROM tag:        0 from pos:     0.000000000E+00    0.000000000E+00    0.000000000E+00\n",
    "SinkMergingAfterCreation: zero-mass sink merged TO tag:        0 FROM tag:        0 from pos:     0.000000000E+00    0.000000000E+00    0.000000000E+00\n",
    "SinkMergingAfterCreation: new position of tag        0:     0.000000000E+00    0.000000000E+00    0.000000000E+00\n",
    "SinkMergingAfterCreation: Its first accretion step moves this sink to the actual center of mass."
   ]
  },
  {
   "cell_type": "raw",
   "metadata": {},
   "source": [
    "forrtl: severe (174): SIGSEGV, segmentation fault occurred\n",
    "Image              PC                Routine            Line        Source\n",
    "flash4             0000000000CD93E1  Unknown               Unknown  Unknown\n",
    "flash4             0000000000CD7B37  Unknown               Unknown  Unknown\n",
    "flash4             0000000000C8B034  Unknown               Unknown  Unknown\n",
    "flash4             0000000000C8AE46  Unknown               Unknown  Unknown\n",
    "flash4             0000000000C42CAF  Unknown               Unknown  Unknown\n",
    "flash4             0000000000C46CAD  Unknown               Unknown  Unknown\n",
    "flash4             000000000077BEB0  Unknown               Unknown  Unknown\n",
    "flash4             000000000072D9BA  Unknown               Unknown  Unknown\n",
    "flash4             0000000000473A76  Unknown               Unknown  Unknown\n",
    "flash4             0000000000463B5F  Unknown               Unknown  Unknown\n",
    "flash4             0000000000406120  Unknown               Unknown  Unknown\n",
    "flash4             000000000040EF85  Unknown               Unknown  Unknown\n",
    "flash4             000000000040090E  Unknown               Unknown  Unknown\n",
    "flash4             0000000000CF1F41  Unknown               Unknown  Unknown\n",
    "a\n",
    "flash4             00000000004007F5  Unknown               Unknown  Unknown"
   ]
  },
  {
   "cell_type": "markdown",
   "metadata": {
    "collapsed": true
   },
   "source": [
    "Tried adding \n",
    "\n",
    "call Grid_putPointData(blockId, CENTER, TEMP_VAR, EXTERIOR, axis, velzZone)\n",
    "\n",
    "\n",
    "to see if that fixes the uniform tempearture problem \n",
    "\n",
    "I know this is overdetermining the problem "
   ]
  },
  {
   "cell_type": "code",
   "execution_count": null,
   "metadata": {
    "collapsed": true
   },
   "outputs": [],
   "source": []
  }
 ],
 "metadata": {
  "kernelspec": {
   "display_name": "Python 2",
   "language": "python",
   "name": "python2"
  },
  "language_info": {
   "codemirror_mode": {
    "name": "ipython",
    "version": 2
   },
   "file_extension": ".py",
   "mimetype": "text/x-python",
   "name": "python",
   "nbconvert_exporter": "python",
   "pygments_lexer": "ipython2",
   "version": "2.7.10"
  }
 },
 "nbformat": 4,
 "nbformat_minor": 0
}
