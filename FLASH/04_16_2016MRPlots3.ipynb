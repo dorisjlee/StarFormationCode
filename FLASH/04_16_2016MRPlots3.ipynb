{
 "cells": [
  {
   "cell_type": "code",
   "execution_count": 1,
   "metadata": {
    "collapsed": false
   },
   "outputs": [
    {
     "name": "stdout",
     "output_type": "stream",
     "text": [
      "Populating the interactive namespace from numpy and matplotlib\n"
     ]
    }
   ],
   "source": [
    "%pylab inline"
   ]
  },
  {
   "cell_type": "code",
   "execution_count": 2,
   "metadata": {
    "collapsed": false
   },
   "outputs": [
    {
     "name": "stdout",
     "output_type": "stream",
     "text": [
      "cell size:  39062500000000000\n",
      "86\n",
      "looping through:  636056\n"
     ]
    }
   ],
   "source": [
    "import matplotlib\n",
    "# matplotlib.use(\"Agg\")\n",
    "import pylab\n",
    "import numpy as np\n",
    "import matplotlib.pyplot as plt\n",
    "import yt\n",
    "yt.funcs.mylog.setLevel(50) #coerce output null\n",
    "import matplotlib.cm as cm\n",
    "from matplotlib.colors import LogNorm\n",
    "import os\n",
    "os.chdir(\"../../project/FLASH4.3_2/object/fat1000/\")\n",
    "G = 6.67e-8 #cgs\n",
    "a = 28730.5 #cm/s\n",
    "\n",
    "i =0\n",
    "ds = yt.load(\"sod_hdf5_chk_{}\".format(str(i).zfill(4)))\n",
    "lev = 5\n",
    "dim = 2**(lev+3)\n",
    "all_data = ds.covering_grid(level=lev, left_edge=[0,0.0,0.0],dims=[dim,dim,dim])\n",
    "dens_arr =  np.array(all_data[\"density\"])\n",
    "margin = dim/3\n",
    "start  = margin\n",
    "end = dim-margin\n",
    "cell_size = int((ds.domain_width/dim)[0].in_cgs())\n",
    "print \"cell size: \", cell_size\n",
    "print end-start\n",
    "print \"looping through: \", (end-start)**3\n",
    "boxlen = 1e19\n",
    "ctr = boxlen/2\n",
    "dr=cell_size"
   ]
  },
  {
   "cell_type": "code",
   "execution_count": 6,
   "metadata": {
    "collapsed": false
   },
   "outputs": [],
   "source": [
    "def plot_MR(timestep):\n",
    "    # xi_range = np.logspace(-3,5)\n",
    "    #xi_range = np.logspace(0,50,num=10)\n",
    "    # xi_range = np.linspace(60,500,num=10)\n",
    "    ds = yt.load(\"sod_hdf5_chk_{}\".format(str(timestep).zfill(4)))\n",
    "    xi_range = np.logspace(1,5,num=10)\n",
    "    r_range = xi_range/1.057E-17\n",
    "    #let dr = cell_size\n",
    "    rcloud =1.59886e18 #xi = 16.90 (/1.057E-17 conv factor)\n",
    "    xyzrange = np.arange(start,end)\n",
    "    sum_args_list = []\n",
    "    for ri in r_range:\n",
    "#         print \"Looking at radius: \", ri\n",
    "        sum_args = 0\n",
    "        for i in xyzrange:\n",
    "            for j in xyzrange:\n",
    "                for k in xyzrange:\n",
    "                    r = np.sqrt((i-ctr)**2+(j-ctr)**2+(k-ctr)**2)*cell_size\n",
    "                    #print r\n",
    "                    if np.isclose(r,ri,atol=dr):#atol is +/-\n",
    "#                     if r<ri:\n",
    "                        #print \"inside:\" , r\n",
    "                        sum_args+=r*dens_arr[i][j][k]*dr\n",
    "        sum_args_list.append(sum_args)\n",
    "    sum_args_list = np.array(sum_args_list)\n",
    "\n",
    "    print sum_args_list\n",
    "    plt.loglog(xi_range,4*np.pi*G*sum_args_list/rcloud/a)"
   ]
  },
  {
   "cell_type": "code",
   "execution_count": 6,
   "metadata": {
    "collapsed": false
   },
   "outputs": [
    {
     "name": "stdout",
     "output_type": "stream",
     "text": [
      "[  0.00000000e+00   0.00000000e+00   1.45637418e+37   2.34162639e+39\n",
      "   2.34162639e+39   2.34162639e+39   2.34162639e+39   2.34162639e+39\n",
      "   2.34162639e+39   2.34162639e+39]\n",
      "[  0.00000000e+00   0.00000000e+00   1.45637418e+37   2.34162639e+39\n",
      "   2.34162639e+39   2.34162639e+39   2.34162639e+39   2.34162639e+39\n",
      "   2.34162639e+39   2.34162639e+39]\n",
      "[  0.00000000e+00   0.00000000e+00   1.45637418e+37   2.34162639e+39\n",
      "   2.34162639e+39   2.34162639e+39   2.34162639e+39   2.34162639e+39\n",
      "   2.34162639e+39   2.34162639e+39]\n",
      "[  0.00000000e+00   0.00000000e+00   1.45637418e+37   2.34162639e+39\n",
      "   2.34162639e+39   2.34162639e+39   2.34162639e+39   2.34162639e+39\n",
      "   2.34162639e+39   2.34162639e+39]\n"
     ]
    },
    {
     "data": {
      "image/png": "[encoded data removed]",
      "text/plain": [
       "<matplotlib.figure.Figure at 0x7f875c970ed0>"
      ]
     },
     "metadata": {},
     "output_type": "display_data"
    }
   ],
   "source": [
    "for i in np.arange(31):\n",
    "    if i%10==0:\n",
    "        plot_MR(i)"
   ]
  },
  {
   "cell_type": "markdown",
   "metadata": {},
   "source": [
    "actually changing the box region from start ~end using the margin cuts versus start~end using the 0,boxlen really changes the runtime by quite a lot because there's now margin^3 more cells to loop through, but we need that for getting the estimates in larger xi region "
   ]
  },
  {
   "cell_type": "raw",
   "metadata": {},
   "source": [
    "cell size:  39062500000000000\n",
    "256\n",
    "looping through:  16777216\n",
    "Looking at radius:  9.46073793756e+17\n",
    "Looking at radius:  2.63250653e+18\n",
    "Looking at radius:  7.32510579642e+18\n",
    "Looking at radius:  2.0382542006e+19\n",
    "Looking at radius:  5.67156338996e+19\n",
    "Looking at radius:  1.5781462036e+20\n",
    "Looking at radius:  4.39128555687e+20\n",
    "Looking at radius:  1.2219012914e+21\n",
    "Looking at radius:  3.40001292697e+21\n",
    "Looking at radius:  9.46073793756e+21\n",
    "[  1.43507610e+18   5.89820411e+17   8.99980429e+17   0.00000000e+00\n",
    "   0.00000000e+00   0.00000000e+00   0.00000000e+00   0.00000000e+00\n",
    "   0.00000000e+00   0.00000000e+00]"
   ]
  },
  {
   "cell_type": "markdown",
   "metadata": {},
   "source": [
    "This took about 2 hours to run using the big box..."
   ]
  },
  {
   "cell_type": "raw",
   "metadata": {},
   "source": [
    "xi_range\n",
    "Out[1]:\n",
    "array([  1.00000000e+01,   2.78255940e+01,   7.74263683e+01,\n",
    "         2.15443469e+02,   5.99484250e+02,   1.66810054e+03,\n",
    "         4.64158883e+03,   1.29154967e+04,   3.59381366e+04,\n",
    "         1.00000000e+05])"
   ]
  },
  {
   "cell_type": "markdown",
   "metadata": {},
   "source": [
    "plt.loglog([  1.00000000e+01,   2.78255940e+01,   7.74263683e+01],[1.43507610e+18,5.89820411e+17,8.99980429e+17])"
   ]
  },
  {
   "cell_type": "code",
   "execution_count": 15,
   "metadata": {
    "collapsed": true
   },
   "outputs": [],
   "source": [
    "ctr = dim/2\n",
    "dr=cell_size\n",
    "timestep=1\n",
    "# xi_range = np.logspace(-3,5)\n",
    "#xi_range = np.logspace(0,50,num=10)\n",
    "# xi_range = np.linspace(60,500,num=10)\n",
    "ds = yt.load(\"sod_hdf5_chk_{}\".format(str(timestep).zfill(4)))\n",
    "r_range = xi_range/1.057E-17\n",
    "#let dr = cell_size\n",
    "rcloud =1.59886e18 #xi = 16.90 (/1.057E-17 conv factor)\n",
    "xyzrange = np.arange(start,end)\n",
    "sum_args_list = []"
   ]
  },
  {
   "cell_type": "code",
   "execution_count": 37,
   "metadata": {
    "collapsed": false
   },
   "outputs": [
    {
     "data": {
      "text/plain": [
       "7396"
      ]
     },
     "execution_count": 37,
     "metadata": {},
     "output_type": "execute_result"
    }
   ],
   "source": [
    "img.size"
   ]
  },
  {
   "cell_type": "code",
   "execution_count": 29,
   "metadata": {
    "collapsed": false
   },
   "outputs": [
    {
     "data": {
      "text/plain": [
       "<matplotlib.image.AxesImage at 0x7f4630d85190>"
      ]
     },
     "execution_count": 29,
     "metadata": {},
     "output_type": "execute_result"
    },
    {
     "data": {
      "image/png": "[encoded data removed]",
      "text/plain": [
       "<matplotlib.figure.Figure at 0x7f4630e048d0>"
      ]
     },
     "metadata": {},
     "output_type": "display_data"
    }
   ],
   "source": [
    "plt.figure()\n",
    "plt.imshow()"
   ]
  },
  {
   "cell_type": "code",
   "execution_count": 31,
   "metadata": {
    "collapsed": false
   },
   "outputs": [
    {
     "data": {
      "text/plain": [
       "array([  1.00000000e-02,   1.47918886e-02,   2.18799968e-02,\n",
       "         3.23646476e-02,   4.78734262e-02,   7.08138387e-02,\n",
       "         1.04747041e-01,   1.54940657e-01,   2.29186493e-01,\n",
       "         3.39010108e-01,   5.01459975e-01,   7.41754008e-01,\n",
       "         1.09719427e+00,   1.62295754e+00,   2.40066071e+00,\n",
       "         3.55103057e+00,   5.25264487e+00,   7.76965377e+00,\n",
       "         1.14927853e+01,   1.70000000e+01])"
      ]
     },
     "execution_count": 31,
     "metadata": {},
     "output_type": "execute_result"
    }
   ],
   "source": [
    "xi_range"
   ]
  },
  {
   "cell_type": "code",
   "execution_count": 41,
   "metadata": {
    "collapsed": false
   },
   "outputs": [
    {
     "name": "stdout",
     "output_type": "stream",
     "text": [
      "Looking at radius:  9.46073793756e+14\n",
      "Looking at radius:  1.39942181651e+15\n",
      "Looking at radius:  2.07000916151e+15\n",
      "Looking at radius:  3.06193449192e+15\n",
      "Looking at radius:  4.52917939066e+15\n",
      "Looking at radius:  6.69951169986e+15\n",
      "Looking at radius:  9.90984307425e+15\n",
      "Looking at radius:  1.46585294803e+16\n",
      "Looking at radius:  2.16827335121e+16\n",
      "Looking at radius:  3.20728578667e+16\n",
      "Looking at radius:  4.74418140665e+16\n",
      "Looking at radius:  7.01754028681e+16\n",
      "Looking at radius:  1.03802674172e+17\n",
      "Looking at radius:  1.5354375928e+17\n",
      "Looking at radius:  2.27120218258e+17\n",
      "Looking at radius:  3.3595369674e+17\n",
      "Looking at radius:  4.96938965713e+17\n",
      "Looking at radius:  7.35066582211e+17\n",
      "Looking at radius:  1.08730229981e+18\n",
      "Looking at radius:  1.60832544939e+18\n",
      "[  9.28846930e+17   9.28846930e+17   9.28846930e+17   9.28846930e+17\n",
      "   9.28846930e+17   9.28846930e+17   9.28846930e+17   9.28846930e+17\n",
      "   3.55602278e+18   5.70110288e+18   7.38918851e+18   2.32084338e+19\n",
      "   6.85169375e+19   1.71287161e+20   4.04529253e+20   7.12131705e+20\n",
      "   1.00871476e+21   1.25979311e+21   1.54567125e+21   8.50547869e+20]\n"
     ]
    },
    {
     "data": {
      "text/plain": [
       "[<matplotlib.lines.Line2D at 0x7f457c4b6e10>]"
      ]
     },
     "execution_count": 41,
     "metadata": {},
     "output_type": "execute_result"
    },
    {
     "data": {
      "image/png": "[encoded data removed]",
      "text/plain": [
       "<matplotlib.figure.Figure at 0x7f4630fe9b50>"
      ]
     },
     "metadata": {},
     "output_type": "display_data"
    }
   ],
   "source": [
    "xi_range = np.logspace(-2,np.log10(17),num=20)\n",
    "r_range = xi_range/1.057E-17\n",
    "ds = yt.load(\"sod_hdf5_chk_{}\".format(str(timestep).zfill(4)))\n",
    "#let dr = cell_size\n",
    "xyzrange = np.arange(start,end)\n",
    "sum_args_list = []\n",
    "for ri in r_range:\n",
    "    print \"Looking at radius: \", ri\n",
    "    sum_args = 0\n",
    "    for i in xyzrange:\n",
    "        for j in xyzrange:\n",
    "            for k in xyzrange:\n",
    "                r = np.sqrt((i-ctr)**2+(j-ctr)**2+(k-ctr)**2)*cell_size\n",
    "                if np.isclose(r,ri,atol=dr):#atol is +/-\n",
    "#                     if r<ri:\n",
    "                    #print \"inside:\" , r\n",
    "                    sum_args+=r*dens_arr[i][j][k]*dr\n",
    "    sum_args_list.append(sum_args)\n",
    "sum_args_list = np.array(sum_args_list)\n",
    "\n",
    "print sum_args_list\n",
    "plt.loglog(xi_range,4*np.pi*G*sum_args_list/rcloud/a)\n",
    "# plt.savefig('mass.png')"
   ]
  },
  {
   "cell_type": "code",
   "execution_count": 8,
   "metadata": {
    "collapsed": true
   },
   "outputs": [],
   "source": [
    "def plot_MR(timestep):\n",
    "    print \"Working on t =\",timestep\n",
    "    xi_range = np.logspace(-2,np.log10(17),num=20)\n",
    "    r_range = xi_range/1.057E-17\n",
    "    ds = yt.load(\"sod_hdf5_chk_{}\".format(str(timestep).zfill(4)))\n",
    "    #let dr = cell_size\n",
    "    xyzrange = np.arange(start,end)\n",
    "    sum_args_list = []\n",
    "    for ri in r_range:\n",
    "#         print \"Looking at radius: \", ri\n",
    "        sum_args = 0\n",
    "        for i in xyzrange:\n",
    "            for j in xyzrange:\n",
    "                for k in xyzrange:\n",
    "                    r = np.sqrt((i-ctr)**2+(j-ctr)**2+(k-ctr)**2)*cell_size\n",
    "                    if np.isclose(r,ri,atol=dr):#atol is +/-\n",
    "    #                     if r<ri:\n",
    "                        #print \"inside:\" , r\n",
    "                        sum_args+=r*dens_arr[i][j][k]*dr\n",
    "        sum_args_list.append(sum_args)\n",
    "    sum_args_list = np.array(sum_args_list)\n",
    "    print sum_args_list\n",
    "    plt.loglog(xi_range,4*np.pi*G*sum_args_list/a)\n",
    "    # plt.savefig('mass.png')"
   ]
  },
  {
   "cell_type": "code",
   "execution_count": 9,
   "metadata": {
    "collapsed": false
   },
   "outputs": [],
   "source": [
    "tlst =[1]\n",
    "tlst.extend(np.arange(5,31,5))"
   ]
  },
  {
   "cell_type": "code",
   "execution_count": 10,
   "metadata": {
    "collapsed": false
   },
   "outputs": [
    {
     "name": "stdout",
     "output_type": "stream",
     "text": [
      "Working on t = 30\n",
      "[0 0 0 0 0 0 0 0 0 0 0 0 0 0 0 0 0 0 0 0]\n"
     ]
    },
    {
     "ename": "ValueError",
     "evalue": "Data has no positive values, and therefore can not be log-scaled.",
     "output_type": "error",
     "traceback": [
      "\u001b[1;31m---------------------------------------------------------------------------\u001b[0m",
      "\u001b[1;31mValueError\u001b[0m                                Traceback (most recent call last)",
      "\u001b[1;32m<ipython-input-10-2ef6d89f8af2>\u001b[0m in \u001b[0;36m<module>\u001b[1;34m()\u001b[0m\n\u001b[1;32m----> 1\u001b[1;33m \u001b[0mplot_MR\u001b[0m\u001b[1;33m(\u001b[0m\u001b[1;36m30\u001b[0m\u001b[1;33m)\u001b[0m\u001b[1;33m\u001b[0m\u001b[0m\n\u001b[0m",
      "\u001b[1;32m<ipython-input-8-e75a06cb9b50>\u001b[0m in \u001b[0;36mplot_MR\u001b[1;34m(timestep)\u001b[0m\n\u001b[0;32m     21\u001b[0m     \u001b[0msum_args_list\u001b[0m \u001b[1;33m=\u001b[0m \u001b[0mnp\u001b[0m\u001b[1;33m.\u001b[0m\u001b[0marray\u001b[0m\u001b[1;33m(\u001b[0m\u001b[0msum_args_list\u001b[0m\u001b[1;33m)\u001b[0m\u001b[1;33m\u001b[0m\u001b[0m\n\u001b[0;32m     22\u001b[0m     \u001b[1;32mprint\u001b[0m \u001b[0msum_args_list\u001b[0m\u001b[1;33m\u001b[0m\u001b[0m\n\u001b[1;32m---> 23\u001b[1;33m     \u001b[0mplt\u001b[0m\u001b[1;33m.\u001b[0m\u001b[0mloglog\u001b[0m\u001b[1;33m(\u001b[0m\u001b[0mxi_range\u001b[0m\u001b[1;33m,\u001b[0m\u001b[1;36m4\u001b[0m\u001b[1;33m*\u001b[0m\u001b[0mnp\u001b[0m\u001b[1;33m.\u001b[0m\u001b[0mpi\u001b[0m\u001b[1;33m*\u001b[0m\u001b[0mG\u001b[0m\u001b[1;33m*\u001b[0m\u001b[0msum_args_list\u001b[0m\u001b[1;33m/\u001b[0m\u001b[0ma\u001b[0m\u001b[1;33m)\u001b[0m\u001b[1;33m\u001b[0m\u001b[0m\n\u001b[0m\u001b[0;32m     24\u001b[0m     \u001b[1;31m# plt.savefig('mass.png')\u001b[0m\u001b[1;33m\u001b[0m\u001b[1;33m\u001b[0m\u001b[0m\n",
      "\u001b[1;32m/global/homes/d/dorislee/anaconda/lib/python2.7/site-packages/matplotlib/pyplot.pyc\u001b[0m in \u001b[0;36mloglog\u001b[1;34m(*args, **kwargs)\u001b[0m\n\u001b[0;32m   3037\u001b[0m         \u001b[0max\u001b[0m\u001b[1;33m.\u001b[0m\u001b[0mhold\u001b[0m\u001b[1;33m(\u001b[0m\u001b[0mhold\u001b[0m\u001b[1;33m)\u001b[0m\u001b[1;33m\u001b[0m\u001b[0m\n\u001b[0;32m   3038\u001b[0m     \u001b[1;32mtry\u001b[0m\u001b[1;33m:\u001b[0m\u001b[1;33m\u001b[0m\u001b[0m\n\u001b[1;32m-> 3039\u001b[1;33m         \u001b[0mret\u001b[0m \u001b[1;33m=\u001b[0m \u001b[0max\u001b[0m\u001b[1;33m.\u001b[0m\u001b[0mloglog\u001b[0m\u001b[1;33m(\u001b[0m\u001b[1;33m*\u001b[0m\u001b[0margs\u001b[0m\u001b[1;33m,\u001b[0m \u001b[1;33m**\u001b[0m\u001b[0mkwargs\u001b[0m\u001b[1;33m)\u001b[0m\u001b[1;33m\u001b[0m\u001b[0m\n\u001b[0m\u001b[0;32m   3040\u001b[0m     \u001b[1;32mfinally\u001b[0m\u001b[1;33m:\u001b[0m\u001b[1;33m\u001b[0m\u001b[0m\n\u001b[0;32m   3041\u001b[0m         \u001b[0max\u001b[0m\u001b[1;33m.\u001b[0m\u001b[0mhold\u001b[0m\u001b[1;33m(\u001b[0m\u001b[0mwashold\u001b[0m\u001b[1;33m)\u001b[0m\u001b[1;33m\u001b[0m\u001b[0m\n",
      "\u001b[1;32m/global/homes/d/dorislee/anaconda/lib/python2.7/site-packages/matplotlib/axes/_axes.pyc\u001b[0m in \u001b[0;36mloglog\u001b[1;34m(self, *args, **kwargs)\u001b[0m\n\u001b[0;32m   1563\u001b[0m         \u001b[0mb\u001b[0m \u001b[1;33m=\u001b[0m \u001b[0mself\u001b[0m\u001b[1;33m.\u001b[0m\u001b[0m_hold\u001b[0m\u001b[1;33m\u001b[0m\u001b[0m\n\u001b[0;32m   1564\u001b[0m         \u001b[0mself\u001b[0m\u001b[1;33m.\u001b[0m\u001b[0m_hold\u001b[0m \u001b[1;33m=\u001b[0m \u001b[0mTrue\u001b[0m  \u001b[1;31m# we've already processed the hold\u001b[0m\u001b[1;33m\u001b[0m\u001b[0m\n\u001b[1;32m-> 1565\u001b[1;33m         \u001b[0ml\u001b[0m \u001b[1;33m=\u001b[0m \u001b[0mself\u001b[0m\u001b[1;33m.\u001b[0m\u001b[0mplot\u001b[0m\u001b[1;33m(\u001b[0m\u001b[1;33m*\u001b[0m\u001b[0margs\u001b[0m\u001b[1;33m,\u001b[0m \u001b[1;33m**\u001b[0m\u001b[0mkwargs\u001b[0m\u001b[1;33m)\u001b[0m\u001b[1;33m\u001b[0m\u001b[0m\n\u001b[0m\u001b[0;32m   1566\u001b[0m         \u001b[0mself\u001b[0m\u001b[1;33m.\u001b[0m\u001b[0m_hold\u001b[0m \u001b[1;33m=\u001b[0m \u001b[0mb\u001b[0m  \u001b[1;31m# restore the hold\u001b[0m\u001b[1;33m\u001b[0m\u001b[0m\n\u001b[0;32m   1567\u001b[0m \u001b[1;33m\u001b[0m\u001b[0m\n",
      "\u001b[1;32m/global/homes/d/dorislee/anaconda/lib/python2.7/site-packages/matplotlib/__init__.pyc\u001b[0m in \u001b[0;36minner\u001b[1;34m(ax, *args, **kwargs)\u001b[0m\n\u001b[0;32m   1809\u001b[0m                     warnings.warn(msg % (label_namer, func.__name__),\n\u001b[0;32m   1810\u001b[0m                                   RuntimeWarning, stacklevel=2)\n\u001b[1;32m-> 1811\u001b[1;33m             \u001b[1;32mreturn\u001b[0m \u001b[0mfunc\u001b[0m\u001b[1;33m(\u001b[0m\u001b[0max\u001b[0m\u001b[1;33m,\u001b[0m \u001b[1;33m*\u001b[0m\u001b[0margs\u001b[0m\u001b[1;33m,\u001b[0m \u001b[1;33m**\u001b[0m\u001b[0mkwargs\u001b[0m\u001b[1;33m)\u001b[0m\u001b[1;33m\u001b[0m\u001b[0m\n\u001b[0m\u001b[0;32m   1812\u001b[0m         \u001b[0mpre_doc\u001b[0m \u001b[1;33m=\u001b[0m \u001b[0minner\u001b[0m\u001b[1;33m.\u001b[0m\u001b[0m__doc__\u001b[0m\u001b[1;33m\u001b[0m\u001b[0m\n\u001b[0;32m   1813\u001b[0m         \u001b[1;32mif\u001b[0m \u001b[0mpre_doc\u001b[0m \u001b[1;32mis\u001b[0m \u001b[0mNone\u001b[0m\u001b[1;33m:\u001b[0m\u001b[1;33m\u001b[0m\u001b[0m\n",
      "\u001b[1;32m/global/homes/d/dorislee/anaconda/lib/python2.7/site-packages/matplotlib/axes/_axes.pyc\u001b[0m in \u001b[0;36mplot\u001b[1;34m(self, *args, **kwargs)\u001b[0m\n\u001b[0;32m   1429\u001b[0m             \u001b[0mlines\u001b[0m\u001b[1;33m.\u001b[0m\u001b[0mappend\u001b[0m\u001b[1;33m(\u001b[0m\u001b[0mline\u001b[0m\u001b[1;33m)\u001b[0m\u001b[1;33m\u001b[0m\u001b[0m\n\u001b[0;32m   1430\u001b[0m \u001b[1;33m\u001b[0m\u001b[0m\n\u001b[1;32m-> 1431\u001b[1;33m         \u001b[0mself\u001b[0m\u001b[1;33m.\u001b[0m\u001b[0mautoscale_view\u001b[0m\u001b[1;33m(\u001b[0m\u001b[0mscalex\u001b[0m\u001b[1;33m=\u001b[0m\u001b[0mscalex\u001b[0m\u001b[1;33m,\u001b[0m \u001b[0mscaley\u001b[0m\u001b[1;33m=\u001b[0m\u001b[0mscaley\u001b[0m\u001b[1;33m)\u001b[0m\u001b[1;33m\u001b[0m\u001b[0m\n\u001b[0m\u001b[0;32m   1432\u001b[0m         \u001b[1;32mreturn\u001b[0m \u001b[0mlines\u001b[0m\u001b[1;33m\u001b[0m\u001b[0m\n\u001b[0;32m   1433\u001b[0m \u001b[1;33m\u001b[0m\u001b[0m\n",
      "\u001b[1;32m/global/homes/d/dorislee/anaconda/lib/python2.7/site-packages/matplotlib/axes/_base.pyc\u001b[0m in \u001b[0;36mautoscale_view\u001b[1;34m(self, tight, scalex, scaley)\u001b[0m\n\u001b[0;32m   2175\u001b[0m                 \u001b[0my1\u001b[0m \u001b[1;33m+=\u001b[0m \u001b[0mdelta\u001b[0m\u001b[1;33m\u001b[0m\u001b[0m\n\u001b[0;32m   2176\u001b[0m             \u001b[1;32mif\u001b[0m \u001b[1;32mnot\u001b[0m \u001b[0m_tight\u001b[0m\u001b[1;33m:\u001b[0m\u001b[1;33m\u001b[0m\u001b[0m\n\u001b[1;32m-> 2177\u001b[1;33m                 \u001b[0my0\u001b[0m\u001b[1;33m,\u001b[0m \u001b[0my1\u001b[0m \u001b[1;33m=\u001b[0m \u001b[0mylocator\u001b[0m\u001b[1;33m.\u001b[0m\u001b[0mview_limits\u001b[0m\u001b[1;33m(\u001b[0m\u001b[0my0\u001b[0m\u001b[1;33m,\u001b[0m \u001b[0my1\u001b[0m\u001b[1;33m)\u001b[0m\u001b[1;33m\u001b[0m\u001b[0m\n\u001b[0m\u001b[0;32m   2178\u001b[0m             \u001b[0mself\u001b[0m\u001b[1;33m.\u001b[0m\u001b[0mset_ybound\u001b[0m\u001b[1;33m(\u001b[0m\u001b[0my0\u001b[0m\u001b[1;33m,\u001b[0m \u001b[0my1\u001b[0m\u001b[1;33m)\u001b[0m\u001b[1;33m\u001b[0m\u001b[0m\n\u001b[0;32m   2179\u001b[0m \u001b[1;33m\u001b[0m\u001b[0m\n",
      "\u001b[1;32m/global/homes/d/dorislee/anaconda/lib/python2.7/site-packages/matplotlib/ticker.pyc\u001b[0m in \u001b[0;36mview_limits\u001b[1;34m(self, vmin, vmax)\u001b[0m\n\u001b[0;32m   1608\u001b[0m         \u001b[1;32mif\u001b[0m \u001b[0mminpos\u001b[0m \u001b[1;33m<=\u001b[0m \u001b[1;36m0\u001b[0m \u001b[1;32mor\u001b[0m \u001b[1;32mnot\u001b[0m \u001b[0mnp\u001b[0m\u001b[1;33m.\u001b[0m\u001b[0misfinite\u001b[0m\u001b[1;33m(\u001b[0m\u001b[0mminpos\u001b[0m\u001b[1;33m)\u001b[0m\u001b[1;33m:\u001b[0m\u001b[1;33m\u001b[0m\u001b[0m\n\u001b[0;32m   1609\u001b[0m             raise ValueError(\n\u001b[1;32m-> 1610\u001b[1;33m                 \u001b[1;34m\"Data has no positive values, and therefore can not be \"\u001b[0m\u001b[1;33m\u001b[0m\u001b[0m\n\u001b[0m\u001b[0;32m   1611\u001b[0m                 \"log-scaled.\")\n\u001b[0;32m   1612\u001b[0m \u001b[1;33m\u001b[0m\u001b[0m\n",
      "\u001b[1;31mValueError\u001b[0m: Data has no positive values, and therefore can not be log-scaled."
     ]
    },
    {
     "data": {
      "image/png": "[encoded data removed]",
      "text/plain": [
       "<matplotlib.figure.Figure at 0x7f5123f52110>"
      ]
     },
     "metadata": {},
     "output_type": "display_data"
    }
   ],
   "source": [
    "plot_MR(30)"
   ]
  },
  {
   "cell_type": "code",
   "execution_count": null,
   "metadata": {
    "collapsed": false
   },
   "outputs": [],
   "source": [
    "for t in tlst:\n",
    "    plot_MR(t)"
   ]
  },
  {
   "cell_type": "code",
   "execution_count": null,
   "metadata": {
    "collapsed": true
   },
   "outputs": [],
   "source": []
  }
 ],
 "metadata": {
  "kernelspec": {
   "display_name": "Python 2",
   "language": "python",
   "name": "python2"
  }
 },
 "nbformat": 4,
 "nbformat_minor": 0
}
