{
 "cells": [
  {
   "cell_type": "code",
   "execution_count": 1,
   "metadata": {
    "collapsed": false
   },
   "outputs": [
    {
     "name": "stdout",
     "output_type": "stream",
     "text": [
      "Populating the interactive namespace from numpy and matplotlib\n"
     ]
    }
   ],
   "source": [
    "import yt\n",
    "yt.mylog.setLevel(50)\n",
    "%pylab inline"
   ]
  },
  {
   "cell_type": "code",
   "execution_count": 2,
   "metadata": {
    "collapsed": false
   },
   "outputs": [
    {
     "name": "stdout",
     "output_type": "stream",
     "text": [
      "/global/project/projectdirs/astro250/doris/FLASH4.3/object\n"
     ]
    }
   ],
   "source": [
    "cd ~/project/FLASH4.3/object/"
   ]
  },
  {
   "cell_type": "code",
   "execution_count": 3,
   "metadata": {
    "collapsed": false
   },
   "outputs": [],
   "source": [
    "i = 1\n",
    "ds = yt.load(\"uniform_sphere_hdf5_chk_{}\".format(str(i).zfill(4)))\n",
    "physical_quantity=\"density\"\n",
    "slc = yt.SlicePlot(ds, \"z\",physical_quantity)#,center=(0.5,0.5,0.5))\n",
    "slc.set_figure_size(5)\n",
    "slc.annotate_velocity()\n",
    "slc.annotate_grids()\n",
    "slc.show()"
   ]
  },
  {
   "cell_type": "markdown",
   "metadata": {
    "collapsed": true
   },
   "source": [
    "- can we just examine the plot files without yt? \n",
    "- What happens if we dont define the energy and just let it be ? \n",
    "    - energy is missing a rho factors? (no according to Table 14.2 the energy that we are recording is energy per mass) "
   ]
  },
  {
   "cell_type": "markdown",
   "metadata": {},
   "source": [
    "I thought maybe this has to do with the parameter EXTERIOR and INTEROIR but that's just a matter of where you start counting whether inclucde the ghost cell or not '\n",
    "\n",
    "http://flash.uchicago.edu/site/flashcode/user_support/robodoc-FLASH4/home.py?submit=docs/source/Grid/Grid_putPointData_F90.html"
   ]
  },
  {
   "cell_type": "markdown",
   "metadata": {},
   "source": [
    "There should be more plot files that's getting spat out than the interval checkpoint files (since these are heavier with grid info and more stuff )'"
   ]
  },
  {
   "cell_type": "markdown",
   "metadata": {},
   "source": [
    "I took out some stuff that setted temperatrure constant for if there is two materials, I dont think this is activated but I took it out just in case "
   ]
  },
  {
   "cell_type": "code",
   "execution_count": null,
   "metadata": {
    "collapsed": true
   },
   "outputs": [],
   "source": [
    "i = 0\n",
    "ds = yt.load(\"uniform_sphere_hdf5_chk_{}\".format(str(i).zfill(4)))\n",
    "physical_quantity=\"density\"\n",
    "slc = yt.SlicePlot(ds, \"z\",physical_quantity)#,center=(0.5,0.5,0.5))\n",
    "slc.set_figure_size(5)\n",
    "slc.annotate_velocity()\n",
    "slc.annotate_grids()\n",
    "slc.show()"
   ]
  },
  {
   "cell_type": "markdown",
   "metadata": {},
   "source": [
    "- Try not setting pressure all together "
   ]
  },
  {
   "cell_type": "code",
   "execution_count": null,
   "metadata": {
    "collapsed": true
   },
   "outputs": [],
   "source": []
  }
 ],
 "metadata": {
  "kernelspec": {
   "display_name": "Python 2",
   "language": "python",
   "name": "python2"
  },
  "language_info": {
   "codemirror_mode": {
    "name": "ipython",
    "version": 2
   },
   "file_extension": ".py",
   "mimetype": "text/x-python",
   "name": "python",
   "nbconvert_exporter": "python",
   "pygments_lexer": "ipython2",
   "version": "2.7.10"
  }
 },
 "nbformat": 4,
 "nbformat_minor": 0
}
