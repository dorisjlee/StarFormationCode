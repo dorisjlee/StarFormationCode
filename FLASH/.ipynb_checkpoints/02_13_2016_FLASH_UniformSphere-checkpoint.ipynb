{
 "cells": [
  {
   "cell_type": "code",
   "execution_count": 1,
   "metadata": {
    "collapsed": false
   },
   "outputs": [
    {
     "name": "stdout",
     "output_type": "stream",
     "text": [
      "Populating the interactive namespace from numpy and matplotlib\n"
     ]
    }
   ],
   "source": [
    "import yt\n",
    "yt.mylog.setLevel(50)\n",
    "%pylab inline"
   ]
  },
  {
   "cell_type": "code",
   "execution_count": 2,
   "metadata": {
    "collapsed": false
   },
   "outputs": [
    {
     "name": "stdout",
     "output_type": "stream",
     "text": [
      "/global/project/projectdirs/astro250/doris/FLASH4.3/object\n"
     ]
    }
   ],
   "source": [
    "cd ~/project/FLASH4.3/object/"
   ]
  },
  {
   "cell_type": "markdown",
   "metadata": {},
   "source": [
    "it's giving me this error again '"
   ]
  },
  {
   "cell_type": "raw",
   "metadata": {},
   "source": [
    "io_writeData.F90(188): error #6794: The rank of the target is different from the pointer.   [LREFINE]\n",
    "  tree_data % lrefine => lrefinet\n",
    "--------------^\n",
    "io_writeData.F90(188): error #6795: The target must be of the same type and kind type parameters as the pointer.   [LREFINE]\n",
    "  tree_data % lrefine => lrefinet\n",
    "--------------^\n",
    "io_writeData.F90(190): error #6460: This is not a field name that is defined in the encompassing structure.   [BFLAGS]\n",
    "  tree_data % bflags => bflagst\n",
    "--------------^\n",
    "io_writeData.F90(190): error #6794: The rank of the target is different from the pointer.   [BFLAGS]\n",
    "  tree_data % bflags => bflagst\n",
    "--------------^\n",
    "io_writeData.F90(190): error #6795: The target must be of the same type and kind type parameters as the pointer.   [BFLAGS]\n",
    "  tree_data % bflags => bflagst\n",
    "--------------^\n",
    "io_writeData.F90(191): error #6460: This is not a field name that is defined in the encompassing structure.   [WHICH_CHILD]\n",
    "  tree_data % which_child => which_childt\n",
    "--------------^\n",
    "io_writeData.F90(191): error #6794: The rank of the target is different from the pointer.   [WHICH_CHILD]\n",
    "  tree_data % which_child => which_childt\n",
    "--------------^\n",
    "io_writeData.F90(191): error #6795: The target must be of the same type and kind type parameters as the pointer.   [WHICH_CHILD]\n",
    "  tree_data % which_child => which_childt\n",
    "--------------^\n",
    "io_writeData.F90(192): error #6460: This is not a field name that is defined in the encompassing structure.   [GSURR_BLKS]\n",
    "  tree_data % gsurr_blks => gsurr_blkst\n",
    "--------------^\n",
    "/tmp/ifortVgSnhB.i90(2109): catastrophic error: Too many errors, exiting\n",
    "compilation aborted for io_writeData.F90 (code 1)\n",
    "make: *** [io_writeData.o] Error 1\n",
    "compilation aborted for mpi_lib.F90 (code 1)\n",
    "make: *** [mpi_lib.o] Error 1"
   ]
  },
  {
   "cell_type": "markdown",
   "metadata": {},
   "source": [
    "No idea why its doing this I'm just compiling sedov '"
   ]
  },
  {
   "cell_type": "markdown",
   "metadata": {},
   "source": [
    "even though I did ``make clean\""
   ]
  },
  {
   "cell_type": "raw",
   "metadata": {},
   "source": [
    "mpi_amr_guardcell.F90(149): error #6404: This name does not have a type, and must have an explicit type.   [GCELL_ON_NC]\n",
    "         int_gcell_on_nc = gcell_on_nc\n",
    "---------------------------^\n",
    "mpi_amr_guardcell.F90(194): error #6404: This name does not have a type, and must have an explicit type.   [NO_PERMANENT_GUARDCELLS]\n",
    "      If (no_permanent_guardcells) Then\n",
    "----------^\n",
    "mpi_amr_guardcell.F90(194): error #6341: A logical data type is required in this context.   [NO_PERMANENT_GUARDCELLS]\n",
    "      If (no_permanent_guardcells) Then\n",
    "----------^\n",
    "mpi_amr_guardcell.F90(240): error #6404: This name does not have a type, and must have an explicit type.   [ADVANCE_ALL_LEVELS]\n",
    "      If (.not.advance_all_levels) Then\n",
    "---------------^\n",
    "mpi_amr_guardcell.F90(248): error #6404: This name does not have a type, and must have an explicit type.   [FORCE_CONSISTENCY]\n",
    "      If (force_consistency) Then\n",
    "----------^\n",
    "mpi_amr_guardcell.F90(248): error #6341: A logical data type is required in this context.   [FORCE_CONSISTENCY]\n",
    "      If (force_consistency) Then\n",
    "----------^\n",
    "mpi_amr_guardcell.F90(251): error #6404: This name does not have a type, and must have an explicit type.   [LNBLOCKS]\n",
    "        Do lb = 1,lnblocks\n",
    "------------------^\n",
    "mpi_amr_guardcell.F90(252): error #6911: The syntax of this substring is invalid.   [GT_FACEVARX]\n",
    "           gt_facevarx(:,1,:,:,lb) = facevarx(:,1+nguard_npgs,:,:,lb)\n",
    "-----------^\n",
    "compilation aborted for mpi_amr_guardcell.F90 (code 1)\n",
    "make: *** [io_readData.o] Error 1\n",
    "make: *** [mpi_amr_guardcell.o] Error 1"
   ]
  },
  {
   "cell_type": "markdown",
   "metadata": {},
   "source": [
    "The error start something here: \n",
    "    "
   ]
  },
  {
   "cell_type": "raw",
   "metadata": {},
   "source": [
    "cc -DH5_USE_16_API  -c -O3 -g -D_LARGEFILE64_SOURCE -D_FORTIFY_SOURCE=2 -diag-disable 10120 -DMAXBLOCKS=1000 -DNXB=8 -DNYB=8 -DNZB=1 -DN_DIM=2 ut_sys_mem_usage.c\n",
    "ftn  -c -g -r8 -i4 -O3 -real_size 64 -diag-disable 10120  -DMAXBLOCKS=1000 -DNXB=8 -DNYB=8 -DNZB=1 -DN_DIM=2 workspace.F90\n",
    "svn: warning: W155007: '/global/project/projectdirs/astro250/doris/FLASH4.3/source' is not a working copy\n",
    "svn: warning: W155007: '/global/project/projectdirs/astro250/doris/FLASH4.3/bin' is not a working copy\n",
    "svn: warning: W155007: '/global/project/projectdirs/astro250/doris/FLASH4.3/source' is not a working copy\n",
    "svn: warning: W155007: '/global/project/projectdirs/astro250/doris/FLASH4.3/bin' is not a working copy\n",
    "ftn  -c -g -r8 -i4 -O3 -real_size 64 -diag-disable 10120  -DMAXBLOCKS=1000 -DNXB=8 -DNYB=8 -DNZB=1 -DN_DIM=2 setup_buildstamp.F90\n",
    "cc -DH5_USE_16_API  -c -O3 -g -D_LARGEFILE64_SOURCE -D_FORTIFY_SOURCE=2 -diag-disable 10120 -DMAXBLOCKS=1000 -DNXB=8 -DNYB=8 -DNZB=1 -DN_DIM=2 setup_buildstats.c\n",
    "ftn  -c -g -r8 -i4 -O3 -real_size 64 -diag-disable 10120  -DMAXBLOCKS=1000 -DNXB=8 -DNYB=8 -DNZB=1 -DN_DIM=2 setup_flashRelease.F90\n",
    "Conductivity.F90(60): error #7002: Error in opening the compiled module file.  Check INCLUDE paths.   [CONDUCTIVITY_INTERFACE]\n",
    "  use Conductivity_interface, ONLY: Conductivity\n",
    "------^\n",
    "Conductivity.F90(81): error #6406: Conflicting attributes or multiple declaration of name.   [CONDUCTIVITY]\n",
    "  call Conductivity(solnVec(7),solnVec(1), &\n",
    "-------^"
   ]
  },
  {
   "cell_type": "code",
   "execution_count": 8,
   "metadata": {
    "collapsed": false,
    "scrolled": false
   },
   "outputs": [],
   "source": [
    "# for i in np.arange(0,6):\n",
    "#     ds = yt.load(\"sedov_hdf5_chk_000{}\".format(i))\n",
    "#     physical_quantity=\"density\"\n",
    "#     slc = yt.SlicePlot(ds, \"z\",physical_quantity)\n",
    "#     slc.annotate_velocity()\n",
    "#     slc.annotate_grids()\n",
    "#     slc.show()"
   ]
  },
  {
   "cell_type": "markdown",
   "metadata": {
    "collapsed": true
   },
   "source": [
    "Okay maybe I 'll try enzo... \n",
    "\n",
    "gosh I can't compile enzo on edison too even though I modified the makefile...'"
   ]
  },
  {
   "cell_type": "markdown",
   "metadata": {},
   "source": [
    "Back to Flash now, trying ``./setup Sedov -auto \" again\n",
    "now it works!! No idea why..."
   ]
  },
  {
   "cell_type": "markdown",
   "metadata": {},
   "source": [
    "Okay we can now compile FLASH even with the badstuff par files removed. "
   ]
  },
  {
   "cell_type": "markdown",
   "metadata": {},
   "source": [
    "It's better to ask for Units using the command lien arguements when you do ./setup so that you don't have to mess with Config"
   ]
  },
  {
   "cell_type": "markdown",
   "metadata": {},
   "source": [
    "specify runtime parameters ;  square brackets define the permissible range of values for the parameters"
   ]
  },
  {
   "cell_type": "raw",
   "metadata": {},
   "source": [
    "./setup UniformSphere -3d"
   ]
  },
  {
   "cell_type": "markdown",
   "metadata": {},
   "source": [
    "Note that the default is 2d so we need to specify 3d explicitly in the argument "
   ]
  },
  {
   "cell_type": "raw",
   "metadata": {},
   "source": [
    "for debugging purposes its useful to look into : \n",
    "    \n",
    "    vim object/uniform_sphere.log"
   ]
  },
  {
   "cell_type": "code",
   "execution_count": null,
   "metadata": {
    "collapsed": true
   },
   "outputs": [],
   "source": []
  }
 ],
 "metadata": {
  "kernelspec": {
   "display_name": "Python 2",
   "language": "python",
   "name": "python2"
  },
  "language_info": {
   "codemirror_mode": {
    "name": "ipython",
    "version": 2
   },
   "file_extension": ".py",
   "mimetype": "text/x-python",
   "name": "python",
   "nbconvert_exporter": "python",
   "pygments_lexer": "ipython2",
   "version": "2.7.10"
  }
 },
 "nbformat": 4,
 "nbformat_minor": 0
}
