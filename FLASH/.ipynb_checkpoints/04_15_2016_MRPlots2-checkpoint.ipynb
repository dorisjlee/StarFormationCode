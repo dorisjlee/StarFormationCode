{
 "cells": [
  {
   "cell_type": "code",
   "execution_count": 4,
   "metadata": {
    "collapsed": false
   },
   "outputs": [
    {
     "name": "stdout",
     "output_type": "stream",
     "text": [
      "Populating the interactive namespace from numpy and matplotlib\n"
     ]
    }
   ],
   "source": [
    "%pylab inline \n",
    "import yt \n",
    "yt.funcs.mylog.setLevel(50) #coerce output null\n",
    "import matplotlib.cm as cm \n",
    "from matplotlib.colors import LogNorm"
   ]
  },
  {
   "cell_type": "code",
   "execution_count": 2,
   "metadata": {
    "collapsed": false
   },
   "outputs": [
    {
     "name": "stdout",
     "output_type": "stream",
     "text": [
      "/global/project/projectdirs/astro250/doris/FLASH4.3_2/object\n"
     ]
    }
   ],
   "source": [
    "cd ~/project/FLASH4.3_2/object/"
   ]
  },
  {
   "cell_type": "code",
   "execution_count": 12,
   "metadata": {
    "collapsed": true
   },
   "outputs": [],
   "source": [
    "G = 6.67e-8 #cgs\n",
    "a = 28730.5 #cm/s"
   ]
  },
  {
   "cell_type": "code",
   "execution_count": 6,
   "metadata": {
    "collapsed": false
   },
   "outputs": [
    {
     "data": {
      "image/png": "[encoded data removed]",
      "text/plain": [
       "<matplotlib.figure.Figure at 0x7fe18bd3e110>"
      ]
     },
     "metadata": {},
     "output_type": "display_data"
    }
   ],
   "source": [
    "i =0 \n",
    "ds = yt.load(\"sod_hdf5_chk_{}\".format(str(i).zfill(4)))\n",
    "lev = 5\n",
    "dim = 2**(lev+3)\n",
    "all_data = ds.covering_grid(level=lev, left_edge=[0,0.0,0.0],dims=[dim,dim,dim])\n",
    "dens_arr =  np.array(all_data[\"density\"])\n",
    "\n",
    "margin = dim/3\n",
    "start  = margin\n",
    "end = dim-margin\n",
    "plt.imshow(dens_arr[start:end,dim/2,start:end],cmap=cm.jet,norm=LogNorm())\n",
    "cell_size = int((ds.domain_width/dim)[0].in_cgs())"
   ]
  },
  {
   "cell_type": "code",
   "execution_count": 7,
   "metadata": {
    "collapsed": false
   },
   "outputs": [
    {
     "name": "stdout",
     "output_type": "stream",
     "text": [
      "86\n",
      "looping through:  636056\n"
     ]
    }
   ],
   "source": [
    "print end-start\n",
    "print \"looping through: \", (end-start)**3"
   ]
  },
  {
   "cell_type": "code",
   "execution_count": 20,
   "metadata": {
    "collapsed": true
   },
   "outputs": [],
   "source": [
    "# xi_range = np.logspace(-3,5)\n",
    "xi_range = np.logspace(0,50,num=10)\n",
    "r_range = xi_range/1.057E-17\n",
    "#let dr = cell_size \n",
    "rcloud =1.59886e18 #xi = 16.90 (/1.057E-17 conv factor) \n",
    "xyzrange = np.arange(start,end)\n",
    "sum_args_list = []\n",
    "for ri in r_range:\n",
    "    sum_args = 0\n",
    "    for i in xyzrange:\n",
    "        for j in xyzrange: \n",
    "            for k in xyzrange: \n",
    "                r = sqrt(i**2+j**2+k**2)*cell_size\n",
    "    #             if rr< rcloud:\n",
    "                if np.isclose(r,ri,atol=cell_size):\n",
    "                    print r\n",
    "                    sum_args+=r**2*dens_arr[i][j][k]*cell_size\n",
    "    sum_args_list.append(sum_args)\n",
    "sum_args_list = np.array(sum_args_list)"
   ]
  },
  {
   "cell_type": "raw",
   "metadata": {},
   "source": [
    "In Simulation_initBlock we used these, \n",
    "rmax=16.90\n",
    "  dr=0.01"
   ]
  },
  {
   "cell_type": "code",
   "execution_count": 21,
   "metadata": {
    "collapsed": false
   },
   "outputs": [
    {
     "data": {
      "text/plain": [
       "array([  9.46073794e+16,   3.40001293e+22,   1.22190129e+28,\n",
       "         4.39128556e+33,   1.57814620e+39,   5.67156339e+44,\n",
       "         2.03825420e+50,   7.32510580e+55,   2.63250653e+61,\n",
       "         9.46073794e+66])"
      ]
     },
     "execution_count": 21,
     "metadata": {},
     "output_type": "execute_result"
    }
   ],
   "source": [
    "r_range"
   ]
  },
  {
   "cell_type": "code",
   "execution_count": 15,
   "metadata": {
    "collapsed": false
   },
   "outputs": [
    {
     "data": {
      "text/plain": [
       "3.90625e+16"
      ]
     },
     "execution_count": 15,
     "metadata": {},
     "output_type": "execute_result"
    }
   ],
   "source": [
    "float(cell_size)"
   ]
  },
  {
   "cell_type": "code",
   "execution_count": 22,
   "metadata": {
    "collapsed": false
   },
   "outputs": [
    {
     "data": {
      "text/plain": [
       "array([0, 0, 0, 0, 0, 0, 0, 0, 0, 0])"
      ]
     },
     "execution_count": 22,
     "metadata": {},
     "output_type": "execute_result"
    }
   ],
   "source": [
    "sum_args_list"
   ]
  },
  {
   "cell_type": "code",
   "execution_count": 13,
   "metadata": {
    "collapsed": false
   },
   "outputs": [
    {
     "data": {
      "text/plain": [
       "[<matplotlib.lines.Line2D at 0x7fe090bafcd0>]"
      ]
     },
     "execution_count": 13,
     "metadata": {},
     "output_type": "execute_result"
    },
    {
     "data": {
      "image/png": "[encoded data removed]",
      "text/plain": [
       "<matplotlib.figure.Figure at 0x7fe19c3cbf50>"
      ]
     },
     "metadata": {},
     "output_type": "display_data"
    }
   ],
   "source": [
    "plt.loglog(xi_range,4*pi*G*sum_args_list/rcloud/a)"
   ]
  },
  {
   "cell_type": "code",
   "execution_count": null,
   "metadata": {
    "collapsed": true
   },
   "outputs": [],
   "source": []
  }
 ],
 "metadata": {
  "kernelspec": {
   "display_name": "Python 2",
   "language": "python",
   "name": "python2"
  },
  "language_info": {
   "codemirror_mode": {
    "name": "ipython",
    "version": 2
   },
   "file_extension": ".py",
   "mimetype": "text/x-python",
   "name": "python",
   "nbconvert_exporter": "python",
   "pygments_lexer": "ipython2",
   "version": "2.7.11"
  }
 },
 "nbformat": 4,
 "nbformat_minor": 0
}
