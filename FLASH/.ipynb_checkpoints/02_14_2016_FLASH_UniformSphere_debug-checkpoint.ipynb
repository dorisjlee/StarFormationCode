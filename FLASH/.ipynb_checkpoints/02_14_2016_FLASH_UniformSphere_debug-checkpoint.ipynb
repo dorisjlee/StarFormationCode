{
 "cells": [
  {
   "cell_type": "code",
   "execution_count": 1,
   "metadata": {
    "collapsed": false
   },
   "outputs": [
    {
     "name": "stdout",
     "output_type": "stream",
     "text": [
      "/global/project/projectdirs/astro250/doris/FLASH4.3/object\n"
     ]
    }
   ],
   "source": [
    "cd ~/project/FLASH4.3/object/"
   ]
  },
  {
   "cell_type": "markdown",
   "metadata": {},
   "source": [
    "How to do gdb debugging with MPI ? "
   ]
  },
  {
   "cell_type": "raw",
   "metadata": {},
   "source": [
    "dorislee@edison08:~/project/FLASH4.3/object> gdb ./flash4\n",
    "GNU gdb (GDB) SUSE (7.5.1-0.7.29)\n",
    "Copyright (C) 2012 Free Software Foundation, Inc.\n",
    "License GPLv3+: GNU GPL version 3 or later <http://gnu.org/licenses/gpl.html>\n",
    "This is free software: you are free to change and redistribute it.\n",
    "There is NO WARRANTY, to the extent permitted by law.  Type \"show copying\"\n",
    "and \"show warranty\" for details.\n",
    "This GDB was configured as \"x86_64-suse-linux\".\n",
    "For bug reporting instructions, please see:\n",
    "<http://www.gnu.org/software/gdb/bugs/>...\n",
    "Reading symbols from /global/project/projectdirs/astro250/doris/FLASH4.3/object/flash4...done.\n",
    "(gdb) r\n",
    "Starting program: /global/project/projectdirs/astro250/doris/FLASH4.3/object/flash4\n",
    "[Thread debugging using libthread_db enabled]\n",
    "Using host libthread_db library \"/lib64/libthread_db.so.1\".\n",
    "[Sun Feb 14 10:38:23 2016] [unknown] Fatal error in MPI_Init: Other MPI error, error stack:\n",
    "MPIR_Init_thread(525):\n",
    "MPID_Init(225).......: channel initialization failed\n",
    "MPID_Init(598).......:  PMI2 init failed: 1\n",
    "\n",
    "Program received signal SIGABRT, Aborted.\n",
    "0x0000000000beadcb in raise (sig=<optimized out>)\n",
    "    at ../nptl/sysdeps/unix/sysv/linux/pt-raise.c:42\n",
    "42\t../nptl/sysdeps/unix/sysv/linux/pt-raise.c: No such file or directory.\n",
    "(gdb) ^Z\n",
    "[2]+  Stopped                 gdb ./flash4\n",
    "dorislee@edison08:~/project/FLASH4.3/object> qint\n",
    "salloc: Pending job allocation 144881\n",
    "salloc: job 144881 queued and waiting for resources\n",
    "salloc: job 144881 has been allocated resources\n",
    "salloc: Granted job allocation 144881\n",
    "salloc: Waiting for resource configuration\n",
    "salloc: Nodes nid00290 are ready for job\n",
    "dorislee@nid00290:~/project/FLASH4.3/object> aprun -n 16 gdb ./flash4\n",
    "craylog: WARNING: log tmp dir /var/spool/cray/llm is not writable\n",
    "aprun: Unable to contact apsys\n",
    "aprun: Exiting due to errors. Application aborted\n",
    "getBatchJobId: can't find ALPS shared files: Cannot stat(2) /ufs/alps_shared: No such file or directory\n",
    "craylog: ERROR: discarding log message: <150>1 2016-02-14T10:41:26.246032-08:00 c1-0c1s8n2 aprun 34834 p0-20160203t195000 [alps_msgs@34] apid=none, Error, user=64581, batch_id=unknown, Unable to contact apsys\n",
    "dorislee@nid00290:~/project/FLASH4.3/object> exit\n",
    "exit\n",
    "srun: error: nid00290: task 0: Exited with exit code 1\n",
    "srun: Terminating job step 144881.0\n",
    "salloc: Relinquishing job allocation 144881\n",
    "salloc: Job allocation 144881 has been revoked."
   ]
  },
  {
   "cell_type": "raw",
   "metadata": {},
   "source": [
    "So I think the error just changed from \n",
    "WARNING: requested real parameter 'rhoOut' not found\n",
    "\n",
    "WARNING: requested real parameter 'sim_gamma' not found"
   ]
  },
  {
   "cell_type": "raw",
   "metadata": {},
   "source": [
    "which means that rhoOut is probably getting read now ."
   ]
  },
  {
   "cell_type": "markdown",
   "metadata": {},
   "source": [
    "The only thing that I changed was ReadParameter (' stuff') into double quote ReadParameter(\"stuff\")"
   ]
  },
  {
   "cell_type": "raw",
   "metadata": {},
   "source": [
    " WARNING: requested real parameter 'sim_gamma' not found"
   ]
  },
  {
   "cell_type": "markdown",
   "metadata": {},
   "source": [
    "Okay great! so now its working, so yes ' is not equal to  \" apparently ..."
   ]
  },
  {
   "cell_type": "raw",
   "metadata": {},
   "source": [
    "Finished calling RuntimeParameters_get inside Simulation_init\n",
    " Finished calling RuntimeParameters_get inside Simulation_init\n",
    " Finished calling RuntimeParameters_get inside Simulation_init\n",
    " Finished calling RuntimeParameters_get inside Simulation_init\n",
    " Finished calling RuntimeParameters_get inside Simulation_init\n",
    " Finished calling RuntimeParameters_get inside Simulation_init\n",
    " Finished calling RuntimeParameters_get inside Simulation_init\n",
    " Finished calling RuntimeParameters_get inside Simulation_init\n",
    " Finished calling RuntimeParameters_get inside Simulation_init\n",
    " Finished calling RuntimeParameters_get inside Simulation_init\n",
    " Finished calling RuntimeParameters_get inside Simulation_init\n",
    " Finished calling RuntimeParameters_get inside Simulation_init\n",
    " Finished calling RuntimeParameters_get inside Simulation_init\n",
    " Finished calling RuntimeParameters_get inside Simulation_init\n",
    " Finished calling RuntimeParameters_get inside Simulation_init\n",
    " Grid_init: resolution based on runtime params:\n",
    "  lrefine          dx              dy              dz\n",
    "      6             0.004           0.004           0.004\n",
    " MaterialProperties initialized\n",
    " Cosmology initialized\n",
    " Source terms initialized\n",
    " Finished calling RuntimeParameters_get inside Simulation_init\n",
    "  iteration, no. not moved =            0           0\n",
    " refined: total leaf blocks =            8\n",
    " refined: total blocks =            9\n",
    " begin Simulation_initBlock\n",
    " begin Simulation_initBlock\n",
    " begin Simulation_initBlock\n",
    " begin Simulation_initBlock\n",
    " begin Simulation_initBlock\n",
    " begin Simulation_initBlock\n",
    " begin Simulation_initBlock\n",
    " begin Simulation_initBlock\n",
    " begin Simulation_initBlock\n",
    " INFO: Grid_fillGuardCells is ignoring masking.\n",
    "  iteration, no. not moved =            0           7\n",
    "  iteration, no. not moved =            1           3\n",
    "  iteration, no. not moved =            2           0\n",
    " refined: total leaf blocks =           64\n",
    " refined: total blocks =           73"
   ]
  },
  {
   "cell_type": "markdown",
   "metadata": {},
   "source": [
    "But apparently it doesn't really matter : \n",
    "\n",
    "http://stackoverflow.com/questions/30997887/difference-between-double-and-single-quotation-marks-in-fortran'"
   ]
  },
  {
   "cell_type": "markdown",
   "metadata": {},
   "source": [
    "so i have no idea why it works now.."
   ]
  },
  {
   "cell_type": "markdown",
   "metadata": {},
   "source": [
    "Now the error: "
   ]
  },
  {
   "cell_type": "raw",
   "metadata": {},
   "source": [
    "Too many blocks!  Increase MAXBLOCKS or use more processors."
   ]
  },
  {
   "cell_type": "code",
   "execution_count": null,
   "metadata": {
    "collapsed": true
   },
   "outputs": [],
   "source": []
  }
 ],
 "metadata": {
  "kernelspec": {
   "display_name": "Python 2",
   "language": "python",
   "name": "python2"
  },
  "language_info": {
   "codemirror_mode": {
    "name": "ipython",
    "version": 2
   },
   "file_extension": ".py",
   "mimetype": "text/x-python",
   "name": "python",
   "nbconvert_exporter": "python",
   "pygments_lexer": "ipython2",
   "version": "2.7.10"
  }
 },
 "nbformat": 4,
 "nbformat_minor": 0
}
