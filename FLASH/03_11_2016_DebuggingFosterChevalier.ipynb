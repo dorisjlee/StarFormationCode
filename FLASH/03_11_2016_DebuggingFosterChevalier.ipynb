{
 "cells": [
  {
   "cell_type": "code",
   "execution_count": 1,
   "metadata": {
    "collapsed": false
   },
   "outputs": [
    {
     "name": "stdout",
     "output_type": "stream",
     "text": [
      "Populating the interactive namespace from numpy and matplotlib\n"
     ]
    }
   ],
   "source": [
    "import yt\n",
    "yt.mylog.setLevel(50)\n",
    "%pylab inline"
   ]
  },
  {
   "cell_type": "code",
   "execution_count": 2,
   "metadata": {
    "collapsed": false
   },
   "outputs": [
    {
     "name": "stdout",
     "output_type": "stream",
     "text": [
      "/global/project/projectdirs/astro250/doris/FLASH4.3/object\n"
     ]
    }
   ],
   "source": [
    "cd ~/project/FLASH4.3/object/"
   ]
  },
  {
   "cell_type": "code",
   "execution_count": null,
   "metadata": {
    "collapsed": true
   },
   "outputs": [],
   "source": [
    "Setting temperature contrast as 1"
   ]
  },
  {
   "cell_type": "code",
   "execution_count": 4,
   "metadata": {
    "collapsed": false
   },
   "outputs": [],
   "source": [
    "def plot_all(i):\n",
    "    ds = yt.load(\"sod_hdf5_chk_{}\".format(str(i).zfill(4)))\n",
    "    physical_quantity=\"density\"\n",
    "    slc = yt.SlicePlot(ds, \"z\",physical_quantity)#,center=(0.5,0.5,0.5))\n",
    "    slc.set_figure_size(5)\n",
    "    slc.annotate_grids()\n",
    "    slc.set_cmap(\"all\",\"rainbow\")\n",
    "    slc.show()\n",
    "\n",
    "    physical_quantity=\"pressure\"\n",
    "    slc = yt.SlicePlot(ds, \"z\",physical_quantity)#,center=(0.5,0.5,0.5))\n",
    "    slc.set_cmap(\"all\",\"rainbow\")\n",
    "    slc.set_figure_size(5)\n",
    "    slc.set_log(\"all\", False)\n",
    "    # slc.set_zlim(physical_quantity,58,60)\n",
    "    slc.show()\n",
    "\n",
    "    physical_quantity=\"temperature\"\n",
    "    slc = yt.SlicePlot(ds, \"z\",physical_quantity)#,center=(0.5,0.5,0.5))\n",
    "    slc.set_cmap(\"all\",\"rainbow\")\n",
    "    slc.set_figure_size(5)\n",
    "    # slc.set_log(\"all\", False)\n",
    "    # slc.set_zlim(physical_quantity,58,60)\n",
    "    slc.show()"
   ]
  },
  {
   "cell_type": "code",
   "execution_count": null,
   "metadata": {
    "collapsed": true
   },
   "outputs": [],
   "source": [
    "for i in np.arange(13):\n",
    "    plot_all(i)"
   ]
  }
 ],
 "metadata": {
  "kernelspec": {
   "display_name": "Python 2",
   "language": "python",
   "name": "python2"
  },
  "language_info": {
   "codemirror_mode": {
    "name": "ipython",
    "version": 2
   },
   "file_extension": ".py",
   "mimetype": "text/x-python",
   "name": "python",
   "nbconvert_exporter": "python",
   "pygments_lexer": "ipython2",
   "version": "2.7.10"
  }
 },
 "nbformat": 4,
 "nbformat_minor": 0
}
