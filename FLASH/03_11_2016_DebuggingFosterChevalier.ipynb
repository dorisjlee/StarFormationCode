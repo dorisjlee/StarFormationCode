{
 "cells": [
  {
   "cell_type": "code",
   "execution_count": 1,
   "metadata": {
    "collapsed": false
   },
   "outputs": [
    {
     "name": "stdout",
     "output_type": "stream",
     "text": [
      "Populating the interactive namespace from numpy and matplotlib\n"
     ]
    }
   ],
   "source": [
    "import yt\n",
    "yt.mylog.setLevel(50)\n",
    "%pylab inline"
   ]
  },
  {
   "cell_type": "code",
   "execution_count": 2,
   "metadata": {
    "collapsed": false
   },
   "outputs": [
    {
     "name": "stdout",
     "output_type": "stream",
     "text": [
      "/global/project/projectdirs/astro250/doris/FLASH4.3/object\n"
     ]
    }
   ],
   "source": [
    "cd ~/project/FLASH4.3/object/"
   ]
  },
  {
   "cell_type": "markdown",
   "metadata": {},
   "source": [
    "Setting sound speed contrast on inside and outside as 10"
   ]
  },
  {
   "cell_type": "markdown",
   "metadata": {},
   "source": [
    "rho_min*10^-2"
   ]
  },
  {
   "cell_type": "markdown",
   "metadata": {},
   "source": [
    "7.9856E-23"
   ]
  },
  {
   "cell_type": "markdown",
   "metadata": {},
   "source": [
    "6.591E-12 !ideal gas law (T=10^7K outside)"
   ]
  },
  {
   "cell_type": "markdown",
   "metadata": {},
   "source": [
    "now T = 100*10 = 1000K outside\n",
    "lower than before by 4 orders of magnitude \n",
    "6.591E-16"
   ]
  },
  {
   "cell_type": "markdown",
   "metadata": {},
   "source": [
    "but these values are still quite small and might hit density floor why don't we just set rho_c as 1 '"
   ]
  },
  {
   "cell_type": "markdown",
   "metadata": {},
   "source": [
    "When you set rho_c as 1 you also need to change normalization on rc = rr* (constant) "
   ]
  },
  {
   "cell_type": "code",
   "execution_count": 4,
   "metadata": {
    "collapsed": false
   },
   "outputs": [],
   "source": [
    "def plot_all(i):\n",
    "    ds = yt.load(\"sod_hdf5_chk_{}\".format(str(i).zfill(4)))\n",
    "    physical_quantity=\"density\"\n",
    "    slc = yt.SlicePlot(ds, \"z\",physical_quantity)#,center=(0.5,0.5,0.5))\n",
    "    slc.set_figure_size(5)\n",
    "    slc.annotate_grids()\n",
    "    slc.set_cmap(\"all\",\"rainbow\")\n",
    "    slc.show()\n",
    "\n",
    "    physical_quantity=\"pressure\"\n",
    "    slc = yt.SlicePlot(ds, \"z\",physical_quantity)#,center=(0.5,0.5,0.5))\n",
    "    slc.set_cmap(\"all\",\"rainbow\")\n",
    "    slc.set_figure_size(5)\n",
    "    slc.set_log(\"all\", False)\n",
    "    # slc.set_zlim(physical_quantity,58,60)\n",
    "    slc.show()\n",
    "\n",
    "    physical_quantity=\"temperature\"\n",
    "    slc = yt.SlicePlot(ds, \"z\",physical_quantity)#,center=(0.5,0.5,0.5))\n",
    "    slc.set_cmap(\"all\",\"rainbow\")\n",
    "    slc.set_figure_size(5)\n",
    "    # slc.set_log(\"all\", False)\n",
    "    # slc.set_zlim(physical_quantity,58,60)\n",
    "    slc.show()"
   ]
  },
  {
   "cell_type": "code",
   "execution_count": null,
   "metadata": {
    "collapsed": true
   },
   "outputs": [],
   "source": [
    "for i in np.arange(13):\n",
    "    plot_all(i)"
   ]
  }
 ],
 "metadata": {
  "kernelspec": {
   "display_name": "Python 2",
   "language": "python",
   "name": "python2"
  },
  "language_info": {
   "codemirror_mode": {
    "name": "ipython",
    "version": 2
   },
   "file_extension": ".py",
   "mimetype": "text/x-python",
   "name": "python",
   "nbconvert_exporter": "python",
   "pygments_lexer": "ipython2",
   "version": "2.7.10"
  }
 },
 "nbformat": 4,
 "nbformat_minor": 0
}
