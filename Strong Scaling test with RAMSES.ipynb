{
 "metadata": {
  "name": "",
  "signature": "sha256:caaf53994228c38694935635add454625a3de980a4a71607f35aea2ea684fb3c"
 },
 "nbformat": 3,
 "nbformat_minor": 0,
 "worksheets": [
  {
   "cells": [
    {
     "cell_type": "heading",
     "level": 1,
     "metadata": {},
     "source": [
      "Strong Scaling test on RAMSES "
     ]
    },
    {
     "cell_type": "markdown",
     "metadata": {},
     "source": [
      "9028078.hopque01: The sedov3d test actually runs longer than 30 minutes so it crashed during runtime because I only requested 30 minutes of wall time. (This is done with 8 cores), since the debug queue has max 30min limit. I switched to the ``regular\" queue."
     ]
    },
    {
     "cell_type": "markdown",
     "metadata": {},
     "source": [
      "Not sure why it crashes (kill signal), worked before in that case^ but not when I switched back to debug queue "
     ]
    },
    {
     "cell_type": "markdown",
     "metadata": {},
     "source": [
      "- The reason why it kept crashing was that I didn't move the output_00001/ folder out to the directory, so once it gets to the part where it starts writing the simulation results into the directory. It errors because File_exist_error\n",
      "    - SO, BAD DEBUGGING MESSAGE BY MPI!!!!\n",
      "- it works again if I moved the output_00001 out to another directory"
     ]
    },
    {
     "cell_type": "code",
     "collapsed": false,
     "input": [],
     "language": "python",
     "metadata": {},
     "outputs": []
    }
   ],
   "metadata": {}
  }
 ]
}