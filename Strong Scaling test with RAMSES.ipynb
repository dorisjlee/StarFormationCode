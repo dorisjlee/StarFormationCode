{
 "metadata": {
  "name": "",
  "signature": "sha256:4fd88807a44aae6e9490425a65f534438cfecffb45198c6845416b58969620ff"
 },
 "nbformat": 3,
 "nbformat_minor": 0,
 "worksheets": [
  {
   "cells": [
    {
     "cell_type": "markdown",
     "metadata": {},
     "source": [
      "Strong Scaling test on RAMSES "
     ]
    },
    {
     "cell_type": "markdown",
     "metadata": {},
     "source": [
      "9028078.hopque01: The sedov3d test actually runs longer than 30 minutes so it crashed during runtime because I only requested 30 minutes of wall time. (This is done with 8 cores), since the debug queue has "
     ]
    },
    {
     "cell_type": "code",
     "collapsed": false,
     "input": [
      " "
     ],
     "language": "python",
     "metadata": {},
     "outputs": []
    }
   ],
   "metadata": {}
  }
 ]
}