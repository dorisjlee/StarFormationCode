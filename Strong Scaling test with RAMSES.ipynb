{
 "cells": [
  {
   "cell_type": "markdown",
   "metadata": {},
   "source": [
    "# Strong Scaling test on RAMSES "
   ]
  },
  {
   "cell_type": "markdown",
   "metadata": {},
   "source": [
    "9028078.hopque01: The sedov3d test actually runs longer than 30 minutes so it crashed during runtime because I only requested 30 minutes of wall time. (This is done with 8 cores), since the debug queue has max 30min limit. I switched to the ``regular\" queue."
   ]
  },
  {
   "cell_type": "markdown",
   "metadata": {},
   "source": [
    "Not sure why it crashes (kill signal), worked before in that case^ but not when I switched back to debug queue "
   ]
  },
  {
   "cell_type": "markdown",
   "metadata": {},
   "source": [
    "- The reason why it kept crashing was that I didn't move the output_00001/ folder out to the directory, so once it gets to the part where it starts writing the simulation results into the directory. It errors because File_exist_error\n",
    "    - SO, BAD DEBUGGING MESSAGE BY MPI!!!!\n",
    "- it works again if I moved the output_00001 out to another directory"
   ]
  },
  {
   "cell_type": "code",
   "execution_count": null,
   "metadata": {
    "collapsed": false
   },
   "outputs": [],
   "source": []
  }
 ],
 "metadata": {
  "kernelspec": {
   "display_name": "Python 3",
   "language": "python",
   "name": "python3"
  },
  "language_info": {
   "codemirror_mode": {
    "name": "ipython",
    "version": 3
   },
   "file_extension": ".py",
   "mimetype": "text/x-python",
   "name": "python",
   "nbconvert_exporter": "python",
   "pygments_lexer": "ipython3",
   "version": "3.4.1"
  }
 },
 "nbformat": 4,
 "nbformat_minor": 0
}
