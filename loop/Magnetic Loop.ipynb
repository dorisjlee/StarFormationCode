{
 "metadata": {
  "name": "",
  "signature": "sha256:96f37c123c07948f94f311a25ed43af38d0baafe72db2139d38ebcb6056ca2be"
 },
 "nbformat": 3,
 "nbformat_minor": 0,
 "worksheets": [
  {
   "cells": [
    {
     "cell_type": "code",
     "collapsed": false,
     "input": [
      "%pylab inline"
     ],
     "language": "python",
     "metadata": {},
     "outputs": [
      {
       "output_type": "stream",
       "stream": "stdout",
       "text": [
        "Populating the interactive namespace from numpy and matplotlib\n"
       ]
      }
     ],
     "prompt_number": 1
    },
    {
     "cell_type": "code",
     "collapsed": false,
     "input": [
      "cd ../../ramses/trunk/ramses/patch/mhd/loop"
     ],
     "language": "python",
     "metadata": {},
     "outputs": [
      {
       "output_type": "stream",
       "stream": "stdout",
       "text": [
        "/Users/dorislee/Desktop/StarFormation/ramses/trunk/ramses/patch/mhd/loop\n"
       ]
      }
     ],
     "prompt_number": 2
    },
    {
     "cell_type": "markdown",
     "metadata": {},
     "source": [
      "Tried taking out these hydro param but still can't run"
     ]
    },
    {
     "cell_type": "code",
     "collapsed": false,
     "input": [
      "&REFINE_PARAMS\n",
      "err_grad_b2=0.05\n",
      "\n",
      "\n",
      "&REFINE_PARAMS\n",
      "floor_b2=1d-8\n",
      "interpol_var=0"
     ],
     "language": "python",
     "metadata": {},
     "outputs": []
    },
    {
     "cell_type": "markdown",
     "metadata": {},
     "source": [
      "``Fortran runtime error: Cannot match namelist object name riemann2d``"
     ]
    },
    {
     "cell_type": "markdown",
     "metadata": {},
     "source": [
      "`` unknown Riemann solver\n",
      "Note: The following floating-point exceptions are signalling: IEEE_INVALID_FLAG``"
     ]
    },
    {
     "cell_type": "code",
     "collapsed": false,
     "input": [
      "import os\n",
      "os.system(\"ramses1d loop.nml > data.dat\")"
     ],
     "language": "python",
     "metadata": {},
     "outputs": []
    }
   ],
   "metadata": {}
  }
 ]
}