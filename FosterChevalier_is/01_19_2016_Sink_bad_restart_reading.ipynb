{
 "cells": [
  {
   "cell_type": "markdown",
   "metadata": {},
   "source": [
    "Yes so this is an effect of bad restart read out because I tried to progress onto timestep 14 and it was okay so it confirms that that was an issue with the restart "
   ]
  },
  {
   "cell_type": "raw",
   "metadata": {},
   "source": [
    "after 102\n",
    " IOstat:          -1\n",
    " Info:   6.953355805177326E-310  9.463681202657909E-317  6.953355805187603E-310\n",
    "  1.259867396895179E-321  6.953355805906963E-310  9.459167418917503E-317\n",
    "  4.314358589052622E-317  6.953355805906963E-310  3.943889887371959E-317\n",
    "  6.953355805189184E-310\n",
    " Vector info:            2  6.953355805177326E-310   70.0000000000000\n",
    "   70.0000000000000        70.0000000000000       6.953355805906963E-310\n",
    "  9.459167418917503E-317  4.314358589052622E-317  6.953355805906963E-310\n",
    "  3.943889887371959E-317  6.953355805189184E-310  0.130020053916212"
   ]
  },
  {
   "cell_type": "raw",
   "metadata": {},
   "source": [
    "Looking for file ic_sink_restart:\n",
    " ic_sink_restart"
   ]
  },
  {
   "cell_type": "markdown",
   "metadata": {},
   "source": [
    "So I don't have the ic_sink_restart file, that might explain it,now I just copied it from ic_sink: "
   ]
  },
  {
   "cell_type": "markdown",
   "metadata": {},
   "source": [
    "Okay now it looks like it is reading in the proper thing "
   ]
  },
  {
   "cell_type": "raw",
   "metadata": {},
   "source": [
    " Info before end do :   1.000000000000000E-010  1.000000000000000E-008\n",
    "  1.000000000000000E-008  1.000000000000000E-008  1.000000000000000E-008\n",
    "  1.000000000000000E-008  1.000000000000000E-008  1.000000000000000E-008\n",
    "  1.000000000000000E-008  1.000000000000000E-008\n",
    " after 102\n",
    " IOstat:           0\n",
    " Info:   1.000000000000000E-010  1.000000000000000E-008  1.000000000000000E-008\n",
    "  1.000000000000000E-008  1.000000000000000E-008  1.000000000000000E-008\n",
    "  1.000000000000000E-008  1.000000000000000E-008  1.000000000000000E-008\n",
    "  1.000000000000000E-008\n",
    " Vector info:            2  1.000000000000000E-010   70.0000000100000\n",
    "   70.0000000100000        70.0000000100000       1.000000000000000E-008\n",
    "  1.000000000000000E-008  1.000000000000000E-008  1.000000000000000E-008\n",
    "  1.000000000000000E-008  1.000000000000000E-008  0.130020053916212\n",
    " Reading stuff from ic_sink"
   ]
  },
  {
   "cell_type": "markdown",
   "metadata": {},
   "source": [
    "So nothing is drifting off now !! "
   ]
  },
  {
   "cell_type": "markdown",
   "metadata": {},
   "source": [
    "# Mass accretion rate onto sink "
   ]
  },
  {
   "cell_type": "code",
   "execution_count": 1,
   "metadata": {
    "collapsed": false
   },
   "outputs": [
    {
     "name": "stdout",
     "output_type": "stream",
     "text": [
      "Populating the interactive namespace from numpy and matplotlib\n"
     ]
    }
   ],
   "source": [
    "%pylab inline\n",
    "import glob \n",
    "import plot_is"
   ]
  },
  {
   "cell_type": "code",
   "execution_count": 2,
   "metadata": {
    "collapsed": false
   },
   "outputs": [
    {
     "name": "stdout",
     "output_type": "stream",
     "text": [
      "/global/project/projectdirs/astro250/doris/ramses/trunk/ramses/bin\n"
     ]
    }
   ],
   "source": [
    "cd /project/projectdirs/astro250/doris/ramses/trunk/ramses/bin"
   ]
  },
  {
   "cell_type": "code",
   "execution_count": 14,
   "metadata": {
    "collapsed": true
   },
   "outputs": [],
   "source": [
    "msink=[]\n",
    "end_timestep = 32\n",
    "for timestep in np.arange(1,end_timestep): \n",
    "    sink_info = np.loadtxt(\"output_{0}/sink_{0}.info\".format(str(timestep).zfill(5)),comments=\"=\",skiprows=4)\n",
    "    msink.append(sink_info[1])"
   ]
  },
  {
   "cell_type": "code",
   "execution_count": 15,
   "metadata": {
    "collapsed": false
   },
   "outputs": [
    {
     "name": "stdout",
     "output_type": "stream",
     "text": [
      "r_to_xi_factor: 1.05686863016e-17\n",
      "t_to_tau_factor:  3.03643641787e-13\n",
      "M_to_m_factor:  8.54005117358e-34\n"
     ]
    }
   ],
   "source": [
    "rho_c = 1.1e-19\n",
    "G = 6.67e-8\n",
    "a  = 28730.5#in cm/s from sqrt(kT/m) where T = 10K\n",
    "delta_tout=0.1\n",
    "r_to_xi_factor = sqrt(4*pi*rho_c*G)/a\n",
    "t_to_tau_factor = sqrt(4*pi*G*rho_c)\n",
    "l_scale = 4.947e16 #code units --> cgs conversion \n",
    "t_scale = 1.95482e12\n",
    "M_to_m_factor = G*sqrt(4*pi*G*rho_c)/a**3\n",
    "M_sun =  1.9891e33 #grams\n",
    "print \"r_to_xi_factor:\", r_to_xi_factor\n",
    "print \"t_to_tau_factor: \",t_to_tau_factor\n",
    "print \"M_to_m_factor: \", M_to_m_factor"
   ]
  },
  {
   "cell_type": "code",
   "execution_count": 51,
   "metadata": {
    "collapsed": false
   },
   "outputs": [
    {
     "data": {
      "text/plain": [
       "<matplotlib.text.Text at 0x7fa6cbedd610>"
      ]
     },
     "execution_count": 51,
     "metadata": {},
     "output_type": "execute_result"
    },
    {
     "data": {
      "image/png": "[encoded data removed]",
      "text/plain": [
       "<matplotlib.figure.Figure at 0x7fa6cbf366d0>"
      ]
     },
     "metadata": {},
     "output_type": "display_data"
    }
   ],
   "source": [
    "dt =  delta_tout*t_scale #seconds  #uniform timestep outputs [0.0618 Myrs]\n",
    "m = np.array(msink)*M_sun*M_to_m_factor\n",
    "tstep  = np.arange(1,end_timestep)\n",
    "tau = tstep*dt*t_to_tau_factor\n",
    "plt.plot(tau,m,'.')\n",
    "plt.plot(tau,m)\n",
    "plt.xlabel(\"tau\")\n",
    "plt.ylabel(\"m\")"
   ]
  },
  {
   "cell_type": "code",
   "execution_count": 52,
   "metadata": {
    "collapsed": false
   },
   "outputs": [
    {
     "data": {
      "text/plain": [
       "195482000000.0"
      ]
     },
     "execution_count": 52,
     "metadata": {},
     "output_type": "execute_result"
    }
   ],
   "source": [
    "dt"
   ]
  },
  {
   "cell_type": "code",
   "execution_count": 55,
   "metadata": {
    "collapsed": false
   },
   "outputs": [],
   "source": [
    "dt = (np.roll(tau,-1)-tau)[1]"
   ]
  },
  {
   "cell_type": "code",
   "execution_count": 54,
   "metadata": {
    "collapsed": false
   },
   "outputs": [
    {
     "data": {
      "text/plain": [
       "[<matplotlib.lines.Line2D at 0x7fa6cbd8a310>]"
      ]
     },
     "execution_count": 54,
     "metadata": {},
     "output_type": "execute_result"
    },
    {
     "data": {
      "image/png": "[encoded data removed]",
      "text/plain": [
       "<matplotlib.figure.Figure at 0x7fa6cbe30190>"
      ]
     },
     "metadata": {},
     "output_type": "display_data"
    }
   ],
   "source": [
    "plt.plot( np.roll(m,1),'.')\n",
    "plt.plot(m,'x',color=\"red\")"
   ]
  },
  {
   "cell_type": "code",
   "execution_count": 56,
   "metadata": {
    "collapsed": false
   },
   "outputs": [
    {
     "data": {
      "text/plain": [
       "[<matplotlib.lines.Line2D at 0x7fa6cbc6e610>]"
      ]
     },
     "execution_count": 56,
     "metadata": {},
     "output_type": "execute_result"
    },
    {
     "data": {
      "image/png": "[encoded data removed]",
      "text/plain": [
       "<matplotlib.figure.Figure at 0x7fa6cbd8ac90>"
      ]
     },
     "metadata": {},
     "output_type": "display_data"
    }
   ],
   "source": [
    "plt.plot(tau,dm/dt,'.')"
   ]
  },
  {
   "cell_type": "code",
   "execution_count": 57,
   "metadata": {
    "collapsed": false
   },
   "outputs": [
    {
     "data": {
      "text/plain": [
       "array([ 0.01436172, -0.00048799, -0.00048245, -0.00048587, -0.00048151,\n",
       "       -0.00048493, -0.00048059, -0.00048401, -0.00048355, -0.00047923,\n",
       "       -0.00048265, -0.00047835, -0.00048177, -0.00047749, -0.00048091,\n",
       "       -0.00047665, -0.00048007, -0.00047582, -0.00047925, -0.00047502,\n",
       "       -0.00047846, -0.00047807, -0.00047386, -0.0004773 , -0.00047312,\n",
       "       -0.00047657, -0.0004724 , -0.00047586, -0.00047171, -0.00047517,\n",
       "       -0.00047104])"
      ]
     },
     "execution_count": 57,
     "metadata": {},
     "output_type": "execute_result"
    }
   ],
   "source": [
    "dm"
   ]
  },
  {
   "cell_type": "code",
   "execution_count": 58,
   "metadata": {
    "collapsed": false
   },
   "outputs": [
    {
     "data": {
      "text/plain": [
       "0.059356866383768123"
      ]
     },
     "execution_count": 58,
     "metadata": {},
     "output_type": "execute_result"
    }
   ],
   "source": [
    "dt"
   ]
  },
  {
   "cell_type": "code",
   "execution_count": 59,
   "metadata": {
    "collapsed": false
   },
   "outputs": [
    {
     "data": {
      "text/plain": [
       "[<matplotlib.lines.Line2D at 0x7fa7865eaa50>]"
      ]
     },
     "execution_count": 59,
     "metadata": {},
     "output_type": "execute_result"
    },
    {
     "data": {
      "image/png": "[encoded data removed]",
      "text/plain": [
       "<matplotlib.figure.Figure at 0x7fa6cbca7050>"
      ]
     },
     "metadata": {},
     "output_type": "display_data"
    }
   ],
   "source": [
    "dm = np.roll(m,1)-m\n",
    "Mdot =  (dm/dt)#[1:-1] #M_sun/second\n",
    "plt.plot(tau[1:],-Mdot[1:],'.')"
   ]
  },
  {
   "cell_type": "code",
   "execution_count": 42,
   "metadata": {
    "collapsed": false
   },
   "outputs": [
    {
     "data": {
      "text/plain": [
       "array([ -7.34682391e-14,   2.49635822e-15,   2.46801052e-15,\n",
       "         2.48548834e-15,   2.46321809e-15,   2.48068896e-15,\n",
       "         2.45849518e-15,   2.47597039e-15,   2.47364152e-15,\n",
       "         2.45155202e-15,   2.46904461e-15,   2.44705070e-15,\n",
       "         2.46454329e-15,   2.44262758e-15,   2.46014624e-15,\n",
       "         2.43830875e-15,   2.45584479e-15,   2.43410288e-15,\n",
       "         2.45165630e-15,   2.43000998e-15,   2.44758078e-15,\n",
       "         2.44557343e-15,   2.42407484e-15,   2.44168040e-15,\n",
       "         2.42026870e-15,   2.43791771e-15,   2.41660160e-15,\n",
       "         2.43428537e-15,   2.41305616e-15,   2.43078337e-15,\n",
       "         2.40965844e-15])"
      ]
     },
     "execution_count": 42,
     "metadata": {},
     "output_type": "execute_result"
    }
   ],
   "source": [
    "-Mdot"
   ]
  },
  {
   "cell_type": "markdown",
   "metadata": {},
   "source": [
    "This looks like effects of rolling systematics but its not, you only get this because you are at 10^-15 level. \n",
    "In any case the mass accretion rate is approximately constant which doesn't agree with Fig 3 .'"
   ]
  },
  {
   "cell_type": "code",
   "execution_count": null,
   "metadata": {
    "collapsed": true
   },
   "outputs": [],
   "source": []
  }
 ],
 "metadata": {
  "kernelspec": {
   "display_name": "Python 2",
   "language": "python",
   "name": "python2"
  },
  "language_info": {
   "codemirror_mode": {
    "name": "ipython",
    "version": 2
   },
   "file_extension": ".py",
   "mimetype": "text/x-python",
   "name": "python",
   "nbconvert_exporter": "python",
   "pygments_lexer": "ipython2",
   "version": "2.7.10"
  }
 },
 "nbformat": 4,
 "nbformat_minor": 0
}
