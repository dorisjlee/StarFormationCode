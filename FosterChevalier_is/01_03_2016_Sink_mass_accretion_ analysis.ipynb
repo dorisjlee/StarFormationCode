{
 "cells": [
  {
   "cell_type": "code",
   "execution_count": 11,
   "metadata": {
    "collapsed": false
   },
   "outputs": [
    {
     "name": "stdout",
     "output_type": "stream",
     "text": [
      "Populating the interactive namespace from numpy and matplotlib\n"
     ]
    }
   ],
   "source": [
    "%pylab inline\n",
    "import glob "
   ]
  },
  {
   "cell_type": "code",
   "execution_count": 1,
   "metadata": {
    "collapsed": false
   },
   "outputs": [
    {
     "name": "stdout",
     "output_type": "stream",
     "text": [
      "/global/project/projectdirs/astro250/doris/ramses/trunk/ramses/bin\n"
     ]
    }
   ],
   "source": [
    "cd /project/projectdirs/astro250/doris/ramses/trunk/ramses/bin"
   ]
  },
  {
   "cell_type": "code",
   "execution_count": 10,
   "metadata": {
    "collapsed": false
   },
   "outputs": [
    {
     "name": "stdout",
     "output_type": "stream",
     "text": [
      "[  1.00000000e+00   2.37497100e-06   7.00000000e+01   7.00000000e+01\n",
      "   7.00000000e+01   1.00000000e-08   1.00000000e-08   1.00000000e-08]\n"
     ]
    }
   ],
   "source": [
    "timestep = 1\n",
    "# id, mass (msol), x, y ,z, vx,vy,vz\n",
    "sink_info = np.loadtxt(\"output_00001/sink_00001.info\",comments=\"=\",skiprows=4)\n",
    "print sink_info"
   ]
  },
  {
   "cell_type": "code",
   "execution_count": 9,
   "metadata": {
    "collapsed": false
   },
   "outputs": [
    {
     "data": {
      "text/plain": [
       "2.374971e-06"
      ]
     },
     "execution_count": 9,
     "metadata": {},
     "output_type": "execute_result"
    }
   ],
   "source": [
    "sink_info[1]"
   ]
  },
  {
   "cell_type": "code",
   "execution_count": 17,
   "metadata": {
    "collapsed": false
   },
   "outputs": [],
   "source": [
    "msink=[]\n",
    "for timestep in np.arange(1,15): \n",
    "    sink_info = np.loadtxt(\"output_{0}/sink_{0}.info\".format(str(timestep).zfill(5)),comments=\"=\",skiprows=4)\n",
    "    msink.append(sink_info[1])"
   ]
  },
  {
   "cell_type": "code",
   "execution_count": 18,
   "metadata": {
    "collapsed": false
   },
   "outputs": [
    {
     "data": {
      "text/plain": [
       "[2.374971e-06,\n",
       " 0.00028845079999999999,\n",
       " 0.00057475690000000003,\n",
       " 0.00085849570000000005,\n",
       " 0.001144246,\n",
       " 0.0014274369999999999,\n",
       " 0.0017126400000000001,\n",
       " 0.0019975710000000001,\n",
       " 0.0022799560000000001,\n",
       " 0.002564354,\n",
       " 0.0028462159999999999,\n",
       " 0.0031300899999999999,\n",
       " 0.0034114380000000001,\n",
       " 0.0036948010000000002]"
      ]
     },
     "execution_count": 18,
     "metadata": {},
     "output_type": "execute_result"
    }
   ],
   "source": [
    "msink"
   ]
  },
  {
   "cell_type": "code",
   "execution_count": 50,
   "metadata": {
    "collapsed": false
   },
   "outputs": [
    {
     "name": "stdout",
     "output_type": "stream",
     "text": [
      "1.05686863016e-17\n",
      "3.03643641787e-13\n",
      "8.54005117358e-34\n"
     ]
    }
   ],
   "source": [
    "rho_c = 1.1e-19\n",
    "G = 6.67e-8\n",
    "a  = 28730.5#in cm/s from sqrt(kT/m) where T = 10K\n",
    "r_to_xi_factor = sqrt(4*pi*rho_c*G)/a\n",
    "t_to_tau_factor = sqrt(4*pi*G*rho_c)\n",
    "l_scale = 4.947e16 #code units --> cgs conversion \n",
    "t_scale = 1.95482e12\n",
    "M_to_m_factor = G*sqrt(4*pi*G*rho_c)/a**3\n",
    "M_sun =  1.9891e33 #grams\n",
    "print r_to_xi_factor\n",
    "print t_to_tau_factor\n",
    "print M_to_m_factor"
   ]
  },
  {
   "cell_type": "code",
   "execution_count": 57,
   "metadata": {
    "collapsed": false
   },
   "outputs": [
    {
     "data": {
      "text/plain": [
       "<matplotlib.text.Text at 0x7f06d4a00450>"
      ]
     },
     "execution_count": 57,
     "metadata": {},
     "output_type": "execute_result"
    },
    {
     "data": {
      "image/png": "[encoded data removed]",
      "text/plain": [
       "<matplotlib.figure.Figure at 0x7f06d4a65050>"
      ]
     },
     "metadata": {},
     "output_type": "display_data"
    }
   ],
   "source": [
    "m = np.array(msink)*M_sun*M_to_m_factor\n",
    "tstep  = np.arange(1,15)\n",
    "tau = tstep*dt*t_to_tau_factor\n",
    "plt.plot(tau,m,'.')\n",
    "plt.plot(tau,m)\n",
    "plt.xlabel(\"tau\")\n",
    "plt.ylabel(\"m\")"
   ]
  },
  {
   "cell_type": "code",
   "execution_count": 30,
   "metadata": {
    "collapsed": true
   },
   "outputs": [],
   "source": [
    "# Using Euler's approximation : \n",
    "#     $$d ln y(r) = ln y(r + dr) − ln y(r)$$"
   ]
  },
  {
   "cell_type": "code",
   "execution_count": 63,
   "metadata": {
    "collapsed": false
   },
   "outputs": [],
   "source": [
    "dt =  1.948706918e+12 #seconds  #uniform timestep outputs [0.0618 Myrs]\n",
    "dm = np.roll(m,1)-m\n",
    "Mdot =  (dm/dt)[1:-1] #M_sun/second"
   ]
  },
  {
   "cell_type": "code",
   "execution_count": 66,
   "metadata": {
    "collapsed": false
   },
   "outputs": [
    {
     "data": {
      "text/plain": [
       "array([ -2.49374320e-16,  -2.49575049e-16,  -2.47337115e-16,\n",
       "        -2.49090554e-16,  -2.46859594e-16,  -2.48613469e-16,\n",
       "        -2.48376364e-16,  -2.46156998e-16,  -2.47911745e-16,\n",
       "        -2.45701095e-16,  -2.47454970e-16,  -2.45253038e-16])"
      ]
     },
     "execution_count": 66,
     "metadata": {},
     "output_type": "execute_result"
    }
   ],
   "source": [
    "Mdot"
   ]
  },
  {
   "cell_type": "code",
   "execution_count": 67,
   "metadata": {
    "collapsed": false
   },
   "outputs": [
    {
     "data": {
      "text/plain": [
       "[<matplotlib.lines.Line2D at 0x7f06271c0f50>]"
      ]
     },
     "execution_count": 67,
     "metadata": {},
     "output_type": "execute_result"
    },
    {
     "data": {
      "image/png": "[encoded data removed]",
      "text/plain": [
       "<matplotlib.figure.Figure at 0x7f06271db050>"
      ]
     },
     "metadata": {},
     "output_type": "display_data"
    }
   ],
   "source": [
    "plt.plot(tau[1:-1],-Mdot,'.')"
   ]
  },
  {
   "cell_type": "markdown",
   "metadata": {},
   "source": [
    "I think this is an artifact of rolling "
   ]
  },
  {
   "cell_type": "code",
   "execution_count": null,
   "metadata": {
    "collapsed": true
   },
   "outputs": [],
   "source": []
  }
 ],
 "metadata": {
  "kernelspec": {
   "display_name": "Python 2",
   "language": "python",
   "name": "python2"
  },
  "language_info": {
   "codemirror_mode": {
    "name": "ipython",
    "version": 2
   },
   "file_extension": ".py",
   "mimetype": "text/x-python",
   "name": "python",
   "nbconvert_exporter": "python",
   "pygments_lexer": "ipython2",
   "version": "2.7.10"
  }
 },
 "nbformat": 4,
 "nbformat_minor": 0
}
