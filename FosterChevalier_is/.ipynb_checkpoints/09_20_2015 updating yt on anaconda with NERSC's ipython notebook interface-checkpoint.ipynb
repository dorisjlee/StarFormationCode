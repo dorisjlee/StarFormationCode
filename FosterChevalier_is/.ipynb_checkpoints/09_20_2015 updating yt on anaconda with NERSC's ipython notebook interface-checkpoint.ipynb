{
 "cells": [
  {
   "cell_type": "markdown",
   "metadata": {},
   "source": [
    "I was trying to update yt to the most recent version so that the new functions in setting yt fontsize could be used. The typical ``$HOME/anaconda/conda update yt `` did not work because anaconda has already updated to the latest version 3.2.1 of yt. The problem is that when you go into the ``anaconda/bin`` and try just running the executable ``./yt``, this error shows up : "
   ]
  },
  {
   "cell_type": "raw",
   "metadata": {},
   "source": [
    "dorislee@edison07:~/anaconda/bin> ./yt\n",
    "Traceback (most recent call last):\n",
    "  File \"./yt\", line 4, in <module>\n",
    "    from yt.utilities.command_line import run_main\n",
    "  File \"/global/u2/d/dorislee/mypythonpackages/yt/yt/__init__.py\", line 78, in <module>\n",
    "    import numpy as np # For modern purposes\n",
    "  File \"/usr/common/usg/python/numpy/1.9.2/lib/python/numpy/__init__.py\", line 170, in <module>\n",
    "    from . import add_newdocs\n",
    "  File \"/usr/common/usg/python/numpy/1.9.2/lib/python/numpy/add_newdocs.py\", line 13, in <module>\n",
    "    from numpy.lib import add_newdoc\n",
    "  File \"/usr/common/usg/python/numpy/1.9.2/lib/python/numpy/lib/__init__.py\", line 8, in <module>\n",
    "    from .type_check import *\n",
    "  File \"/usr/common/usg/python/numpy/1.9.2/lib/python/numpy/lib/type_check.py\", line 11, in <module>\n",
    "    import numpy.core.numeric as _nx\n",
    "  File \"/usr/common/usg/python/numpy/1.9.2/lib/python/numpy/core/__init__.py\", line 6, in <module>\n",
    "    from . import multiarray\n",
    "ImportError: /usr/common/usg/python/numpy/1.9.2/lib/python/numpy/core/multiarray.so: undefined symbol: PyUnicodeUCS2_FromUnicode"
   ]
  },
  {
   "cell_type": "markdown",
   "metadata": {},
   "source": [
    "This error also shows up when I run ``./numba`` in the same directory. So really the problem is in the numpy installation. Looking at the traceback more carefully I realized that even though the yt installation is the anaconda version, it is still trying to call yt installation in my pip installation directory, or the default python directory on edison (from ``module load python``), and not the anaconda one"
   ]
  },
  {
   "cell_type": "markdown",
   "metadata": {},
   "source": [
    "To fix this I needed to change my $PATH variable, which pointed to usr/bin/python or something thatś a non anaconda python executable. Then I also needed to change my $PYTHONPATH which tells the python interpreter where my python files lies:"
   ]
  },
  {
   "cell_type": "code",
   "execution_count": 1,
   "metadata": {
    "collapsed": false
   },
   "outputs": [
    {
     "data": {
      "text/plain": [
       "['',\n",
       " '//anaconda/lib/python27.zip',\n",
       " '//anaconda/lib/python2.7',\n",
       " '//anaconda/lib/python2.7/plat-linux2',\n",
       " '//anaconda/lib/python2.7/lib-tk',\n",
       " '//anaconda/lib/python2.7/lib-old',\n",
       " '//anaconda/lib/python2.7/lib-dynload',\n",
       " '//anaconda/lib/python2.7/site-packages',\n",
       " '//anaconda/lib/python2.7/site-packages/Sphinx-1.3.1-py2.7.egg',\n",
       " '//anaconda/lib/python2.7/site-packages/cryptography-0.9.1-py2.7-linux-x86_64.egg',\n",
       " '//anaconda/lib/python2.7/site-packages/rpy2-2.5.6-py2.7-linux-x86_64.egg',\n",
       " '//anaconda/lib/python2.7/site-packages/setuptools-17.1.1-py2.7.egg',\n",
       " '//anaconda/lib/python2.7/site-packages/singledispatch-3.4.0.3-py2.7.egg',\n",
       " '//anaconda/lib/python2.7/site-packages/IPython/extensions']"
      ]
     },
     "execution_count": 1,
     "metadata": {},
     "output_type": "execute_result"
    }
   ],
   "source": [
    "import sys\n",
    "sys.path"
   ]
  },
  {
   "cell_type": "markdown",
   "metadata": {},
   "source": [
    "So all the messy stuff is removed:I removed the .local/python stuff directory (where pip installs its stuff if I used the user option -U)and also the default python stuff, I also took out mypythonpackage just to be on the safe end"
   ]
  },
  {
   "cell_type": "markdown",
   "metadata": {},
   "source": [
    "Then after the ``$PATH`` and ``$PYTHONPATH`` are changed, I uninstalled anaconda, reinstalled it: "
   ]
  },
  {
   "cell_type": "raw",
   "metadata": {},
   "source": [
    "wget https://3230d63b5fc54e62148e-c95ac804525aac4b6dba79b00b39d1d3.ssl.cf1.rackcdn.com/Anaconda-2.3.0-Linux-x86_64.sh\n",
    "bash Anaconda-2.3.0-Linux-x86_64.sh –b –p $HOME/anaconda"
   ]
  },
  {
   "cell_type": "markdown",
   "metadata": {},
   "source": [
    "It is important now to set the ``$PYTHONPATH=$HOME/anaconda/bin/`` __ONLY__!! so that python doesnt get confused about what numpy or what scipy to use when installing stuff."
   ]
  },
  {
   "cell_type": "markdown",
   "metadata": {},
   "source": [
    "(These PATH variables goes away when you relogin again, so it is easier if you put these PATH variable definitions in your .bashrc.ext or .ash_profile files )"
   ]
  },
  {
   "cell_type": "code",
   "execution_count": null,
   "metadata": {
    "collapsed": true
   },
   "outputs": [],
   "source": [
    "$HOME/anaconda/bin/conda install yt"
   ]
  },
  {
   "cell_type": "markdown",
   "metadata": {},
   "source": [
    "Now if I do ./yt the thing runs sucessfully on command line, spitting back a bunch of options rather than the error, so tha's good '"
   ]
  },
  {
   "cell_type": "markdown",
   "metadata": {},
   "source": [
    "But for some strange reason, the ipython notebook web interface doesnt really recognize the fact that we changed the anaconda python installation, which can be seen here : "
   ]
  },
  {
   "cell_type": "code",
   "execution_count": 1,
   "metadata": {
    "collapsed": false
   },
   "outputs": [
    {
     "name": "stdout",
     "output_type": "stream",
     "text": [
      "2.7.10 |Anaconda 2.2.0 (64-bit)| (default, May 28 2015, 17:02:03) \n",
      "[GCC 4.4.7 20120313 (Red Hat 4.4.7-1)]\n",
      "//anaconda/bin/python\n",
      "None\n"
     ]
    }
   ],
   "source": [
    "import sys\n",
    "print(sys.version)\n",
    "print sys.executable\n",
    "print sys.exc_clear()"
   ]
  },
  {
   "cell_type": "markdown",
   "metadata": {},
   "source": [
    "But the $HOME/anaconda/bin/python/ executable shows this newer version (note the new release date and version )"
   ]
  },
  {
   "cell_type": "raw",
   "metadata": {
    "collapsed": true
   },
   "source": [
    "Python 2.7.10 |Anaconda 2.3.0 (64-bit)| (default, Sep 15 2015, 14:50:01)\n",
    "[GCC 4.4.7 20120313 (Red Hat 4.4.7-1)] on linux2\n",
    "Type \"help\", \"copyright\", \"credits\" or \"license\" for more information.\n",
    "Anaconda is brought to you by Continuum Analytics.\n",
    "Please check out: http://continuum.io/thanks and https://anaconda.org"
   ]
  },
  {
   "cell_type": "markdown",
   "metadata": {},
   "source": [
    "It was tricky because I tried removing stuff in .ipython/profile_default/ in order to wash out the ipython.nersc.gov 's memory of the prior version of anaconda. It didnt make a lot of sense because there is nothing there in the $HOME/anaconda/bin/python location now, so I have no idea what its actually being used to run that Anaconda 2.2. "
   ]
  },
  {
   "cell_type": "markdown",
   "metadata": {},
   "source": [
    "So it just keeps complaining yt can not be found because Ive deleted the paths that point to the bad installations "
   ]
  },
  {
   "cell_type": "code",
   "execution_count": 3,
   "metadata": {
    "collapsed": false
   },
   "outputs": [
    {
     "ename": "ImportError",
     "evalue": "No module named yt",
     "output_type": "error",
     "traceback": [
      "\u001b[1;31m---------------------------------------------------------------------------\u001b[0m",
      "\u001b[1;31mImportError\u001b[0m                               Traceback (most recent call last)",
      "\u001b[1;32m<ipython-input-3-59dfcfe9846c>\u001b[0m in \u001b[0;36m<module>\u001b[1;34m()\u001b[0m\n\u001b[1;32m----> 1\u001b[1;33m \u001b[1;32mimport\u001b[0m \u001b[0myt\u001b[0m\u001b[1;33m\u001b[0m\u001b[0m\n\u001b[0m",
      "\u001b[1;31mImportError\u001b[0m: No module named yt"
     ]
    }
   ],
   "source": [
    "import yt"
   ]
  },
  {
   "cell_type": "markdown",
   "metadata": {},
   "source": [
    "This is latter fixed by the solution provided by NERSC support last time I was trying to do this. The trick that since the ipthon.nersc.gov interface already has some anaconda stuff installed it is better to more the extra stuff that I installed (i.e yt) into a new location that ipython.nersc.gov find it "
   ]
  },
  {
   "cell_type": "raw",
   "metadata": {},
   "source": [
    "cp -r $HOME/anaconda/lib/python2.7/site-packages/yt $HOME/mypackages/\n",
    "cp $HOME/anaconda/lib/python2.7/site-packages/yt-3.x-py2.7-linux-x86_64.egg-info $HOME/mypackages/"
   ]
  },
  {
   "cell_type": "markdown",
   "metadata": {},
   "source": [
    "where x is the version number "
   ]
  },
  {
   "cell_type": "markdown",
   "metadata": {},
   "source": [
    "Then I need to append the PATH into the ipython notebook everytime to "
   ]
  },
  {
   "cell_type": "code",
   "execution_count": 4,
   "metadata": {
    "collapsed": true
   },
   "outputs": [],
   "source": [
    "sys.path.append('/global/homes/d/dorislee/mypackages')                                                                                          "
   ]
  },
  {
   "cell_type": "markdown",
   "metadata": {},
   "source": [
    "Then import ..........nothing crashes !!! "
   ]
  },
  {
   "cell_type": "code",
   "execution_count": 5,
   "metadata": {
    "collapsed": true
   },
   "outputs": [],
   "source": [
    "import yt"
   ]
  },
  {
   "cell_type": "markdown",
   "metadata": {},
   "source": [
    "That sys path append statement is going to be put inside the ``$HOME/.ipython/profile_default/ipython_config.py`` which runs it everytime during startup "
   ]
  }
 ],
 "metadata": {
  "kernelspec": {
   "display_name": "Python 2",
   "language": "python",
   "name": "python2"
  },
  "language_info": {
   "codemirror_mode": {
    "name": "ipython",
    "version": 2
   },
   "file_extension": ".py",
   "mimetype": "text/x-python",
   "name": "python",
   "nbconvert_exporter": "python",
   "pygments_lexer": "ipython2",
   "version": "2.7.10"
  }
 },
 "nbformat": 4,
 "nbformat_minor": 0
}
