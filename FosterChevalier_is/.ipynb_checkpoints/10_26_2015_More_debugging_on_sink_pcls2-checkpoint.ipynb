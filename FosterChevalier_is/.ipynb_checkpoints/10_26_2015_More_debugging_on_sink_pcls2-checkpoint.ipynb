{
 "cells": [
  {
   "cell_type": "raw",
   "metadata": {
    "collapsed": true
   },
   "source": [
    "Entering dump_all\n",
    " Entering output_header\n",
    " Entering output_info\n",
    " Entering file_descriptor_hydro\n",
    " Entering output_sink\n",
    " Entering output_sink\n",
    " Entering output_sink_csv\n",
    " filename: output_00001/sink_00001.csv\n",
    " nsink:            0\n",
    " Entering backup_amr\n",
    " Entering backup_hydro\n",
    " Entering backup_part\n",
    " Entering backup_sink\n",
    " filename: output_00001/sink_00001.out\n",
    " ilun:           15\n",
    " nsink:            0\n",
    " Entering backup_poisson\n",
    "   Entering rho_fine for level  7\n",
    "   Entering multipole_fine for level 7\n",
    "   Entering cic_from_multipole for level 7"
   ]
  },
  {
   "cell_type": "markdown",
   "metadata": {},
   "source": [
    "no output written in and no nsink \n",
    "but not really at a place where ntest: is nonzero yet, so wait for a later timestep"
   ]
  },
  {
   "cell_type": "markdown",
   "metadata": {},
   "source": [
    "I adjusted a lower density criterion now to 0.02 so now I have "
   ]
  },
  {
   "cell_type": "raw",
   "metadata": {},
   "source": [
    "check create_sinks after :  T\n",
    "  Entering clump_finder\n",
    " Enter count_test_particle\n",
    "  Entering count test particle for level=           7  and action=           1\n",
    " Enter count_test_particle\n",
    " Enter count_test_particle\n",
    " Enter count_test_particle\n",
    " ntest_all:          624\n",
    " ntest:          624\n",
    " Enter count_test_particle\n",
    "  Entering count test particle for level=           7  and action=           2\n",
    " Enter count_test_particle\n",
    " Enter count_test_particle\n",
    " Enter count_test_particle\n",
    " Total number of density peaks found=         8\n",
    " Finding peak patches\n",
    " Now merging irrelevant clumps"
   ]
  },
  {
   "cell_type": "markdown",
   "metadata": {},
   "source": [
    "sink particle only comes in the second timestep"
   ]
  },
  {
   "cell_type": "markdown",
   "metadata": {},
   "source": [
    "added more debug statemetns, it seems like something happened in between create_sink to output_sink_csv that went awry and killed all the sink particles so that the nsink = 0 even though ntest is non zero "
   ]
  },
  {
   "cell_type": "raw",
   "metadata": {},
   "source": [
    "if (myid==1)write(*,*)'inside accrete_sink nsink:  ', nsink"
   ]
  },
  {
   "cell_type": "raw",
   "metadata": {},
   "source": [
    " Enter count_test_particle\n",
    " Total number of density peaks found=         8\n",
    " Finding peak patches\n",
    " Now merging irrelevant clumps\n",
    " Found           1  relevant peaks\n",
    " Entering compute clump properties\n",
    " Entering compute clump properties\n",
    " entering make_sink_from_clump for level            7\n",
    " nsink:             0\n",
    " entering make_sink_from_clump for level            8\n",
    " nsink:             0\n",
    " entering make_sink_from_clump for level            9\n",
    " nsink:             0\n",
    " entering make_sink_from_clump for level           10\n",
    " nsink:             0\n",
    "  Entering create_cloud_from_sink\n",
    " nsink:             0"
   ]
  },
  {
   "cell_type": "markdown",
   "metadata": {},
   "source": [
    "So it looks like nsink was never initialized so that mean things got awry even before ntest turned into nsink probably inside clump_merger"
   ]
  },
  {
   "cell_type": "raw",
   "metadata": {},
   "source": [
    " inside clump_merger, looping over cells above the threshold          624\n",
    " at the end of clump_finder : ntest_all:          624\n",
    " ntest:          624\n",
    " Entering compute clump properties\n",
    " inside clump_merger, looping over cells above the threshold          624\n",
    " entering make_sink_from_clump for level            7\n",
    " nsink:             0\n",
    " entering make_sink_from_clump for level            8"
   ]
  },
  {
   "cell_type": "markdown",
   "metadata": {},
   "source": [
    "Honed down to somewhere in between here "
   ]
  },
  {
   "cell_type": "raw",
   "metadata": {},
   "source": [
    "Entering compute clump properties\n",
    " inside clump_merger, looping over cells above the threshold          624\n",
    " at the end of clump_finder : ntest_all:          624\n",
    " ntest:          624\n",
    " Entering compute clump properties\n",
    " inside clump_merger, looping over cells above the threshold          624\n",
    " entering make_sink_from_clump for level            7\n",
    " nsink:             0\n",
    " entering make_sink_from_clump for level            8\n",
    " nsink:             0\n",
    " entering make_sink_from_clump for level            9\n",
    " nsink:             0\n",
    " entering make_sink_from_clump for level           10\n",
    " nsink:             0\n",
    "  Entering create_cloud_from_sink"
   ]
  },
  {
   "cell_type": "markdown",
   "metadata": {},
   "source": [
    "something is weird with make_sink_from_clump"
   ]
  },
  {
   "cell_type": "raw",
   "metadata": {},
   "source": [
    "Enter count_test_particle\n",
    " ntest_all:          624\n",
    " ntest:          624\n",
    " Total number of density peaks found=         8\n",
    " Finding peak patches\n",
    " Now merging irrelevant clumps\n",
    " Found           1  relevant peaks\n",
    " Entering compute clump properties\n",
    " inside clump_merger, looping over cells above the threshold          624\n",
    " total mass above the density threshold :     2.3381859750396323\n",
    " at the end of clump_finder : ntest_all:          624\n",
    " ntest:          624\n",
    " Entering compute clump properties\n",
    " inside clump_merger, looping over cells above the threshold          624\n",
    " total mass above the density threshold :     2.3381859750396323\n",
    " entering make_sink_from_clump for level            7\n",
    " nsink:             0\n",
    " number of cells that are flagged as sink : ntot:             0\n",
    " end of make_sink_from_clump nsink:             0\n",
    " entering make_sink_from_clump for level            8\n",
    " nsink:             0\n",
    " number of cells that are flagged as sink : ntot:             0"
   ]
  },
  {
   "cell_type": "markdown",
   "metadata": {},
   "source": [
    "So something is wrong with the clump_merger in the sense that the ntot is not getting computed "
   ]
  },
  {
   "cell_type": "code",
   "execution_count": null,
   "metadata": {
    "collapsed": true
   },
   "outputs": [],
   "source": [
    "  do i=1,ngrid\n",
    "              if(flag2(ind_cell(i))>0)then\n",
    "                  if (myid==1)write(*,*)'ntot counted!  flag2(ind_cell(i)):  ',flag2(ind_cell(i))\n",
    "                 ntot=ntot+1\n",
    "              end if\n",
    "           end do"
   ]
  },
  {
   "cell_type": "markdown",
   "metadata": {},
   "source": [
    "So nothing in flag2 flagged the cell"
   ]
  },
  {
   "cell_type": "raw",
   "metadata": {},
   "source": [
    "if (myid==1)write(*,*)'ntot counted!  flag2(ind_cell(i)):  ',flag2(ind_cell(i))"
   ]
  },
  {
   "cell_type": "markdown",
   "metadata": {},
   "source": [
    "The quenching stuff is likely to be irrrelevant here, because ramses never enters the quenching stuff (looks like for cosmology BH feedback stuff) so not too sure what is goign on here "
   ]
  },
  {
   "cell_type": "markdown",
   "metadata": {},
   "source": [
    "I tried printing out the whole array flag2 initially it is filled with non zero numbers "
   ]
  },
  {
   "cell_type": "raw",
   "metadata": {},
   "source": [
    "check create_sinks after :  T\n",
    " flag2:             0           1          29          30          31          32          33          34          35         100         101         102         103         104         105         106         107         108         109         110         111         112         113         114         115         116         117         118         119         120         121         122         123         124         125         126         127         132         133         134         135         140         141         142         143         148         149         150         151         128         129         130         131         136         137         138         139         144         145         152         153         146         147         154         155         372         373         374         375         376         377         378         379         380         381         382         383         384         385         386         387         428         432         420         421         424         425         412         414         416         418         404         405         406         407         408         409         410         411         692         693         694         695         700         701         702         703         708         709         710         711         716         717         718         719         732         734         724         725         726         727         748         750         740         741         742         743         772         773         780         781         756"
   ]
  },
  {
   "cell_type": "markdown",
   "metadata": {},
   "source": [
    "at some point it transitioned to all ones then all zeros"
   ]
  },
  {
   "cell_type": "raw",
   "metadata": {},
   "source": [
    "7      308338      308339      308340      308341      308342      308343      308344      308345      308346      308347      308348      308349      308350      308351      308352      308353      308354      308355      308356      308357      308358      308359      308360      308361      308362      308363           1           1           1           1           1           1           1           1           1           1           1           1           1           1           1           1           1           1           1           1           1           1           1           1           1           1           1           1           1           1           1           1           1           1           1           1           1           1           1           1           1           1           1           1           1           1           1           1           1           1           1           1           1           1           1           1           1           1           1"
   ]
  },
  {
   "cell_type": "raw",
   "metadata": {},
   "source": [
    " 0           0           0           0           0           0           0           0           0           0           0           0           0           0           0           0           0           0           0           0           0           0           0           0           0           0           0           0           0           0           0           0           0           0           0           0           0           0           0           0           0           0           0           0           0           0           0           0           0           0           0           0           0           0           0           0           0           0           0           0           0           0           0           0           0           0"
   ]
  },
  {
   "cell_type": "raw",
   "metadata": {},
   "source": [
    " ind_cell(i):      15115530\n",
    " ntot counted!  flag2(ind_cell(i)):             0\n",
    " ind_cell(i):      15115531\n",
    " ntot counted!  flag2(ind_cell(i)):             0\n",
    " ind_cell(i):      15115532\n",
    " ntot counted!  flag2(ind_cell(i)):             0\n",
    " ind_cell(i):      15115533\n",
    " ntot counted!  flag2(ind_cell(i)):             0\n",
    " ind_cell(i):      15115534\n",
    " ntot counted!  flag2(ind_cell(i)):             0\n",
    " ind_cell(i):      15115535\n",
    " ntot counted!  flag2(ind_cell(i)):             0\n",
    " ind_cell(i):      15115536\n",
    " ntot counted!  flag2(ind_cell(i)):             0\n",
    " ind_cell(i):      15115537\n",
    " ntot counted!  flag2(ind_cell(i)):             0\n",
    " ind_cell(i):      15115538\n",
    " ntot counted!  flag2(ind_cell(i)):             0\n",
    " ind_cell(i):      15115539\n",
    " ntot counted!  flag2(ind_cell(i)):             0"
   ]
  },
  {
   "cell_type": "markdown",
   "metadata": {},
   "source": [
    "So flag2 mostly zeroes"
   ]
  },
  {
   "cell_type": "markdown",
   "metadata": {},
   "source": [
    "I printed it out and found that flag 2 is completely zero"
   ]
  },
  {
   "cell_type": "raw",
   "metadata": {},
   "source": [
    "ntest:          624\n",
    " Entering compute clump properties\n",
    " inside clump_merger, looping over cells above the threshold          624\n",
    " total mass above the density threshold :     2.3382062565998871\n",
    " entering make_sink_from_clump for level            7\n",
    " nsink:             0\n",
    " flag2:             0           0           0           0           0           0           0           0           0           0           0           0           0           0           0           0           0           0           0           0           0           0           0           0           0           0           0           0           0           0           0           0           0           0           0           0           0           0           0           0           0           0           0           0           0           0           0           0           0           0           0           0           0           0           0           0           0           0"
   ]
  },
  {
   "cell_type": "markdown",
   "metadata": {},
   "source": [
    "But this is weird because previously when I printed flag2 inside clump_merger there was some nonzero elements"
   ]
  },
  {
   "cell_type": "raw",
   "metadata": {},
   "source": [
    "Entering count test particle for level=           7  and action=           2\n",
    " end count_test_particle flag2 slice:             1          29          30          31          32          33          34          35         100         101         102         103         104         105         106         107         108         109         110         111\n",
    " Enter count_test_particle\n",
    " Enter count_test_particle\n",
    " Enter count_test_particle\n",
    " ntest_all:          624\n",
    " ntest:          624\n",
    " Total number of density peaks found=         8\n",
    " end flag peaks flag2 slice:             0           0           0           0           0           0           0           0           0           0           0           0           0           0           0           0           0           0           0           0\n",
    " Finding peak patches\n",
    " Now merging irrelevant clumps"
   ]
  },
  {
   "cell_type": "markdown",
   "metadata": {},
   "source": [
    "So for some strange reason, there are test particle counted but htey are not flagged as peaks "
   ]
  },
  {
   "cell_type": "raw",
   "metadata": {},
   "source": [
    " Total number of density peaks found=         8\n",
    " Entering flag_peaks inside clump_merger\n",
    " flag2 slice:             0           0           0           0           0           0           0           0           0           0           0           0           0           0           0           0           0           0           0           0\n",
    " jpart:           444\n",
    " ipeak:             1\n",
    " jpart:           531\n",
    " ipeak:             2\n",
    " jpart:           274\n",
    " ipeak:             3"
   ]
  },
  {
   "cell_type": "markdown",
   "metadata": {},
   "source": [
    "It looks like flag2 is wiped zero even before clump_merger"
   ]
  },
  {
   "cell_type": "raw",
   "metadata": {},
   "source": [
    "grep -rnw '../pm/' -e \"call flag_peaks\"\n",
    "../pm/clump_finder.f90:180:        call flag_peaks(rho(1),nskip)\n",
    "../pm/clump_finder.f90:183:           call flag_peaks(uold(1,ivar_clump),nskip)"
   ]
  },
  {
   "cell_type": "markdown",
   "metadata": {},
   "source": [
    "inside clump_finder.f90"
   ]
  },
  {
   "cell_type": "raw",
   "metadata": {},
   "source": [
    "    jpart=testp_sort(ipart)\n",
    "     if (myid==1)write(*,*)'jpart:  ',jpart\n",
    "     if(imaxp(jpart).EQ.-1)then\n",
    "        ipeak=ipeak+1\n",
    "        if (myid==1 .and. ipeak .NE. 0)write(*,*)'ipeak:  ',ipeak\n",
    "        if (myid==1 .and. ipeak .NE. 0)write(*,*)'jpart:  ',jpart\n",
    "        flag2(icellp(jpart))=ipeak\n",
    "        if (myid==1 .and. ipeak .NE. 0)write(*,*)'flag2(icellp(jpart)):  ',flag2(icellp(jpart))\n",
    "        max_dens(ipeak-ipeak_start(myid))=xx(icellp(jpart))\n",
    "        peak_cell(ipeak-ipeak_start(myid))=icellp(jpart)"
   ]
  },
  {
   "cell_type": "markdown",
   "metadata": {},
   "source": [
    "It looks like there are at least a few particles that have nonzero "
   ]
  },
  {
   "cell_type": "raw",
   "metadata": {},
   "source": [
    " Total number of density peaks found=         8\n",
    " Entering flag_peaks inside clump_merger\n",
    " flag2 slice:             0           0           0           0           0           0           0           0           0           0           0           0           0           0           0           0           0           0           0           0\n",
    " jpart:           444\n",
    " ipeak:             1\n",
    " jpart:           444\n",
    " flag2(icellp(jpart)):             1\n",
    " jpart:           531\n",
    " ipeak:             2\n",
    " jpart:           531\n",
    " flag2(icellp(jpart)):             2\n",
    " jpart:           274\n",
    " ipeak:             3\n",
    " jpart:           274\n",
    " flag2(icellp(jpart)):             3\n",
    " jpart:             1\n",
    " ipeak:             4\n",
    " jpart:             1\n",
    " flag2(icellp(jpart)):             4\n",
    " jpart:           181\n",
    " ipeak:             5\n",
    " jpart:           181\n",
    " flag2(icellp(jpart)):             5\n",
    " jpart:           351\n",
    " ipeak:             6\n",
    " jpart:           351\n",
    " flag2(icellp(jpart)):             6\n",
    " jpart:            94\n",
    " ipeak:             7\n",
    " jpart:            94\n",
    " flag2(icellp(jpart)):             7\n",
    " jpart:           624\n",
    " ipeak:             8\n",
    " jpart:           624\n",
    " flag2(icellp(jpart)):             8\n",
    " jpart:           623\n",
    " jpart:           347\n",
    " jpart:           185\n",
    " jpart:            93\n",
    " jpart:            96\n",
    " jpart:           620"
   ]
  },
  {
   "cell_type": "markdown",
   "metadata": {},
   "source": [
    "So now we know that flag peaks actually gives us nonzero values for flag2"
   ]
  },
  {
   "cell_type": "markdown",
   "metadata": {},
   "source": [
    "I've hit a dead end because flag2 is zero beyond this '"
   ]
  },
  {
   "cell_type": "raw",
   "metadata": {},
   "source": [
    "flag2 slice:             0           0           0           0           0           0           0           0           0           0           0           0           0           0           0           0           0           0           0           0\n",
    " jpart:           444\n",
    " ipeak:             1\n",
    " jpart:           444\n",
    " icellp(jpart):      15271153\n",
    " flag2(icellp(jpart)):             1\n",
    " jpart:           531\n",
    " ipeak:             2\n",
    " jpart:           531\n",
    " icellp(jpart):      18289880\n",
    " flag2(icellp(jpart)):             2\n",
    " jpart:           274\n",
    " ipeak:             3\n",
    " jpart:           274\n",
    " icellp(jpart):       9102659\n",
    " flag2(icellp(jpart)):             3\n",
    " jpart:             1\n",
    " ipeak:             4\n",
    " jpart:             1\n",
    " icellp(jpart):         46478\n",
    " flag2(icellp(jpart)):             4\n",
    " jpart:           181\n",
    " ipeak:             5\n",
    " jpart:           181\n",
    " icellp(jpart):       6083932\n",
    " flag2(icellp(jpart)):             5"
   ]
  },
  {
   "cell_type": "code",
   "execution_count": null,
   "metadata": {
    "collapsed": true
   },
   "outputs": [],
   "source": []
  }
 ],
 "metadata": {
  "kernelspec": {
   "display_name": "Python 2",
   "language": "python",
   "name": "python2"
  },
  "language_info": {
   "codemirror_mode": {
    "name": "ipython",
    "version": 2
   },
   "file_extension": ".py",
   "mimetype": "text/x-python",
   "name": "python",
   "nbconvert_exporter": "python",
   "pygments_lexer": "ipython2",
   "version": "2.7.10"
  }
 },
 "nbformat": 4,
 "nbformat_minor": 0
}
