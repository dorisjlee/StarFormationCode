{
 "cells": [
  {
   "cell_type": "raw",
   "metadata": {},
   "source": [
    "calling hydro flag_peaks\n",
    " Entering flag_peaks inside clump_merger\n",
    " flag2 slice:             0           0           0           0           0           0           0           0           0           0           0           0           0           0           0           0           0           0           0           0\n",
    " jpart:           444\n",
    " ipeak:             1\n",
    " icellp(jpart):      15271153\n",
    " flag2(icellp(jpart)):             1\n",
    " jpart:           531\n",
    " ipeak:             2\n",
    " icellp(jpart):      18289880"
   ]
  },
  {
   "cell_type": "raw",
   "metadata": {},
   "source": [
    "flage2(idx) should be nonzero:             2\n",
    " end flag peaks flag2 slice:             0           0           0           0           0           0           0           0           0           0           0           0           0           0           0           0           0           0           0           0\n",
    " flage2(idx) should be nonzero:             2"
   ]
  },
  {
   "cell_type": "markdown",
   "metadata": {},
   "source": [
    "Looks like clumps is not merged into haloes "
   ]
  },
  {
   "cell_type": "markdown",
   "metadata": {},
   "source": [
    "line 276 "
   ]
  },
  {
   "cell_type": "raw",
   "metadata": {},
   "source": [
    "if (myid==1)write(*,*)'saddle_threshold:  ',saddle_threshold\n",
    "     !------------------------------------------\n",
    "     ! Merge clumps into haloes\n",
    "     !------------------------------------------\n",
    "     if(saddle_threshold>0)then\n",
    "        if(myid==1.and.clinfo)write(*,*)\"Now merging peaks into halos.\"\n",
    "        call merge_clumps('saddleden')\n",
    "     endif"
   ]
  },
  {
   "cell_type": "raw",
   "metadata": {},
   "source": [
    "Entering compute clump properties\n",
    " inside clump_merger, looping over cells above the threshold          624\n",
    " total mass above the density threshold :     2.3382032123142209\n",
    " flage2(idx) should be nonzero:             1\n",
    " saddle_threshold:    -1.0000000000000000\n",
    " clinfo:  F\n",
    " at the end of clump_finder : ntest_all:          624\n",
    " ntest:          624\n",
    " Entering compute clump properties\n",
    " inside clump_merger, looping over cells above the threshold          624\n",
    " total mass above the density threshold :     2.3382032123142209\n",
    " entering make_sink_from_clump for level            7\n",
    " nsink:             0"
   ]
  },
  {
   "cell_type": "markdown",
   "metadata": {},
   "source": [
    "so saddle threshold never got turned on so nother was every converted from clumps to haloes "
   ]
  },
  {
   "cell_type": "markdown",
   "metadata": {},
   "source": [
    "But we don't want haloes ? we want sinks? '"
   ]
  },
  {
   "cell_type": "markdown",
   "metadata": {},
   "source": [
    "So this might be where it go awry "
   ]
  },
  {
   "cell_type": "markdown",
   "metadata": {},
   "source": [
    "But if we move onto clumpmerger and look at where nsink should be changed and stuff "
   ]
  },
  {
   "cell_type": "markdown",
   "metadata": {},
   "source": [
    "there's actually no nsink inside clump_merger so this is all inside sinkparticles '"
   ]
  },
  {
   "cell_type": "markdown",
   "metadata": {},
   "source": [
    "So within sinkparticle it enters "
   ]
  },
  {
   "cell_type": "markdown",
   "metadata": {},
   "source": [
    "### make_sink_from_clump"
   ]
  },
  {
   "cell_type": "markdown",
   "metadata": {},
   "source": [
    "here nsink =0 already "
   ]
  },
  {
   "cell_type": "markdown",
   "metadata": {},
   "source": [
    "### create_cloud_from_sink"
   ]
  },
  {
   "cell_type": "markdown",
   "metadata": {},
   "source": [
    "nsink =0 already "
   ]
  },
  {
   "cell_type": "markdown",
   "metadata": {},
   "source": [
    "maybe nsink is set inside init_sink "
   ]
  },
  {
   "cell_type": "markdown",
   "metadata": {},
   "source": [
    "## init_sink.f90"
   ]
  },
  {
   "cell_type": "raw",
   "metadata": {},
   "source": [
    "orislee@edison11:/project/projectdirs/astro250/doris/ramses3/trunk/ramses/bin> grep -rnw '../pm/' -e \"nsink\"\n",
    "../pm/flag_formation_sites.f90:53:  if(myid==1 .and. clinfo)write(*,*)'looping over ',nsink,' sinks and marking their clumps'\n",
    "../pm/flag_formation_sites.f90:57:     do j=1,nsink\n",
    "../pm/flag_formation_sites.f90:72:  do j=1,nsink\n",
    "../pm/init_part.f90:128:     read(ilun)nsink\n",
    "../pm/init_sink.f90:144:     read(ilun)nsink\n",
    "../pm/init_sink.f90:147:     if(nsink>0)then\n",
    "../pm/init_sink.f90:148:        allocate(xdp(1:nsink))\n",
    "../pm/init_sink.f90:150:        msink(1:nsink)=xdp\n",
    "../pm/init_sink.f90:152:        tsink(1:nsink)=xdp\n",
    "../pm/init_sink.f90:155:           xsink(1:nsink,idim)=xdp\n",
    "../pm/init_sink.f90:159:           vsink(1:nsink,idim)=xdp\n",
    "../pm/init_sink.f90:163:           lsink(1:nsink,idim)=xdp\n",
    "../pm/init_sink.f90:166:        delta_mass(1:nsink)=xdp\n",
    "../pm/init_sink.f90:168:        acc_rate(1:nsink)=xdp\n",
    "../pm/init_sink.f90:170:        allocate(isp(1:nsink))\n",
    "../pm/init_sink.f90:172:        idsink(1:nsink)=isp\n",
    "../pm/init_sink.f90:175:        allocate(nb(1:nsink))\n",
    "../pm/init_sink.f90:177:        new_born(1:nsink)=nb\n",
    "../pm/init_sink.f90:197:        do i=1,nsink\n",
    "../pm/init_sink.f90:205:     nsinkold=nsink\n",
    "../pm/init_sink.f90:218:     nsink=0\n",
    "../pm/init_sink.f90:250:        nsink=nsink+1\n",
    "../pm/init_sink.f90:252:        idsink(nsink)=nindsink\n",
    "../pm/init_sink.f90:253:        msink(nsink)=mm1\n",
    "../pm/init_sink.f90:254:        xsink(nsink,1)=xx1+boxlen/2.0"
   ]
  },
  {
   "cell_type": "markdown",
   "metadata": {},
   "source": [
    "I feel like init_sink is reading in from the history file it looks like its a restarting procedure rather than initializing procedure "
   ]
  },
  {
   "cell_type": "raw",
   "metadata": {},
   "source": [
    "Looking for file ic_sink: ic_sink\n",
    " finished init_sink"
   ]
  },
  {
   "cell_type": "markdown",
   "metadata": {},
   "source": [
    "Yes as expected this means that init_sink is just used for restart not initialization"
   ]
  },
  {
   "cell_type": "markdown",
   "metadata": {},
   "source": [
    "newdtfine is for timestepping shouldnt be reelvant here"
   ]
  },
  {
   "cell_type": "raw",
   "metadata": {},
   "source": [
    "Inside newdt_fine.f90, sink: T\n",
    " nsink:            0"
   ]
  },
  {
   "cell_type": "markdown",
   "metadata": {},
   "source": [
    "The question now is where exactly are these nsink defined to begin with and why is it 0 "
   ]
  },
  {
   "cell_type": "raw",
   "metadata": {},
   "source": [
    "becasue initially I have  n_sink =    16335936.621338507"
   ]
  },
  {
   "cell_type": "markdown",
   "metadata": {},
   "source": [
    "Trying to trace variables using gdb "
   ]
  },
  {
   "cell_type": "raw",
   "metadata": {},
   "source": [
    "(gdb) info variables n_sink\n",
    "All variables matching regular expression \"n_sink\":\n",
    "\n",
    "Non-debugging symbols:\n",
    "0x000000000070ac70  __amr_parameters_MOD_n_sink"
   ]
  },
  {
   "cell_type": "raw",
   "metadata": {},
   "source": [
    "Note : n_sink =    16335936.621338507 is different from nsink used to count number of sink \n",
    "    n_sink is parameter inside the input file as part of SINK_PARAM"
   ]
  },
  {
   "cell_type": "code",
   "execution_count": null,
   "metadata": {
    "collapsed": true
   },
   "outputs": [],
   "source": [
    "break filename:linenum"
   ]
  },
  {
   "cell_type": "code",
   "execution_count": null,
   "metadata": {
    "collapsed": true
   },
   "outputs": [],
   "source": [
    "167"
   ]
  },
  {
   "cell_type": "code",
   "execution_count": null,
   "metadata": {
    "collapsed": true
   },
   "outputs": [],
   "source": [
    "break ../pm/sink_particle.f90:167"
   ]
  },
  {
   "cell_type": "raw",
   "metadata": {},
   "source": [
    "density_threshold:    2.0000000000000000E-002\n",
    " Building initial AMR grid\n",
    " Looking for file ic_sink: ic_sink\n",
    " finished init_sink\n",
    "\n",
    "Breakpoint 1, create_cloud_from_sink () at ../pm/sink_particle.f90:168\n",
    "warning: Source file is more recent than executable.\n",
    "168\t  if(numbtot(1,1)==0) return\n",
    "(gdb) info nsink\n",
    "Undefined info command: \"nsink\".  Try \"help info\".\n",
    "(gdb) info variables nsink\n",
    "All variables matching regular expression \"nsink\":\n",
    "\n",
    "Non-debugging symbols:\n",
    "0x0000000000710c40  __pm_parameters_MOD_nsinkmax\n",
    "0x000000000071c130  __pm_parameters_MOD_nsink"
   ]
  },
  {
   "cell_type": "markdown",
   "metadata": {},
   "source": [
    "When I did info locals, I didn't see nsink variable'"
   ]
  },
  {
   "cell_type": "markdown",
   "metadata": {},
   "source": [
    "also, I think using \"none\" as accretion scheme might be a bad idea because it means no accretion,  con"
   ]
  },
  {
   "cell_type": "markdown",
   "metadata": {},
   "source": [
    "### flag_formation_sites.f90"
   ]
  },
  {
   "cell_type": "markdown",
   "metadata": {},
   "source": [
    "Going back to grep result I found that I missed looking at flag_formation_sites.f90"
   ]
  },
  {
   "cell_type": "markdown",
   "metadata": {},
   "source": [
    "this is prob not important though because this serves to flag the flag2 array on where a sink is going to be formed , but we already know that flag2 has the irght array the problem here is the flag2 is not getting converted to nsink properly and I dont know where nsink is counted "
   ]
  },
  {
   "cell_type": "raw",
   "metadata": {},
   "source": [
    "inside pm_parameter, verified the definition of nsink: \n",
    "    integer::nsink=0                  ! Actual number of sinks"
   ]
  },
  {
   "cell_type": "markdown",
   "metadata": {},
   "source": [
    "But the sink_params reading are all just inside sink_particle.f90 "
   ]
  },
  {
   "cell_type": "markdown",
   "metadata": {},
   "source": [
    "I wonder if I need to set rho_sink but I'm not sure whether that is a threshold (since I already have a density_threshold) or the actual density of the particle '"
   ]
  },
  {
   "cell_type": "raw",
   "metadata": {},
   "source": [
    "based on this warning msg : \n",
    "     Trying to setting sink threshold such that jeans length at\n",
    " max resolution is resolved by 4 cells, assuming isothermal gas"
   ]
  },
  {
   "cell_type": "raw",
   "metadata": {},
   "source": [
    "Inside amr_parameter, \n",
    "\n",
    " real(dp)::n_sink = -1.d0    ! Sink particle density threshold in H/cc\n",
    "  real(dp)::rho_sink = -1.D0  ! Sink particle density threshold in g/cc\n",
    "  real(dp)::d_sink = -1.D0    ! Sink particle density threshold in user units\n",
    " but this is for amr_parameters"
   ]
  },
  {
   "cell_type": "markdown",
   "metadata": {},
   "source": [
    "So i modified by parameter file : "
   ]
  },
  {
   "cell_type": "raw",
   "metadata": {},
   "source": [
    "&CLUMPFIND_PARAMS\n",
    "density_threshold=0.02\n",
    "/\n",
    "&SINK_PARAMS\n",
    "merging_timescale=10000.\n",
    "create_sinks=.true.\n",
    "accretion_scheme='flux'\n",
    "d_sink = 0.02\n",
    "/"
   ]
  },
  {
   "cell_type": "markdown",
   "metadata": {},
   "source": [
    "Found d_sink! Assuming code units"
   ]
  },
  {
   "cell_type": "markdown",
   "metadata": {},
   "source": [
    "#### saddle_threshold"
   ]
  },
  {
   "cell_type": "markdown",
   "metadata": {},
   "source": [
    "saddle_threshold is actually a clumpfind_params, so I have control over that and I can make it non negative if I want to..."
   ]
  },
  {
   "cell_type": "markdown",
   "metadata": {},
   "source": [
    "saddle_threshold: for cosmo runs, merge peaks into halos (HOP-style)"
   ]
  },
  {
   "cell_type": "markdown",
   "metadata": {},
   "source": [
    "So I entered a saddle threshold just to make the thing positive and see what happens "
   ]
  },
  {
   "cell_type": "markdown",
   "metadata": {},
   "source": [
    "So even though it enters the merge_clumps call it still yielded no haloes "
   ]
  },
  {
   "cell_type": "raw",
   "metadata": {},
   "source": [
    "clinfo:  F\n",
    " Now merging peaks into halos.\n",
    " Now merging clumps into halos\n",
    " Found           0  halos\n",
    " at the end of clump_finder : ntest_all:          624\n",
    " ntest:          624\n",
    " Entering compute clump properties\n",
    " inside clump_merger, looping over cells above the threshold          624\n",
    " total mass above the density threshold :     2.3381950977904298\n",
    " Inside flag_formation_site.f90 nsink:            0\n",
    "    "
   ]
  },
  {
   "cell_type": "raw",
   "metadata": {},
   "source": [
    "   if(action.EQ.'saddleden')then\n",
    "        if(relevance(i)>relevance_threshold)then\n",
    "           alive(i)=1\n",
    "        else\n",
    "           alive(i)=0\n",
    "        endif"
   ]
  },
  {
   "cell_type": "raw",
   "metadata": {},
   "source": [
    "relevance_threshold: merge peaks that are considered as ``noise''"
   ]
  },
  {
   "cell_type": "raw",
   "metadata": {},
   "source": [
    "relevance(i):   0.99999999999040123\n",
    " relevance_threshold:    2.0000000000000000E-002\n",
    " alive\n",
    " relevance(i):   0.99999999999040123\n",
    " relevance_threshold:    2.0000000000000000E-002\n",
    " alive\n",
    " relevance(i):   0.99999999999040123\n",
    " relevance_threshold:    2.0000000000000000E-002\n",
    " alive\n",
    " Found           1  halos\n",
    " at the end of clump_finder : ntest_all:          624\n",
    " ntest:          624\n",
    " Entering compute clump properties\n",
    " inside clump_merger, looping over cells above the threshold          624\n",
    " total mass above the density threshold :     2.3382042269978793\n",
    " Inside flag_formation_site.f90 nsink:            0\n",
    " entering make_sink_from_clump for level            7\n",
    " nsink:             0\n",
    " flag2 slice:             0           0           0           0           0           0           0           0           0           0           0           0           0           0           0           0           0           0           0           0\n",
    " number of cells that are flagged as sink : ntot:             0\n",
    " end of make_sink_from_clump nsink:             0"
   ]
  },
  {
   "cell_type": "markdown",
   "metadata": {},
   "source": [
    "so it looks like the dead halo isn't the problem here, since the nsink is still zero "
   ]
  },
  {
   "cell_type": "markdown",
   "metadata": {},
   "source": [
    "## nmove_tot"
   ]
  },
  {
   "cell_type": "markdown",
   "metadata": {},
   "source": [
    "maybe it is having toruble when its finding peak patches "
   ]
  },
  {
   "cell_type": "markdown",
   "metadata": {},
   "source": [
    "Just looking where nsink shows up first "
   ]
  },
  {
   "cell_type": "code",
   "execution_count": null,
   "metadata": {
    "collapsed": true
   },
   "outputs": [],
   "source": [
    "Complete init_flow\n",
    " Entering init_part\n",
    " Looking for file ic_sink: ic_sink\n",
    " finished init_sink\n",
    "   Entering init_tree\n",
    "   Entering merge_tree_fine for level  6\n",
    "   Entering merge_tree_fine for level  5\n",
    "   Entering merge_tree_fine for level  4\n",
    "   Entering merge_tree_fine for level  3\n",
    "   Entering merge_tree_fine for level  2\n",
    "   Entering merge_tree_fine for level  1\n",
    "   Entering kill_cloud for level  1\n",
    "  Entering create_cloud_from_sink\n",
    " nsink:             0\n",
    "   Entering make_tree_fine for level  1"
   ]
  },
  {
   "cell_type": "markdown",
   "metadata": {},
   "source": [
    "added much more prints inside creating sink procedures to see what happened "
   ]
  },
  {
   "cell_type": "raw",
   "metadata": {},
   "source": [
    "after clump_finder nsink :            0\n",
    " Entering compute clump properties\n",
    " inside clump_merger, looping over cells above the threshold          624\n",
    " total mass above the density threshold :     2.3382052417619237\n",
    " after compute_clump_properties, nsink :            0\n",
    " Inside flag_formation_site.f90 nsink:            0\n",
    " after flag_formation_sites, nsink :            0"
   ]
  },
  {
   "cell_type": "markdown",
   "metadata": {},
   "source": [
    "nsink was zero even before all of this not too sure what is going on "
   ]
  },
  {
   "cell_type": "code",
   "execution_count": null,
   "metadata": {
    "collapsed": true
   },
   "outputs": [],
   "source": []
  }
 ],
 "metadata": {
  "kernelspec": {
   "display_name": "Python 2",
   "language": "python",
   "name": "python2"
  },
  "language_info": {
   "codemirror_mode": {
    "name": "ipython",
    "version": 2
   },
   "file_extension": ".py",
   "mimetype": "text/x-python",
   "name": "python",
   "nbconvert_exporter": "python",
   "pygments_lexer": "ipython2",
   "version": "2.7.10"
  }
 },
 "nbformat": 4,
 "nbformat_minor": 0
}
