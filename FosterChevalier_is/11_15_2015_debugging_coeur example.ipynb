{
 "cells": [
  {
   "cell_type": "raw",
   "metadata": {},
   "source": [
    "NVECTOR = 32\n",
    "NDIM = 3\n",
    "NPRE = 8\n",
    "NVAR = 8\n",
    "NENER = 0\n",
    "SOLVER = mhd\n",
    "PATCH =../patch/mhd/coeur\n",
    "EXEC = ramses"
   ]
  },
  {
   "cell_type": "raw",
   "metadata": {},
   "source": [
    "gfortran -O3 -frecord-marker=4 -fbacktrace -ffree-line-length-none -g -x f95-cpp-input -DNVECTOR=32 -DNDIM=3 -DNPRE=8 -DNENER=0 -DNVAR=5 -DSOLVERhydro  -DWITHOUTMPI -c ../hydro/cooling_fine.f90 -o cooling_fine.o\n",
    "../hydro/cooling_fine.f90:487.54:\n",
    "\n",
    "              cooling_switch = uold(ind_leaf(i),idelay)/max(uold(ind_leaf(i),1),smallr)\n",
    "                                                      1\n",
    "Error: Symbol 'idelay' at (1) has no IMPLICIT type\n",
    "../hydro/cooling_fine.f90:173.44:\n",
    "\n",
    "           Zsolar(i)=uold(ind_leaf(i),imetal)/nH(i)/0.02\n",
    "                                            1\n",
    "Error: Symbol 'imetal' at (1) has no IMPLICIT type\n",
    "make: *** [cooling_fine.o] Error 1"
   ]
  },
  {
   "cell_type": "raw",
   "metadata": {},
   "source": [
    "  include 'mpif.h'\n",
    "#endif\n",
    "  integer::ilevel,idelay,imetal"
   ]
  },
  {
   "cell_type": "raw",
   "metadata": {},
   "source": [
    "use hydro_commons\n",
    "      2\n",
    "Error: Symbol 'idelay' at (1) conflicts with symbol from module 'hydro_parameters', use-associated at (2)"
   ]
  },
  {
   "cell_type": "code",
   "execution_count": null,
   "metadata": {
    "collapsed": true
   },
   "outputs": [],
   "source": []
  }
 ],
 "metadata": {
  "kernelspec": {
   "display_name": "Python 2",
   "language": "python",
   "name": "python2"
  },
  "language_info": {
   "codemirror_mode": {
    "name": "ipython",
    "version": 2
   },
   "file_extension": ".py",
   "mimetype": "text/x-python",
   "name": "python",
   "nbconvert_exporter": "python",
   "pygments_lexer": "ipython2",
   "version": "2.7.10"
  }
 },
 "nbformat": 4,
 "nbformat_minor": 0
}
