{
 "cells": [
  {
   "cell_type": "raw",
   "metadata": {},
   "source": [
    "read(10,*,end=102)mm1,xx1,xx2,xx3,vv1,vv2,vv3,ll1,ll2,ll3"
   ]
  },
  {
   "cell_type": "raw",
   "metadata": {},
   "source": [
    "1.E-5 0. 0. 0. 0. 0. 0. 0. 0. 0"
   ]
  },
  {
   "cell_type": "raw",
   "metadata": {},
   "source": [
    "Building initial AMR grid\n",
    " ic_sink:  T\n",
    " Looking for file ic_sink: ic_sink\n",
    " ic_sink:  T\n",
    " Opening up : ic_sink\n",
    " Reading stuff from ic_sink\n",
    " Info mm1,xx1,xx2,xx3,vv1,vv2,vv3,ll1,ll2,ll3:    2.3177852711895454E-310   2.3177859154611277E-310   6.9533558059670409E-310   6.9533558059844320E-310   0.0000000000000000        1.0327289962658242E-314   2.3177859154634992E-310   0.0000000000000000        0.0000000000000000        0.0000000000000000\n",
    " Vector info:\n",
    " idsink:            0\n",
    " msink:    8.0948703545921516E-319\n",
    " xdsink:    2.3879674860444969E-318   0.0000000000000000        0.0000000000000000\n",
    " vsink:    2.3879674860444969E-318   0.0000000000000000        0.0000000000000000\n",
    " lsink:    2.3879674860444969E-318   0.0000000000000000        0.0000000000000000\n",
    " tsink:    8.0948703545921516E-319"
   ]
  },
  {
   "cell_type": "markdown",
   "metadata": {},
   "source": [
    "Trying different datatypes "
   ]
  },
  {
   "cell_type": "raw",
   "metadata": {},
   "source": [
    "1.E-5 1.E-5  1.d-5 0. 0. 0. 0. 0. 0. 0."
   ]
  },
  {
   "cell_type": "raw",
   "metadata": {},
   "source": [
    "Reading stuff from ic_sink\n",
    " Info mm1,xx1,xx2,xx3,vv1,vv2,vv3,ll1,ll2,ll3:    2.3177852711895454E-310   2.3177859154611277E-310   6.9533558059670409E-310   6.9533558059844320E-310   0.0000000000000000        1.0327289962658242E-314   2.3177859154634992E-310   0.0000000000000000        0.0000000000000000        0.0000000000000000\n",
    " Vector info:\n",
    " idsink:            0\n",
    " msink:    8.0948703545921516E-319\n",
    " xdsink:    2.3879674860444969E-318   0.0000000000000000        0.0000000000000000\n",
    " vsink:    2.3879674860444969E-318   0.0000000000000000        0.0000000000000000\n",
    " lsink:    2.3879674860444969E-318   0.0000000000000000        0.0000000000000000\n",
    " tsink:    8.0948703545921516E-319"
   ]
  },
  {
   "cell_type": "markdown",
   "metadata": {},
   "source": [
    "Even trying integers "
   ]
  },
  {
   "cell_type": "raw",
   "metadata": {},
   "source": [
    "1.E-5 1.E-5  1.d-5 1  0. 0. 0. 0. 0. 0."
   ]
  },
  {
   "cell_type": "raw",
   "metadata": {},
   "source": [
    "Found d_sink! Assuming code units\n",
    " You did not set up namelist &CLUMPFIND_PARAMS in parameter file.\n",
    " You did not specify a threshold for the clump finder.\n",
    " Setting it to sink threshold / 10. !\n",
    " Building initial AMR grid\n",
    " ic_sink:  T\n",
    " Looking for file ic_sink: ic_sink\n",
    " ic_sink:  T\n",
    " Opening up : ic_sink\n",
    " Reading stuff from ic_sink\n",
    " Info mm1,xx1,xx2,xx3,vv1,vv2,vv3,ll1,ll2,ll3:    2.3177852711895454E-310   2.3177859154611277E-310   6.9533558059670409E-310   6.9533558059844320E-310   0.0000000000000000        1.0327289962658242E-314   2.3177859154634992E-310   0.0000000000000000        0.0000000000000000        0.0000000000000000\n",
    " Vector info:\n",
    " idsink:            0\n",
    " msink:    8.0948703545921516E-319\n",
    " xdsink:    2.3879674860444969E-318   0.0000000000000000        0.0000000000000000\n",
    " vsink:    2.3879674860444969E-318   0.0000000000000000        0.0000000000000000\n",
    " lsink:    2.3879674860444969E-318   0.0000000000000000        0.0000000000000000\n",
    " tsink:    8.0948703545921516E-319\n",
    " Initial mesh structure\n",
    " Level  1 has          1 grids (       1,       1,       1,)\n",
    " Level  2 has          8 grids (       8,       8,       8,)\n",
    " Level  3 has         64 grids (      64,      64,      64,)\n",
    " Level  4 has        512 grids (     512,     512,     512,)\n",
    " Level  5 has       4096 grids (    4096,    4096,    4096,)\n",
    " Level  6 has      32768 grids (   32768,   32768,   32768,)"
   ]
  },
  {
   "cell_type": "code",
   "execution_count": null,
   "metadata": {
    "collapsed": true
   },
   "outputs": [],
   "source": []
  }
 ],
 "metadata": {
  "kernelspec": {
   "display_name": "Python 2",
   "language": "python",
   "name": "python2"
  },
  "language_info": {
   "codemirror_mode": {
    "name": "ipython",
    "version": 2
   },
   "file_extension": ".py",
   "mimetype": "text/x-python",
   "name": "python",
   "nbconvert_exporter": "python",
   "pygments_lexer": "ipython2",
   "version": "2.7.10"
  }
 },
 "nbformat": 4,
 "nbformat_minor": 0
}
