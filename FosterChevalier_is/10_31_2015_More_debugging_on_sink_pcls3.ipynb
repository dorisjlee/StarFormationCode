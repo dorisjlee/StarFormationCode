{
 "cells": [
  {
   "cell_type": "raw",
   "metadata": {},
   "source": [
    "calling hydro flag_peaks\n",
    " Entering flag_peaks inside clump_merger\n",
    " flag2 slice:             0           0           0           0           0           0           0           0           0           0           0           0           0           0           0           0           0           0           0           0\n",
    " jpart:           444\n",
    " ipeak:             1\n",
    " icellp(jpart):      15271153\n",
    " flag2(icellp(jpart)):             1\n",
    " jpart:           531\n",
    " ipeak:             2\n",
    " icellp(jpart):      18289880"
   ]
  },
  {
   "cell_type": "raw",
   "metadata": {},
   "source": [
    "flage2(idx) should be nonzero:             2\n",
    " end flag peaks flag2 slice:             0           0           0           0           0           0           0           0           0           0           0           0           0           0           0           0           0           0           0           0\n",
    " flage2(idx) should be nonzero:             2"
   ]
  },
  {
   "cell_type": "markdown",
   "metadata": {},
   "source": [
    "Looks like clumps is not merged into haloes "
   ]
  },
  {
   "cell_type": "markdown",
   "metadata": {},
   "source": [
    "line 276 "
   ]
  },
  {
   "cell_type": "raw",
   "metadata": {},
   "source": [
    "if (myid==1)write(*,*)'saddle_threshold:  ',saddle_threshold\n",
    "     !------------------------------------------\n",
    "     ! Merge clumps into haloes\n",
    "     !------------------------------------------\n",
    "     if(saddle_threshold>0)then\n",
    "        if(myid==1.and.clinfo)write(*,*)\"Now merging peaks into halos.\"\n",
    "        call merge_clumps('saddleden')\n",
    "     endif"
   ]
  },
  {
   "cell_type": "raw",
   "metadata": {},
   "source": [
    "Entering compute clump properties\n",
    " inside clump_merger, looping over cells above the threshold          624\n",
    " total mass above the density threshold :     2.3382032123142209\n",
    " flage2(idx) should be nonzero:             1\n",
    " saddle_threshold:    -1.0000000000000000\n",
    " clinfo:  F\n",
    " at the end of clump_finder : ntest_all:          624\n",
    " ntest:          624\n",
    " Entering compute clump properties\n",
    " inside clump_merger, looping over cells above the threshold          624\n",
    " total mass above the density threshold :     2.3382032123142209\n",
    " entering make_sink_from_clump for level            7\n",
    " nsink:             0"
   ]
  },
  {
   "cell_type": "markdown",
   "metadata": {},
   "source": [
    "so saddle threshold never got turned on so nother was every converted from clumps to haloes "
   ]
  },
  {
   "cell_type": "markdown",
   "metadata": {},
   "source": [
    "But we don't want haloes ? we want sinks? '"
   ]
  },
  {
   "cell_type": "markdown",
   "metadata": {},
   "source": [
    "So this might be where it go awry "
   ]
  },
  {
   "cell_type": "markdown",
   "metadata": {},
   "source": [
    "But if we move onto clumpmerger and look at where nsink should be changed and stuff "
   ]
  },
  {
   "cell_type": "markdown",
   "metadata": {},
   "source": [
    "there's actually no nsink inside clump_merger so this is all inside sinkparticles '"
   ]
  },
  {
   "cell_type": "markdown",
   "metadata": {},
   "source": [
    "So within sinkparticle it enters "
   ]
  },
  {
   "cell_type": "markdown",
   "metadata": {},
   "source": [
    "### make_sink_from_clump"
   ]
  },
  {
   "cell_type": "markdown",
   "metadata": {},
   "source": [
    "here nsink =0 already "
   ]
  },
  {
   "cell_type": "markdown",
   "metadata": {},
   "source": [
    "### create_cloud_from_sink"
   ]
  },
  {
   "cell_type": "markdown",
   "metadata": {},
   "source": [
    "nsink =0 already "
   ]
  },
  {
   "cell_type": "markdown",
   "metadata": {},
   "source": [
    "maybe nsink is set inside init_sink "
   ]
  },
  {
   "cell_type": "markdown",
   "metadata": {},
   "source": [
    "## init_sink.f90"
   ]
  },
  {
   "cell_type": "raw",
   "metadata": {},
   "source": [
    "orislee@edison11:/project/projectdirs/astro250/doris/ramses3/trunk/ramses/bin> grep -rnw '../pm/' -e \"nsink\"\n",
    "../pm/flag_formation_sites.f90:53:  if(myid==1 .and. clinfo)write(*,*)'looping over ',nsink,' sinks and marking their clumps'\n",
    "../pm/flag_formation_sites.f90:57:     do j=1,nsink\n",
    "../pm/flag_formation_sites.f90:72:  do j=1,nsink\n",
    "../pm/init_part.f90:128:     read(ilun)nsink\n",
    "../pm/init_sink.f90:144:     read(ilun)nsink\n",
    "../pm/init_sink.f90:147:     if(nsink>0)then\n",
    "../pm/init_sink.f90:148:        allocate(xdp(1:nsink))\n",
    "../pm/init_sink.f90:150:        msink(1:nsink)=xdp\n",
    "../pm/init_sink.f90:152:        tsink(1:nsink)=xdp\n",
    "../pm/init_sink.f90:155:           xsink(1:nsink,idim)=xdp\n",
    "../pm/init_sink.f90:159:           vsink(1:nsink,idim)=xdp\n",
    "../pm/init_sink.f90:163:           lsink(1:nsink,idim)=xdp\n",
    "../pm/init_sink.f90:166:        delta_mass(1:nsink)=xdp\n",
    "../pm/init_sink.f90:168:        acc_rate(1:nsink)=xdp\n",
    "../pm/init_sink.f90:170:        allocate(isp(1:nsink))\n",
    "../pm/init_sink.f90:172:        idsink(1:nsink)=isp\n",
    "../pm/init_sink.f90:175:        allocate(nb(1:nsink))\n",
    "../pm/init_sink.f90:177:        new_born(1:nsink)=nb\n",
    "../pm/init_sink.f90:197:        do i=1,nsink\n",
    "../pm/init_sink.f90:205:     nsinkold=nsink\n",
    "../pm/init_sink.f90:218:     nsink=0\n",
    "../pm/init_sink.f90:250:        nsink=nsink+1\n",
    "../pm/init_sink.f90:252:        idsink(nsink)=nindsink\n",
    "../pm/init_sink.f90:253:        msink(nsink)=mm1\n",
    "../pm/init_sink.f90:254:        xsink(nsink,1)=xx1+boxlen/2.0"
   ]
  },
  {
   "cell_type": "markdown",
   "metadata": {},
   "source": [
    "I feel like init_sink is reading in from the history file it looks like its a restarting procedure rather than initializing procedure "
   ]
  },
  {
   "cell_type": "raw",
   "metadata": {},
   "source": [
    "Looking for file ic_sink: ic_sink\n",
    " finished init_sink"
   ]
  },
  {
   "cell_type": "markdown",
   "metadata": {},
   "source": [
    "Yes as expected this means that init_sink is just used for restart not initialization"
   ]
  },
  {
   "cell_type": "markdown",
   "metadata": {},
   "source": [
    "newdtfine is for timestepping shouldnt be reelvant here"
   ]
  },
  {
   "cell_type": "raw",
   "metadata": {},
   "source": [
    "Inside newdt_fine.f90, sink: T\n",
    " nsink:            0"
   ]
  },
  {
   "cell_type": "markdown",
   "metadata": {},
   "source": [
    "The question now is where exactly are these nsink defined to begin with and why is it 0 "
   ]
  },
  {
   "cell_type": "raw",
   "metadata": {},
   "source": [
    "becasue initially I have  n_sink =    16335936.621338507"
   ]
  },
  {
   "cell_type": "markdown",
   "metadata": {},
   "source": [
    "Trying to trace variables using gdb "
   ]
  },
  {
   "cell_type": "raw",
   "metadata": {},
   "source": [
    "(gdb) info variables n_sink\n",
    "All variables matching regular expression \"n_sink\":\n",
    "\n",
    "Non-debugging symbols:\n",
    "0x000000000070ac70  __amr_parameters_MOD_n_sink"
   ]
  },
  {
   "cell_type": "code",
   "execution_count": null,
   "metadata": {
    "collapsed": true
   },
   "outputs": [],
   "source": []
  }
 ],
 "metadata": {
  "kernelspec": {
   "display_name": "Python 2",
   "language": "python",
   "name": "python2"
  },
  "language_info": {
   "codemirror_mode": {
    "name": "ipython",
    "version": 2
   },
   "file_extension": ".py",
   "mimetype": "text/x-python",
   "name": "python",
   "nbconvert_exporter": "python",
   "pygments_lexer": "ipython2",
   "version": "2.7.10"
  }
 },
 "nbformat": 4,
 "nbformat_minor": 0
}
