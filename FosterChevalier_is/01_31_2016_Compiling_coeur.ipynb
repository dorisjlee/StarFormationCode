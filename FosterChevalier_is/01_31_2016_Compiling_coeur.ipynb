{
 "cells": [
  {
   "cell_type": "raw",
   "metadata": {},
   "source": [
    "../utils/scripts/cr_write_makefile.sh  Makefile\n",
    "ifort -cpp -DNVECTOR=32 -DNDIM=3 -DNPRE=8 -DNENER=0 -DNVAR=5 -DSOLVERhydro -DWITHOUTMPI -c write_makefile.f90 -o write_makefile.o\n",
    "../utils/scripts/cr_write_patch.sh /global/homes/d/dorislee/project/uniform_sphere/trunk/ramses/patch/hydro/coeur/\n",
    "ifort -cpp -DNVECTOR=32 -DNDIM=3 -DNPRE=8 -DNENER=0 -DNVAR=5 -DSOLVERhydro -DWITHOUTMPI -c write_patch.f90 -o write_patch.o\n",
    "ifort -cpp -DNVECTOR=32 -DNDIM=3 -DNPRE=8 -DNENER=0 -DNVAR=5 -DSOLVERhydro -DWITHOUTMPI -DPATCH=\\'/global/homes/d/dorislee/project/uniform_sphere/trunk/ramses/patch/hydro/coeur/ \\' -DGITBRANCH=\\'master\\' -DGITHASH=\\'\"08dd1f4054733535f168150f7f83a5fd35377824\"\\' \\\n",
    " -DGITREPO=\\'https://bitbucket.org/rteyssie/ramses\\' -DBUILDDATE=\\'\"01/31/16-13:24:59\"\\' -c ../amr/write_gitinfo.f90 -o write_gitinfo.o\n",
    "ifort: error #10236: File not found:  '''\n",
    "/global/cscratch1/sd/dorislee/ifortYAX0fu.i90: catastrophic error: Internal Compiler Error: No filename given on the command-line\n",
    "compilation aborted for ../amr/write_gitinfo.f90 (code 1)\n",
    "make: *** [write_gitinfo.o] Error 1"
   ]
  },
  {
   "cell_type": "markdown",
   "metadata": {},
   "source": [
    "If I just try to copy the gravana.f90 over into uniform_sphere and set isolated as true then "
   ]
  },
  {
   "cell_type": "raw",
   "metadata": {},
   "source": [
    "dorislee@cori02:~/project/uniform_sphere3/trunk/ramses/bin> ./ramses3d ../patch/hydro/uniform_sphere/fc.nml\n",
    " _/_/_/       _/_/     _/    _/    _/_/_/   _/_/_/_/    _/_/_/\n",
    " _/    _/    _/  _/    _/_/_/_/   _/    _/  _/         _/    _/\n",
    " _/    _/   _/    _/   _/ _/ _/   _/        _/         _/\n",
    " _/_/_/     _/_/_/_/   _/    _/     _/_/    _/_/_/       _/_/\n",
    " _/    _/   _/    _/   _/    _/         _/  _/               _/\n",
    " _/    _/   _/    _/   _/    _/   _/    _/  _/         _/    _/\n",
    " _/    _/   _/    _/   _/    _/    _/_/_/   _/_/_/_/    _/_/_/\n",
    "                         Version 3.0\n",
    "        written by Romain Teyssier (University of Zurich)\n",
    "                (c) CEA 1999-2007, UZH 2008-2014\n",
    "\n",
    " Working with nproc =    1 for ndim = 3\n",
    " Using solver = hydro with nvar =  5\n",
    "\n",
    " compile date = 01/31/16-13:37:38\n",
    " patch dir    = /global/homes/d/dorislee/project/uniform_sphere/trunk/ramses/patch/hydro/uniform\n",
    " remote repo  = https://bitbucket.org/rteyssie/ramses\n",
    " local branch = master\n",
    " last commit  = 08dd1f4054733535f168150f7f83a5fd35377824\n",
    "\n",
    "forrtl: severe (19): invalid reference to variable in NAMELIST input, unit 1, file /global/project/projectdirs/astro250/doris/uniform_sphere3/trunk/ramses/bin/../patch/hydro/uniform_sphere/fc.nml, line 47, position 9\n",
    "Image              PC                Routine            Line        Source\n",
    "ramses3d           0000000000598249  Unknown               Unknown  Unknown\n",
    "ramses3d           00000000005D2756  Unknown               Unknown  Unknown\n",
    "ramses3d           0000000000427F98  Unknown               Unknown  Unknown\n",
    "ramses3d           000000000058C92B  Unknown               Unknown  Unknown\n",
    "ramses3d           000000000040371E  Unknown               Unknown  Unknown\n",
    "libc.so.6          00002AAAAB182C36  Unknown               Unknown  Unknown\n",
    "ramses3d           0000000000403629  Unknown               Unknown  Unknown"
   ]
  },
  {
   "cell_type": "markdown",
   "metadata": {},
   "source": [
    "Without setting isolated as true , but gravana still inside the patch see what ahppens "
   ]
  },
  {
   "cell_type": "code",
   "execution_count": null,
   "metadata": {
    "collapsed": true
   },
   "outputs": [],
   "source": []
  }
 ],
 "metadata": {
  "kernelspec": {
   "display_name": "Python 2",
   "language": "python",
   "name": "python2"
  },
  "language_info": {
   "codemirror_mode": {
    "name": "ipython",
    "version": 2
   },
   "file_extension": ".py",
   "mimetype": "text/x-python",
   "name": "python",
   "nbconvert_exporter": "python",
   "pygments_lexer": "ipython2",
   "version": "2.7.10"
  }
 },
 "nbformat": 4,
 "nbformat_minor": 0
}
