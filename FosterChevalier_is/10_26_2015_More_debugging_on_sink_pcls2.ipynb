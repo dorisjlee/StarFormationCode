{
 "cells": [
  {
   "cell_type": "raw",
   "metadata": {
    "collapsed": true
   },
   "source": [
    "Entering dump_all\n",
    " Entering output_header\n",
    " Entering output_info\n",
    " Entering file_descriptor_hydro\n",
    " Entering output_sink\n",
    " Entering output_sink\n",
    " Entering output_sink_csv\n",
    " filename: output_00001/sink_00001.csv\n",
    " nsink:            0\n",
    " Entering backup_amr\n",
    " Entering backup_hydro\n",
    " Entering backup_part\n",
    " Entering backup_sink\n",
    " filename: output_00001/sink_00001.out\n",
    " ilun:           15\n",
    " nsink:            0\n",
    " Entering backup_poisson\n",
    "   Entering rho_fine for level  7\n",
    "   Entering multipole_fine for level 7\n",
    "   Entering cic_from_multipole for level 7"
   ]
  },
  {
   "cell_type": "markdown",
   "metadata": {},
   "source": [
    "no output written in and no nsink \n",
    "but not really at a place where ntest: is nonzero yet, so wait for a later timestep"
   ]
  },
  {
   "cell_type": "markdown",
   "metadata": {},
   "source": [
    "I adjusted a lower density criterion now to 0.02 so now I have "
   ]
  },
  {
   "cell_type": "raw",
   "metadata": {},
   "source": [
    "check create_sinks after :  T\n",
    "  Entering clump_finder\n",
    " Enter count_test_particle\n",
    "  Entering count test particle for level=           7  and action=           1\n",
    " Enter count_test_particle\n",
    " Enter count_test_particle\n",
    " Enter count_test_particle\n",
    " ntest_all:          624\n",
    " ntest:          624\n",
    " Enter count_test_particle\n",
    "  Entering count test particle for level=           7  and action=           2\n",
    " Enter count_test_particle\n",
    " Enter count_test_particle\n",
    " Enter count_test_particle\n",
    " Total number of density peaks found=         8\n",
    " Finding peak patches\n",
    " Now merging irrelevant clumps"
   ]
  },
  {
   "cell_type": "markdown",
   "metadata": {},
   "source": [
    "sink particle only comes in the second timestep"
   ]
  },
  {
   "cell_type": "markdown",
   "metadata": {},
   "source": [
    "added more debug statemetns, it seems like something happened in between create_sink to output_sink_csv that went awry and killed all the sink particles so that the nsink = 0 even though ntest is non zero "
   ]
  },
  {
   "cell_type": "raw",
   "metadata": {},
   "source": [
    "if (myid==1)write(*,*)'inside accrete_sink nsink:  ', nsink"
   ]
  },
  {
   "cell_type": "raw",
   "metadata": {},
   "source": [
    " Enter count_test_particle\n",
    " Total number of density peaks found=         8\n",
    " Finding peak patches\n",
    " Now merging irrelevant clumps\n",
    " Found           1  relevant peaks\n",
    " Entering compute clump properties\n",
    " Entering compute clump properties\n",
    " entering make_sink_from_clump for level            7\n",
    " nsink:             0\n",
    " entering make_sink_from_clump for level            8\n",
    " nsink:             0\n",
    " entering make_sink_from_clump for level            9\n",
    " nsink:             0\n",
    " entering make_sink_from_clump for level           10\n",
    " nsink:             0\n",
    "  Entering create_cloud_from_sink\n",
    " nsink:             0"
   ]
  },
  {
   "cell_type": "markdown",
   "metadata": {},
   "source": [
    "So it looks like nsink was never initialized so that mean things got awry even before ntest turned into nsink probably inside clump_merger"
   ]
  },
  {
   "cell_type": "code",
   "execution_count": null,
   "metadata": {
    "collapsed": true
   },
   "outputs": [],
   "source": []
  }
 ],
 "metadata": {
  "kernelspec": {
   "display_name": "Python 2",
   "language": "python",
   "name": "python2"
  },
  "language_info": {
   "codemirror_mode": {
    "name": "ipython",
    "version": 2
   },
   "file_extension": ".py",
   "mimetype": "text/x-python",
   "name": "python",
   "nbconvert_exporter": "python",
   "pygments_lexer": "ipython2",
   "version": "2.7.10"
  }
 },
 "nbformat": 4,
 "nbformat_minor": 0
}
