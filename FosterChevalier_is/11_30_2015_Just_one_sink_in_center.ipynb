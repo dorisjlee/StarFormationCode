{
 "cells": [
  {
   "cell_type": "markdown",
   "metadata": {},
   "source": [
    "Using the sink test case that I wrote, see if I can get one sink in the center, right now this is in ramses/ but since I messed with some stuff in pm/ and its causing "
   ]
  },
  {
   "cell_type": "raw",
   "metadata": {},
   "source": [
    "======= Backtrace: =========\n",
    "/lib64/libc.so.6(+0x79088)[0x2aaaab723088]\n",
    "/lib64/libc.so.6(cfree+0x6c)[0x2aaaab7280cc]\n",
    "./ramses3d[0x48a039]\n",
    "./ramses3d[0x431c06]\n",
    "./ramses3d[0x42a08a]\n",
    "./ramses3d[0x429556]\n",
    "./ramses3d[0x401b86]\n",
    "/lib64/libc.so.6(__libc_start_main+0xe6)[0x2aaaab6c8c36]\n",
    "./ramses3d[0x401bb9]\n",
    "======= Memory map: ========\n",
    "00400000-0050f000 r-xp 00000000 00:1d 347546602                          /global/project/projectdirs/astro250/doris/ramses/trunk/ramses/bin/ramses3d\n",
    "0070e000-0070f000 r--p 0010e000 00:1d 347546602                          /global/project/projectdirs/astro250/doris/ramses/trunk/ramses/bin/ramses3d\n",
    "0070f000-0071a000 rw-p 0010f000 00:1d 347546602                          /global/project/projectdirs/astro250/doris/ramses/trunk/ramses/bin/ramses3d\n",
    "0071a000-00e59000 rw-p 00000000 00:00 0                                  [heap]\n",
    "2aaaaaaab000-2aaaaaaca000 r-xp 00000000 08:07 60686686                   /lib64/ld-2.11.3.so\n",
    "2aaaaaaca000-2aaaaaacb000 r-xp 00000000 00:00 0                          [vdso]\n",
    "2aaaaaacb000-2aaaaaacc000 rw-p 00000000 00:00 0\n",
    "2aaaaacca000-2aaaaaccb000 r--p 0001f000 08:07 60686686                   /lib64/ld-2.11.3.so\n",
    "2aaaaaccb000-2aaaaaccc000 rw-p 00020000 08:07 60686686                   /lib64/ld-2.11.3.so\n",
    "2aaaaaccc000-2aaaaaccd000 rw-p 00000000 00:00 0\n",
    "2aaaaaccd000-2aaaaade1000 r-xp 00000000 08:07 4432134                    /usr/lib64/libgfortran.so.3.0.0\n",
    "2aaaaade1000-2aaaaafe0000 ---p 00114000 08:07 4432134                    /usr/lib64/libgfortran.so.3.0.0\n",
    "2aaaaafe0000-2aaaaafe1000 r--p 00113000 08:07 4432134                    /usr/lib64/libgfortran.so.3.0.0\n",
    "2aaaaafe1000-2aaaaafe3000 rw-p 00114000 08:07 4432134                    /usr/lib64/libgfortran.so.3.0.0\n",
    "2aaaaafe3000-2aaaaafe4000 rw-p 00000000 00:00 0\n",
    "2aaaaafe4000-2aaaab03f000 r-xp 00000000 08:07 60686501                   /lib64/libm-2.11.3.so\n",
    "2aaaab03f000-2aaaab23e000 ---p 0005b000 08:07 60686501                   /lib64/libm-2.11.3.so\n",
    "2aaaab23e000-2aaaab23f000 r--p 0005a000 08:07 60686501                   /lib64/libm-2.11.3.so\n",
    "2aaaab23f000-2aaaab25d000 rw-p 0005b000 08:07 60686501                   /lib64/libm-2.11.3.so\n",
    "2aaaab25d000-2aaaab272000 r-xp 00000000 08:07 60686491                   /lib64/libgcc_s.so.1\n",
    "2aaaab272000-2aaaab471000 ---p 00015000 08:07 60686491                   /lib64/libgcc_s.so.1\n",
    "2aaaab471000-2aaaab472000 r--p 00014000 08:07 60686491                   /lib64/libgcc_s.so.1\n",
    "2aaaab472000-2aaaab473000 rw-p 00015000 08:07 60686491                   /lib64/libgcc_s.so.1\n",
    "2aaaab473000-2aaaab4a8000 r-xp 00000000 08:07 4432274                    /usr/lib64/libquadmath.so.0.0.0\n",
    "2aaaab4a8000-2aaaab6a7000 ---p 00035000 08:07 4432274                    /usr/lib64/libquadmath.so.0.0.0\n",
    "2aaaab6a7000-2aaaab6a8000 r--p 00034000 08:07 4432274                    /usr/lib64/libquadmath.so.0.0.0\n",
    "2aaaab6a8000-2aaaab6a9000 rw-p 00035000 08:07 4432274                    /usr/lib64/libquadmath.so.0.0.0\n",
    "2aaaab6a9000-2aaaab6aa000 rw-p 00000000 00:00 0\n",
    "2aaaab6aa000-2aaaab81c000 r-xp 00000000 08:07 60686466                   /lib64/libc-2.11.3.so\n",
    "2aaaab81c000-2aaaaba1c000 ---p 00172000 08:07 60686466                   /lib64/libc-2.11.3.so\n",
    "2aaaaba1c000-2aaaaba20000 r--p 00172000 08:07 60686466                   /lib64/libc-2.11.3.so\n",
    "2aaaaba20000-2aaaaba21000 rw-p 00176000 08:07 60686466                   /lib64/libc-2.11.3.so\n",
    "2aaaaba21000-2ab3ed785000 rw-p 00000000 00:00 0\n",
    "2ab3f0000000-2ab3f0021000 rw-p 00000000 00:00 0\n",
    "2ab3f0021000-2ab3f4000000 ---p 00000000 00:00 0\n",
    "7ffffffd8000-7ffffffff000 rw-p 00000000 00:00 0                          [stack]\n",
    "ffffffffff600000-ffffffffff601000 r-xp 00000000 00:00 0                  [vsyscall]\n",
    "\n",
    "Program received signal SIGABRT: Process abort signal.\n",
    "\n",
    "Backtrace for this error:"
   ]
  },
  {
   "cell_type": "markdown",
   "metadata": {},
   "source": [
    "probably because i took out the safety precautions in npartmax "
   ]
  },
  {
   "cell_type": "raw",
   "metadata": {},
   "source": [
    "  do j=1,np\n",
    "     ipart=headp_free\n",
    "     ind_part(j)=ipart\n",
    "     !write(*,*)\"numbp_free: \",numbp_free\n",
    "     !numbp_free=numbp_free-1 !tresspassing this for now...\n",
    "     !write(*,*)\"numbp_free: \",numbp_free\n",
    "     if(numbp_free<0)then\n",
    "        write(*,*)'No more free memory'\n",
    "        write(*,*)'in PE ',myid"
   ]
  },
  {
   "cell_type": "markdown",
   "metadata": {},
   "source": [
    "Line 5 is bad...., we alreadyy know the npartmax fix now its in amr_params , so lets do that "
   ]
  },
  {
   "cell_type": "markdown",
   "metadata": {},
   "source": [
    "Weird this is stil giving me the same erorr "
   ]
  },
  {
   "cell_type": "code",
   "execution_count": 2,
   "metadata": {
    "collapsed": false
   },
   "outputs": [
    {
     "name": "stdout",
     "output_type": "stream",
     "text": [
      "/global/project/projectdirs/astro250/doris/ramses/trunk/ramses/bin\n"
     ]
    }
   ],
   "source": [
    "cd /project/projectdirs/astro250/doris/ramses/trunk/ramses/bin"
   ]
  },
  {
   "cell_type": "code",
   "execution_count": 4,
   "metadata": {
    "collapsed": false
   },
   "outputs": [
    {
     "name": "stdout",
     "output_type": "stream",
     "text": [
      " Number of sink =            1\r\n",
      " ================================================================================================================================== \r\n",
      "        Id       Mass(Msol)             x                y                z               vx               vy               vz      \r\n",
      " ================================================================================================================================== \r\n",
      "         1    0.2542467E-14    0.5698271E+01    0.5698271E+01    0.4414062E+01   -0.1546532E-02   -0.1546532E-02    0.1018044E-02\r\n",
      " ================================================================================================================================== \r\n"
     ]
    }
   ],
   "source": [
    "cat output_00002/sink_00002.info"
   ]
  },
  {
   "cell_type": "code",
   "execution_count": 5,
   "metadata": {
    "collapsed": false
   },
   "outputs": [
    {
     "name": "stdout",
     "output_type": "stream",
     "text": [
      " Number of sink =            2\r\n",
      " ================================================================================================================================== \r\n",
      "        Id       Mass(Msol)             x                y                z               vx               vy               vz      \r\n",
      " ================================================================================================================================== \r\n",
      "         1    0.4449317E-14    0.5689862E+01    0.5689862E+01    0.4415175E+01    0.1246377E-01    0.1246377E-01   -0.3438469E-02\r\n",
      "         2    0.2542467E-14    0.4414062E+01    0.5698271E+01    0.5698271E+01    0.1018069E-02   -0.1550985E-02   -0.1550985E-02\r\n",
      " ================================================================================================================================== \r\n"
     ]
    }
   ],
   "source": [
    "cat output_00003/sink_00003.info"
   ]
  },
  {
   "cell_type": "code",
   "execution_count": 6,
   "metadata": {
    "collapsed": true
   },
   "outputs": [],
   "source": [
    "import yt"
   ]
  },
  {
   "cell_type": "code",
   "execution_count": 12,
   "metadata": {
    "collapsed": true
   },
   "outputs": [],
   "source": [
    "yt.funcs.mylog.setLevel(50)"
   ]
  },
  {
   "cell_type": "code",
   "execution_count": 14,
   "metadata": {
    "collapsed": true
   },
   "outputs": [],
   "source": [
    "def plot_time_slice(physical_quantity,timestep,text=\"\",title=\"\",zoom_factor=\"\",grid=False,save=False):\n",
    "    ds= yt.load(\"output_{0}/info_{0}.txt\".format(str(timestep).zfill(5)))\n",
    "    slc = yt.SlicePlot(ds, \"z\",physical_quantity)\n",
    "    slc.set_axes_unit('pc')\n",
    "    if zoom_factor!=\"\":\n",
    "        slc.zoom(zoom_factor)\n",
    "    slc.set_cmap(physical_quantity,\"rainbow\")\n",
    "    slc.set_font_size(20)\n",
    "    if title!=\"\":\n",
    "    \tslc.annotate_title(title)\n",
    "    if text!=\"\":\n",
    "\tslc.annotate_text((0.1, 0.1),text, coord_system='axis')\t\n",
    "    slc.annotate_text((0.05, 0.05),\"timestep: {}\".format(timestep), coord_system='axis')\n",
    "    slc.annotate_text((0.05, 0.02),\"time: {} Myrs\".format(timestep*61793.091/1000000.), coord_system='axis')\n",
    "    slc.annotate_velocity()\n",
    "    slc.annotate_particles((0.01, 'pc'))\n",
    "    if(grid): \n",
    "\tslc.annotate_grids()\n",
    "    if (save):\n",
    "       name  =str(timestep)#physical_quantity[:3]+str(timestep)\n",
    "       slc.save(name)\n",
    "    else:\n",
    "       slc.show()"
   ]
  },
  {
   "cell_type": "code",
   "execution_count": 20,
   "metadata": {
    "collapsed": false
   },
   "outputs": [
    {
     "data": {
      "text/html": [
       "<img style=\"max-width:100%%;max-height:100%%;\" src=\"data:image/png;base64,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\"><br>"
      ],
      "text/plain": [
       "<yt.visualization.plot_window.AxisAlignedSlicePlot at 0x7fe8e4a45dd0>"
      ]
     },
     "metadata": {},
     "output_type": "display_data"
    }
   ],
   "source": [
    "plot_time_slice(\"density\",1)"
   ]
  },
  {
   "cell_type": "code",
   "execution_count": 34,
   "metadata": {
    "collapsed": false
   },
   "outputs": [],
   "source": [
    "timestep=2\n",
    "physical_quantity=\"density\"\n",
    "ds= yt.load(\"output_{0}/info_{0}.txt\".format(str(timestep).zfill(5)))\n",
    "slc = yt.SlicePlot(ds, \"z\",physical_quantity)\n",
    "slc.set_axes_unit('pc')\n",
    "slc.set_cmap(physical_quantity,\"rainbow\")\n",
    "slc.set_font_size(20)\n",
    "slc.annotate_text((0.05, 0.05),\"timestep: {}\".format(timestep), coord_system='axis')\n",
    "slc.annotate_text((0.05, 0.02),\"time: {} Myrs\".format(timestep*61793.091/1000000.), coord_system='axis')\n",
    "slc.annotate_velocity()\n",
    "slc.annotate_particles((0.01, 'pc'))\n",
    "slc.annotate_grids()\n",
    "slc.show()"
   ]
  },
  {
   "cell_type": "code",
   "execution_count": 43,
   "metadata": {
    "collapsed": false
   },
   "outputs": [
    {
     "name": "stdout",
     "output_type": "stream",
     "text": [
      "Populating the interactive namespace from numpy and matplotlib\n"
     ]
    }
   ],
   "source": [
    "%pylab inline"
   ]
  },
  {
   "cell_type": "code",
   "execution_count": 71,
   "metadata": {
    "collapsed": false
   },
   "outputs": [],
   "source": [
    "# id, mass (msol), x, y ,z, vx,vy,vz\n",
    "sink_info = np.loadtxt(\"output_00002/sink_00002.info\",comments=\"=\",skiprows=4)"
   ]
  },
  {
   "cell_type": "code",
   "execution_count": null,
   "metadata": {
    "collapsed": true
   },
   "outputs": [],
   "source": [
    "#note that contrary to proj, you need slc.data_source.to_frb here where slc is SlicePlot and not Slice"
   ]
  },
  {
   "cell_type": "markdown",
   "metadata": {},
   "source": [
    "well that sucks..."
   ]
  },
  {
   "cell_type": "code",
   "execution_count": 72,
   "metadata": {
    "collapsed": false
   },
   "outputs": [
    {
     "data": {
      "text/plain": [
       "[<matplotlib.lines.Line2D at 0x7fe8e78d0510>]"
      ]
     },
     "execution_count": 72,
     "metadata": {},
     "output_type": "execute_result"
    },
    {
     "data": {
      "image/png": "[encoded data removed]",
      "text/plain": [
       "<matplotlib.figure.Figure at 0x7fe8e719aa50>"
      ]
     },
     "metadata": {},
     "output_type": "display_data"
    }
   ],
   "source": [
    "timestep=2\n",
    "physical_quantity=\"density\"\n",
    "ds= yt.load(\"output_{0}/info_{0}.txt\".format(str(timestep).zfill(5)))\n",
    "# c = ds.find_max(\"density\")[1]\n",
    "# print c\n",
    "#this center kinda off so lets just use this one ...\n",
    "c= [0.5,0.5,0.5]\n",
    "slc = yt.SlicePlot(ds, \"z\",physical_quantity)\n",
    "width = (0.1, 'pc') \n",
    "res = [1000, 1000] \n",
    "frb = slc.data_source.to_frb(width, res, center=c) \n",
    "plt.figure()\n",
    "plt.imshow(np.array(frb[\"density\"]),cmap=\"rainbow\")\n",
    "plt.plot(sink_info[2],sink_info[3],'o')"
   ]
  },
  {
   "cell_type": "markdown",
   "metadata": {},
   "source": [
    "not too sure what the units are, but now plotted with the centered proper units its still at corner, that means something is bad..."
   ]
  },
  {
   "cell_type": "code",
   "execution_count": 87,
   "metadata": {
    "collapsed": false
   },
   "outputs": [
    {
     "data": {
      "text/plain": [
       "[<matplotlib.lines.Line2D at 0x7fe8e49080d0>]"
      ]
     },
     "execution_count": 87,
     "metadata": {},
     "output_type": "execute_result"
    },
    {
     "data": {
      "image/png": "[encoded data removed]",
      "text/plain": [
       "<matplotlib.figure.Figure at 0x7fe8227c35d0>"
      ]
     },
     "metadata": {},
     "output_type": "display_data"
    }
   ],
   "source": [
    "timestep=2\n",
    "physical_quantity=\"density\"\n",
    "ds= yt.load(\"output_{0}/info_{0}.txt\".format(str(timestep).zfill(5)))\n",
    "c= [sink_info[2],sink_info[3],sink_info[4]]\n",
    "slc = yt.SlicePlot(ds, \"z\",physical_quantity)\n",
    "width = (0.1, 'pc') \n",
    "res = [1000, 1000] \n",
    "frb = slc.data_source.to_frb(width, res, center=c) \n",
    "plt.figure()\n",
    "plt.imshow(np.array(frb[\"density\"]),cmap=\"rainbow\")\n",
    "plt.plot(sink_info[2],sink_info[3],'o')"
   ]
  },
  {
   "cell_type": "markdown",
   "metadata": {},
   "source": [
    "This doesn't make a lot of sense , go back and try to fiture out whether sink can be initialized by ic_part'"
   ]
  },
  {
   "cell_type": "markdown",
   "metadata": {},
   "source": [
    "converting from code units to parsecs"
   ]
  },
  {
   "cell_type": "code",
   "execution_count": 88,
   "metadata": {
    "collapsed": false
   },
   "outputs": [
    {
     "name": "stdout",
     "output_type": "stream",
     "text": [
      "[ 5.698271  5.698271  4.414062]\n"
     ]
    }
   ],
   "source": [
    "c =np.array([sink_info[2],sink_info[3],sink_info[4]])\n",
    "print c"
   ]
  },
  {
   "cell_type": "raw",
   "metadata": {},
   "source": [
    "scale_d:    3.9234000000000002E-018  #from user units to g/cc\n",
    "scale_t:    1954815568499.3958      #from user units to seconds\n",
    "scale_l:    49470000000000000.      #from user units to cm"
   ]
  },
  {
   "cell_type": "raw",
   "metadata": {},
   "source": [
    "1pc = 3.08567758e18 cm "
   ]
  },
  {
   "cell_type": "code",
   "execution_count": 90,
   "metadata": {
    "collapsed": false
   },
   "outputs": [
    {
     "name": "stdout",
     "output_type": "stream",
     "text": [
      "[ 0.09135545  0.09135545  0.07076684] parsecs\n"
     ]
    }
   ],
   "source": [
    "scale_l  = 49470000000000000.\n",
    "print c*scale_l/ 3.08567758e18  , \"parsecs\""
   ]
  },
  {
   "cell_type": "markdown",
   "metadata": {},
   "source": [
    "Woah this is on the edge of the box!"
   ]
  },
  {
   "cell_type": "code",
   "execution_count": null,
   "metadata": {
    "collapsed": true
   },
   "outputs": [],
   "source": []
  }
 ],
 "metadata": {
  "kernelspec": {
   "display_name": "Python 2",
   "language": "python",
   "name": "python2"
  },
  "language_info": {
   "codemirror_mode": {
    "name": "ipython",
    "version": 2
   },
   "file_extension": ".py",
   "mimetype": "text/x-python",
   "name": "python",
   "nbconvert_exporter": "python",
   "pygments_lexer": "ipython2",
   "version": "2.7.10"
  }
 },
 "nbformat": 4,
 "nbformat_minor": 0
}
