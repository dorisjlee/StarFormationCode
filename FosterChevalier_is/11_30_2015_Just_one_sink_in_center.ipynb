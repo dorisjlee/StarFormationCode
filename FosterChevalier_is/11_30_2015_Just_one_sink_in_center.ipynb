{
 "cells": [
  {
   "cell_type": "markdown",
   "metadata": {},
   "source": [
    "Using the sink test case that I wrote, see if I can get one sink in the center, right now this is in ramses/ but since I messed with some stuff in pm/ and its causing "
   ]
  },
  {
   "cell_type": "raw",
   "metadata": {},
   "source": [
    "======= Backtrace: =========\n",
    "/lib64/libc.so.6(+0x79088)[0x2aaaab723088]\n",
    "/lib64/libc.so.6(cfree+0x6c)[0x2aaaab7280cc]\n",
    "./ramses3d[0x48a039]\n",
    "./ramses3d[0x431c06]\n",
    "./ramses3d[0x42a08a]\n",
    "./ramses3d[0x429556]\n",
    "./ramses3d[0x401b86]\n",
    "/lib64/libc.so.6(__libc_start_main+0xe6)[0x2aaaab6c8c36]\n",
    "./ramses3d[0x401bb9]\n",
    "======= Memory map: ========\n",
    "00400000-0050f000 r-xp 00000000 00:1d 347546602                          /global/project/projectdirs/astro250/doris/ramses/trunk/ramses/bin/ramses3d\n",
    "0070e000-0070f000 r--p 0010e000 00:1d 347546602                          /global/project/projectdirs/astro250/doris/ramses/trunk/ramses/bin/ramses3d\n",
    "0070f000-0071a000 rw-p 0010f000 00:1d 347546602                          /global/project/projectdirs/astro250/doris/ramses/trunk/ramses/bin/ramses3d\n",
    "0071a000-00e59000 rw-p 00000000 00:00 0                                  [heap]\n",
    "2aaaaaaab000-2aaaaaaca000 r-xp 00000000 08:07 60686686                   /lib64/ld-2.11.3.so\n",
    "2aaaaaaca000-2aaaaaacb000 r-xp 00000000 00:00 0                          [vdso]\n",
    "2aaaaaacb000-2aaaaaacc000 rw-p 00000000 00:00 0\n",
    "2aaaaacca000-2aaaaaccb000 r--p 0001f000 08:07 60686686                   /lib64/ld-2.11.3.so\n",
    "2aaaaaccb000-2aaaaaccc000 rw-p 00020000 08:07 60686686                   /lib64/ld-2.11.3.so\n",
    "2aaaaaccc000-2aaaaaccd000 rw-p 00000000 00:00 0\n",
    "2aaaaaccd000-2aaaaade1000 r-xp 00000000 08:07 4432134                    /usr/lib64/libgfortran.so.3.0.0\n",
    "2aaaaade1000-2aaaaafe0000 ---p 00114000 08:07 4432134                    /usr/lib64/libgfortran.so.3.0.0\n",
    "2aaaaafe0000-2aaaaafe1000 r--p 00113000 08:07 4432134                    /usr/lib64/libgfortran.so.3.0.0\n",
    "2aaaaafe1000-2aaaaafe3000 rw-p 00114000 08:07 4432134                    /usr/lib64/libgfortran.so.3.0.0\n",
    "2aaaaafe3000-2aaaaafe4000 rw-p 00000000 00:00 0\n",
    "2aaaaafe4000-2aaaab03f000 r-xp 00000000 08:07 60686501                   /lib64/libm-2.11.3.so\n",
    "2aaaab03f000-2aaaab23e000 ---p 0005b000 08:07 60686501                   /lib64/libm-2.11.3.so\n",
    "2aaaab23e000-2aaaab23f000 r--p 0005a000 08:07 60686501                   /lib64/libm-2.11.3.so\n",
    "2aaaab23f000-2aaaab25d000 rw-p 0005b000 08:07 60686501                   /lib64/libm-2.11.3.so\n",
    "2aaaab25d000-2aaaab272000 r-xp 00000000 08:07 60686491                   /lib64/libgcc_s.so.1\n",
    "2aaaab272000-2aaaab471000 ---p 00015000 08:07 60686491                   /lib64/libgcc_s.so.1\n",
    "2aaaab471000-2aaaab472000 r--p 00014000 08:07 60686491                   /lib64/libgcc_s.so.1\n",
    "2aaaab472000-2aaaab473000 rw-p 00015000 08:07 60686491                   /lib64/libgcc_s.so.1\n",
    "2aaaab473000-2aaaab4a8000 r-xp 00000000 08:07 4432274                    /usr/lib64/libquadmath.so.0.0.0\n",
    "2aaaab4a8000-2aaaab6a7000 ---p 00035000 08:07 4432274                    /usr/lib64/libquadmath.so.0.0.0\n",
    "2aaaab6a7000-2aaaab6a8000 r--p 00034000 08:07 4432274                    /usr/lib64/libquadmath.so.0.0.0\n",
    "2aaaab6a8000-2aaaab6a9000 rw-p 00035000 08:07 4432274                    /usr/lib64/libquadmath.so.0.0.0\n",
    "2aaaab6a9000-2aaaab6aa000 rw-p 00000000 00:00 0\n",
    "2aaaab6aa000-2aaaab81c000 r-xp 00000000 08:07 60686466                   /lib64/libc-2.11.3.so\n",
    "2aaaab81c000-2aaaaba1c000 ---p 00172000 08:07 60686466                   /lib64/libc-2.11.3.so\n",
    "2aaaaba1c000-2aaaaba20000 r--p 00172000 08:07 60686466                   /lib64/libc-2.11.3.so\n",
    "2aaaaba20000-2aaaaba21000 rw-p 00176000 08:07 60686466                   /lib64/libc-2.11.3.so\n",
    "2aaaaba21000-2ab3ed785000 rw-p 00000000 00:00 0\n",
    "2ab3f0000000-2ab3f0021000 rw-p 00000000 00:00 0\n",
    "2ab3f0021000-2ab3f4000000 ---p 00000000 00:00 0\n",
    "7ffffffd8000-7ffffffff000 rw-p 00000000 00:00 0                          [stack]\n",
    "ffffffffff600000-ffffffffff601000 r-xp 00000000 00:00 0                  [vsyscall]\n",
    "\n",
    "Program received signal SIGABRT: Process abort signal.\n",
    "\n",
    "Backtrace for this error:"
   ]
  },
  {
   "cell_type": "markdown",
   "metadata": {},
   "source": [
    "probably because i took out the safety precautions in npartmax "
   ]
  },
  {
   "cell_type": "raw",
   "metadata": {},
   "source": [
    "  do j=1,np\n",
    "     ipart=headp_free\n",
    "     ind_part(j)=ipart\n",
    "     !write(*,*)\"numbp_free: \",numbp_free\n",
    "     !numbp_free=numbp_free-1 !tresspassing this for now...\n",
    "     !write(*,*)\"numbp_free: \",numbp_free\n",
    "     if(numbp_free<0)then\n",
    "        write(*,*)'No more free memory'\n",
    "        write(*,*)'in PE ',myid"
   ]
  },
  {
   "cell_type": "markdown",
   "metadata": {},
   "source": [
    "Line 5 is bad...., we alreadyy know the npartmax fix now its in amr_params , so lets do that "
   ]
  },
  {
   "cell_type": "markdown",
   "metadata": {},
   "source": [
    "Weird this is stil giving me the same erorr "
   ]
  },
  {
   "cell_type": "code",
   "execution_count": null,
   "metadata": {
    "collapsed": true
   },
   "outputs": [],
   "source": []
  }
 ],
 "metadata": {
  "kernelspec": {
   "display_name": "Python 2",
   "language": "python",
   "name": "python2"
  },
  "language_info": {
   "codemirror_mode": {
    "name": "ipython",
    "version": 2
   },
   "file_extension": ".py",
   "mimetype": "text/x-python",
   "name": "python",
   "nbconvert_exporter": "python",
   "pygments_lexer": "ipython2",
   "version": "2.7.10"
  }
 },
 "nbformat": 4,
 "nbformat_minor": 0
}
