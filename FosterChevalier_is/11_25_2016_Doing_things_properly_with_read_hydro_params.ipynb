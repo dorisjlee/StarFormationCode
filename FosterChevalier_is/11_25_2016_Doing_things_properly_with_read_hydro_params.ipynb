{
 "cells": [
  {
   "cell_type": "code",
   "execution_count": null,
   "metadata": {
    "collapsed": true
   },
   "outputs": [],
   "source": [
    "Make everything in fc.nml in cgs units [physical]\n",
    "do the conversion inside read_params\n",
    "\n",
    "Things in condinit that should be inside readparam\n",
    "\n",
    "\n",
    "rmax=6.4512 !dimensionless xi units\n",
    "rho_c=0.02806!rho_c = 1.10e-19 [cgs] /scale_d\n",
    "dr=0.01!delta xi used to initialize np.arange for the numerical integration\n",
    "!rc =rr*(boxlen/32.)*0.5194 !converting from grid units to code length units to units of dimensionless xi\n",
    "rc =rr*0.5194\n",
    "\n",
    "rho_outside : 1.997E-9 !ideal gas law computed rho_out with T=10^7 K and P_edge = P_out\n",
    "\n",
    "pressure_outside : 2.57E-3\n",
    "\n",
    "Inside read param now \n",
    "\n",
    "       !USER DEFINED FOR ISOTHERMAL SPHERE PATCH\n",
    "       &,rho_c,rmax,rho_out,p_out &"
   ]
  }
 ],
 "metadata": {
  "kernelspec": {
   "display_name": "Python 2",
   "language": "python",
   "name": "python2"
  },
  "language_info": {
   "codemirror_mode": {
    "name": "ipython",
    "version": 2
   },
   "file_extension": ".py",
   "mimetype": "text/x-python",
   "name": "python",
   "nbconvert_exporter": "python",
   "pygments_lexer": "ipython2",
   "version": "2.7.10"
  }
 },
 "nbformat": 4,
 "nbformat_minor": 0
}
