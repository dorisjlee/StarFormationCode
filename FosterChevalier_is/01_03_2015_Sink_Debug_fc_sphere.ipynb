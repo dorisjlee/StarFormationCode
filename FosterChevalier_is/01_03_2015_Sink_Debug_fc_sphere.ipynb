{
 "cells": [
  {
   "cell_type": "code",
   "execution_count": 1,
   "metadata": {
    "collapsed": false
   },
   "outputs": [
    {
     "name": "stdout",
     "output_type": "stream",
     "text": [
      "Populating the interactive namespace from numpy and matplotlib\n"
     ]
    }
   ],
   "source": [
    "%pylab inline\n",
    "import plot_is"
   ]
  },
  {
   "cell_type": "markdown",
   "metadata": {},
   "source": [
    "this is inside ramses5/ "
   ]
  },
  {
   "cell_type": "code",
   "execution_count": 3,
   "metadata": {
    "collapsed": false
   },
   "outputs": [
    {
     "name": "stdout",
     "output_type": "stream",
     "text": [
      "/global/project/projectdirs/astro250/doris/ramses/trunk/ramses/bin\n"
     ]
    }
   ],
   "source": [
    "cd /project/projectdirs/astro250/doris/ramses/trunk/ramses/bin"
   ]
  },
  {
   "cell_type": "raw",
   "metadata": {},
   "source": [
    "dorislee@cori08:~/project/sink/trunk/ramses/bin> grep -rnw '../pm/' -e \"ic_sink\"\n",
    "../pm/init_part.f90:53:  logical::error,keep_part,eof,jumped,ic_sink=.false.,read_pos=.false.,ok\n",
    "../pm/init_sink.f90:18:  logical::eof,ic_sink=.false.\n",
    "../pm/init_sink.f90:211:     INQUIRE(FILE=filename, EXIST=ic_sink)\n",
    "../pm/init_sink.f90:213:     if (.not. ic_sink)then\n",
    "../pm/init_sink.f90:215:        INQUIRE(FILE=filename, EXIST=ic_sink)\n",
    "../pm/init_sink.f90:222:        filename=TRIM(initfile(levelmin))//'/ic_sink'\n",
    "../pm/init_sink.f90:224:        filename='ic_sink'\n",
    "../pm/init_sink.f90:226:     INQUIRE(FILE=filename, EXIST=ic_sink)\n",
    "../pm/init_sink.f90:227:     if (myid==1)write(*,*)'Looking for file ic_sink: ',filename\n",
    "../pm/init_sink.f90:228:     if (.not. ic_sink)then\n",
    "../pm/init_sink.f90:229:        filename='ic_sink'\n",
    "../pm/init_sink.f90:230:        INQUIRE(FILE=filename, EXIST=ic_sink)\n",
    "../pm/init_sink.f90:234:  if (ic_sink)then"
   ]
  },
  {
   "cell_type": "raw",
   "metadata": {},
   "source": [
    "ic_sink:  F\n",
    " Opening up :\n",
    " ic_sink\n",
    "\n",
    " ic_sink:  T\n",
    " Opening up :\n",
    " ic_sink\n",
    "\n",
    " Reading stuff from ic_sink\n",
    " Info:   4.314441592081123E-317  2.317795149460302E-310  1.976262583364986E-323\n",
    "  8.452680600360716E-317  1.581010066691989E-322  7.294360546265093E-315\n",
    "  5.636551319751505E-315  6.953355805519615E-310  2.930378937528247E-317\n",
    "  6.953355805523370E-310\n",
    " Vector info:            0  8.094870354592152E-319  2.387967486044497E-318\n",
    "  0.000000000000000E+000  0.000000000000000E+000  2.387967486044497E-318\n",
    "  0.000000000000000E+000  0.000000000000000E+000  2.387967486044497E-318\n",
    "  0.000000000000000E+000  0.000000000000000E+000  8.094870354592152E-319\n",
    "   Entering init_tree\n",
    " ic_sink:  T\n",
    " Opening up :\n",
    " ic_sink"
   ]
  },
  {
   "cell_type": "markdown",
   "metadata": {},
   "source": [
    "The END specifies where the program continues if EOF is ecountered, but since we neever go into anything after the read statement it means that it hit the EOF prematurely "
   ]
  },
  {
   "cell_type": "raw",
   "metadata": {},
   "source": [
    "ic_sink:  T\n",
    " Opening up :\n",
    " ic_sink\n",
    "\n",
    " Reading stuff from ic_sink\n",
    " after 102\n",
    " EOF reached\n",
    " Info:   6.953355805528311E-310  4.625950824304294E-312  6.953355805534635E-310\n",
    "  1.976262583364986E-323  8.452680600360716E-317  6.299680197058090E-315\n",
    "  1.581010066691989E-322  7.294360546265093E-315  5.636551319751505E-315\n",
    "  6.953355805519615E-310\n",
    " Vector info:            0  8.094870354592152E-319  2.387967486044497E-318\n",
    "  0.000000000000000E+000  0.000000000000000E+000  2.387967486044497E-318\n",
    "  0.000000000000000E+000  0.000000000000000E+000  2.387967486044497E-318\n",
    "  0.000000000000000E+000  0.000000000000000E+000  8.094870354592152E-319\n",
    " Reading stuff from ic_sink\n",
    " after 102\n",
    " EOF reached\n",
    " Info:   6.953355805528311E-310  4.625950824304294E-312  6.953355805534635E-310\n",
    "  1.976262583364986E-323  8.452680600360716E-317  6.299680197058090E-315\n",
    "  1.581010066691989E-322  7.294360546265093E-315  5.636551319751505E-315\n",
    "  6.953355805519615E-310\n",
    " Vector info:            0  8.094870354592152E-319  2.387967486044497E-318\n",
    "  0.000000000000000E+000  0.000000000000000E+000  2.387967486044497E-318\n",
    "  0.000000000000000E+000  0.000000000000000E+000  2.387967486044497E-318\n",
    "  0.000000000000000E+000  0.000000000000000E+000  8.094870354592152E-319\n",
    " Reading stuff from ic_sink"
   ]
  },
  {
   "cell_type": "markdown",
   "metadata": {},
   "source": [
    "\"If the value of IOstatus is negative, it means the end of the input has reached. Under this circumstance, some or all of the variables in the READ may not receive input values.\""
   ]
  },
  {
   "cell_type": "raw",
   "metadata": {},
   "source": [
    "Reading stuff from ic_sink\n",
    " after 102\n",
    " IOstat:          -1\n",
    " Info:   6.953355805925935E-310  6.953355805534635E-310  1.976262583364986E-323\n",
    "  8.452680600360716E-317  1.581010066691989E-322  5.636551319751505E-315\n",
    "  6.953355805519615E-310  2.930473798132248E-317  6.953355805523370E-310\n",
    "  3.952525166729972E-323\n",
    " Vector info:            0  8.094870354592152E-319  2.387967486044497E-318\n",
    "  0.000000000000000E+000  0.000000000000000E+000  2.387967486044497E-318\n",
    "  0.000000000000000E+000  0.000000000000000E+000  2.387967486044497E-318\n",
    "  0.000000000000000E+000  0.000000000000000E+000  8.094870354592152E-319\n",
    " ic_sink:  T\n",
    " Opening up :\n",
    " ic_sink"
   ]
  },
  {
   "cell_type": "raw",
   "metadata": {},
   "source": [
    "Execution of an I/O statement containing the IOSTAT specifier suppresses the display of an error message and defines the specified integer variable, array element, or scalar field reference as one of the following, which is returned as an exit code if the program terminates:\n",
    "A value of -2 if an end-of-record condition occurs with nonadvancing reads.\n",
    "A value of -1 if an end-of-file condition occurs.\n",
    "A value of 0 for normal completion (not an error condition, end-of-file, or end-of-record condition).\n",
    "A positive integer value if an error condition occurs. (This value is one of the Fortran-specific IOSTAT numbers listed in the run-time error message. See Overview of Run-Time Error Messages, which lists the messages.)"
   ]
  },
  {
   "cell_type": "markdown",
   "metadata": {},
   "source": [
    "Testing simpler case "
   ]
  },
  {
   "cell_type": "raw",
   "metadata": {},
   "source": [
    "dorislee@cori08:~/StarFormationCode/FosterChevalier_is> ./a.out\n",
    " after read\n",
    " after read\n",
    " The total is   0.0000000E+00\n",
    " after do\n",
    " IOstat:          -1\n",
    " Info:    1.000000       1.100000       1.200000       1.300000\n",
    "   1.400000       1.500000       1.600000       1.700000       1.800000\n",
    "   1.900000"
   ]
  },
  {
   "cell_type": "markdown",
   "metadata": {},
   "source": [
    "Actually I didn't fill out the things completely I ignored the angular momentum so maybe that's why its reading the file weirdly because it just guesses a random value (initialization value) for the ones that were note read in "
   ]
  },
  {
   "cell_type": "raw",
   "metadata": {},
   "source": [
    "IC sink changed to \n",
    "\n",
    "1.0 1.1 1.2 1.3 1.4 1.5 1.6 1.7 1.8 1.9"
   ]
  },
  {
   "cell_type": "markdown",
   "metadata": {},
   "source": [
    "but still go this : "
   ]
  },
  {
   "cell_type": "raw",
   "metadata": {},
   "source": [
    "Reading stuff from ic_sink\n",
    " after 102\n",
    " IOstat:          -1\n",
    " Info:   6.953355805925935E-310  6.953355805534635E-310  1.976262583364986E-323\n",
    "  8.452680600360716E-317  1.581010066691989E-322  5.636551319751505E-315\n",
    "  6.953355805519615E-310  2.930473798132248E-317  6.953355805523370E-310\n",
    "  3.952525166729972E-323\n",
    " Vector info:            0  8.094870354592152E-319  2.387967486044497E-318\n",
    "  0.000000000000000E+000  0.000000000000000E+000  2.387967486044497E-318\n",
    "  0.000000000000000E+000  0.000000000000000E+000  2.387967486044497E-318\n",
    "  0.000000000000000E+000  0.000000000000000E+000  8.094870354592152E-319\n",
    " ic_sink:  T"
   ]
  },
  {
   "cell_type": "markdown",
   "metadata": {},
   "source": [
    "so maybe we shouldn't have ,end=102 because it just goes to line 102 when eof which is what is happening now '"
   ]
  },
  {
   "cell_type": "code",
   "execution_count": null,
   "metadata": {
    "collapsed": true
   },
   "outputs": [],
   "source": [
    "Reading stuff from ic_sink^M\n",
    " after reading^M\n",
    " Info before end do :   4.625950824304294E-312  6.953355805534635E-310^M\n",
    "  0.000000000000000E+000  1.976262583364986E-323  8.601884472879606E-317^M\n",
    "  8.450467186267347E-317  6.299680197058090E-315  1.581010066691989E-322^M\n",
    "  7.294360546265093E-315  5.636551319751505E-315^M\n",
    " Reading stuff from ic_sink^M\n",
    " after reading^M\n",
    " Info before end do :   4.625950824304294E-312  6.953355805534635E-310^M\n",
    "  0.000000000000000E+000  1.976262583364986E-323  8.601884472879606E-317^M\n",
    "  8.450467186267347E-317  6.299680197058090E-315  1.581010066691989E-322^M\n",
    "  7.294360546265093E-315  5.636551319751505E-315^M\n",
    " Reading stuff from ic_sink^M\n",
    " after reading^M"
   ]
  },
  {
   "cell_type": "raw",
   "metadata": {},
   "source": [
    "ic_sink:  T^M\n",
    " get cwd:^M\n",
    " /global/project/projectdirs/astro250/doris/ramses/trunk/ramses/bin"
   ]
  },
  {
   "cell_type": "raw",
   "metadata": {},
   "source": [
    "Reading stuff from ic_sink^M\n",
    " after reading^M\n",
    " Info before end do :    1.00000000000000        1.10000000000000     ^M\n",
    "   1.20000000000000        1.30000000000000        1.40000000000000     ^M\n",
    "   1.50000000000000        1.60000000000000        1.70000000000000     ^M\n",
    "   1.80000000000000        1.90000000000000     ^M\n",
    " Reading stuff from ic_sink^M\n",
    " after reading^M\n",
    " Info before end do :    1.00000000000000        1.10000000000000     ^M\n",
    "   1.20000000000000        1.30000000000000        1.40000000000000     ^M\n",
    "   1.50000000000000        1.60000000000000        1.70000000000000     ^M\n",
    "   1.80000000000000        1.90000000000000     ^M\n",
    " Reading stuff from ic_sink^M"
   ]
  },
  {
   "cell_type": "markdown",
   "metadata": {},
   "source": [
    "Now its reading this correctly, the trick was that the ic_sink must be inside bin/ and not patch/ which is why it couldn't find the file. It was correctly looking for ic_sink but at the wrong location. Which explains the anomalous initialization values '"
   ]
  },
  {
   "cell_type": "raw",
   "metadata": {},
   "source": [
    " Reading stuff from ic_sink^M\n",
    " after reading^M\n",
    " Info before end do :   1.000000000000000E-005  1.000000000000000E-008^M\n",
    "  1.000000000000000E-008  1.000000000000000E-008  1.000000000000000E-008^M\n",
    "  1.000000000000000E-008  1.000000000000000E-008  1.000000000000000E-008^M\n",
    "  1.000000000000000E-008  1.000000000000000E-008^M"
   ]
  },
  {
   "cell_type": "markdown",
   "metadata": {},
   "source": [
    "Okay reading correctly now, we can try running larger ones then "
   ]
  },
  {
   "cell_type": "markdown",
   "metadata": {},
   "source": [
    "Okay so since I removed the \"end=\" parameter it just keep reading until memory crashes (which explains the seg vfault after ~3 minutes) , so now I can put the end= back and it shuld terminate after reading all the sink info (here we only have one sink)"
   ]
  },
  {
   "cell_type": "markdown",
   "metadata": {},
   "source": [
    "That didn't help, if we look at the test.f90 ecxample that I was doing, we must explicitly state EXIT when we hit EOF, since we are only doing one iteration we could just exit in the end (the do loop is not evern necessary)'"
   ]
  },
  {
   "cell_type": "code",
   "execution_count": null,
   "metadata": {
    "collapsed": true
   },
   "outputs": [],
   "source": [
    "Reading stuff from ic_sink\n",
    " after reading\n",
    " IOstat:          31\n",
    " after 102\n",
    " IOstat:          31\n",
    " Info:   0.000000000000000E+000  0.000000000000000E+000  4.940656458412465E-324\n",
    "  4.835920470281871E-317  3.943921507573293E-317  4.940656458412465E-324\n",
    "  4.940656458412465E-324  6.953355805657953E-310  9.078592604451157E-317\n",
    "  2.317856002471416E-310\n",
    " Vector info:            1  0.000000000000000E+000   70.0000000000000\n",
    "   70.0000000000000        70.0000000000000       3.943921507573293E-317\n",
    "  4.940656458412465E-324  4.940656458412465E-324  6.953355805657953E-310\n",
    "  9.078592604451157E-317  2.317856002471416E-310  0.000000000000000E+000\n",
    " Reading stuff from ic_sink\n",
    " after reading\n",
    " IOstat:          31"
   ]
  },
  {
   "cell_type": "markdown",
   "metadata": {},
   "source": [
    "Actually the end= is not good, lets take it out because the exit is manually specified "
   ]
  },
  {
   "cell_type": "raw",
   "metadata": {},
   "source": [
    "So we changed : \n",
    "    read(10,end=102,iostat=io)mm1,xx1,xx2,xx3,vv1,vv2,vv3,ll1,ll2,ll3\n",
    "to : \n",
    "    read(10,*,iostat=io)mm1,xx1,xx2,xx3,vv1,vv2,vv3,ll1,ll2,ll3"
   ]
  },
  {
   "cell_type": "raw",
   "metadata": {},
   "source": [
    "Reading stuff from ic_sink\n",
    " after reading\n",
    " IOstat:           0\n",
    " after 102\n",
    " IOstat:           0\n",
    " Info:   1.000000000000000E-005  1.000000000000000E-008  1.000000000000000E-008\n",
    "  1.000000000000000E-008  1.000000000000000E-008  1.000000000000000E-008\n",
    "  1.000000000000000E-008  1.000000000000000E-008  1.000000000000000E-008\n",
    "  1.000000000000000E-008\n",
    " Vector info:            1  1.000000000000000E-005   70.0000000100000\n",
    "   70.0000000100000        70.0000000100000       1.000000000000000E-008\n",
    "  1.000000000000000E-008  1.000000000000000E-008  1.000000000000000E-008\n",
    "  1.000000000000000E-008  1.000000000000000E-008  0.000000000000000E+000\n",
    " Info:   1.000000000000000E-005  1.000000000000000E-008  1.000000000000000E-008\n",
    "  1.000000000000000E-008  1.000000000000000E-008  1.000000000000000E-008\n",
    "  1.000000000000000E-008  1.000000000000000E-008  1.000000000000000E-008\n",
    "  1.000000000000000E-008\n",
    " Vector info:            1  1.000000000000000E-005   70.0000000100000\n",
    "   70.0000000100000        70.0000000100000       1.000000000000000E-008\n",
    "  1.000000000000000E-008  1.000000000000000E-008  1.000000000000000E-008\n",
    "  1.000000000000000E-008  1.000000000000000E-008  0.000000000000000E+000"
   ]
  },
  {
   "cell_type": "markdown",
   "metadata": {},
   "source": [
    "Okay now we sucessfully created a sink! "
   ]
  },
  {
   "cell_type": "raw",
   "metadata": {},
   "source": [
    " Entering amr_step1 for level 7\n",
    "   Entering update_cloud for level  7\n",
    " sink drift due to accretion relative to grid size at level            7\n",
    " #sink:            1  drift:   0.000000000000000E+000  0.000000000000000E+000\n",
    "  0.000000000000000E+000"
   ]
  },
  {
   "cell_type": "code",
   "execution_count": 4,
   "metadata": {
    "collapsed": false
   },
   "outputs": [
    {
     "name": "stdout",
     "output_type": "stream",
     "text": [
      " Number of sink =            1\r\n",
      " ================================================================================================================================== \r\n",
      "        Id       Mass(Msol)             x                y                z               vx               vy               vz      \r\n",
      " ================================================================================================================================== \r\n",
      "         1    0.2374971E-05    0.7000000E+02    0.7000000E+02    0.7000000E+02    0.1000000E-07    0.1000000E-07    0.1000000E-07\r\n",
      " ================================================================================================================================== \r\n"
     ]
    }
   ],
   "source": [
    "cat  ~/project/ramses/trunk/ramses/bin/output_00001/sink_00001.info"
   ]
  },
  {
   "cell_type": "code",
   "execution_count": 5,
   "metadata": {
    "collapsed": false
   },
   "outputs": [
    {
     "name": "stdout",
     "output_type": "stream",
     "text": [
      " Number of sink =            1\r\n",
      " ================================================================================================================================== \r\n",
      "        Id       Mass(Msol)             x                y                z               vx               vy               vz      \r\n",
      " ================================================================================================================================== \r\n",
      "         1    0.2884508E-03    0.7000000E+02    0.7000000E+02    0.7000000E+02    0.7498825E-10    0.7498825E-10    0.7498840E-10\r\n",
      " ================================================================================================================================== \r\n"
     ]
    }
   ],
   "source": [
    "cat  ~/project/ramses/trunk/ramses/bin/output_00002/sink_00002.info"
   ]
  },
  {
   "cell_type": "code",
   "execution_count": null,
   "metadata": {
    "collapsed": true
   },
   "outputs": [],
   "source": []
  },
  {
   "cell_type": "code",
   "execution_count": 5,
   "metadata": {
    "collapsed": false
   },
   "outputs": [],
   "source": [
    "# plot_is.plot_time_slice(\"density\",1,plot_size=3,zmin=1e-26,zmax=1e-19)\n",
    "# plot_is.plot_time_slice(\"density\",2,plot_size=3,zmin=1e-26,zmax=1e-19)\n",
    "# plot_is.check_IC_profiles()"
   ]
  }
 ],
 "metadata": {
  "kernelspec": {
   "display_name": "Python 2",
   "language": "python",
   "name": "python2"
  },
  "language_info": {
   "codemirror_mode": {
    "name": "ipython",
    "version": 2
   },
   "file_extension": ".py",
   "mimetype": "text/x-python",
   "name": "python",
   "nbconvert_exporter": "python",
   "pygments_lexer": "ipython2",
   "version": "2.7.10"
  }
 },
 "nbformat": 4,
 "nbformat_minor": 0
}
