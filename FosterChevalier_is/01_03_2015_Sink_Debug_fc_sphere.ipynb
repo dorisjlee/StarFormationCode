{
 "cells": [
  {
   "cell_type": "code",
   "execution_count": 1,
   "metadata": {
    "collapsed": false
   },
   "outputs": [
    {
     "name": "stdout",
     "output_type": "stream",
     "text": [
      "Populating the interactive namespace from numpy and matplotlib\n"
     ]
    }
   ],
   "source": [
    "%pylab inline\n",
    "import plot_is"
   ]
  },
  {
   "cell_type": "markdown",
   "metadata": {},
   "source": [
    "this is inside ramses5/ "
   ]
  },
  {
   "cell_type": "code",
   "execution_count": 3,
   "metadata": {
    "collapsed": false
   },
   "outputs": [
    {
     "name": "stdout",
     "output_type": "stream",
     "text": [
      "/global/project/projectdirs/astro250/doris/ramses/trunk/ramses/bin\n"
     ]
    }
   ],
   "source": [
    "cd /project/projectdirs/astro250/doris/ramses/trunk/ramses/bin"
   ]
  },
  {
   "cell_type": "raw",
   "metadata": {},
   "source": [
    "dorislee@cori08:~/project/sink/trunk/ramses/bin> grep -rnw '../pm/' -e \"ic_sink\"\n",
    "../pm/init_part.f90:53:  logical::error,keep_part,eof,jumped,ic_sink=.false.,read_pos=.false.,ok\n",
    "../pm/init_sink.f90:18:  logical::eof,ic_sink=.false.\n",
    "../pm/init_sink.f90:211:     INQUIRE(FILE=filename, EXIST=ic_sink)\n",
    "../pm/init_sink.f90:213:     if (.not. ic_sink)then\n",
    "../pm/init_sink.f90:215:        INQUIRE(FILE=filename, EXIST=ic_sink)\n",
    "../pm/init_sink.f90:222:        filename=TRIM(initfile(levelmin))//'/ic_sink'\n",
    "../pm/init_sink.f90:224:        filename='ic_sink'\n",
    "../pm/init_sink.f90:226:     INQUIRE(FILE=filename, EXIST=ic_sink)\n",
    "../pm/init_sink.f90:227:     if (myid==1)write(*,*)'Looking for file ic_sink: ',filename\n",
    "../pm/init_sink.f90:228:     if (.not. ic_sink)then\n",
    "../pm/init_sink.f90:229:        filename='ic_sink'\n",
    "../pm/init_sink.f90:230:        INQUIRE(FILE=filename, EXIST=ic_sink)\n",
    "../pm/init_sink.f90:234:  if (ic_sink)then"
   ]
  },
  {
   "cell_type": "raw",
   "metadata": {},
   "source": [
    "ic_sink:  F\n",
    " Opening up :\n",
    " ic_sink\n",
    "\n",
    " ic_sink:  T\n",
    " Opening up :\n",
    " ic_sink\n",
    "\n",
    " Reading stuff from ic_sink\n",
    " Info:   4.314441592081123E-317  2.317795149460302E-310  1.976262583364986E-323\n",
    "  8.452680600360716E-317  1.581010066691989E-322  7.294360546265093E-315\n",
    "  5.636551319751505E-315  6.953355805519615E-310  2.930378937528247E-317\n",
    "  6.953355805523370E-310\n",
    " Vector info:            0  8.094870354592152E-319  2.387967486044497E-318\n",
    "  0.000000000000000E+000  0.000000000000000E+000  2.387967486044497E-318\n",
    "  0.000000000000000E+000  0.000000000000000E+000  2.387967486044497E-318\n",
    "  0.000000000000000E+000  0.000000000000000E+000  8.094870354592152E-319\n",
    "   Entering init_tree\n",
    " ic_sink:  T\n",
    " Opening up :\n",
    " ic_sink"
   ]
  },
  {
   "cell_type": "markdown",
   "metadata": {},
   "source": [
    "The END specifies where the program continues if EOF is ecountered, but since we neever go into anything after the read statement it means that it hit the EOF prematurely "
   ]
  },
  {
   "cell_type": "raw",
   "metadata": {},
   "source": [
    "ic_sink:  T\n",
    " Opening up :\n",
    " ic_sink\n",
    "\n",
    " Reading stuff from ic_sink\n",
    " after 102\n",
    " EOF reached\n",
    " Info:   6.953355805528311E-310  4.625950824304294E-312  6.953355805534635E-310\n",
    "  1.976262583364986E-323  8.452680600360716E-317  6.299680197058090E-315\n",
    "  1.581010066691989E-322  7.294360546265093E-315  5.636551319751505E-315\n",
    "  6.953355805519615E-310\n",
    " Vector info:            0  8.094870354592152E-319  2.387967486044497E-318\n",
    "  0.000000000000000E+000  0.000000000000000E+000  2.387967486044497E-318\n",
    "  0.000000000000000E+000  0.000000000000000E+000  2.387967486044497E-318\n",
    "  0.000000000000000E+000  0.000000000000000E+000  8.094870354592152E-319\n",
    " Reading stuff from ic_sink\n",
    " after 102\n",
    " EOF reached\n",
    " Info:   6.953355805528311E-310  4.625950824304294E-312  6.953355805534635E-310\n",
    "  1.976262583364986E-323  8.452680600360716E-317  6.299680197058090E-315\n",
    "  1.581010066691989E-322  7.294360546265093E-315  5.636551319751505E-315\n",
    "  6.953355805519615E-310\n",
    " Vector info:            0  8.094870354592152E-319  2.387967486044497E-318\n",
    "  0.000000000000000E+000  0.000000000000000E+000  2.387967486044497E-318\n",
    "  0.000000000000000E+000  0.000000000000000E+000  2.387967486044497E-318\n",
    "  0.000000000000000E+000  0.000000000000000E+000  8.094870354592152E-319\n",
    " Reading stuff from ic_sink"
   ]
  },
  {
   "cell_type": "markdown",
   "metadata": {},
   "source": [
    "\"If the value of IOstatus is negative, it means the end of the input has reached. Under this circumstance, some or all of the variables in the READ may not receive input values.\""
   ]
  },
  {
   "cell_type": "raw",
   "metadata": {},
   "source": [
    "forrtl: severe (174): SIGSEGV, segmentation fault occurred\n",
    "\n",
    "Stack trace terminated abnormally.\n",
    "forrtl: severe (174): SIGSEGV, segmentation fault occurred\n",
    "\n",
    "Stack trace terminated abnormally.\n",
    "forrtl: severe (174): SIGSEGV, segmentation fault occurred\n",
    "\n",
    "Stack trace terminated abnormally.\n",
    "forrtl: severe (174): SIGSEGV, segmentation fault occurred\n",
    "\n",
    "Stack trace terminated abnormally.\n",
    "srun: error: nid00352: task 4: Aborted\n",
    "srun: Terminating job step 768654.0\n",
    "*** glibc detected *** /global/project/projectdirs/astro250/doris/ramses/trunk/ramses/bin/./ramses3d: free(): invalid next size (fast): 0x0000000001265b60 ***\n",
    "======= Backtrace: =========\n",
    "[0x84e134]\n",
    "[0x852f47]\n",
    "[0x830ba8]\n",
    "[0x82a2e6]"
   ]
  },
  {
   "cell_type": "code",
   "execution_count": 4,
   "metadata": {
    "collapsed": false
   },
   "outputs": [],
   "source": [
    "# plot_is.plot_time_slice(\"density\",1,plot_size=3,zmin=1e-26,zmax=1e-19)\n",
    "# plot_is.plot_time_slice(\"density\",2,plot_size=3,zmin=1e-26,zmax=1e-19)"
   ]
  },
  {
   "cell_type": "code",
   "execution_count": 5,
   "metadata": {
    "collapsed": false
   },
   "outputs": [],
   "source": [
    "# plot_is.check_IC_profiles()"
   ]
  }
 ],
 "metadata": {
  "kernelspec": {
   "display_name": "Python 2",
   "language": "python",
   "name": "python2"
  },
  "language_info": {
   "codemirror_mode": {
    "name": "ipython",
    "version": 2
   },
   "file_extension": ".py",
   "mimetype": "text/x-python",
   "name": "python",
   "nbconvert_exporter": "python",
   "pygments_lexer": "ipython2",
   "version": "2.7.10"
  }
 },
 "nbformat": 4,
 "nbformat_minor": 0
}
