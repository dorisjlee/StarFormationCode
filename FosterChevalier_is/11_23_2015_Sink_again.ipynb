{
 "cells": [
  {
   "cell_type": "markdown",
   "metadata": {},
   "source": [
    "Looking into sink again the sample case and see if we could just put in a sink using ic_sink and not activate the clumpfind business"
   ]
  },
  {
   "cell_type": "markdown",
   "metadata": {},
   "source": [
    "Commented out all the clumpfind_params, only leaving sink_params "
   ]
  },
  {
   "cell_type": "raw",
   "metadata": {},
   "source": [
    "&SINK_PARAMS\n",
    "merging_timescale=10000.\n",
    "create_sinks=.true.\n",
    "accretion_scheme='flux'\n",
    "d_sink = 0.02\n",
    "/"
   ]
  },
  {
   "cell_type": "raw",
   "metadata": {},
   "source": [
    "Found d_sink! Assuming code units\n",
    " You did not set up namelist &CLUMPFIND_PARAMS in parameter file.\n",
    " You did not specify a threshold for the clump finder.\n",
    " Setting it to sink threshold / 10. !\n",
    " Entering init_amr"
   ]
  },
  {
   "cell_type": "code",
   "execution_count": null,
   "metadata": {
    "collapsed": true
   },
   "outputs": [],
   "source": []
  }
 ],
 "metadata": {
  "kernelspec": {
   "display_name": "Python 2",
   "language": "python",
   "name": "python2"
  },
  "language_info": {
   "codemirror_mode": {
    "name": "ipython",
    "version": 2
   },
   "file_extension": ".py",
   "mimetype": "text/x-python",
   "name": "python",
   "nbconvert_exporter": "python",
   "pygments_lexer": "ipython2",
   "version": "2.7.10"
  }
 },
 "nbformat": 4,
 "nbformat_minor": 0
}
