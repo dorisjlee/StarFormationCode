{
 "cells": [
  {
   "cell_type": "markdown",
   "metadata": {},
   "source": [
    "Looking at their coeur example dense_core.nml it looks like they don't have a sink particle, they also seem to have some sort of custom gravity boundary thing (simple_boundary=.false.)"
   ]
  },
  {
   "cell_type": "code",
   "execution_count": null,
   "metadata": {
    "collapsed": true
   },
   "outputs": [],
   "source": [
    "&POISSON_PARAMS\n",
    "gravity_type=0\n",
    "isolated=.false.\n",
    "/\n"
   ]
  },
  {
   "cell_type": "markdown",
   "metadata": {},
   "source": [
    "I added the isolated parameter to see if it improves the edge effect ,dont forget APRUN!!"
   ]
  },
  {
   "cell_type": "markdown",
   "metadata": {},
   "source": [
    "if I add in isolated it says this "
   ]
  },
  {
   "cell_type": "raw",
   "metadata": {},
   "source": [
    "Image              PC                Routine            Line        Source\n",
    "ramses3d           000000000061D436  Unknown               Unknown  Unknown\n",
    "ramses3d           000000000064FDFD  Unknown               Unknown  Unknown\n",
    "ramses3d           0000000000753379  read_params_              148  read_params.f90\n",
    "ramses3d           0000000000750517  MAIN__                      5  ramses.f90\n",
    "ramses3d           0000000000405D8E  Unknown               Unknown  Unknown\n",
    "ramses3d           00000000006D7C31  Unknown               Unknown  Unknown\n",
    "ramses3d           0000000000405C69  Unknown               Unknown  Unknown\n",
    "forrtl: severe (19): invalid reference to variable in NAMELIST input, unit 1, file /global/project/projectdirs/astro250/doris/ramses4/trunk/ramses/bin/../patch/hydro/isothermal_sphere/fc.nml, line 46, position 9"
   ]
  },
  {
   "cell_type": "code",
   "execution_count": null,
   "metadata": {
    "collapsed": true
   },
   "outputs": [],
   "source": []
  }
 ],
 "metadata": {
  "kernelspec": {
   "display_name": "Python 2",
   "language": "python",
   "name": "python2"
  },
  "language_info": {
   "codemirror_mode": {
    "name": "ipython",
    "version": 2
   },
   "file_extension": ".py",
   "mimetype": "text/x-python",
   "name": "python",
   "nbconvert_exporter": "python",
   "pygments_lexer": "ipython2",
   "version": "2.7.10"
  }
 },
 "nbformat": 4,
 "nbformat_minor": 0
}
